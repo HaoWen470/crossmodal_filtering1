{
 "cells": [
  {
   "cell_type": "code",
   "execution_count": 1,
   "metadata": {},
   "outputs": [],
   "source": [
    "%matplotlib inline\n",
    "%load_ext autoreload\n",
    "%autoreload 2"
   ]
  },
  {
   "cell_type": "code",
   "execution_count": 2,
   "metadata": {},
   "outputs": [
    {
     "name": "stdout",
     "output_type": "stream",
     "text": [
      "1.4.0 1.18.1\n"
     ]
    }
   ],
   "source": [
    "import matplotlib.pyplot as plt\n",
    "import numpy as np\n",
    "import torch\n",
    "import torch.nn as nn\n",
    "import torch.nn.functional as F\n",
    "import time\n",
    "\n",
    "import fannypack\n",
    "from lib import dpf, panda_models, panda_datasets, panda_training, fusion_pf, fusion\n",
    "\n",
    "print(torch.__version__, np.__version__)"
   ]
  },
  {
   "cell_type": "code",
   "execution_count": 3,
   "metadata": {},
   "outputs": [],
   "source": [
    "# Experiment configuration\n",
    "experiment_name = \"pf_fusion_3\"\n",
    "dataset_args = {\n",
    "    'use_proprioception': True,\n",
    "    'use_haptics': True,\n",
    "    'use_vision': True,\n",
    "    'vision_interval': 2,\n",
    "}"
   ]
  },
  {
   "cell_type": "code",
   "execution_count": 4,
   "metadata": {},
   "outputs": [
    {
     "name": "stdout",
     "output_type": "stream",
     "text": [
      "Parsed data: 2027 active, 363 inactive\n",
      "Keeping: 363\n"
     ]
    },
    {
     "data": {
      "application/vnd.jupyter.widget-view+json": {
       "model_id": "a71e756aeeb243deadd828f84e54cd69",
       "version_major": 2,
       "version_minor": 0
      },
      "text/plain": [
       "HBox(children=(IntProgress(value=0, max=10), HTML(value='')))"
      ]
     },
     "metadata": {},
     "output_type": "display_data"
    },
    {
     "name": "stdout",
     "output_type": "stream",
     "text": [
      "\n",
      "Loaded 2400 points\n",
      "Parsed data: 139 active, 11 inactive\n",
      "Keeping (inactive): 11\n"
     ]
    }
   ],
   "source": [
    "dynamics_trainset = panda_datasets.PandaDynamicsDataset(\n",
    "    \"data/gentle_push_10.hdf5\",\n",
    "    **dataset_args\n",
    ")\n",
    "dynamics_recurrent_trainset = panda_datasets.PandaSubsequenceDataset(\n",
    "    \"data/gentle_push_10.hdf5\",\n",
    "    subsequence_length=16,\n",
    "    **dataset_args\n",
    ")\n",
    "measurement_trainset = panda_datasets.PandaMeasurementDataset(\n",
    "    \"data/gentle_push_10.hdf5\",\n",
    "    samples_per_pair=10,\n",
    "    **dataset_args\n",
    ")\n",
    "e2e_trainset = panda_datasets.PandaParticleFilterDataset(\n",
    "    \"data/gentle_push_10.hdf5\",\n",
    "    subsequence_length=16,\n",
    "    particle_count=30,\n",
    "    particle_stddev=(.1, .1),\n",
    "    **dataset_args\n",
    ")"
   ]
  },
  {
   "cell_type": "code",
   "execution_count": null,
   "metadata": {},
   "outputs": [],
   "source": [
    "# Create models & training buddy\n",
    "\n",
    "pf_image_model = panda_models.PandaParticleFilterNetwork(\n",
    "    panda_models.PandaDynamicsModel(),\n",
    "    panda_models.PandaMeasurementModel(missing_modalities=['gripper_force', 'gripper_pos']),\n",
    ")\n",
    "\n",
    "pf_force_model = panda_models.PandaParticleFilterNetwork(\n",
    "    panda_models.PandaDynamicsModel(),\n",
    "    panda_models.PandaMeasurementModel(missing_modalities=['image']),\n",
    ")\n",
    "\n",
    "weight_model = fusion.CrossModalWeights()\n",
    "\n",
    "pf_fusion_model = fusion_pf.ParticleFusionModel(\n",
    "    pf_image_model,\n",
    "    pf_force_model,\n",
    "    weight_model\n",
    ")\n",
    "\n",
    "buddy = fannypack.utils.Buddy(\n",
    "    experiment_name,\n",
    "    pf_fusion_model,\n",
    "    optimizer_names=[\n",
    "        \"e2e_fusion\",\n",
    "        \"e2e_image\",\n",
    "        \"e2e_force\",\n",
    "        \"dynamics_image\",\n",
    "        \"dynamics_force\",\n",
    "        \"dynamics_recurrent_image\",\n",
    "        \"dynamics_recurrent_force\",\n",
    "        \"measurement_image\",\n",
    "        \"measurement_force\",\n",
    "    ]\n",
    ")"
   ]
  },
  {
   "cell_type": "markdown",
   "metadata": {},
   "source": [
    "# Dynamics pre-training"
   ]
  },
  {
   "cell_type": "code",
   "execution_count": null,
   "metadata": {},
   "outputs": [],
   "source": [
    "# Dynamics pre-training! (non-recurrent)\n",
    "models = [\n",
    "    (pf_image_model, 'dynamics_image'),\n",
    "    (pf_force_model, 'dynamics_force'),\n",
    "]\n",
    "dataloader = torch.utils.data.DataLoader(dynamics_trainset, batch_size=32, shuffle=True, num_workers=2)\n",
    "\n",
    "for pf_model, optim_name in models:\n",
    "    for i in range(5):\n",
    "        print(\"Training epoch\", i)\n",
    "        panda_training.train_dynamics(buddy, pf_model, dataloader, log_interval=1, optim_name=optim_name)\n",
    "        print()\n",
    "\n",
    "buddy.save_checkpoint(\"phase_0_dynamics_pretrain\")\n",
    "\n"
   ]
  },
  {
   "cell_type": "code",
   "execution_count": null,
   "metadata": {},
   "outputs": [],
   "source": [
    "# Dynamics pre-training! (recurrent)\n",
    "models = [\n",
    "    (pf_image_model, 'dynamics_recurrent_image'),\n",
    "    (pf_force_model, 'dynamics_recurrent_force'),\n",
    "]\n",
    "dataloader = torch.utils.data.DataLoader(dynamics_recurrent_trainset, batch_size=32, shuffle=True, num_workers=2)\n",
    "\n",
    "for pf_model, optim_name in models:\n",
    "    for i in range(3):\n",
    "        print(\"Training epoch\", i)\n",
    "        panda_training.train_dynamics_recurrent(buddy, pf_model, dataloader, log_interval=1, loss_type='l2', optim_name=optim_name)\n",
    "\n",
    "buddy.save_checkpoint(\"phase_1_dynamics_pretrain_recurrent\")"
   ]
  },
  {
   "cell_type": "markdown",
   "metadata": {},
   "source": [
    "# Measurement pre-training"
   ]
  },
  {
   "cell_type": "code",
   "execution_count": null,
   "metadata": {},
   "outputs": [],
   "source": [
    "models = [\n",
    "    (pf_image_model, 'measurement_image'),\n",
    "    (pf_force_model, 'measurement_force'),\n",
    "]\n",
    "measurement_trainset_loader = torch.utils.data.DataLoader(\n",
    "    measurement_trainset,\n",
    "    batch_size=32,\n",
    "    shuffle=True,\n",
    "    num_workers=16)\n",
    "for pf_model, optim_name in models:\n",
    "    for i in range(5):\n",
    "        print(\"Training epoch\", i)\n",
    "        panda_training.train_measurement(buddy, pf_model, measurement_trainset_loader, log_interval=20, optim_name=optim_name)\n",
    "\n",
    "buddy.save_checkpoint(\"phase_2_measurement_pretrain\")"
   ]
  },
  {
   "cell_type": "markdown",
   "metadata": {},
   "source": [
    "# End-to-end training (individual)"
   ]
  },
  {
   "cell_type": "code",
   "execution_count": null,
   "metadata": {},
   "outputs": [],
   "source": [
    "models = [\n",
    "    (pf_image_model, 'e2e_image'),\n",
    "    (pf_force_model, 'e2e_force'),\n",
    "]\n",
    "pf_model.freeze_measurement_model = False\n",
    "pf_model.freeze_dynamics_model = True\n",
    "\n",
    "for pf_model, optim_name in models:\n",
    "    e2e_trainset_loader = torch.utils.data.DataLoader(e2e_trainset, batch_size=32, shuffle=True, num_workers=2)\n",
    "    for i in range(5):\n",
    "        print(\"Training epoch\", i)\n",
    "        panda_training.train_e2e(buddy, pf_model, e2e_trainset_loader, loss_type=\"mse\", optim_name=optim_name)"
   ]
  },
  {
   "cell_type": "markdown",
   "metadata": {},
   "source": [
    "# End-to-end training (fusion)"
   ]
  },
  {
   "cell_type": "code",
   "execution_count": null,
   "metadata": {},
   "outputs": [],
   "source": [
    "optim_name = \"e2e_fusion\"\n",
    "pf_model = pf_fusion_model\n",
    "e2e_trainset_loader = torch.utils.data.DataLoader(e2e_trainset, batch_size=32, shuffle=True, num_workers=2)\n",
    "for i in range(5):\n",
    "    print(\"Training epoch\", i)\n",
    "    panda_training.train_e2e(buddy, pf_model, e2e_trainset_loader, loss_type=\"mse\", optim_name=optim_name)"
   ]
  },
  {
   "cell_type": "code",
   "execution_count": null,
   "metadata": {},
   "outputs": [],
   "source": []
  }
 ],
 "metadata": {
  "kernelspec": {
   "display_name": "Python 3",
   "language": "python",
   "name": "python3"
  },
  "language_info": {
   "codemirror_mode": {
    "name": "ipython",
    "version": 3
   },
   "file_extension": ".py",
   "mimetype": "text/x-python",
   "name": "python",
   "nbconvert_exporter": "python",
   "pygments_lexer": "ipython3",
   "version": "3.7.4"
  }
 },
 "nbformat": 4,
 "nbformat_minor": 4
}
