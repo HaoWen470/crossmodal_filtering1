{
 "cells": [
  {
   "cell_type": "code",
   "execution_count": 1,
   "metadata": {},
   "outputs": [],
   "source": [
    "%matplotlib inline\n",
    "%load_ext autoreload\n",
    "%autoreload 2"
   ]
  },
  {
   "cell_type": "code",
   "execution_count": 2,
   "metadata": {},
   "outputs": [],
   "source": [
    "# Experiment configuration\n",
    "experiment_name = \"ekf_n1000_3\"\n",
    "dataset_args = {\n",
    "    'use_proprioception': True,\n",
    "    'use_haptics': True,\n",
    "    'use_vision': True,\n",
    "    'vision_interval': 2,\n",
    "}"
   ]
  },
  {
   "cell_type": "code",
   "execution_count": 3,
   "metadata": {},
   "outputs": [],
   "source": [
    "import torch\n",
    "import torch.nn.functional as F\n",
    "import numpy as np\n",
    "from tqdm import tqdm_notebook\n",
    "\n",
    "import fannypack\n",
    "from lib import panda_datasets, panda_baseline_models, panda_baseline_training\n",
    "from lib.ekf import KalmanFilterNetwork\n",
    "from fannypack import utils\n",
    "from lib import dpf\n",
    "from lib.panda_models import PandaDynamicsModel, PandaEKFMeasurementModel\n",
    "\n"
   ]
  },
  {
   "cell_type": "code",
   "execution_count": null,
   "metadata": {},
   "outputs": [],
   "source": []
  },
  {
   "cell_type": "code",
   "execution_count": 4,
   "metadata": {},
   "outputs": [
    {
     "name": "stdout",
     "output_type": "stream",
     "text": [
      "Creating dataset...\n",
      "Parsed data: 13331 active, 1669 inactive\n",
      "Keeping (inactive): 1669\n"
     ]
    }
   ],
   "source": [
    "print(\"Creating dataset...\")\n",
    "# dataset_full = panda_datasets.PandaParticleFilterDataset(\n",
    "#     'data/gentle_push_10.hdf5',\n",
    "#     subsequence_length=16,\n",
    "#     **dataset_args)\n",
    "\n",
    "e2e_trainset = panda_datasets.PandaParticleFilterDataset(\n",
    "    \"data/gentle_push_1000.hdf5\",\n",
    "    subsequence_length=16,\n",
    "    particle_count=1,\n",
    "    particle_stddev=(.03, .03),\n",
    "    **dataset_args\n",
    ")\n",
    "\n"
   ]
  },
  {
   "cell_type": "code",
   "execution_count": 5,
   "metadata": {},
   "outputs": [
    {
     "data": {
      "application/vnd.jupyter.widget-view+json": {
       "model_id": "098993d7f7d94b1b8751d003fcc12498",
       "version_major": 2,
       "version_minor": 0
      },
      "text/plain": [
       "HBox(children=(FloatProgress(value=0.0), HTML(value='')))"
      ]
     },
     "metadata": {},
     "output_type": "display_data"
    },
    {
     "name": "stdout",
     "output_type": "stream",
     "text": [
      "\n",
      "Loaded 24000 points\n"
     ]
    }
   ],
   "source": [
    "# dataset_dynamics = panda_datasets.PandaDynamicsDataset(\n",
    "#     'data/gentle_push_100.hdf5',\n",
    "#     subsequence_length=16,\n",
    "#     **dataset_args)\n",
    "\n",
    "dataset_measurement = panda_datasets.PandaMeasurementDataset(\n",
    "    'data/gentle_push_100.hdf5',\n",
    "    subsequence_length=16,\n",
    "    stddev=(0.5, 0.5),\n",
    "    samples_per_pair=20,\n",
    "    **dataset_args)\n",
    "\n",
    "dynamics_recurrent_trainset = panda_datasets.PandaSubsequenceDataset(\n",
    "    \"data/gentle_push_100.hdf5\",\n",
    "    subsequence_length=32,\n",
    "    **dataset_args\n",
    ")"
   ]
  },
  {
   "cell_type": "code",
   "execution_count": null,
   "metadata": {},
   "outputs": [],
   "source": [
    "\n"
   ]
  },
  {
   "cell_type": "code",
   "execution_count": 7,
   "metadata": {},
   "outputs": [
    {
     "name": "stdout",
     "output_type": "stream",
     "text": [
      "Creating model...\n",
      "[buddy-ekf_n1000_3] Using device: cuda\n",
      "[buddy-ekf_n1000_3] No checkpoint found\n"
     ]
    }
   ],
   "source": [
    "measurement = PandaEKFMeasurementModel(units=128)\n",
    "dynamics = PandaDynamicsModel(use_particles=False)\n",
    "ekf = KalmanFilterNetwork(dynamics, measurement)\n",
    "print(\"Creating model...\")\n",
    "buddy = fannypack.utils.Buddy(experiment_name, \n",
    "                              ekf, \n",
    "                              optimizer_names=[\"ekf\", \"ekf_dynamics\", \"ekf_measurement\"], \n",
    "                              load_checkpoint=True,\n",
    ")\n"
   ]
  },
  {
   "cell_type": "code",
   "execution_count": null,
   "metadata": {},
   "outputs": [],
   "source": []
  },
  {
   "cell_type": "code",
   "execution_count": 8,
   "metadata": {},
   "outputs": [
    {
     "name": "stderr",
     "output_type": "stream",
     "text": [
      "/scr-ssd/miniconda3/envs/filter/lib/python3.6/site-packages/ipykernel_launcher.py:3: TqdmDeprecationWarning: This function will be removed in tqdm==5.0.0\n",
      "Please use `tqdm.notebook.tqdm` instead of `tqdm.tqdm_notebook`\n",
      "  This is separate from the ipykernel package so we can avoid doing imports until\n"
     ]
    },
    {
     "data": {
      "application/vnd.jupyter.widget-view+json": {
       "model_id": "ba4b315ca0f04c6abbbef7158f289f24",
       "version_major": 2,
       "version_minor": 0
      },
      "text/plain": [
       "HBox(children=(FloatProgress(value=0.0, max=3.0), HTML(value='')))"
      ]
     },
     "metadata": {},
     "output_type": "display_data"
    },
    {
     "name": "stderr",
     "output_type": "stream",
     "text": [
      "/scr-ssd/miniconda3/envs/filter/lib/python3.6/site-packages/ipykernel_launcher.py:4: TqdmDeprecationWarning: This function will be removed in tqdm==5.0.0\n",
      "Please use `tqdm.notebook.tqdm` instead of `tqdm.tqdm_notebook`\n",
      "  after removing the cwd from sys.path.\n"
     ]
    },
    {
     "data": {
      "application/vnd.jupyter.widget-view+json": {
       "model_id": "f8b093ae5b3c4f2d9388f4102f8dd66b",
       "version_major": 2,
       "version_minor": 0
      },
      "text/plain": [
       "HBox(children=(FloatProgress(value=0.0, max=30000.0), HTML(value='')))"
      ]
     },
     "metadata": {},
     "output_type": "display_data"
    },
    {
     "name": "stdout",
     "output_type": "stream",
     "text": [
      "[buddy-ekf_n1000_3] Saved checkpoint to path: checkpoints/ekf_n1000_3-0000000000000500.ckpt\n",
      "[buddy-ekf_n1000_3] Saved checkpoint to path: checkpoints/ekf_n1000_3-0000000000001000.ckpt\n",
      "[buddy-ekf_n1000_3] Saved checkpoint to path: checkpoints/ekf_n1000_3-0000000000001500.ckpt\n",
      "[buddy-ekf_n1000_3] Saved checkpoint to path: checkpoints/ekf_n1000_3-0000000000002000.ckpt\n",
      "[buddy-ekf_n1000_3] Saved checkpoint to path: checkpoints/ekf_n1000_3-0000000000002500.ckpt\n",
      "[buddy-ekf_n1000_3] Saved checkpoint to path: checkpoints/ekf_n1000_3-0000000000003000.ckpt\n",
      "[buddy-ekf_n1000_3] Saved checkpoint to path: checkpoints/ekf_n1000_3-0000000000003500.ckpt\n",
      "[buddy-ekf_n1000_3] Saved checkpoint to path: checkpoints/ekf_n1000_3-0000000000004000.ckpt\n",
      "[buddy-ekf_n1000_3] Saved checkpoint to path: checkpoints/ekf_n1000_3-0000000000004500.ckpt\n",
      "[buddy-ekf_n1000_3] Saved checkpoint to path: checkpoints/ekf_n1000_3-0000000000005000.ckpt\n",
      "[buddy-ekf_n1000_3] Saved checkpoint to path: checkpoints/ekf_n1000_3-0000000000005500.ckpt\n",
      "[buddy-ekf_n1000_3] Saved checkpoint to path: checkpoints/ekf_n1000_3-0000000000006000.ckpt\n",
      "[buddy-ekf_n1000_3] Saved checkpoint to path: checkpoints/ekf_n1000_3-0000000000006500.ckpt\n",
      "[buddy-ekf_n1000_3] Saved checkpoint to path: checkpoints/ekf_n1000_3-0000000000007000.ckpt\n",
      "[buddy-ekf_n1000_3] Saved checkpoint to path: checkpoints/ekf_n1000_3-0000000000007500.ckpt\n",
      "[buddy-ekf_n1000_3] Saved checkpoint to path: checkpoints/ekf_n1000_3-0000000000008000.ckpt\n",
      "[buddy-ekf_n1000_3] Saved checkpoint to path: checkpoints/ekf_n1000_3-0000000000008500.ckpt\n",
      "[buddy-ekf_n1000_3] Saved checkpoint to path: checkpoints/ekf_n1000_3-0000000000009000.ckpt\n",
      "[buddy-ekf_n1000_3] Saved checkpoint to path: checkpoints/ekf_n1000_3-0000000000009500.ckpt\n",
      "[buddy-ekf_n1000_3] Saved checkpoint to path: checkpoints/ekf_n1000_3-0000000000010000.ckpt\n",
      "[buddy-ekf_n1000_3] Saved checkpoint to path: checkpoints/ekf_n1000_3-0000000000010500.ckpt\n",
      "[buddy-ekf_n1000_3] Saved checkpoint to path: checkpoints/ekf_n1000_3-0000000000011000.ckpt\n",
      "[buddy-ekf_n1000_3] Saved checkpoint to path: checkpoints/ekf_n1000_3-0000000000011500.ckpt\n",
      "[buddy-ekf_n1000_3] Saved checkpoint to path: checkpoints/ekf_n1000_3-0000000000012000.ckpt\n",
      "[buddy-ekf_n1000_3] Saved checkpoint to path: checkpoints/ekf_n1000_3-0000000000012500.ckpt\n",
      "[buddy-ekf_n1000_3] Saved checkpoint to path: checkpoints/ekf_n1000_3-0000000000013000.ckpt\n",
      "[buddy-ekf_n1000_3] Saved checkpoint to path: checkpoints/ekf_n1000_3-0000000000013500.ckpt\n",
      "[buddy-ekf_n1000_3] Saved checkpoint to path: checkpoints/ekf_n1000_3-0000000000014000.ckpt\n",
      "[buddy-ekf_n1000_3] Saved checkpoint to path: checkpoints/ekf_n1000_3-0000000000014500.ckpt\n",
      "[buddy-ekf_n1000_3] Saved checkpoint to path: checkpoints/ekf_n1000_3-0000000000015000.ckpt\n",
      "[buddy-ekf_n1000_3] Saved checkpoint to path: checkpoints/ekf_n1000_3-0000000000015500.ckpt\n",
      "[buddy-ekf_n1000_3] Saved checkpoint to path: checkpoints/ekf_n1000_3-0000000000016000.ckpt\n",
      "[buddy-ekf_n1000_3] Saved checkpoint to path: checkpoints/ekf_n1000_3-0000000000016500.ckpt\n",
      "[buddy-ekf_n1000_3] Saved checkpoint to path: checkpoints/ekf_n1000_3-0000000000017000.ckpt\n",
      "[buddy-ekf_n1000_3] Saved checkpoint to path: checkpoints/ekf_n1000_3-0000000000017500.ckpt\n",
      "[buddy-ekf_n1000_3] Saved checkpoint to path: checkpoints/ekf_n1000_3-0000000000018000.ckpt\n",
      "[buddy-ekf_n1000_3] Saved checkpoint to path: checkpoints/ekf_n1000_3-0000000000018500.ckpt\n",
      "[buddy-ekf_n1000_3] Saved checkpoint to path: checkpoints/ekf_n1000_3-0000000000019000.ckpt\n",
      "[buddy-ekf_n1000_3] Saved checkpoint to path: checkpoints/ekf_n1000_3-0000000000019500.ckpt\n",
      "[buddy-ekf_n1000_3] Saved checkpoint to path: checkpoints/ekf_n1000_3-0000000000020000.ckpt\n",
      "[buddy-ekf_n1000_3] Saved checkpoint to path: checkpoints/ekf_n1000_3-0000000000020500.ckpt\n",
      "[buddy-ekf_n1000_3] Saved checkpoint to path: checkpoints/ekf_n1000_3-0000000000021000.ckpt\n",
      "[buddy-ekf_n1000_3] Saved checkpoint to path: checkpoints/ekf_n1000_3-0000000000021500.ckpt\n",
      "[buddy-ekf_n1000_3] Saved checkpoint to path: checkpoints/ekf_n1000_3-0000000000022000.ckpt\n",
      "[buddy-ekf_n1000_3] Saved checkpoint to path: checkpoints/ekf_n1000_3-0000000000022500.ckpt\n",
      "[buddy-ekf_n1000_3] Saved checkpoint to path: checkpoints/ekf_n1000_3-0000000000023000.ckpt\n",
      "[buddy-ekf_n1000_3] Saved checkpoint to path: checkpoints/ekf_n1000_3-0000000000023500.ckpt\n",
      "[buddy-ekf_n1000_3] Saved checkpoint to path: checkpoints/ekf_n1000_3-0000000000024000.ckpt\n",
      "[buddy-ekf_n1000_3] Saved checkpoint to path: checkpoints/ekf_n1000_3-0000000000024500.ckpt\n",
      "[buddy-ekf_n1000_3] Saved checkpoint to path: checkpoints/ekf_n1000_3-0000000000025000.ckpt\n",
      "[buddy-ekf_n1000_3] Saved checkpoint to path: checkpoints/ekf_n1000_3-0000000000025500.ckpt\n",
      "[buddy-ekf_n1000_3] Saved checkpoint to path: checkpoints/ekf_n1000_3-0000000000026000.ckpt\n",
      "[buddy-ekf_n1000_3] Saved checkpoint to path: checkpoints/ekf_n1000_3-0000000000026500.ckpt\n",
      "[buddy-ekf_n1000_3] Saved checkpoint to path: checkpoints/ekf_n1000_3-0000000000027000.ckpt\n",
      "[buddy-ekf_n1000_3] Saved checkpoint to path: checkpoints/ekf_n1000_3-0000000000027500.ckpt\n",
      "[buddy-ekf_n1000_3] Saved checkpoint to path: checkpoints/ekf_n1000_3-0000000000028000.ckpt\n",
      "[buddy-ekf_n1000_3] Saved checkpoint to path: checkpoints/ekf_n1000_3-0000000000028500.ckpt\n",
      "[buddy-ekf_n1000_3] Saved checkpoint to path: checkpoints/ekf_n1000_3-0000000000029000.ckpt\n",
      "[buddy-ekf_n1000_3] Saved checkpoint to path: checkpoints/ekf_n1000_3-0000000000029500.ckpt\n",
      "[buddy-ekf_n1000_3] Saved checkpoint to path: checkpoints/ekf_n1000_3-0000000000030000.ckpt\n",
      "\n"
     ]
    },
    {
     "name": "stderr",
     "output_type": "stream",
     "text": [
      "/scr-ssd/miniconda3/envs/filter/lib/python3.6/site-packages/ipykernel_launcher.py:4: TqdmDeprecationWarning: This function will be removed in tqdm==5.0.0\n",
      "Please use `tqdm.notebook.tqdm` instead of `tqdm.tqdm_notebook`\n",
      "  after removing the cwd from sys.path.\n"
     ]
    },
    {
     "data": {
      "application/vnd.jupyter.widget-view+json": {
       "model_id": "3d7b77b048304f68b90f706ced4548fc",
       "version_major": 2,
       "version_minor": 0
      },
      "text/plain": [
       "HBox(children=(FloatProgress(value=0.0, max=30000.0), HTML(value='')))"
      ]
     },
     "metadata": {},
     "output_type": "display_data"
    },
    {
     "name": "stdout",
     "output_type": "stream",
     "text": [
      "[buddy-ekf_n1000_3] Saved checkpoint to path: checkpoints/ekf_n1000_3-0000000000030500.ckpt\n",
      "[buddy-ekf_n1000_3] Saved checkpoint to path: checkpoints/ekf_n1000_3-0000000000031000.ckpt\n",
      "[buddy-ekf_n1000_3] Saved checkpoint to path: checkpoints/ekf_n1000_3-0000000000031500.ckpt\n",
      "[buddy-ekf_n1000_3] Saved checkpoint to path: checkpoints/ekf_n1000_3-0000000000032000.ckpt\n",
      "[buddy-ekf_n1000_3] Saved checkpoint to path: checkpoints/ekf_n1000_3-0000000000032500.ckpt\n",
      "[buddy-ekf_n1000_3] Saved checkpoint to path: checkpoints/ekf_n1000_3-0000000000033000.ckpt\n",
      "[buddy-ekf_n1000_3] Saved checkpoint to path: checkpoints/ekf_n1000_3-0000000000033500.ckpt\n",
      "[buddy-ekf_n1000_3] Saved checkpoint to path: checkpoints/ekf_n1000_3-0000000000034000.ckpt\n",
      "[buddy-ekf_n1000_3] Saved checkpoint to path: checkpoints/ekf_n1000_3-0000000000034500.ckpt\n",
      "[buddy-ekf_n1000_3] Saved checkpoint to path: checkpoints/ekf_n1000_3-0000000000035000.ckpt\n",
      "[buddy-ekf_n1000_3] Saved checkpoint to path: checkpoints/ekf_n1000_3-0000000000035500.ckpt\n",
      "[buddy-ekf_n1000_3] Saved checkpoint to path: checkpoints/ekf_n1000_3-0000000000036000.ckpt\n",
      "[buddy-ekf_n1000_3] Saved checkpoint to path: checkpoints/ekf_n1000_3-0000000000036500.ckpt\n",
      "[buddy-ekf_n1000_3] Saved checkpoint to path: checkpoints/ekf_n1000_3-0000000000037000.ckpt\n",
      "[buddy-ekf_n1000_3] Saved checkpoint to path: checkpoints/ekf_n1000_3-0000000000037500.ckpt\n",
      "[buddy-ekf_n1000_3] Saved checkpoint to path: checkpoints/ekf_n1000_3-0000000000038000.ckpt\n",
      "[buddy-ekf_n1000_3] Saved checkpoint to path: checkpoints/ekf_n1000_3-0000000000038500.ckpt\n",
      "[buddy-ekf_n1000_3] Saved checkpoint to path: checkpoints/ekf_n1000_3-0000000000039000.ckpt\n",
      "[buddy-ekf_n1000_3] Saved checkpoint to path: checkpoints/ekf_n1000_3-0000000000039500.ckpt\n",
      "[buddy-ekf_n1000_3] Saved checkpoint to path: checkpoints/ekf_n1000_3-0000000000040000.ckpt\n",
      "[buddy-ekf_n1000_3] Saved checkpoint to path: checkpoints/ekf_n1000_3-0000000000040500.ckpt\n",
      "[buddy-ekf_n1000_3] Saved checkpoint to path: checkpoints/ekf_n1000_3-0000000000041000.ckpt\n",
      "[buddy-ekf_n1000_3] Saved checkpoint to path: checkpoints/ekf_n1000_3-0000000000041500.ckpt\n",
      "[buddy-ekf_n1000_3] Saved checkpoint to path: checkpoints/ekf_n1000_3-0000000000042000.ckpt\n",
      "[buddy-ekf_n1000_3] Saved checkpoint to path: checkpoints/ekf_n1000_3-0000000000042500.ckpt\n",
      "[buddy-ekf_n1000_3] Saved checkpoint to path: checkpoints/ekf_n1000_3-0000000000043000.ckpt\n",
      "[buddy-ekf_n1000_3] Saved checkpoint to path: checkpoints/ekf_n1000_3-0000000000043500.ckpt\n",
      "[buddy-ekf_n1000_3] Saved checkpoint to path: checkpoints/ekf_n1000_3-0000000000044000.ckpt\n",
      "[buddy-ekf_n1000_3] Saved checkpoint to path: checkpoints/ekf_n1000_3-0000000000044500.ckpt\n",
      "[buddy-ekf_n1000_3] Saved checkpoint to path: checkpoints/ekf_n1000_3-0000000000045000.ckpt\n",
      "[buddy-ekf_n1000_3] Saved checkpoint to path: checkpoints/ekf_n1000_3-0000000000045500.ckpt\n",
      "[buddy-ekf_n1000_3] Saved checkpoint to path: checkpoints/ekf_n1000_3-0000000000046000.ckpt\n",
      "[buddy-ekf_n1000_3] Saved checkpoint to path: checkpoints/ekf_n1000_3-0000000000046500.ckpt\n",
      "[buddy-ekf_n1000_3] Saved checkpoint to path: checkpoints/ekf_n1000_3-0000000000047000.ckpt\n",
      "[buddy-ekf_n1000_3] Saved checkpoint to path: checkpoints/ekf_n1000_3-0000000000047500.ckpt\n",
      "[buddy-ekf_n1000_3] Saved checkpoint to path: checkpoints/ekf_n1000_3-0000000000048000.ckpt\n",
      "[buddy-ekf_n1000_3] Saved checkpoint to path: checkpoints/ekf_n1000_3-0000000000048500.ckpt\n",
      "[buddy-ekf_n1000_3] Saved checkpoint to path: checkpoints/ekf_n1000_3-0000000000049000.ckpt\n",
      "[buddy-ekf_n1000_3] Saved checkpoint to path: checkpoints/ekf_n1000_3-0000000000049500.ckpt\n",
      "[buddy-ekf_n1000_3] Saved checkpoint to path: checkpoints/ekf_n1000_3-0000000000050000.ckpt\n",
      "[buddy-ekf_n1000_3] Saved checkpoint to path: checkpoints/ekf_n1000_3-0000000000050500.ckpt\n",
      "[buddy-ekf_n1000_3] Saved checkpoint to path: checkpoints/ekf_n1000_3-0000000000051000.ckpt\n",
      "[buddy-ekf_n1000_3] Saved checkpoint to path: checkpoints/ekf_n1000_3-0000000000051500.ckpt\n",
      "[buddy-ekf_n1000_3] Saved checkpoint to path: checkpoints/ekf_n1000_3-0000000000052000.ckpt\n",
      "[buddy-ekf_n1000_3] Saved checkpoint to path: checkpoints/ekf_n1000_3-0000000000052500.ckpt\n",
      "[buddy-ekf_n1000_3] Saved checkpoint to path: checkpoints/ekf_n1000_3-0000000000053000.ckpt\n",
      "[buddy-ekf_n1000_3] Saved checkpoint to path: checkpoints/ekf_n1000_3-0000000000053500.ckpt\n",
      "[buddy-ekf_n1000_3] Saved checkpoint to path: checkpoints/ekf_n1000_3-0000000000054000.ckpt\n",
      "[buddy-ekf_n1000_3] Saved checkpoint to path: checkpoints/ekf_n1000_3-0000000000054500.ckpt\n",
      "[buddy-ekf_n1000_3] Saved checkpoint to path: checkpoints/ekf_n1000_3-0000000000055000.ckpt\n",
      "[buddy-ekf_n1000_3] Saved checkpoint to path: checkpoints/ekf_n1000_3-0000000000055500.ckpt\n",
      "[buddy-ekf_n1000_3] Saved checkpoint to path: checkpoints/ekf_n1000_3-0000000000056000.ckpt\n",
      "[buddy-ekf_n1000_3] Saved checkpoint to path: checkpoints/ekf_n1000_3-0000000000056500.ckpt\n",
      "[buddy-ekf_n1000_3] Saved checkpoint to path: checkpoints/ekf_n1000_3-0000000000057000.ckpt\n",
      "[buddy-ekf_n1000_3] Saved checkpoint to path: checkpoints/ekf_n1000_3-0000000000057500.ckpt\n",
      "[buddy-ekf_n1000_3] Saved checkpoint to path: checkpoints/ekf_n1000_3-0000000000058000.ckpt\n",
      "[buddy-ekf_n1000_3] Saved checkpoint to path: checkpoints/ekf_n1000_3-0000000000058500.ckpt\n",
      "[buddy-ekf_n1000_3] Saved checkpoint to path: checkpoints/ekf_n1000_3-0000000000059000.ckpt\n",
      "[buddy-ekf_n1000_3] Saved checkpoint to path: checkpoints/ekf_n1000_3-0000000000059500.ckpt\n",
      "[buddy-ekf_n1000_3] Saved checkpoint to path: checkpoints/ekf_n1000_3-0000000000060000.ckpt\n",
      "\n"
     ]
    },
    {
     "data": {
      "application/vnd.jupyter.widget-view+json": {
       "model_id": "9d753618dcc549879031498fea46e646",
       "version_major": 2,
       "version_minor": 0
      },
      "text/plain": [
       "HBox(children=(FloatProgress(value=0.0, max=30000.0), HTML(value='')))"
      ]
     },
     "metadata": {},
     "output_type": "display_data"
    },
    {
     "name": "stdout",
     "output_type": "stream",
     "text": [
      "[buddy-ekf_n1000_3] Saved checkpoint to path: checkpoints/ekf_n1000_3-0000000000060500.ckpt\n",
      "[buddy-ekf_n1000_3] Saved checkpoint to path: checkpoints/ekf_n1000_3-0000000000061000.ckpt\n",
      "[buddy-ekf_n1000_3] Saved checkpoint to path: checkpoints/ekf_n1000_3-0000000000061500.ckpt\n",
      "[buddy-ekf_n1000_3] Saved checkpoint to path: checkpoints/ekf_n1000_3-0000000000062000.ckpt\n",
      "[buddy-ekf_n1000_3] Saved checkpoint to path: checkpoints/ekf_n1000_3-0000000000062500.ckpt\n",
      "[buddy-ekf_n1000_3] Saved checkpoint to path: checkpoints/ekf_n1000_3-0000000000063000.ckpt\n",
      "[buddy-ekf_n1000_3] Saved checkpoint to path: checkpoints/ekf_n1000_3-0000000000063500.ckpt\n",
      "[buddy-ekf_n1000_3] Saved checkpoint to path: checkpoints/ekf_n1000_3-0000000000064000.ckpt\n",
      "[buddy-ekf_n1000_3] Saved checkpoint to path: checkpoints/ekf_n1000_3-0000000000064500.ckpt\n",
      "[buddy-ekf_n1000_3] Saved checkpoint to path: checkpoints/ekf_n1000_3-0000000000065000.ckpt\n",
      "[buddy-ekf_n1000_3] Saved checkpoint to path: checkpoints/ekf_n1000_3-0000000000065500.ckpt\n",
      "[buddy-ekf_n1000_3] Saved checkpoint to path: checkpoints/ekf_n1000_3-0000000000066000.ckpt\n",
      "[buddy-ekf_n1000_3] Saved checkpoint to path: checkpoints/ekf_n1000_3-0000000000066500.ckpt\n",
      "[buddy-ekf_n1000_3] Saved checkpoint to path: checkpoints/ekf_n1000_3-0000000000067000.ckpt\n",
      "[buddy-ekf_n1000_3] Saved checkpoint to path: checkpoints/ekf_n1000_3-0000000000067500.ckpt\n",
      "[buddy-ekf_n1000_3] Saved checkpoint to path: checkpoints/ekf_n1000_3-0000000000068000.ckpt\n",
      "[buddy-ekf_n1000_3] Saved checkpoint to path: checkpoints/ekf_n1000_3-0000000000068500.ckpt\n",
      "[buddy-ekf_n1000_3] Saved checkpoint to path: checkpoints/ekf_n1000_3-0000000000069000.ckpt\n",
      "[buddy-ekf_n1000_3] Saved checkpoint to path: checkpoints/ekf_n1000_3-0000000000069500.ckpt\n",
      "[buddy-ekf_n1000_3] Saved checkpoint to path: checkpoints/ekf_n1000_3-0000000000070000.ckpt\n",
      "[buddy-ekf_n1000_3] Saved checkpoint to path: checkpoints/ekf_n1000_3-0000000000070500.ckpt\n",
      "[buddy-ekf_n1000_3] Saved checkpoint to path: checkpoints/ekf_n1000_3-0000000000071000.ckpt\n",
      "[buddy-ekf_n1000_3] Saved checkpoint to path: checkpoints/ekf_n1000_3-0000000000071500.ckpt\n",
      "[buddy-ekf_n1000_3] Saved checkpoint to path: checkpoints/ekf_n1000_3-0000000000072000.ckpt\n",
      "[buddy-ekf_n1000_3] Saved checkpoint to path: checkpoints/ekf_n1000_3-0000000000072500.ckpt\n",
      "[buddy-ekf_n1000_3] Saved checkpoint to path: checkpoints/ekf_n1000_3-0000000000073000.ckpt\n",
      "[buddy-ekf_n1000_3] Saved checkpoint to path: checkpoints/ekf_n1000_3-0000000000073500.ckpt\n",
      "[buddy-ekf_n1000_3] Saved checkpoint to path: checkpoints/ekf_n1000_3-0000000000074000.ckpt\n",
      "[buddy-ekf_n1000_3] Saved checkpoint to path: checkpoints/ekf_n1000_3-0000000000074500.ckpt\n",
      "[buddy-ekf_n1000_3] Saved checkpoint to path: checkpoints/ekf_n1000_3-0000000000075000.ckpt\n",
      "[buddy-ekf_n1000_3] Saved checkpoint to path: checkpoints/ekf_n1000_3-0000000000075500.ckpt\n",
      "[buddy-ekf_n1000_3] Saved checkpoint to path: checkpoints/ekf_n1000_3-0000000000076000.ckpt\n",
      "[buddy-ekf_n1000_3] Saved checkpoint to path: checkpoints/ekf_n1000_3-0000000000076500.ckpt\n",
      "[buddy-ekf_n1000_3] Saved checkpoint to path: checkpoints/ekf_n1000_3-0000000000077000.ckpt\n",
      "[buddy-ekf_n1000_3] Saved checkpoint to path: checkpoints/ekf_n1000_3-0000000000077500.ckpt\n",
      "[buddy-ekf_n1000_3] Saved checkpoint to path: checkpoints/ekf_n1000_3-0000000000078000.ckpt\n",
      "[buddy-ekf_n1000_3] Saved checkpoint to path: checkpoints/ekf_n1000_3-0000000000078500.ckpt\n",
      "[buddy-ekf_n1000_3] Saved checkpoint to path: checkpoints/ekf_n1000_3-0000000000079000.ckpt\n",
      "[buddy-ekf_n1000_3] Saved checkpoint to path: checkpoints/ekf_n1000_3-0000000000079500.ckpt\n",
      "[buddy-ekf_n1000_3] Saved checkpoint to path: checkpoints/ekf_n1000_3-0000000000080000.ckpt\n",
      "[buddy-ekf_n1000_3] Saved checkpoint to path: checkpoints/ekf_n1000_3-0000000000080500.ckpt\n",
      "[buddy-ekf_n1000_3] Saved checkpoint to path: checkpoints/ekf_n1000_3-0000000000081000.ckpt\n",
      "[buddy-ekf_n1000_3] Saved checkpoint to path: checkpoints/ekf_n1000_3-0000000000081500.ckpt\n",
      "[buddy-ekf_n1000_3] Saved checkpoint to path: checkpoints/ekf_n1000_3-0000000000082000.ckpt\n",
      "[buddy-ekf_n1000_3] Saved checkpoint to path: checkpoints/ekf_n1000_3-0000000000082500.ckpt\n",
      "[buddy-ekf_n1000_3] Saved checkpoint to path: checkpoints/ekf_n1000_3-0000000000083000.ckpt\n",
      "[buddy-ekf_n1000_3] Saved checkpoint to path: checkpoints/ekf_n1000_3-0000000000083500.ckpt\n",
      "[buddy-ekf_n1000_3] Saved checkpoint to path: checkpoints/ekf_n1000_3-0000000000084000.ckpt\n",
      "[buddy-ekf_n1000_3] Saved checkpoint to path: checkpoints/ekf_n1000_3-0000000000084500.ckpt\n"
     ]
    },
    {
     "ename": "KeyboardInterrupt",
     "evalue": "",
     "output_type": "error",
     "traceback": [
      "\u001b[0;31m---------------------------------------------------------------------------\u001b[0m",
      "\u001b[0;31mKeyboardInterrupt\u001b[0m                         Traceback (most recent call last)",
      "\u001b[0;32m<ipython-input-8-c2e565093a83>\u001b[0m in \u001b[0;36m<module>\u001b[0;34m\u001b[0m\n\u001b[1;32m      2\u001b[0m     dataset_measurement, batch_size=16, shuffle=True, num_workers=2, drop_last=True)\n\u001b[1;32m      3\u001b[0m \u001b[0;32mfor\u001b[0m \u001b[0m_\u001b[0m \u001b[0;32min\u001b[0m \u001b[0mtqdm_notebook\u001b[0m\u001b[0;34m(\u001b[0m\u001b[0mrange\u001b[0m\u001b[0;34m(\u001b[0m\u001b[0;36m3\u001b[0m\u001b[0;34m)\u001b[0m\u001b[0;34m)\u001b[0m\u001b[0;34m:\u001b[0m\u001b[0;34m\u001b[0m\u001b[0;34m\u001b[0m\u001b[0m\n\u001b[0;32m----> 4\u001b[0;31m     \u001b[0;32mfor\u001b[0m \u001b[0mbatch_idx\u001b[0m\u001b[0;34m,\u001b[0m \u001b[0mbatch\u001b[0m \u001b[0;32min\u001b[0m \u001b[0menumerate\u001b[0m\u001b[0;34m(\u001b[0m\u001b[0mtqdm_notebook\u001b[0m\u001b[0;34m(\u001b[0m\u001b[0mdataloader_measurement\u001b[0m\u001b[0;34m)\u001b[0m\u001b[0;34m)\u001b[0m\u001b[0;34m:\u001b[0m\u001b[0;34m\u001b[0m\u001b[0;34m\u001b[0m\u001b[0m\n\u001b[0m\u001b[1;32m      5\u001b[0m         \u001b[0mnoisy_state\u001b[0m\u001b[0;34m,\u001b[0m \u001b[0mobservation\u001b[0m\u001b[0;34m,\u001b[0m \u001b[0m_\u001b[0m\u001b[0;34m,\u001b[0m \u001b[0mstate\u001b[0m  \u001b[0;34m=\u001b[0m \u001b[0mfannypack\u001b[0m\u001b[0;34m.\u001b[0m\u001b[0mutils\u001b[0m\u001b[0;34m.\u001b[0m\u001b[0mto_device\u001b[0m\u001b[0;34m(\u001b[0m\u001b[0mbatch\u001b[0m\u001b[0;34m,\u001b[0m \u001b[0mbuddy\u001b[0m\u001b[0;34m.\u001b[0m\u001b[0m_device\u001b[0m\u001b[0;34m)\u001b[0m\u001b[0;34m\u001b[0m\u001b[0;34m\u001b[0m\u001b[0m\n\u001b[1;32m      6\u001b[0m \u001b[0;31m#         states = states[:,0,:]\u001b[0m\u001b[0;34m\u001b[0m\u001b[0;34m\u001b[0m\u001b[0;34m\u001b[0m\u001b[0m\n",
      "\u001b[0;32m/scr-ssd/miniconda3/envs/filter/lib/python3.6/site-packages/tqdm/notebook.py\u001b[0m in \u001b[0;36m__iter__\u001b[0;34m(self, *args, **kwargs)\u001b[0m\n\u001b[1;32m    215\u001b[0m     \u001b[0;32mdef\u001b[0m \u001b[0m__iter__\u001b[0m\u001b[0;34m(\u001b[0m\u001b[0mself\u001b[0m\u001b[0;34m,\u001b[0m \u001b[0;34m*\u001b[0m\u001b[0margs\u001b[0m\u001b[0;34m,\u001b[0m \u001b[0;34m**\u001b[0m\u001b[0mkwargs\u001b[0m\u001b[0;34m)\u001b[0m\u001b[0;34m:\u001b[0m\u001b[0;34m\u001b[0m\u001b[0;34m\u001b[0m\u001b[0m\n\u001b[1;32m    216\u001b[0m         \u001b[0;32mtry\u001b[0m\u001b[0;34m:\u001b[0m\u001b[0;34m\u001b[0m\u001b[0;34m\u001b[0m\u001b[0m\n\u001b[0;32m--> 217\u001b[0;31m             \u001b[0;32mfor\u001b[0m \u001b[0mobj\u001b[0m \u001b[0;32min\u001b[0m \u001b[0msuper\u001b[0m\u001b[0;34m(\u001b[0m\u001b[0mtqdm_notebook\u001b[0m\u001b[0;34m,\u001b[0m \u001b[0mself\u001b[0m\u001b[0;34m)\u001b[0m\u001b[0;34m.\u001b[0m\u001b[0m__iter__\u001b[0m\u001b[0;34m(\u001b[0m\u001b[0;34m*\u001b[0m\u001b[0margs\u001b[0m\u001b[0;34m,\u001b[0m \u001b[0;34m**\u001b[0m\u001b[0mkwargs\u001b[0m\u001b[0;34m)\u001b[0m\u001b[0;34m:\u001b[0m\u001b[0;34m\u001b[0m\u001b[0;34m\u001b[0m\u001b[0m\n\u001b[0m\u001b[1;32m    218\u001b[0m                 \u001b[0;31m# return super(tqdm...) will not catch exception\u001b[0m\u001b[0;34m\u001b[0m\u001b[0;34m\u001b[0m\u001b[0;34m\u001b[0m\u001b[0m\n\u001b[1;32m    219\u001b[0m                 \u001b[0;32myield\u001b[0m \u001b[0mobj\u001b[0m\u001b[0;34m\u001b[0m\u001b[0;34m\u001b[0m\u001b[0m\n",
      "\u001b[0;32m/scr-ssd/miniconda3/envs/filter/lib/python3.6/site-packages/tqdm/std.py\u001b[0m in \u001b[0;36m__iter__\u001b[0;34m(self)\u001b[0m\n\u001b[1;32m   1105\u001b[0m                 fp_write=getattr(self.fp, 'write', sys.stderr.write))\n\u001b[1;32m   1106\u001b[0m \u001b[0;34m\u001b[0m\u001b[0m\n\u001b[0;32m-> 1107\u001b[0;31m         \u001b[0;32mfor\u001b[0m \u001b[0mobj\u001b[0m \u001b[0;32min\u001b[0m \u001b[0miterable\u001b[0m\u001b[0;34m:\u001b[0m\u001b[0;34m\u001b[0m\u001b[0;34m\u001b[0m\u001b[0m\n\u001b[0m\u001b[1;32m   1108\u001b[0m             \u001b[0;32myield\u001b[0m \u001b[0mobj\u001b[0m\u001b[0;34m\u001b[0m\u001b[0;34m\u001b[0m\u001b[0m\n\u001b[1;32m   1109\u001b[0m             \u001b[0;31m# Update and possibly print the progressbar.\u001b[0m\u001b[0;34m\u001b[0m\u001b[0;34m\u001b[0m\u001b[0;34m\u001b[0m\u001b[0m\n",
      "\u001b[0;32m/scr-ssd/miniconda3/envs/filter/lib/python3.6/site-packages/torch/utils/data/dataloader.py\u001b[0m in \u001b[0;36m__next__\u001b[0;34m(self)\u001b[0m\n\u001b[1;32m    343\u001b[0m \u001b[0;34m\u001b[0m\u001b[0m\n\u001b[1;32m    344\u001b[0m     \u001b[0;32mdef\u001b[0m \u001b[0m__next__\u001b[0m\u001b[0;34m(\u001b[0m\u001b[0mself\u001b[0m\u001b[0;34m)\u001b[0m\u001b[0;34m:\u001b[0m\u001b[0;34m\u001b[0m\u001b[0;34m\u001b[0m\u001b[0m\n\u001b[0;32m--> 345\u001b[0;31m         \u001b[0mdata\u001b[0m \u001b[0;34m=\u001b[0m \u001b[0mself\u001b[0m\u001b[0;34m.\u001b[0m\u001b[0m_next_data\u001b[0m\u001b[0;34m(\u001b[0m\u001b[0;34m)\u001b[0m\u001b[0;34m\u001b[0m\u001b[0;34m\u001b[0m\u001b[0m\n\u001b[0m\u001b[1;32m    346\u001b[0m         \u001b[0mself\u001b[0m\u001b[0;34m.\u001b[0m\u001b[0m_num_yielded\u001b[0m \u001b[0;34m+=\u001b[0m \u001b[0;36m1\u001b[0m\u001b[0;34m\u001b[0m\u001b[0;34m\u001b[0m\u001b[0m\n\u001b[1;32m    347\u001b[0m         \u001b[0;32mif\u001b[0m \u001b[0mself\u001b[0m\u001b[0;34m.\u001b[0m\u001b[0m_dataset_kind\u001b[0m \u001b[0;34m==\u001b[0m \u001b[0m_DatasetKind\u001b[0m\u001b[0;34m.\u001b[0m\u001b[0mIterable\u001b[0m \u001b[0;32mand\u001b[0m\u001b[0;31m \u001b[0m\u001b[0;31m\\\u001b[0m\u001b[0;34m\u001b[0m\u001b[0;34m\u001b[0m\u001b[0m\n",
      "\u001b[0;32m/scr-ssd/miniconda3/envs/filter/lib/python3.6/site-packages/torch/utils/data/dataloader.py\u001b[0m in \u001b[0;36m_next_data\u001b[0;34m(self)\u001b[0m\n\u001b[1;32m    839\u001b[0m \u001b[0;34m\u001b[0m\u001b[0m\n\u001b[1;32m    840\u001b[0m             \u001b[0;32massert\u001b[0m \u001b[0;32mnot\u001b[0m \u001b[0mself\u001b[0m\u001b[0;34m.\u001b[0m\u001b[0m_shutdown\u001b[0m \u001b[0;32mand\u001b[0m \u001b[0mself\u001b[0m\u001b[0;34m.\u001b[0m\u001b[0m_tasks_outstanding\u001b[0m \u001b[0;34m>\u001b[0m \u001b[0;36m0\u001b[0m\u001b[0;34m\u001b[0m\u001b[0;34m\u001b[0m\u001b[0m\n\u001b[0;32m--> 841\u001b[0;31m             \u001b[0midx\u001b[0m\u001b[0;34m,\u001b[0m \u001b[0mdata\u001b[0m \u001b[0;34m=\u001b[0m \u001b[0mself\u001b[0m\u001b[0;34m.\u001b[0m\u001b[0m_get_data\u001b[0m\u001b[0;34m(\u001b[0m\u001b[0;34m)\u001b[0m\u001b[0;34m\u001b[0m\u001b[0;34m\u001b[0m\u001b[0m\n\u001b[0m\u001b[1;32m    842\u001b[0m             \u001b[0mself\u001b[0m\u001b[0;34m.\u001b[0m\u001b[0m_tasks_outstanding\u001b[0m \u001b[0;34m-=\u001b[0m \u001b[0;36m1\u001b[0m\u001b[0;34m\u001b[0m\u001b[0;34m\u001b[0m\u001b[0m\n\u001b[1;32m    843\u001b[0m \u001b[0;34m\u001b[0m\u001b[0m\n",
      "\u001b[0;32m/scr-ssd/miniconda3/envs/filter/lib/python3.6/site-packages/torch/utils/data/dataloader.py\u001b[0m in \u001b[0;36m_get_data\u001b[0;34m(self)\u001b[0m\n\u001b[1;32m    806\u001b[0m         \u001b[0;32melse\u001b[0m\u001b[0;34m:\u001b[0m\u001b[0;34m\u001b[0m\u001b[0;34m\u001b[0m\u001b[0m\n\u001b[1;32m    807\u001b[0m             \u001b[0;32mwhile\u001b[0m \u001b[0;32mTrue\u001b[0m\u001b[0;34m:\u001b[0m\u001b[0;34m\u001b[0m\u001b[0;34m\u001b[0m\u001b[0m\n\u001b[0;32m--> 808\u001b[0;31m                 \u001b[0msuccess\u001b[0m\u001b[0;34m,\u001b[0m \u001b[0mdata\u001b[0m \u001b[0;34m=\u001b[0m \u001b[0mself\u001b[0m\u001b[0;34m.\u001b[0m\u001b[0m_try_get_data\u001b[0m\u001b[0;34m(\u001b[0m\u001b[0;34m)\u001b[0m\u001b[0;34m\u001b[0m\u001b[0;34m\u001b[0m\u001b[0m\n\u001b[0m\u001b[1;32m    809\u001b[0m                 \u001b[0;32mif\u001b[0m \u001b[0msuccess\u001b[0m\u001b[0;34m:\u001b[0m\u001b[0;34m\u001b[0m\u001b[0;34m\u001b[0m\u001b[0m\n\u001b[1;32m    810\u001b[0m                     \u001b[0;32mreturn\u001b[0m \u001b[0mdata\u001b[0m\u001b[0;34m\u001b[0m\u001b[0;34m\u001b[0m\u001b[0m\n",
      "\u001b[0;32m/scr-ssd/miniconda3/envs/filter/lib/python3.6/site-packages/torch/utils/data/dataloader.py\u001b[0m in \u001b[0;36m_try_get_data\u001b[0;34m(self, timeout)\u001b[0m\n\u001b[1;32m    759\u001b[0m         \u001b[0;31m#   (bool: whether successfully get data, any: data if successful else None)\u001b[0m\u001b[0;34m\u001b[0m\u001b[0;34m\u001b[0m\u001b[0;34m\u001b[0m\u001b[0m\n\u001b[1;32m    760\u001b[0m         \u001b[0;32mtry\u001b[0m\u001b[0;34m:\u001b[0m\u001b[0;34m\u001b[0m\u001b[0;34m\u001b[0m\u001b[0m\n\u001b[0;32m--> 761\u001b[0;31m             \u001b[0mdata\u001b[0m \u001b[0;34m=\u001b[0m \u001b[0mself\u001b[0m\u001b[0;34m.\u001b[0m\u001b[0m_data_queue\u001b[0m\u001b[0;34m.\u001b[0m\u001b[0mget\u001b[0m\u001b[0;34m(\u001b[0m\u001b[0mtimeout\u001b[0m\u001b[0;34m=\u001b[0m\u001b[0mtimeout\u001b[0m\u001b[0;34m)\u001b[0m\u001b[0;34m\u001b[0m\u001b[0;34m\u001b[0m\u001b[0m\n\u001b[0m\u001b[1;32m    762\u001b[0m             \u001b[0;32mreturn\u001b[0m \u001b[0;34m(\u001b[0m\u001b[0;32mTrue\u001b[0m\u001b[0;34m,\u001b[0m \u001b[0mdata\u001b[0m\u001b[0;34m)\u001b[0m\u001b[0;34m\u001b[0m\u001b[0;34m\u001b[0m\u001b[0m\n\u001b[1;32m    763\u001b[0m         \u001b[0;32mexcept\u001b[0m \u001b[0mException\u001b[0m \u001b[0;32mas\u001b[0m \u001b[0me\u001b[0m\u001b[0;34m:\u001b[0m\u001b[0;34m\u001b[0m\u001b[0;34m\u001b[0m\u001b[0m\n",
      "\u001b[0;32m/scr-ssd/miniconda3/envs/filter/lib/python3.6/multiprocessing/queues.py\u001b[0m in \u001b[0;36mget\u001b[0;34m(self, block, timeout)\u001b[0m\n\u001b[1;32m    111\u001b[0m                 \u001b[0mself\u001b[0m\u001b[0;34m.\u001b[0m\u001b[0m_rlock\u001b[0m\u001b[0;34m.\u001b[0m\u001b[0mrelease\u001b[0m\u001b[0;34m(\u001b[0m\u001b[0;34m)\u001b[0m\u001b[0;34m\u001b[0m\u001b[0;34m\u001b[0m\u001b[0m\n\u001b[1;32m    112\u001b[0m         \u001b[0;31m# unserialize the data after having released the lock\u001b[0m\u001b[0;34m\u001b[0m\u001b[0;34m\u001b[0m\u001b[0;34m\u001b[0m\u001b[0m\n\u001b[0;32m--> 113\u001b[0;31m         \u001b[0;32mreturn\u001b[0m \u001b[0m_ForkingPickler\u001b[0m\u001b[0;34m.\u001b[0m\u001b[0mloads\u001b[0m\u001b[0;34m(\u001b[0m\u001b[0mres\u001b[0m\u001b[0;34m)\u001b[0m\u001b[0;34m\u001b[0m\u001b[0;34m\u001b[0m\u001b[0m\n\u001b[0m\u001b[1;32m    114\u001b[0m \u001b[0;34m\u001b[0m\u001b[0m\n\u001b[1;32m    115\u001b[0m     \u001b[0;32mdef\u001b[0m \u001b[0mqsize\u001b[0m\u001b[0;34m(\u001b[0m\u001b[0mself\u001b[0m\u001b[0;34m)\u001b[0m\u001b[0;34m:\u001b[0m\u001b[0;34m\u001b[0m\u001b[0;34m\u001b[0m\u001b[0m\n",
      "\u001b[0;32m/scr-ssd/miniconda3/envs/filter/lib/python3.6/site-packages/torch/multiprocessing/reductions.py\u001b[0m in \u001b[0;36mrebuild_storage_fd\u001b[0;34m(cls, df, size)\u001b[0m\n\u001b[1;32m    292\u001b[0m                     \u001b[0;32mraise\u001b[0m\u001b[0;34m\u001b[0m\u001b[0;34m\u001b[0m\u001b[0m\n\u001b[1;32m    293\u001b[0m     \u001b[0;32melse\u001b[0m\u001b[0;34m:\u001b[0m\u001b[0;34m\u001b[0m\u001b[0;34m\u001b[0m\u001b[0m\n\u001b[0;32m--> 294\u001b[0;31m         \u001b[0mfd\u001b[0m \u001b[0;34m=\u001b[0m \u001b[0mdf\u001b[0m\u001b[0;34m.\u001b[0m\u001b[0mdetach\u001b[0m\u001b[0;34m(\u001b[0m\u001b[0;34m)\u001b[0m\u001b[0;34m\u001b[0m\u001b[0;34m\u001b[0m\u001b[0m\n\u001b[0m\u001b[1;32m    295\u001b[0m     \u001b[0;32mtry\u001b[0m\u001b[0;34m:\u001b[0m\u001b[0;34m\u001b[0m\u001b[0;34m\u001b[0m\u001b[0m\n\u001b[1;32m    296\u001b[0m         \u001b[0mstorage\u001b[0m \u001b[0;34m=\u001b[0m \u001b[0mstorage_from_cache\u001b[0m\u001b[0;34m(\u001b[0m\u001b[0mcls\u001b[0m\u001b[0;34m,\u001b[0m \u001b[0mfd_id\u001b[0m\u001b[0;34m(\u001b[0m\u001b[0mfd\u001b[0m\u001b[0;34m)\u001b[0m\u001b[0;34m)\u001b[0m\u001b[0;34m\u001b[0m\u001b[0;34m\u001b[0m\u001b[0m\n",
      "\u001b[0;32m/scr-ssd/miniconda3/envs/filter/lib/python3.6/multiprocessing/resource_sharer.py\u001b[0m in \u001b[0;36mdetach\u001b[0;34m(self)\u001b[0m\n\u001b[1;32m     55\u001b[0m         \u001b[0;32mdef\u001b[0m \u001b[0mdetach\u001b[0m\u001b[0;34m(\u001b[0m\u001b[0mself\u001b[0m\u001b[0;34m)\u001b[0m\u001b[0;34m:\u001b[0m\u001b[0;34m\u001b[0m\u001b[0;34m\u001b[0m\u001b[0m\n\u001b[1;32m     56\u001b[0m             \u001b[0;34m'''Get the fd.  This should only be called once.'''\u001b[0m\u001b[0;34m\u001b[0m\u001b[0;34m\u001b[0m\u001b[0m\n\u001b[0;32m---> 57\u001b[0;31m             \u001b[0;32mwith\u001b[0m \u001b[0m_resource_sharer\u001b[0m\u001b[0;34m.\u001b[0m\u001b[0mget_connection\u001b[0m\u001b[0;34m(\u001b[0m\u001b[0mself\u001b[0m\u001b[0;34m.\u001b[0m\u001b[0m_id\u001b[0m\u001b[0;34m)\u001b[0m \u001b[0;32mas\u001b[0m \u001b[0mconn\u001b[0m\u001b[0;34m:\u001b[0m\u001b[0;34m\u001b[0m\u001b[0;34m\u001b[0m\u001b[0m\n\u001b[0m\u001b[1;32m     58\u001b[0m                 \u001b[0;32mreturn\u001b[0m \u001b[0mreduction\u001b[0m\u001b[0;34m.\u001b[0m\u001b[0mrecv_handle\u001b[0m\u001b[0;34m(\u001b[0m\u001b[0mconn\u001b[0m\u001b[0;34m)\u001b[0m\u001b[0;34m\u001b[0m\u001b[0;34m\u001b[0m\u001b[0m\n\u001b[1;32m     59\u001b[0m \u001b[0;34m\u001b[0m\u001b[0m\n",
      "\u001b[0;32m/scr-ssd/miniconda3/envs/filter/lib/python3.6/multiprocessing/resource_sharer.py\u001b[0m in \u001b[0;36mget_connection\u001b[0;34m(ident)\u001b[0m\n\u001b[1;32m     85\u001b[0m         \u001b[0;32mfrom\u001b[0m \u001b[0;34m.\u001b[0m\u001b[0mconnection\u001b[0m \u001b[0;32mimport\u001b[0m \u001b[0mClient\u001b[0m\u001b[0;34m\u001b[0m\u001b[0;34m\u001b[0m\u001b[0m\n\u001b[1;32m     86\u001b[0m         \u001b[0maddress\u001b[0m\u001b[0;34m,\u001b[0m \u001b[0mkey\u001b[0m \u001b[0;34m=\u001b[0m \u001b[0mident\u001b[0m\u001b[0;34m\u001b[0m\u001b[0;34m\u001b[0m\u001b[0m\n\u001b[0;32m---> 87\u001b[0;31m         \u001b[0mc\u001b[0m \u001b[0;34m=\u001b[0m \u001b[0mClient\u001b[0m\u001b[0;34m(\u001b[0m\u001b[0maddress\u001b[0m\u001b[0;34m,\u001b[0m \u001b[0mauthkey\u001b[0m\u001b[0;34m=\u001b[0m\u001b[0mprocess\u001b[0m\u001b[0;34m.\u001b[0m\u001b[0mcurrent_process\u001b[0m\u001b[0;34m(\u001b[0m\u001b[0;34m)\u001b[0m\u001b[0;34m.\u001b[0m\u001b[0mauthkey\u001b[0m\u001b[0;34m)\u001b[0m\u001b[0;34m\u001b[0m\u001b[0;34m\u001b[0m\u001b[0m\n\u001b[0m\u001b[1;32m     88\u001b[0m         \u001b[0mc\u001b[0m\u001b[0;34m.\u001b[0m\u001b[0msend\u001b[0m\u001b[0;34m(\u001b[0m\u001b[0;34m(\u001b[0m\u001b[0mkey\u001b[0m\u001b[0;34m,\u001b[0m \u001b[0mos\u001b[0m\u001b[0;34m.\u001b[0m\u001b[0mgetpid\u001b[0m\u001b[0;34m(\u001b[0m\u001b[0;34m)\u001b[0m\u001b[0;34m)\u001b[0m\u001b[0;34m)\u001b[0m\u001b[0;34m\u001b[0m\u001b[0;34m\u001b[0m\u001b[0m\n\u001b[1;32m     89\u001b[0m         \u001b[0;32mreturn\u001b[0m \u001b[0mc\u001b[0m\u001b[0;34m\u001b[0m\u001b[0;34m\u001b[0m\u001b[0m\n",
      "\u001b[0;32m/scr-ssd/miniconda3/envs/filter/lib/python3.6/multiprocessing/connection.py\u001b[0m in \u001b[0;36mClient\u001b[0;34m(address, family, authkey)\u001b[0m\n\u001b[1;32m    492\u001b[0m     \u001b[0;32mif\u001b[0m \u001b[0mauthkey\u001b[0m \u001b[0;32mis\u001b[0m \u001b[0;32mnot\u001b[0m \u001b[0;32mNone\u001b[0m\u001b[0;34m:\u001b[0m\u001b[0;34m\u001b[0m\u001b[0;34m\u001b[0m\u001b[0m\n\u001b[1;32m    493\u001b[0m         \u001b[0manswer_challenge\u001b[0m\u001b[0;34m(\u001b[0m\u001b[0mc\u001b[0m\u001b[0;34m,\u001b[0m \u001b[0mauthkey\u001b[0m\u001b[0;34m)\u001b[0m\u001b[0;34m\u001b[0m\u001b[0;34m\u001b[0m\u001b[0m\n\u001b[0;32m--> 494\u001b[0;31m         \u001b[0mdeliver_challenge\u001b[0m\u001b[0;34m(\u001b[0m\u001b[0mc\u001b[0m\u001b[0;34m,\u001b[0m \u001b[0mauthkey\u001b[0m\u001b[0;34m)\u001b[0m\u001b[0;34m\u001b[0m\u001b[0;34m\u001b[0m\u001b[0m\n\u001b[0m\u001b[1;32m    495\u001b[0m \u001b[0;34m\u001b[0m\u001b[0m\n\u001b[1;32m    496\u001b[0m     \u001b[0;32mreturn\u001b[0m \u001b[0mc\u001b[0m\u001b[0;34m\u001b[0m\u001b[0;34m\u001b[0m\u001b[0m\n",
      "\u001b[0;32m/scr-ssd/miniconda3/envs/filter/lib/python3.6/multiprocessing/connection.py\u001b[0m in \u001b[0;36mdeliver_challenge\u001b[0;34m(connection, authkey)\u001b[0m\n\u001b[1;32m    719\u001b[0m     \u001b[0mmessage\u001b[0m \u001b[0;34m=\u001b[0m \u001b[0mos\u001b[0m\u001b[0;34m.\u001b[0m\u001b[0murandom\u001b[0m\u001b[0;34m(\u001b[0m\u001b[0mMESSAGE_LENGTH\u001b[0m\u001b[0;34m)\u001b[0m\u001b[0;34m\u001b[0m\u001b[0;34m\u001b[0m\u001b[0m\n\u001b[1;32m    720\u001b[0m     \u001b[0mconnection\u001b[0m\u001b[0;34m.\u001b[0m\u001b[0msend_bytes\u001b[0m\u001b[0;34m(\u001b[0m\u001b[0mCHALLENGE\u001b[0m \u001b[0;34m+\u001b[0m \u001b[0mmessage\u001b[0m\u001b[0;34m)\u001b[0m\u001b[0;34m\u001b[0m\u001b[0;34m\u001b[0m\u001b[0m\n\u001b[0;32m--> 721\u001b[0;31m     \u001b[0mdigest\u001b[0m \u001b[0;34m=\u001b[0m \u001b[0mhmac\u001b[0m\u001b[0;34m.\u001b[0m\u001b[0mnew\u001b[0m\u001b[0;34m(\u001b[0m\u001b[0mauthkey\u001b[0m\u001b[0;34m,\u001b[0m \u001b[0mmessage\u001b[0m\u001b[0;34m,\u001b[0m \u001b[0;34m'md5'\u001b[0m\u001b[0;34m)\u001b[0m\u001b[0;34m.\u001b[0m\u001b[0mdigest\u001b[0m\u001b[0;34m(\u001b[0m\u001b[0;34m)\u001b[0m\u001b[0;34m\u001b[0m\u001b[0;34m\u001b[0m\u001b[0m\n\u001b[0m\u001b[1;32m    722\u001b[0m     \u001b[0mresponse\u001b[0m \u001b[0;34m=\u001b[0m \u001b[0mconnection\u001b[0m\u001b[0;34m.\u001b[0m\u001b[0mrecv_bytes\u001b[0m\u001b[0;34m(\u001b[0m\u001b[0;36m256\u001b[0m\u001b[0;34m)\u001b[0m        \u001b[0;31m# reject large message\u001b[0m\u001b[0;34m\u001b[0m\u001b[0;34m\u001b[0m\u001b[0m\n\u001b[1;32m    723\u001b[0m     \u001b[0;32mif\u001b[0m \u001b[0mresponse\u001b[0m \u001b[0;34m==\u001b[0m \u001b[0mdigest\u001b[0m\u001b[0;34m:\u001b[0m\u001b[0;34m\u001b[0m\u001b[0;34m\u001b[0m\u001b[0m\n",
      "\u001b[0;32m/scr-ssd/miniconda3/envs/filter/lib/python3.6/hmac.py\u001b[0m in \u001b[0;36mnew\u001b[0;34m(key, msg, digestmod)\u001b[0m\n\u001b[1;32m    142\u001b[0m     \u001b[0mmethod\u001b[0m\u001b[0;34m.\u001b[0m\u001b[0;34m\u001b[0m\u001b[0;34m\u001b[0m\u001b[0m\n\u001b[1;32m    143\u001b[0m     \"\"\"\n\u001b[0;32m--> 144\u001b[0;31m     \u001b[0;32mreturn\u001b[0m \u001b[0mHMAC\u001b[0m\u001b[0;34m(\u001b[0m\u001b[0mkey\u001b[0m\u001b[0;34m,\u001b[0m \u001b[0mmsg\u001b[0m\u001b[0;34m,\u001b[0m \u001b[0mdigestmod\u001b[0m\u001b[0;34m)\u001b[0m\u001b[0;34m\u001b[0m\u001b[0;34m\u001b[0m\u001b[0m\n\u001b[0m",
      "\u001b[0;32m/scr-ssd/miniconda3/envs/filter/lib/python3.6/hmac.py\u001b[0m in \u001b[0;36m__init__\u001b[0;34m(self, key, msg, digestmod)\u001b[0m\n\u001b[1;32m     54\u001b[0m             \u001b[0mself\u001b[0m\u001b[0;34m.\u001b[0m\u001b[0mdigest_cons\u001b[0m \u001b[0;34m=\u001b[0m \u001b[0;32mlambda\u001b[0m \u001b[0md\u001b[0m\u001b[0;34m=\u001b[0m\u001b[0;34mb''\u001b[0m\u001b[0;34m:\u001b[0m \u001b[0mdigestmod\u001b[0m\u001b[0;34m.\u001b[0m\u001b[0mnew\u001b[0m\u001b[0;34m(\u001b[0m\u001b[0md\u001b[0m\u001b[0;34m)\u001b[0m\u001b[0;34m\u001b[0m\u001b[0;34m\u001b[0m\u001b[0m\n\u001b[1;32m     55\u001b[0m \u001b[0;34m\u001b[0m\u001b[0m\n\u001b[0;32m---> 56\u001b[0;31m         \u001b[0mself\u001b[0m\u001b[0;34m.\u001b[0m\u001b[0mouter\u001b[0m \u001b[0;34m=\u001b[0m \u001b[0mself\u001b[0m\u001b[0;34m.\u001b[0m\u001b[0mdigest_cons\u001b[0m\u001b[0;34m(\u001b[0m\u001b[0;34m)\u001b[0m\u001b[0;34m\u001b[0m\u001b[0;34m\u001b[0m\u001b[0m\n\u001b[0m\u001b[1;32m     57\u001b[0m         \u001b[0mself\u001b[0m\u001b[0;34m.\u001b[0m\u001b[0minner\u001b[0m \u001b[0;34m=\u001b[0m \u001b[0mself\u001b[0m\u001b[0;34m.\u001b[0m\u001b[0mdigest_cons\u001b[0m\u001b[0;34m(\u001b[0m\u001b[0;34m)\u001b[0m\u001b[0;34m\u001b[0m\u001b[0;34m\u001b[0m\u001b[0m\n\u001b[1;32m     58\u001b[0m         \u001b[0mself\u001b[0m\u001b[0;34m.\u001b[0m\u001b[0mdigest_size\u001b[0m \u001b[0;34m=\u001b[0m \u001b[0mself\u001b[0m\u001b[0;34m.\u001b[0m\u001b[0minner\u001b[0m\u001b[0;34m.\u001b[0m\u001b[0mdigest_size\u001b[0m\u001b[0;34m\u001b[0m\u001b[0;34m\u001b[0m\u001b[0m\n",
      "\u001b[0;32m/scr-ssd/miniconda3/envs/filter/lib/python3.6/hmac.py\u001b[0m in \u001b[0;36m<lambda>\u001b[0;34m(d)\u001b[0m\n\u001b[1;32m     50\u001b[0m             \u001b[0mself\u001b[0m\u001b[0;34m.\u001b[0m\u001b[0mdigest_cons\u001b[0m \u001b[0;34m=\u001b[0m \u001b[0mdigestmod\u001b[0m\u001b[0;34m\u001b[0m\u001b[0;34m\u001b[0m\u001b[0m\n\u001b[1;32m     51\u001b[0m         \u001b[0;32melif\u001b[0m \u001b[0misinstance\u001b[0m\u001b[0;34m(\u001b[0m\u001b[0mdigestmod\u001b[0m\u001b[0;34m,\u001b[0m \u001b[0mstr\u001b[0m\u001b[0;34m)\u001b[0m\u001b[0;34m:\u001b[0m\u001b[0;34m\u001b[0m\u001b[0;34m\u001b[0m\u001b[0m\n\u001b[0;32m---> 52\u001b[0;31m             \u001b[0mself\u001b[0m\u001b[0;34m.\u001b[0m\u001b[0mdigest_cons\u001b[0m \u001b[0;34m=\u001b[0m \u001b[0;32mlambda\u001b[0m \u001b[0md\u001b[0m\u001b[0;34m=\u001b[0m\u001b[0;34mb''\u001b[0m\u001b[0;34m:\u001b[0m \u001b[0m_hashlib\u001b[0m\u001b[0;34m.\u001b[0m\u001b[0mnew\u001b[0m\u001b[0;34m(\u001b[0m\u001b[0mdigestmod\u001b[0m\u001b[0;34m,\u001b[0m \u001b[0md\u001b[0m\u001b[0;34m)\u001b[0m\u001b[0;34m\u001b[0m\u001b[0;34m\u001b[0m\u001b[0m\n\u001b[0m\u001b[1;32m     53\u001b[0m         \u001b[0;32melse\u001b[0m\u001b[0;34m:\u001b[0m\u001b[0;34m\u001b[0m\u001b[0;34m\u001b[0m\u001b[0m\n\u001b[1;32m     54\u001b[0m             \u001b[0mself\u001b[0m\u001b[0;34m.\u001b[0m\u001b[0mdigest_cons\u001b[0m \u001b[0;34m=\u001b[0m \u001b[0;32mlambda\u001b[0m \u001b[0md\u001b[0m\u001b[0;34m=\u001b[0m\u001b[0;34mb''\u001b[0m\u001b[0;34m:\u001b[0m \u001b[0mdigestmod\u001b[0m\u001b[0;34m.\u001b[0m\u001b[0mnew\u001b[0m\u001b[0;34m(\u001b[0m\u001b[0md\u001b[0m\u001b[0;34m)\u001b[0m\u001b[0;34m\u001b[0m\u001b[0;34m\u001b[0m\u001b[0m\n",
      "\u001b[0;32m/scr-ssd/miniconda3/envs/filter/lib/python3.6/hashlib.py\u001b[0m in \u001b[0;36m__hash_new\u001b[0;34m(name, data, **kwargs)\u001b[0m\n\u001b[1;32m    148\u001b[0m         \u001b[0;32mreturn\u001b[0m \u001b[0m__get_builtin_constructor\u001b[0m\u001b[0;34m(\u001b[0m\u001b[0mname\u001b[0m\u001b[0;34m)\u001b[0m\u001b[0;34m(\u001b[0m\u001b[0mdata\u001b[0m\u001b[0;34m,\u001b[0m \u001b[0;34m**\u001b[0m\u001b[0mkwargs\u001b[0m\u001b[0;34m)\u001b[0m\u001b[0;34m\u001b[0m\u001b[0;34m\u001b[0m\u001b[0m\n\u001b[1;32m    149\u001b[0m     \u001b[0;32mtry\u001b[0m\u001b[0;34m:\u001b[0m\u001b[0;34m\u001b[0m\u001b[0;34m\u001b[0m\u001b[0m\n\u001b[0;32m--> 150\u001b[0;31m         \u001b[0;32mreturn\u001b[0m \u001b[0m_hashlib\u001b[0m\u001b[0;34m.\u001b[0m\u001b[0mnew\u001b[0m\u001b[0;34m(\u001b[0m\u001b[0mname\u001b[0m\u001b[0;34m,\u001b[0m \u001b[0mdata\u001b[0m\u001b[0;34m)\u001b[0m\u001b[0;34m\u001b[0m\u001b[0;34m\u001b[0m\u001b[0m\n\u001b[0m\u001b[1;32m    151\u001b[0m     \u001b[0;32mexcept\u001b[0m \u001b[0mValueError\u001b[0m\u001b[0;34m:\u001b[0m\u001b[0;34m\u001b[0m\u001b[0;34m\u001b[0m\u001b[0m\n\u001b[1;32m    152\u001b[0m         \u001b[0;31m# If the _hashlib module (OpenSSL) doesn't support the named\u001b[0m\u001b[0;34m\u001b[0m\u001b[0;34m\u001b[0m\u001b[0;34m\u001b[0m\u001b[0m\n",
      "\u001b[0;31mKeyboardInterrupt\u001b[0m: "
     ]
    }
   ],
   "source": [
    "dataloader_measurement = torch.utils.data.DataLoader(\n",
    "    dataset_measurement, batch_size=16, shuffle=True, num_workers=2, drop_last=True)\n",
    "for _ in tqdm_notebook(range(3)):\n",
    "    for batch_idx, batch in enumerate(tqdm_notebook(dataloader_measurement)):\n",
    "        noisy_state, observation, _, state  = fannypack.utils.to_device(batch, buddy._device)\n",
    "#         states = states[:,0,:]\n",
    "        state_update, R = ekf.measurement_model(observation, noisy_state)\n",
    "        loss = F.mse_loss(state_update, state)\n",
    "        buddy.minimize(loss,\n",
    "                       optimizer_name=\"ekf_measurement\",\n",
    "                       checkpoint_interval=500)\n",
    "\n",
    "        with buddy.log_scope(\"ekf_measurement\"):\n",
    "            buddy.log(\"loss\", loss)\n",
    "            buddy.log(\"label_mean\", fannypack.utils.to_numpy(state).mean())\n",
    "            buddy.log(\"label_std\", fannypack.utils.to_numpy(state).std())\n",
    "            buddy.log(\"pred_mean\", fannypack.utils.to_numpy(state_update).mean())\n",
    "            buddy.log(\"pred_std\", fannypack.utils.to_numpy(state_update).std())\n",
    "buddy.save_checkpoint()"
   ]
  },
  {
   "cell_type": "code",
   "execution_count": 9,
   "metadata": {},
   "outputs": [
    {
     "name": "stderr",
     "output_type": "stream",
     "text": [
      "/scr-ssd/miniconda3/envs/filter/lib/python3.6/site-packages/ipykernel_launcher.py:9: TqdmDeprecationWarning: This function will be removed in tqdm==5.0.0\n",
      "Please use `tqdm.notebook.tqdm` instead of `tqdm.tqdm_notebook`\n",
      "  if __name__ == '__main__':\n"
     ]
    },
    {
     "data": {
      "application/vnd.jupyter.widget-view+json": {
       "model_id": "f57bde670c6d4e9f93fceded6708b46c",
       "version_major": 2,
       "version_minor": 0
      },
      "text/plain": [
       "HBox(children=(FloatProgress(value=0.0, max=10.0), HTML(value='')))"
      ]
     },
     "metadata": {},
     "output_type": "display_data"
    },
    {
     "name": "stderr",
     "output_type": "stream",
     "text": [
      "/scr-ssd/miniconda3/envs/filter/lib/python3.6/site-packages/ipykernel_launcher.py:10: TqdmDeprecationWarning: This function will be removed in tqdm==5.0.0\n",
      "Please use `tqdm.notebook.tqdm` instead of `tqdm.tqdm_notebook`\n",
      "  # Remove the CWD from sys.path while we load stuff.\n"
     ]
    },
    {
     "data": {
      "application/vnd.jupyter.widget-view+json": {
       "model_id": "6e56a2f5a8de49c6a06042c827fcbfba",
       "version_major": 2,
       "version_minor": 0
      },
      "text/plain": [
       "HBox(children=(FloatProgress(value=0.0, max=21.0), HTML(value='')))"
      ]
     },
     "metadata": {},
     "output_type": "display_data"
    },
    {
     "name": "stdout",
     "output_type": "stream",
     "text": [
      "\n",
      "Epoch loss: 1.3575385\n"
     ]
    },
    {
     "data": {
      "application/vnd.jupyter.widget-view+json": {
       "model_id": "81efd6d1756c47019dbb3b30181a093e",
       "version_major": 2,
       "version_minor": 0
      },
      "text/plain": [
       "HBox(children=(FloatProgress(value=0.0, max=21.0), HTML(value='')))"
      ]
     },
     "metadata": {},
     "output_type": "display_data"
    },
    {
     "name": "stdout",
     "output_type": "stream",
     "text": [
      "[buddy-ekf_n1000_3] Saved checkpoint to path: checkpoints/ekf_n1000_3-0000000000084700.ckpt\n",
      "\n",
      "Epoch loss: 1.094554\n"
     ]
    },
    {
     "data": {
      "application/vnd.jupyter.widget-view+json": {
       "model_id": "47af34dff168415c880f46d933ff4ec4",
       "version_major": 2,
       "version_minor": 0
      },
      "text/plain": [
       "HBox(children=(FloatProgress(value=0.0, max=21.0), HTML(value='')))"
      ]
     },
     "metadata": {},
     "output_type": "display_data"
    },
    {
     "name": "stdout",
     "output_type": "stream",
     "text": [
      "\n",
      "Epoch loss: 0.8616328\n"
     ]
    },
    {
     "data": {
      "application/vnd.jupyter.widget-view+json": {
       "model_id": "457f17b7f5b34a2a817a64b5d32fbcd9",
       "version_major": 2,
       "version_minor": 0
      },
      "text/plain": [
       "HBox(children=(FloatProgress(value=0.0, max=21.0), HTML(value='')))"
      ]
     },
     "metadata": {},
     "output_type": "display_data"
    },
    {
     "name": "stdout",
     "output_type": "stream",
     "text": [
      "\n",
      "Epoch loss: 0.6897027\n"
     ]
    },
    {
     "data": {
      "application/vnd.jupyter.widget-view+json": {
       "model_id": "bf8799e681a448a1a0967bf88c0beae8",
       "version_major": 2,
       "version_minor": 0
      },
      "text/plain": [
       "HBox(children=(FloatProgress(value=0.0, max=21.0), HTML(value='')))"
      ]
     },
     "metadata": {},
     "output_type": "display_data"
    },
    {
     "name": "stdout",
     "output_type": "stream",
     "text": [
      "\n",
      "Epoch loss: 0.5729569\n"
     ]
    },
    {
     "data": {
      "application/vnd.jupyter.widget-view+json": {
       "model_id": "9680d869528c4102bedc45c261c1318a",
       "version_major": 2,
       "version_minor": 0
      },
      "text/plain": [
       "HBox(children=(FloatProgress(value=0.0, max=21.0), HTML(value='')))"
      ]
     },
     "metadata": {},
     "output_type": "display_data"
    },
    {
     "name": "stdout",
     "output_type": "stream",
     "text": [
      "\n",
      "Epoch loss: 0.4890482\n"
     ]
    },
    {
     "data": {
      "application/vnd.jupyter.widget-view+json": {
       "model_id": "80204066f097465eb03fa851514aaa57",
       "version_major": 2,
       "version_minor": 0
      },
      "text/plain": [
       "HBox(children=(FloatProgress(value=0.0, max=21.0), HTML(value='')))"
      ]
     },
     "metadata": {},
     "output_type": "display_data"
    },
    {
     "name": "stdout",
     "output_type": "stream",
     "text": [
      "[buddy-ekf_n1000_3] Saved checkpoint to path: checkpoints/ekf_n1000_3-0000000000084800.ckpt\n",
      "\n",
      "Epoch loss: 0.42679566\n"
     ]
    },
    {
     "data": {
      "application/vnd.jupyter.widget-view+json": {
       "model_id": "808dbb82c67e4ec7900daab8b0d9e79b",
       "version_major": 2,
       "version_minor": 0
      },
      "text/plain": [
       "HBox(children=(FloatProgress(value=0.0, max=21.0), HTML(value='')))"
      ]
     },
     "metadata": {},
     "output_type": "display_data"
    },
    {
     "name": "stdout",
     "output_type": "stream",
     "text": [
      "\n",
      "Epoch loss: 0.3791839\n"
     ]
    },
    {
     "data": {
      "application/vnd.jupyter.widget-view+json": {
       "model_id": "f95f8d16122e4dd49ab90e58a9bdc68f",
       "version_major": 2,
       "version_minor": 0
      },
      "text/plain": [
       "HBox(children=(FloatProgress(value=0.0, max=21.0), HTML(value='')))"
      ]
     },
     "metadata": {},
     "output_type": "display_data"
    },
    {
     "name": "stdout",
     "output_type": "stream",
     "text": [
      "\n",
      "Epoch loss: 0.34170666\n"
     ]
    },
    {
     "data": {
      "application/vnd.jupyter.widget-view+json": {
       "model_id": "9521016d878b4795b158fb286c7973f8",
       "version_major": 2,
       "version_minor": 0
      },
      "text/plain": [
       "HBox(children=(FloatProgress(value=0.0, max=21.0), HTML(value='')))"
      ]
     },
     "metadata": {},
     "output_type": "display_data"
    },
    {
     "name": "stdout",
     "output_type": "stream",
     "text": [
      "\n",
      "Epoch loss: 0.31136242\n",
      "\n",
      "[buddy-ekf_n1000_3] Saved checkpoint to path: checkpoints/ekf_n1000_3-0000000000084872.ckpt\n"
     ]
    }
   ],
   "source": [
    "# training dynamics model \n",
    "\n",
    "dataloader_dynamics = torch.utils.data.DataLoader(\n",
    "    dynamics_recurrent_trainset, batch_size=32, shuffle=True, num_workers=2, drop_last=True)\n",
    "\n",
    "log_interval=10\n",
    "epoch_losses = []\n",
    "\n",
    "for _ in tqdm_notebook(range(10)):\n",
    "    for batch_idx, batch in enumerate(tqdm_notebook(dataloader_dynamics)):\n",
    "        batch_gpu = utils.to_device(batch, buddy._device)\n",
    "        batch_states, batch_obs, batch_controls = batch_gpu\n",
    "\n",
    "        N, timesteps, control_dim = batch_controls.shape\n",
    "        N, timesteps, state_dim = batch_states.shape\n",
    "        assert batch_controls.shape == (N, timesteps, control_dim)\n",
    "        \n",
    "        prev_states = batch_states[:, 0, :]\n",
    "    \n",
    "        losses = []\n",
    "        magnitude_losses = []\n",
    "        direction_losses = []\n",
    "        \n",
    "        # Compute some state deltas for debugging\n",
    "        label_deltas = np.mean(utils.to_numpy(\n",
    "            batch_states[:, 1:, :] - batch_states[:, :-1, :]\n",
    "        ) ** 2, axis=(0, 2))\n",
    "        assert label_deltas.shape == (timesteps - 1, )\n",
    "        pred_deltas = []\n",
    "        \n",
    "        for t in range(1, timesteps):\n",
    "            controls = batch_controls[:,t, :]\n",
    "            new_states = ekf.dynamics_model(\n",
    "                prev_states,\n",
    "                controls,\n",
    "                noisy=False, \n",
    "            )\n",
    "            \n",
    "            pred_delta = prev_states - new_states \n",
    "            label_delta = batch_states[:, t-1, :] - batch_states[:, t, :]\n",
    "            \n",
    "        \n",
    "            #todo: maybe switch back to l2\n",
    "            timestep_loss = F.l1_loss(new_states, batch_states[:, t, :])\n",
    "            \n",
    "            losses.append(timestep_loss)\n",
    "            \n",
    "            pred_deltas.append(np.mean(\n",
    "                utils.to_numpy(new_states - prev_states) ** 2\n",
    "            ))\n",
    "            prev_states = new_states\n",
    "        \n",
    "        pred_deltas = np.array(pred_deltas)\n",
    "        assert pred_deltas.shape == (timesteps - 1, )\n",
    "\n",
    "        loss = torch.mean(torch.stack(losses))\n",
    "        epoch_losses.append(loss)\n",
    "        buddy.minimize(\n",
    "            loss,\n",
    "            optimizer_name=\"ekf_dynamics\",\n",
    "            checkpoint_interval=100)\n",
    "\n",
    "        if buddy.optimizer_steps % log_interval == 0:\n",
    "            with buddy.log_scope(\"dynamics_recurrent\"):\n",
    "                buddy.log(\"Training loss\", loss)\n",
    "\n",
    "                buddy.log(\"Label delta mean\", label_deltas.mean())\n",
    "                buddy.log(\"Label delta std\", label_deltas.std())\n",
    "\n",
    "                buddy.log(\"Pred delta mean\", pred_deltas.mean())\n",
    "                buddy.log(\"Pred delta std\", pred_deltas.std())\n",
    "\n",
    "                if magnitude_losses:\n",
    "                    buddy.log(\"Magnitude loss\",\n",
    "                              torch.mean(torch.tensor(magnitude_losses)))\n",
    "                if direction_losses:\n",
    "                    buddy.log(\"Direction loss\",\n",
    "                              torch.mean(torch.tensor(direction_losses)))\n",
    "\n",
    "    print(\"Epoch loss:\", np.mean(utils.to_numpy(epoch_losses)))\n",
    "buddy.save_checkpoint()"
   ]
  },
  {
   "cell_type": "code",
   "execution_count": null,
   "metadata": {},
   "outputs": [],
   "source": []
  },
  {
   "cell_type": "code",
   "execution_count": 10,
   "metadata": {},
   "outputs": [
    {
     "name": "stdout",
     "output_type": "stream",
     "text": [
      "running\n"
     ]
    },
    {
     "name": "stderr",
     "output_type": "stream",
     "text": [
      "/scr-ssd/miniconda3/envs/filter/lib/python3.6/site-packages/ipykernel_launcher.py:11: TqdmDeprecationWarning: This function will be removed in tqdm==5.0.0\n",
      "Please use `tqdm.notebook.tqdm` instead of `tqdm.tqdm_notebook`\n",
      "  # This is added back by InteractiveShellApp.init_path()\n"
     ]
    },
    {
     "data": {
      "application/vnd.jupyter.widget-view+json": {
       "model_id": "d600e59c588c463baa84272feb5e0b07",
       "version_major": 2,
       "version_minor": 0
      },
      "text/plain": [
       "HBox(children=(FloatProgress(value=0.0), HTML(value='')))"
      ]
     },
     "metadata": {},
     "output_type": "display_data"
    },
    {
     "name": "stderr",
     "output_type": "stream",
     "text": [
      "/scr-ssd/miniconda3/envs/filter/lib/python3.6/site-packages/ipykernel_launcher.py:12: TqdmDeprecationWarning: This function will be removed in tqdm==5.0.0\n",
      "Please use `tqdm.notebook.tqdm` instead of `tqdm.tqdm_notebook`\n",
      "  if sys.path[0] == '':\n"
     ]
    },
    {
     "data": {
      "application/vnd.jupyter.widget-view+json": {
       "model_id": "74184ae66522455188a98e5b33cadea8",
       "version_major": 2,
       "version_minor": 0
      },
      "text/plain": [
       "HBox(children=(FloatProgress(value=0.0, max=468.0), HTML(value='')))"
      ]
     },
     "metadata": {},
     "output_type": "display_data"
    },
    {
     "name": "stdout",
     "output_type": "stream",
     "text": [
      "\n",
      "\n"
     ]
    },
    {
     "ename": "RuntimeError",
     "evalue": "size mismatch, m1: [32 x 512], m2: [384 x 256] at /pytorch/aten/src/THC/generic/THCTensorMathBlas.cu:290",
     "output_type": "error",
     "traceback": [
      "\u001b[0;31m---------------------------------------------------------------------------\u001b[0m",
      "\u001b[0;31mRuntimeError\u001b[0m                              Traceback (most recent call last)",
      "\u001b[0;32m<ipython-input-10-e0d38a9ee49b>\u001b[0m in \u001b[0;36m<module>\u001b[0;34m\u001b[0m\n\u001b[1;32m     35\u001b[0m                 \u001b[0mutils\u001b[0m\u001b[0;34m.\u001b[0m\u001b[0mDictIterator\u001b[0m\u001b[0;34m(\u001b[0m\u001b[0mbatch_obs\u001b[0m\u001b[0;34m)\u001b[0m\u001b[0;34m[\u001b[0m\u001b[0;34m:\u001b[0m\u001b[0;34m,\u001b[0m \u001b[0mt\u001b[0m\u001b[0;34m,\u001b[0m \u001b[0;34m:\u001b[0m\u001b[0;34m]\u001b[0m\u001b[0;34m,\u001b[0m\u001b[0;34m\u001b[0m\u001b[0;34m\u001b[0m\u001b[0m\n\u001b[1;32m     36\u001b[0m                 \u001b[0mbatch_controls\u001b[0m\u001b[0;34m[\u001b[0m\u001b[0;34m:\u001b[0m\u001b[0;34m,\u001b[0m \u001b[0mt\u001b[0m\u001b[0;34m,\u001b[0m \u001b[0;34m:\u001b[0m\u001b[0;34m]\u001b[0m\u001b[0;34m,\u001b[0m\u001b[0;34m\u001b[0m\u001b[0;34m\u001b[0m\u001b[0m\n\u001b[0;32m---> 37\u001b[0;31m                 \u001b[0mnoisy_dynamics\u001b[0m\u001b[0;34m=\u001b[0m\u001b[0;32mTrue\u001b[0m\u001b[0;34m\u001b[0m\u001b[0;34m\u001b[0m\u001b[0m\n\u001b[0m\u001b[1;32m     38\u001b[0m             )\n\u001b[1;32m     39\u001b[0m \u001b[0;34m\u001b[0m\u001b[0m\n",
      "\u001b[0;32m/scr-ssd/filter/multimodal_dpf2/lib/ekf.py\u001b[0m in \u001b[0;36mforward\u001b[0;34m(self, states_prev, states_sigma_prev, observations, controls, noisy_dynamics)\u001b[0m\n\u001b[1;32m     77\u001b[0m \u001b[0;34m\u001b[0m\u001b[0m\n\u001b[1;32m     78\u001b[0m         \u001b[0;31m# Measurement update step!\u001b[0m\u001b[0;34m\u001b[0m\u001b[0;34m\u001b[0m\u001b[0;34m\u001b[0m\u001b[0m\n\u001b[0;32m---> 79\u001b[0;31m         \u001b[0mz\u001b[0m\u001b[0;34m,\u001b[0m \u001b[0mR\u001b[0m \u001b[0;34m=\u001b[0m \u001b[0mself\u001b[0m\u001b[0;34m.\u001b[0m\u001b[0mmeasurement_model\u001b[0m\u001b[0;34m(\u001b[0m\u001b[0mobservations\u001b[0m\u001b[0;34m,\u001b[0m \u001b[0mstates_pred\u001b[0m\u001b[0;34m)\u001b[0m\u001b[0;34m\u001b[0m\u001b[0;34m\u001b[0m\u001b[0m\n\u001b[0m\u001b[1;32m     80\u001b[0m \u001b[0;34m\u001b[0m\u001b[0m\n\u001b[1;32m     81\u001b[0m         \u001b[0;31m#Kalman Gain\u001b[0m\u001b[0;34m\u001b[0m\u001b[0;34m\u001b[0m\u001b[0;34m\u001b[0m\u001b[0m\n",
      "\u001b[0;32m/scr-ssd/miniconda3/envs/filter/lib/python3.6/site-packages/torch/nn/modules/module.py\u001b[0m in \u001b[0;36m__call__\u001b[0;34m(self, *input, **kwargs)\u001b[0m\n\u001b[1;32m    530\u001b[0m             \u001b[0mresult\u001b[0m \u001b[0;34m=\u001b[0m \u001b[0mself\u001b[0m\u001b[0;34m.\u001b[0m\u001b[0m_slow_forward\u001b[0m\u001b[0;34m(\u001b[0m\u001b[0;34m*\u001b[0m\u001b[0minput\u001b[0m\u001b[0;34m,\u001b[0m \u001b[0;34m**\u001b[0m\u001b[0mkwargs\u001b[0m\u001b[0;34m)\u001b[0m\u001b[0;34m\u001b[0m\u001b[0;34m\u001b[0m\u001b[0m\n\u001b[1;32m    531\u001b[0m         \u001b[0;32melse\u001b[0m\u001b[0;34m:\u001b[0m\u001b[0;34m\u001b[0m\u001b[0;34m\u001b[0m\u001b[0m\n\u001b[0;32m--> 532\u001b[0;31m             \u001b[0mresult\u001b[0m \u001b[0;34m=\u001b[0m \u001b[0mself\u001b[0m\u001b[0;34m.\u001b[0m\u001b[0mforward\u001b[0m\u001b[0;34m(\u001b[0m\u001b[0;34m*\u001b[0m\u001b[0minput\u001b[0m\u001b[0;34m,\u001b[0m \u001b[0;34m**\u001b[0m\u001b[0mkwargs\u001b[0m\u001b[0;34m)\u001b[0m\u001b[0;34m\u001b[0m\u001b[0;34m\u001b[0m\u001b[0m\n\u001b[0m\u001b[1;32m    533\u001b[0m         \u001b[0;32mfor\u001b[0m \u001b[0mhook\u001b[0m \u001b[0;32min\u001b[0m \u001b[0mself\u001b[0m\u001b[0;34m.\u001b[0m\u001b[0m_forward_hooks\u001b[0m\u001b[0;34m.\u001b[0m\u001b[0mvalues\u001b[0m\u001b[0;34m(\u001b[0m\u001b[0;34m)\u001b[0m\u001b[0;34m:\u001b[0m\u001b[0;34m\u001b[0m\u001b[0;34m\u001b[0m\u001b[0m\n\u001b[1;32m    534\u001b[0m             \u001b[0mhook_result\u001b[0m \u001b[0;34m=\u001b[0m \u001b[0mhook\u001b[0m\u001b[0;34m(\u001b[0m\u001b[0mself\u001b[0m\u001b[0;34m,\u001b[0m \u001b[0minput\u001b[0m\u001b[0;34m,\u001b[0m \u001b[0mresult\u001b[0m\u001b[0;34m)\u001b[0m\u001b[0;34m\u001b[0m\u001b[0;34m\u001b[0m\u001b[0m\n",
      "\u001b[0;32m/scr-ssd/filter/multimodal_dpf2/lib/panda_models.py\u001b[0m in \u001b[0;36mforward\u001b[0;34m(self, observations, states)\u001b[0m\n\u001b[1;32m    405\u001b[0m         \u001b[0;32massert\u001b[0m \u001b[0mmerged_features\u001b[0m\u001b[0;34m.\u001b[0m\u001b[0mshape\u001b[0m \u001b[0;34m==\u001b[0m \u001b[0;34m(\u001b[0m\u001b[0mN\u001b[0m\u001b[0;34m,\u001b[0m \u001b[0mself\u001b[0m\u001b[0;34m.\u001b[0m\u001b[0munits\u001b[0m \u001b[0;34m*\u001b[0m \u001b[0;36m4\u001b[0m\u001b[0;34m)\u001b[0m\u001b[0;34m\u001b[0m\u001b[0;34m\u001b[0m\u001b[0m\n\u001b[1;32m    406\u001b[0m \u001b[0;34m\u001b[0m\u001b[0m\n\u001b[0;32m--> 407\u001b[0;31m         \u001b[0mshared_features\u001b[0m \u001b[0;34m=\u001b[0m \u001b[0mself\u001b[0m\u001b[0;34m.\u001b[0m\u001b[0mshared_layers\u001b[0m\u001b[0;34m(\u001b[0m\u001b[0mmerged_features\u001b[0m\u001b[0;34m)\u001b[0m\u001b[0;34m\u001b[0m\u001b[0;34m\u001b[0m\u001b[0m\n\u001b[0m\u001b[1;32m    408\u001b[0m         \u001b[0;32massert\u001b[0m \u001b[0mshared_features\u001b[0m\u001b[0;34m.\u001b[0m\u001b[0mshape\u001b[0m \u001b[0;34m==\u001b[0m \u001b[0;34m(\u001b[0m\u001b[0mN\u001b[0m\u001b[0;34m,\u001b[0m \u001b[0mself\u001b[0m\u001b[0;34m.\u001b[0m\u001b[0munits\u001b[0m \u001b[0;34m*\u001b[0m \u001b[0;36m2\u001b[0m\u001b[0;34m)\u001b[0m\u001b[0;34m\u001b[0m\u001b[0;34m\u001b[0m\u001b[0m\n\u001b[1;32m    409\u001b[0m \u001b[0;34m\u001b[0m\u001b[0m\n",
      "\u001b[0;32m/scr-ssd/miniconda3/envs/filter/lib/python3.6/site-packages/torch/nn/modules/module.py\u001b[0m in \u001b[0;36m__call__\u001b[0;34m(self, *input, **kwargs)\u001b[0m\n\u001b[1;32m    530\u001b[0m             \u001b[0mresult\u001b[0m \u001b[0;34m=\u001b[0m \u001b[0mself\u001b[0m\u001b[0;34m.\u001b[0m\u001b[0m_slow_forward\u001b[0m\u001b[0;34m(\u001b[0m\u001b[0;34m*\u001b[0m\u001b[0minput\u001b[0m\u001b[0;34m,\u001b[0m \u001b[0;34m**\u001b[0m\u001b[0mkwargs\u001b[0m\u001b[0;34m)\u001b[0m\u001b[0;34m\u001b[0m\u001b[0;34m\u001b[0m\u001b[0m\n\u001b[1;32m    531\u001b[0m         \u001b[0;32melse\u001b[0m\u001b[0;34m:\u001b[0m\u001b[0;34m\u001b[0m\u001b[0;34m\u001b[0m\u001b[0m\n\u001b[0;32m--> 532\u001b[0;31m             \u001b[0mresult\u001b[0m \u001b[0;34m=\u001b[0m \u001b[0mself\u001b[0m\u001b[0;34m.\u001b[0m\u001b[0mforward\u001b[0m\u001b[0;34m(\u001b[0m\u001b[0;34m*\u001b[0m\u001b[0minput\u001b[0m\u001b[0;34m,\u001b[0m \u001b[0;34m**\u001b[0m\u001b[0mkwargs\u001b[0m\u001b[0;34m)\u001b[0m\u001b[0;34m\u001b[0m\u001b[0;34m\u001b[0m\u001b[0m\n\u001b[0m\u001b[1;32m    533\u001b[0m         \u001b[0;32mfor\u001b[0m \u001b[0mhook\u001b[0m \u001b[0;32min\u001b[0m \u001b[0mself\u001b[0m\u001b[0;34m.\u001b[0m\u001b[0m_forward_hooks\u001b[0m\u001b[0;34m.\u001b[0m\u001b[0mvalues\u001b[0m\u001b[0;34m(\u001b[0m\u001b[0;34m)\u001b[0m\u001b[0;34m:\u001b[0m\u001b[0;34m\u001b[0m\u001b[0;34m\u001b[0m\u001b[0m\n\u001b[1;32m    534\u001b[0m             \u001b[0mhook_result\u001b[0m \u001b[0;34m=\u001b[0m \u001b[0mhook\u001b[0m\u001b[0;34m(\u001b[0m\u001b[0mself\u001b[0m\u001b[0;34m,\u001b[0m \u001b[0minput\u001b[0m\u001b[0;34m,\u001b[0m \u001b[0mresult\u001b[0m\u001b[0;34m)\u001b[0m\u001b[0;34m\u001b[0m\u001b[0;34m\u001b[0m\u001b[0m\n",
      "\u001b[0;32m/scr-ssd/miniconda3/envs/filter/lib/python3.6/site-packages/torch/nn/modules/container.py\u001b[0m in \u001b[0;36mforward\u001b[0;34m(self, input)\u001b[0m\n\u001b[1;32m     98\u001b[0m     \u001b[0;32mdef\u001b[0m \u001b[0mforward\u001b[0m\u001b[0;34m(\u001b[0m\u001b[0mself\u001b[0m\u001b[0;34m,\u001b[0m \u001b[0minput\u001b[0m\u001b[0;34m)\u001b[0m\u001b[0;34m:\u001b[0m\u001b[0;34m\u001b[0m\u001b[0;34m\u001b[0m\u001b[0m\n\u001b[1;32m     99\u001b[0m         \u001b[0;32mfor\u001b[0m \u001b[0mmodule\u001b[0m \u001b[0;32min\u001b[0m \u001b[0mself\u001b[0m\u001b[0;34m:\u001b[0m\u001b[0;34m\u001b[0m\u001b[0;34m\u001b[0m\u001b[0m\n\u001b[0;32m--> 100\u001b[0;31m             \u001b[0minput\u001b[0m \u001b[0;34m=\u001b[0m \u001b[0mmodule\u001b[0m\u001b[0;34m(\u001b[0m\u001b[0minput\u001b[0m\u001b[0;34m)\u001b[0m\u001b[0;34m\u001b[0m\u001b[0;34m\u001b[0m\u001b[0m\n\u001b[0m\u001b[1;32m    101\u001b[0m         \u001b[0;32mreturn\u001b[0m \u001b[0minput\u001b[0m\u001b[0;34m\u001b[0m\u001b[0;34m\u001b[0m\u001b[0m\n\u001b[1;32m    102\u001b[0m \u001b[0;34m\u001b[0m\u001b[0m\n",
      "\u001b[0;32m/scr-ssd/miniconda3/envs/filter/lib/python3.6/site-packages/torch/nn/modules/module.py\u001b[0m in \u001b[0;36m__call__\u001b[0;34m(self, *input, **kwargs)\u001b[0m\n\u001b[1;32m    530\u001b[0m             \u001b[0mresult\u001b[0m \u001b[0;34m=\u001b[0m \u001b[0mself\u001b[0m\u001b[0;34m.\u001b[0m\u001b[0m_slow_forward\u001b[0m\u001b[0;34m(\u001b[0m\u001b[0;34m*\u001b[0m\u001b[0minput\u001b[0m\u001b[0;34m,\u001b[0m \u001b[0;34m**\u001b[0m\u001b[0mkwargs\u001b[0m\u001b[0;34m)\u001b[0m\u001b[0;34m\u001b[0m\u001b[0;34m\u001b[0m\u001b[0m\n\u001b[1;32m    531\u001b[0m         \u001b[0;32melse\u001b[0m\u001b[0;34m:\u001b[0m\u001b[0;34m\u001b[0m\u001b[0;34m\u001b[0m\u001b[0m\n\u001b[0;32m--> 532\u001b[0;31m             \u001b[0mresult\u001b[0m \u001b[0;34m=\u001b[0m \u001b[0mself\u001b[0m\u001b[0;34m.\u001b[0m\u001b[0mforward\u001b[0m\u001b[0;34m(\u001b[0m\u001b[0;34m*\u001b[0m\u001b[0minput\u001b[0m\u001b[0;34m,\u001b[0m \u001b[0;34m**\u001b[0m\u001b[0mkwargs\u001b[0m\u001b[0;34m)\u001b[0m\u001b[0;34m\u001b[0m\u001b[0;34m\u001b[0m\u001b[0m\n\u001b[0m\u001b[1;32m    533\u001b[0m         \u001b[0;32mfor\u001b[0m \u001b[0mhook\u001b[0m \u001b[0;32min\u001b[0m \u001b[0mself\u001b[0m\u001b[0;34m.\u001b[0m\u001b[0m_forward_hooks\u001b[0m\u001b[0;34m.\u001b[0m\u001b[0mvalues\u001b[0m\u001b[0;34m(\u001b[0m\u001b[0;34m)\u001b[0m\u001b[0;34m:\u001b[0m\u001b[0;34m\u001b[0m\u001b[0;34m\u001b[0m\u001b[0m\n\u001b[1;32m    534\u001b[0m             \u001b[0mhook_result\u001b[0m \u001b[0;34m=\u001b[0m \u001b[0mhook\u001b[0m\u001b[0;34m(\u001b[0m\u001b[0mself\u001b[0m\u001b[0;34m,\u001b[0m \u001b[0minput\u001b[0m\u001b[0;34m,\u001b[0m \u001b[0mresult\u001b[0m\u001b[0;34m)\u001b[0m\u001b[0;34m\u001b[0m\u001b[0;34m\u001b[0m\u001b[0m\n",
      "\u001b[0;32m/scr-ssd/miniconda3/envs/filter/lib/python3.6/site-packages/torch/nn/modules/linear.py\u001b[0m in \u001b[0;36mforward\u001b[0;34m(self, input)\u001b[0m\n\u001b[1;32m     85\u001b[0m \u001b[0;34m\u001b[0m\u001b[0m\n\u001b[1;32m     86\u001b[0m     \u001b[0;32mdef\u001b[0m \u001b[0mforward\u001b[0m\u001b[0;34m(\u001b[0m\u001b[0mself\u001b[0m\u001b[0;34m,\u001b[0m \u001b[0minput\u001b[0m\u001b[0;34m)\u001b[0m\u001b[0;34m:\u001b[0m\u001b[0;34m\u001b[0m\u001b[0;34m\u001b[0m\u001b[0m\n\u001b[0;32m---> 87\u001b[0;31m         \u001b[0;32mreturn\u001b[0m \u001b[0mF\u001b[0m\u001b[0;34m.\u001b[0m\u001b[0mlinear\u001b[0m\u001b[0;34m(\u001b[0m\u001b[0minput\u001b[0m\u001b[0;34m,\u001b[0m \u001b[0mself\u001b[0m\u001b[0;34m.\u001b[0m\u001b[0mweight\u001b[0m\u001b[0;34m,\u001b[0m \u001b[0mself\u001b[0m\u001b[0;34m.\u001b[0m\u001b[0mbias\u001b[0m\u001b[0;34m)\u001b[0m\u001b[0;34m\u001b[0m\u001b[0;34m\u001b[0m\u001b[0m\n\u001b[0m\u001b[1;32m     88\u001b[0m \u001b[0;34m\u001b[0m\u001b[0m\n\u001b[1;32m     89\u001b[0m     \u001b[0;32mdef\u001b[0m \u001b[0mextra_repr\u001b[0m\u001b[0;34m(\u001b[0m\u001b[0mself\u001b[0m\u001b[0;34m)\u001b[0m\u001b[0;34m:\u001b[0m\u001b[0;34m\u001b[0m\u001b[0;34m\u001b[0m\u001b[0m\n",
      "\u001b[0;32m/scr-ssd/miniconda3/envs/filter/lib/python3.6/site-packages/torch/nn/functional.py\u001b[0m in \u001b[0;36mlinear\u001b[0;34m(input, weight, bias)\u001b[0m\n\u001b[1;32m   1368\u001b[0m     \u001b[0;32mif\u001b[0m \u001b[0minput\u001b[0m\u001b[0;34m.\u001b[0m\u001b[0mdim\u001b[0m\u001b[0;34m(\u001b[0m\u001b[0;34m)\u001b[0m \u001b[0;34m==\u001b[0m \u001b[0;36m2\u001b[0m \u001b[0;32mand\u001b[0m \u001b[0mbias\u001b[0m \u001b[0;32mis\u001b[0m \u001b[0;32mnot\u001b[0m \u001b[0;32mNone\u001b[0m\u001b[0;34m:\u001b[0m\u001b[0;34m\u001b[0m\u001b[0;34m\u001b[0m\u001b[0m\n\u001b[1;32m   1369\u001b[0m         \u001b[0;31m# fused op is marginally faster\u001b[0m\u001b[0;34m\u001b[0m\u001b[0;34m\u001b[0m\u001b[0;34m\u001b[0m\u001b[0m\n\u001b[0;32m-> 1370\u001b[0;31m         \u001b[0mret\u001b[0m \u001b[0;34m=\u001b[0m \u001b[0mtorch\u001b[0m\u001b[0;34m.\u001b[0m\u001b[0maddmm\u001b[0m\u001b[0;34m(\u001b[0m\u001b[0mbias\u001b[0m\u001b[0;34m,\u001b[0m \u001b[0minput\u001b[0m\u001b[0;34m,\u001b[0m \u001b[0mweight\u001b[0m\u001b[0;34m.\u001b[0m\u001b[0mt\u001b[0m\u001b[0;34m(\u001b[0m\u001b[0;34m)\u001b[0m\u001b[0;34m)\u001b[0m\u001b[0;34m\u001b[0m\u001b[0;34m\u001b[0m\u001b[0m\n\u001b[0m\u001b[1;32m   1371\u001b[0m     \u001b[0;32melse\u001b[0m\u001b[0;34m:\u001b[0m\u001b[0;34m\u001b[0m\u001b[0;34m\u001b[0m\u001b[0m\n\u001b[1;32m   1372\u001b[0m         \u001b[0moutput\u001b[0m \u001b[0;34m=\u001b[0m \u001b[0minput\u001b[0m\u001b[0;34m.\u001b[0m\u001b[0mmatmul\u001b[0m\u001b[0;34m(\u001b[0m\u001b[0mweight\u001b[0m\u001b[0;34m.\u001b[0m\u001b[0mt\u001b[0m\u001b[0;34m(\u001b[0m\u001b[0;34m)\u001b[0m\u001b[0;34m)\u001b[0m\u001b[0;34m\u001b[0m\u001b[0;34m\u001b[0m\u001b[0m\n",
      "\u001b[0;31mRuntimeError\u001b[0m: size mismatch, m1: [32 x 512], m2: [384 x 256] at /pytorch/aten/src/THC/generic/THCTensorMathBlas.cu:290"
     ]
    }
   ],
   "source": [
    "# training e2e model \n",
    "\n",
    "log_interval = 10\n",
    "dataloader_full = torch.utils.data.DataLoader(\n",
    "    e2e_trainset, batch_size=32, shuffle=True, num_workers=2, drop_last=True)\n",
    "# for _ in tqdm_notebook(range(10)):\n",
    "\n",
    "\n",
    "\n",
    "print(\"running\")\n",
    "for _ in tqdm_notebook(range(100)):\n",
    "    for batch_idx, batch in enumerate(tqdm_notebook(dataloader_full)):\n",
    "#     for batch_idx, batch in enumerate((dataloader_full)):\n",
    "        # Transfer to GPU and pull out batch data\n",
    "        batch_gpu = utils.to_device(batch, buddy._device)\n",
    "        _, batch_states, batch_obs, batch_controls = batch_gpu\n",
    "        # N = batch size, M = particle count\n",
    "        N, timesteps, control_dim = batch_controls.shape\n",
    "        N, timesteps, state_dim = batch_states.shape\n",
    "        assert batch_controls.shape == (N, timesteps, control_dim)\n",
    "        \n",
    "        state = batch_states[:, 0, :]\n",
    "        state_sigma = torch.eye(state.shape[-1], device=buddy._device)*0.001\n",
    "        state_sigma = state_sigma.unsqueeze(0).repeat(N, 1, 1)\n",
    "            \n",
    "        # Accumulate losses from each timestep\n",
    "        losses = []\n",
    "        for t in range(1, timesteps-1):\n",
    "            prev_state = state\n",
    "            prev_state_sigma = state_sigma\n",
    "\n",
    "            state, state_sigma = ekf.forward(\n",
    "                prev_state,\n",
    "                prev_state_sigma,\n",
    "                utils.DictIterator(batch_obs)[:, t, :],\n",
    "                batch_controls[:, t, :],\n",
    "                noisy_dynamics=True\n",
    "            )\n",
    "            \n",
    "            assert state.shape == batch_states[:, t, :].shape\n",
    "            loss = torch.mean((state - batch_states[:, t, :]) ** 2)\n",
    "            losses.append(loss)\n",
    "        buddy.minimize(\n",
    "            torch.mean(torch.stack(losses)),\n",
    "            optimizer_name=\"ekf\",\n",
    "            checkpoint_interval=500)\n",
    "\n",
    "        if buddy.optimizer_steps % log_interval == 0:\n",
    "            with buddy.log_scope(\"ekf\"):\n",
    "                buddy.log(\"Training loss\", loss)\n",
    "\n",
    "    print(\"Epoch loss:\", np.mean(utils.to_numpy(losses)))\n",
    "buddy.save_checkpoint()\n",
    "\n"
   ]
  },
  {
   "cell_type": "code",
   "execution_count": null,
   "metadata": {},
   "outputs": [],
   "source": []
  },
  {
   "cell_type": "code",
   "execution_count": null,
   "metadata": {},
   "outputs": [],
   "source": []
  },
  {
   "cell_type": "code",
   "execution_count": null,
   "metadata": {},
   "outputs": [],
   "source": []
  },
  {
   "cell_type": "code",
   "execution_count": null,
   "metadata": {},
   "outputs": [],
   "source": []
  }
 ],
 "metadata": {
  "kernelspec": {
   "display_name": "Python 3",
   "language": "python",
   "name": "python3"
  },
  "language_info": {
   "codemirror_mode": {
    "name": "ipython",
    "version": 3
   },
   "file_extension": ".py",
   "mimetype": "text/x-python",
   "name": "python",
   "nbconvert_exporter": "python",
   "pygments_lexer": "ipython3",
   "version": "3.6.10"
  }
 },
 "nbformat": 4,
 "nbformat_minor": 4
}
