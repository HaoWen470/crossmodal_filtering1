{
 "cells": [
  {
   "cell_type": "code",
   "execution_count": 2,
   "metadata": {},
   "outputs": [],
   "source": [
    "import torch\n",
    "import numpy as np\n",
    "import torch.nn as nn\n"
   ]
  },
  {
   "cell_type": "code",
   "execution_count": 71,
   "metadata": {},
   "outputs": [],
   "source": [
    "def get_jacobian(net, x, noutputs):\n",
    "    x = x.squeeze()\n",
    "    n = x.size()[0]\n",
    "    x = x.repeat(noutputs, 1)\n",
    "    x.requires_grad_(True)\n",
    "    print(x.shape)\n",
    "    y = net(x)\n",
    "    mask = torch.Tensor((1, 1, 1, 1, 1, 1))\n",
    "    y[0].backward(torch.diag(mask), create_graph=True)\n",
    "    \n",
    "    return x.grad"
   ]
  },
  {
   "cell_type": "code",
   "execution_count": 61,
   "metadata": {},
   "outputs": [],
   "source": [
    "class Net(nn.Module):\n",
    "    def __init__(self, input_size, hidden_size, output_size):\n",
    "        super(Net, self).__init__()\n",
    "\n",
    "        self.layer1 = nn.Linear(input_size, hidden_size, bias=False)\n",
    "        nn.init.xavier_uniform(self.layer1.weight.data)\n",
    "        self.input_size = input_size\n",
    "\n",
    "    def forward(self, input, other_input):\n",
    "        x = self.layer1(input)\n",
    "        \n",
    "        x1 = self.layer1(x[:, :self.input_size])\n",
    "        x2 = self.layer1(x[:, self.input_size:])\n",
    "        \n",
    "        return x1, x2"
   ]
  },
  {
   "cell_type": "code",
   "execution_count": 62,
   "metadata": {},
   "outputs": [
    {
     "name": "stderr",
     "output_type": "stream",
     "text": [
      "/Users/michelle/miniconda3/envs/guapo/lib/python3.6/site-packages/ipykernel_launcher.py:6: UserWarning: nn.init.xavier_uniform is now deprecated in favor of nn.init.xavier_uniform_.\n",
      "  \n"
     ]
    }
   ],
   "source": [
    "net = Net(3, 6, 3)"
   ]
  },
  {
   "cell_type": "code",
   "execution_count": 66,
   "metadata": {},
   "outputs": [
    {
     "name": "stdout",
     "output_type": "stream",
     "text": [
      "tensor([[ 0.6572,  0.3552,  0.0864, -0.3099, -0.1776, -0.1809],\n",
      "        [ 0.3552,  1.1654,  0.2338, -0.1073,  0.0512, -0.4135],\n",
      "        [ 0.0864,  0.2338,  0.1620, -0.0108,  0.1773,  0.1525],\n",
      "        [-0.3099, -0.1073, -0.0108,  0.1528,  0.1205,  0.1038],\n",
      "        [-0.1776,  0.0512,  0.1773,  0.1205,  0.3296,  0.3576],\n",
      "        [-0.1809, -0.4135,  0.1525,  0.1038,  0.3576,  0.6422]])\n"
     ]
    }
   ],
   "source": [
    "x = np.array((1, 1, 1))\n",
    "x = np.expand_dims(x, 0)\n",
    "x = torch.from_numpy(x).float()\n",
    "\n",
    "print(net.layer1.weight.data@ net.layer1.weight.data.transpose(-1,-2))"
   ]
  },
  {
   "cell_type": "code",
   "execution_count": 67,
   "metadata": {},
   "outputs": [
    {
     "data": {
      "text/plain": [
       "(tensor([[ 0.4059,  1.1081,  0.2779, -0.1279,  0.1054, -0.2891]],\n",
       "        grad_fn=<MmBackward>),\n",
       " tensor([[-0.0388,  0.8516,  0.4464,  0.1178,  0.5693,  0.3144]],\n",
       "        grad_fn=<MmBackward>))"
      ]
     },
     "execution_count": 67,
     "metadata": {},
     "output_type": "execute_result"
    }
   ],
   "source": [
    "net(x)"
   ]
  },
  {
   "cell_type": "code",
   "execution_count": 72,
   "metadata": {},
   "outputs": [
    {
     "name": "stdout",
     "output_type": "stream",
     "text": [
      "torch.Size([6, 3])\n",
      "tensor([[ 0.0398, -0.1171,  0.4832],\n",
      "        [ 0.0431,  0.3879,  0.6771],\n",
      "        [-0.2643,  0.3100,  0.2321],\n",
      "        [-0.0613,  0.1214, -0.1879],\n",
      "        [-0.4191,  0.4588,  0.0656],\n",
      "        [-0.5837,  0.3793, -0.0847]], grad_fn=<CloneBackward>)\n"
     ]
    }
   ],
   "source": [
    "jacobian = get_jacobian(net, x, 6)\n",
    "print(jacobian)"
   ]
  },
  {
   "cell_type": "code",
   "execution_count": 59,
   "metadata": {},
   "outputs": [
    {
     "data": {
      "text/plain": [
       "True"
      ]
     },
     "execution_count": 59,
     "metadata": {},
     "output_type": "execute_result"
    }
   ],
   "source": [
    "jacobian.requires_grad"
   ]
  },
  {
   "cell_type": "code",
   "execution_count": 73,
   "metadata": {},
   "outputs": [],
   "source": [
    "t1 = torch.zeros((5, 3, 2))\n",
    "t2 = torch.zeros((5, 2, 4))"
   ]
  },
  {
   "cell_type": "code",
   "execution_count": 75,
   "metadata": {},
   "outputs": [
    {
     "data": {
      "text/plain": [
       "torch.Size([5, 3, 4])"
      ]
     },
     "execution_count": 75,
     "metadata": {},
     "output_type": "execute_result"
    }
   ],
   "source": [
    "torch.bmm(t1, t2).shape"
   ]
  },
  {
   "cell_type": "code",
   "execution_count": null,
   "metadata": {},
   "outputs": [],
   "source": []
  }
 ],
 "metadata": {
  "kernelspec": {
   "display_name": "Python 3",
   "language": "python",
   "name": "python3"
  },
  "language_info": {
   "codemirror_mode": {
    "name": "ipython",
    "version": 3
   },
   "file_extension": ".py",
   "mimetype": "text/x-python",
   "name": "python",
   "nbconvert_exporter": "python",
   "pygments_lexer": "ipython3",
   "version": "3.6.9"
  }
 },
 "nbformat": 4,
 "nbformat_minor": 4
}
