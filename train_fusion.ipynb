{
 "cells": [
  {
   "cell_type": "code",
   "execution_count": 1,
   "metadata": {},
   "outputs": [],
   "source": [
    "%matplotlib inline\n",
    "%load_ext autoreload\n",
    "%autoreload 2"
   ]
  },
  {
   "cell_type": "code",
   "execution_count": 2,
   "metadata": {},
   "outputs": [],
   "source": [
    "# Experiment configuration\n",
    "experiment_name = \"fusion_7_n100\"\n",
    "dataset_args = {\n",
    "    'use_proprioception': True,\n",
    "    'use_haptics': True,\n",
    "    'use_vision': True,\n",
    "    'vision_interval': 2,\n",
    "}"
   ]
  },
  {
   "cell_type": "code",
   "execution_count": 3,
   "metadata": {},
   "outputs": [],
   "source": [
    "import torch\n",
    "import torch.nn.functional as F\n",
    "import numpy as np\n",
    "from tqdm import tqdm_notebook\n",
    "\n",
    "import fannypack\n",
    "from lib import panda_datasets, panda_baseline_models, panda_baseline_training\n",
    "from lib.ekf import KalmanFilterNetwork\n",
    "from fannypack import utils\n",
    "from lib import dpf\n",
    "from lib.panda_models import PandaDynamicsModel, PandaEKFMeasurementModel\n",
    "\n",
    "from lib.fusion import KalmanFusionModel\n",
    "from lib.fusion import CrossModalWeights\n",
    "\n",
    "import lib.panda_kf_training as training"
   ]
  },
  {
   "cell_type": "code",
   "execution_count": 4,
   "metadata": {},
   "outputs": [
    {
     "name": "stdout",
     "output_type": "stream",
     "text": [
      "Creating dataset...\n",
      "Parsed data: 1307 active, 193 inactive\n",
      "Keeping (inactive): 193\n"
     ]
    },
    {
     "data": {
      "application/vnd.jupyter.widget-view+json": {
       "model_id": "582a050f0cbb4841989b1a208eb93c57",
       "version_major": 2,
       "version_minor": 0
      },
      "text/plain": [
       "HBox(children=(FloatProgress(value=0.0), HTML(value='')))"
      ]
     },
     "metadata": {},
     "output_type": "display_data"
    },
    {
     "name": "stdout",
     "output_type": "stream",
     "text": [
      "\n",
      "Loaded 24000 points\n"
     ]
    }
   ],
   "source": [
    "print(\"Creating dataset...\")\n",
    "# dataset_full = panda_datasets.PandaParticleFilterDataset(\n",
    "#     'data/gentle_push_10.hdf5',\n",
    "#     subsequence_length=16,\n",
    "#     **dataset_args)\n",
    "\n",
    "e2e_trainset = panda_datasets.PandaParticleFilterDataset(\n",
    "    \"data/gentle_push_100.hdf5\",\n",
    "    subsequence_length=16,\n",
    "    particle_count=1,\n",
    "    particle_stddev=(.03, .03),\n",
    "    **dataset_args\n",
    ")\n",
    "\n",
    "dataset_measurement = panda_datasets.PandaMeasurementDataset(\n",
    "    'data/gentle_push_100.hdf5',\n",
    "    subsequence_length=16,\n",
    "    stddev=(0.5, 0.5),\n",
    "    samples_per_pair=20,\n",
    "    **dataset_args)\n",
    "\n",
    "dynamics_recurrent_trainset = panda_datasets.PandaSubsequenceDataset(\n",
    "    \"data/gentle_push_100.hdf5\",\n",
    "    subsequence_length=32,\n",
    "    **dataset_args\n",
    ")\n"
   ]
  },
  {
   "cell_type": "code",
   "execution_count": 5,
   "metadata": {},
   "outputs": [],
   "source": [
    "# image_modality_model\n",
    "image_measurement = PandaEKFMeasurementModel(missing_modalities=['gripper_pos'])\n",
    "image_dynamics = PandaDynamicsModel(use_particles=False)\n",
    "image_model = KalmanFilterNetwork(image_dynamics, image_measurement)\n",
    "\n",
    "# force_modality_model\n",
    "force_measurement = PandaEKFMeasurementModel(missing_modalities=['image'])\n",
    "force_dynamics =  PandaDynamicsModel(use_particles= False)\n",
    "force_model = KalmanFilterNetwork(force_dynamics, force_measurement)\n",
    "\n",
    "weight_model = CrossModalWeights()\n",
    "\n",
    "fusion_model = KalmanFusionModel(image_model, force_model, weight_model)\n",
    "\n",
    "\n",
    "models ={'image': image_model, 'force': force_model, 'weight': weight_model}"
   ]
  },
  {
   "cell_type": "code",
   "execution_count": 6,
   "metadata": {},
   "outputs": [
    {
     "name": "stdout",
     "output_type": "stream",
     "text": [
      "[buddy-fusion_7_n100] Using device: cuda\n",
      "[buddy-fusion_7_n100] No checkpoint found\n"
     ]
    }
   ],
   "source": [
    "#todo: need a different version of buddy... also probably need to load and save myself \n",
    "buddy = fannypack.utils.Buddy(experiment_name, \n",
    "                              fusion_model, \n",
    "                              optimizer_names=[\"im_meas\", \"im_dynamics\", \"force_dynamics\", \"force_ekf\", \"im_ekf\", \n",
    "                                               \"force_meas\", \"fusion\"], \n",
    "                              load_checkpoint=True,\n",
    ")"
   ]
  },
  {
   "cell_type": "code",
   "execution_count": 7,
   "metadata": {},
   "outputs": [
    {
     "name": "stdout",
     "output_type": "stream",
     "text": [
      "Training epoch 0\n"
     ]
    },
    {
     "data": {
      "application/vnd.jupyter.widget-view+json": {
       "model_id": "a61f83082eef46a0a10383c938430ce6",
       "version_major": 2,
       "version_minor": 0
      },
      "text/plain": [
       "HBox(children=(FloatProgress(value=0.0, max=21.0), HTML(value='')))"
      ]
     },
     "metadata": {},
     "output_type": "display_data"
    },
    {
     "name": "stdout",
     "output_type": "stream",
     "text": [
      "\n",
      "\n",
      "Training epoch 1\n"
     ]
    },
    {
     "data": {
      "application/vnd.jupyter.widget-view+json": {
       "model_id": "10a5fb63312a4defab6554a71bd3a730",
       "version_major": 2,
       "version_minor": 0
      },
      "text/plain": [
       "HBox(children=(FloatProgress(value=0.0, max=21.0), HTML(value='')))"
      ]
     },
     "metadata": {},
     "output_type": "display_data"
    },
    {
     "name": "stdout",
     "output_type": "stream",
     "text": [
      "\n",
      "\n",
      "Training epoch 2\n"
     ]
    },
    {
     "data": {
      "application/vnd.jupyter.widget-view+json": {
       "model_id": "f2296199a7f04367afc4ce37ea9b0e03",
       "version_major": 2,
       "version_minor": 0
      },
      "text/plain": [
       "HBox(children=(FloatProgress(value=0.0, max=21.0), HTML(value='')))"
      ]
     },
     "metadata": {},
     "output_type": "display_data"
    },
    {
     "name": "stdout",
     "output_type": "stream",
     "text": [
      "\n",
      "\n",
      "Training epoch 3\n"
     ]
    },
    {
     "data": {
      "application/vnd.jupyter.widget-view+json": {
       "model_id": "102e943bd7e64112b0d96e6d22d47a0b",
       "version_major": 2,
       "version_minor": 0
      },
      "text/plain": [
       "HBox(children=(FloatProgress(value=0.0, max=21.0), HTML(value='')))"
      ]
     },
     "metadata": {},
     "output_type": "display_data"
    },
    {
     "name": "stdout",
     "output_type": "stream",
     "text": [
      "\n",
      "\n",
      "Training epoch 4\n"
     ]
    },
    {
     "data": {
      "application/vnd.jupyter.widget-view+json": {
       "model_id": "08de292811e047538c33995c3432a431",
       "version_major": 2,
       "version_minor": 0
      },
      "text/plain": [
       "HBox(children=(FloatProgress(value=0.0, max=21.0), HTML(value='')))"
      ]
     },
     "metadata": {},
     "output_type": "display_data"
    },
    {
     "name": "stdout",
     "output_type": "stream",
     "text": [
      "[buddy-fusion_7_n100] Saved checkpoint to path: checkpoints/fusion_7_n100-0000000000000100.ckpt\n",
      "\n",
      "\n",
      "Training epoch 5\n"
     ]
    },
    {
     "data": {
      "application/vnd.jupyter.widget-view+json": {
       "model_id": "68304d164d5946c3b5b058a80f8dbfb9",
       "version_major": 2,
       "version_minor": 0
      },
      "text/plain": [
       "HBox(children=(FloatProgress(value=0.0, max=21.0), HTML(value='')))"
      ]
     },
     "metadata": {},
     "output_type": "display_data"
    },
    {
     "name": "stdout",
     "output_type": "stream",
     "text": [
      "\n",
      "\n",
      "Training epoch 6\n"
     ]
    },
    {
     "data": {
      "application/vnd.jupyter.widget-view+json": {
       "model_id": "dd3485e0c2b047e1a06909c72ea22300",
       "version_major": 2,
       "version_minor": 0
      },
      "text/plain": [
       "HBox(children=(FloatProgress(value=0.0, max=21.0), HTML(value='')))"
      ]
     },
     "metadata": {},
     "output_type": "display_data"
    },
    {
     "name": "stdout",
     "output_type": "stream",
     "text": [
      "\n",
      "\n",
      "Training epoch 7\n"
     ]
    },
    {
     "data": {
      "application/vnd.jupyter.widget-view+json": {
       "model_id": "6817bba32c1d4f49850a27e611024e74",
       "version_major": 2,
       "version_minor": 0
      },
      "text/plain": [
       "HBox(children=(FloatProgress(value=0.0, max=21.0), HTML(value='')))"
      ]
     },
     "metadata": {},
     "output_type": "display_data"
    },
    {
     "name": "stdout",
     "output_type": "stream",
     "text": [
      "\n",
      "\n",
      "Training epoch 8\n"
     ]
    },
    {
     "data": {
      "application/vnd.jupyter.widget-view+json": {
       "model_id": "fbab868c119f406aaecaf3d37760b9da",
       "version_major": 2,
       "version_minor": 0
      },
      "text/plain": [
       "HBox(children=(FloatProgress(value=0.0, max=21.0), HTML(value='')))"
      ]
     },
     "metadata": {},
     "output_type": "display_data"
    },
    {
     "name": "stdout",
     "output_type": "stream",
     "text": [
      "\n",
      "\n",
      "Training epoch 9\n"
     ]
    },
    {
     "data": {
      "application/vnd.jupyter.widget-view+json": {
       "model_id": "dcc262a73c8440ba89e72344be31b091",
       "version_major": 2,
       "version_minor": 0
      },
      "text/plain": [
       "HBox(children=(FloatProgress(value=0.0, max=21.0), HTML(value='')))"
      ]
     },
     "metadata": {},
     "output_type": "display_data"
    },
    {
     "name": "stdout",
     "output_type": "stream",
     "text": [
      "[buddy-fusion_7_n100] Saved checkpoint to path: checkpoints/fusion_7_n100-0000000000000200.ckpt\n",
      "\n",
      "\n",
      "[buddy-fusion_7_n100] Saved checkpoint to path: checkpoints/fusion_7_n100-phase_0_im_dynamics_pretrain.ckpt\n",
      "Training epoch 0\n"
     ]
    },
    {
     "data": {
      "application/vnd.jupyter.widget-view+json": {
       "model_id": "78d12fcd0be041b1b099de9ed4de3e1f",
       "version_major": 2,
       "version_minor": 0
      },
      "text/plain": [
       "HBox(children=(FloatProgress(value=0.0, max=21.0), HTML(value='')))"
      ]
     },
     "metadata": {},
     "output_type": "display_data"
    },
    {
     "name": "stdout",
     "output_type": "stream",
     "text": [
      "\n",
      "\n",
      "Training epoch 1\n"
     ]
    },
    {
     "data": {
      "application/vnd.jupyter.widget-view+json": {
       "model_id": "886aa72796fe4ffe8598c228224faae0",
       "version_major": 2,
       "version_minor": 0
      },
      "text/plain": [
       "HBox(children=(FloatProgress(value=0.0, max=21.0), HTML(value='')))"
      ]
     },
     "metadata": {},
     "output_type": "display_data"
    },
    {
     "name": "stdout",
     "output_type": "stream",
     "text": [
      "\n",
      "\n",
      "Training epoch 2\n"
     ]
    },
    {
     "data": {
      "application/vnd.jupyter.widget-view+json": {
       "model_id": "a25f6811222b4cdfa47bbf2fa85c7ce5",
       "version_major": 2,
       "version_minor": 0
      },
      "text/plain": [
       "HBox(children=(FloatProgress(value=0.0, max=21.0), HTML(value='')))"
      ]
     },
     "metadata": {},
     "output_type": "display_data"
    },
    {
     "name": "stdout",
     "output_type": "stream",
     "text": [
      "\n",
      "\n",
      "Training epoch 3\n"
     ]
    },
    {
     "data": {
      "application/vnd.jupyter.widget-view+json": {
       "model_id": "926c3535af5c4ba6a7fa2da157fba893",
       "version_major": 2,
       "version_minor": 0
      },
      "text/plain": [
       "HBox(children=(FloatProgress(value=0.0, max=21.0), HTML(value='')))"
      ]
     },
     "metadata": {},
     "output_type": "display_data"
    },
    {
     "name": "stdout",
     "output_type": "stream",
     "text": [
      "\n",
      "\n",
      "Training epoch 4\n"
     ]
    },
    {
     "data": {
      "application/vnd.jupyter.widget-view+json": {
       "model_id": "75a699b3e4a345b787f5d791f015d975",
       "version_major": 2,
       "version_minor": 0
      },
      "text/plain": [
       "HBox(children=(FloatProgress(value=0.0, max=21.0), HTML(value='')))"
      ]
     },
     "metadata": {},
     "output_type": "display_data"
    },
    {
     "name": "stdout",
     "output_type": "stream",
     "text": [
      "[buddy-fusion_7_n100] Saved checkpoint to path: checkpoints/fusion_7_n100-0000000000000300.ckpt\n",
      "\n",
      "\n",
      "Training epoch 5\n"
     ]
    },
    {
     "data": {
      "application/vnd.jupyter.widget-view+json": {
       "model_id": "9af4a7f830204554a380694c64d1c907",
       "version_major": 2,
       "version_minor": 0
      },
      "text/plain": [
       "HBox(children=(FloatProgress(value=0.0, max=21.0), HTML(value='')))"
      ]
     },
     "metadata": {},
     "output_type": "display_data"
    },
    {
     "name": "stdout",
     "output_type": "stream",
     "text": [
      "\n",
      "\n",
      "Training epoch 6\n"
     ]
    },
    {
     "data": {
      "application/vnd.jupyter.widget-view+json": {
       "model_id": "2c6e49b5e1e44100b5b972b17315116f",
       "version_major": 2,
       "version_minor": 0
      },
      "text/plain": [
       "HBox(children=(FloatProgress(value=0.0, max=21.0), HTML(value='')))"
      ]
     },
     "metadata": {},
     "output_type": "display_data"
    },
    {
     "name": "stdout",
     "output_type": "stream",
     "text": [
      "\n",
      "\n",
      "Training epoch 7\n"
     ]
    },
    {
     "data": {
      "application/vnd.jupyter.widget-view+json": {
       "model_id": "13d115954428479298c02a3190d88b9a",
       "version_major": 2,
       "version_minor": 0
      },
      "text/plain": [
       "HBox(children=(FloatProgress(value=0.0, max=21.0), HTML(value='')))"
      ]
     },
     "metadata": {},
     "output_type": "display_data"
    },
    {
     "name": "stdout",
     "output_type": "stream",
     "text": [
      "\n",
      "\n",
      "Training epoch 8\n"
     ]
    },
    {
     "data": {
      "application/vnd.jupyter.widget-view+json": {
       "model_id": "29a893b4664d43028aea6c432a2d3457",
       "version_major": 2,
       "version_minor": 0
      },
      "text/plain": [
       "HBox(children=(FloatProgress(value=0.0, max=21.0), HTML(value='')))"
      ]
     },
     "metadata": {},
     "output_type": "display_data"
    },
    {
     "name": "stdout",
     "output_type": "stream",
     "text": [
      "\n",
      "\n",
      "Training epoch 9\n"
     ]
    },
    {
     "data": {
      "application/vnd.jupyter.widget-view+json": {
       "model_id": "bc9d56e939ee40559c8428e3f943d295",
       "version_major": 2,
       "version_minor": 0
      },
      "text/plain": [
       "HBox(children=(FloatProgress(value=0.0, max=21.0), HTML(value='')))"
      ]
     },
     "metadata": {},
     "output_type": "display_data"
    },
    {
     "name": "stdout",
     "output_type": "stream",
     "text": [
      "[buddy-fusion_7_n100] Saved checkpoint to path: checkpoints/fusion_7_n100-0000000000000400.ckpt\n",
      "\n",
      "\n",
      "[buddy-fusion_7_n100] Saved checkpoint to path: checkpoints/fusion_7_n100-phase_0_force_dynamics_pretrain.ckpt\n"
     ]
    }
   ],
   "source": [
    "dataloader_dynamics = torch.utils.data.DataLoader(\n",
    "    dynamics_recurrent_trainset, batch_size=32, shuffle=True, num_workers=2, drop_last=True)\n",
    "\n",
    "\n",
    "for i in range(10):\n",
    "    print(\"Training epoch\", i)\n",
    "    training.train_dynamics_recurrent(buddy, image_model, dataloader_dynamics, optim_name=\"im_dynamics\")    \n",
    "    print()\n",
    "\n",
    "buddy.save_checkpoint(\"phase_0_im_dynamics_pretrain\")\n",
    "\n",
    "for i in range(10):\n",
    "    print(\"Training epoch\", i)\n",
    "    training.train_dynamics_recurrent(buddy, force_model, dataloader_dynamics, optim_name=\"force_dynamics\")    \n",
    "    print()\n",
    "\n",
    "buddy.save_checkpoint(\"phase_0_force_dynamics_pretrain\")\n",
    "\n"
   ]
  },
  {
   "cell_type": "code",
   "execution_count": 8,
   "metadata": {},
   "outputs": [
    {
     "name": "stdout",
     "output_type": "stream",
     "text": [
      "Training epoch 0\n"
     ]
    },
    {
     "data": {
      "application/vnd.jupyter.widget-view+json": {
       "model_id": "bf7f86774c554684a011176f0831e26a",
       "version_major": 2,
       "version_minor": 0
      },
      "text/plain": [
       "HBox(children=(FloatProgress(value=0.0, max=15000.0), HTML(value='')))"
      ]
     },
     "metadata": {},
     "output_type": "display_data"
    },
    {
     "name": "stdout",
     "output_type": "stream",
     "text": [
      "[buddy-fusion_7_n100] Saved checkpoint to path: checkpoints/fusion_7_n100-0000000000000500.ckpt\n",
      "[buddy-fusion_7_n100] Saved checkpoint to path: checkpoints/fusion_7_n100-0000000000001000.ckpt\n",
      "[buddy-fusion_7_n100] Saved checkpoint to path: checkpoints/fusion_7_n100-0000000000001500.ckpt\n",
      "[buddy-fusion_7_n100] Saved checkpoint to path: checkpoints/fusion_7_n100-0000000000002000.ckpt\n",
      "[buddy-fusion_7_n100] Saved checkpoint to path: checkpoints/fusion_7_n100-0000000000002500.ckpt\n",
      "[buddy-fusion_7_n100] Saved checkpoint to path: checkpoints/fusion_7_n100-0000000000003000.ckpt\n",
      "[buddy-fusion_7_n100] Saved checkpoint to path: checkpoints/fusion_7_n100-0000000000003500.ckpt\n",
      "[buddy-fusion_7_n100] Saved checkpoint to path: checkpoints/fusion_7_n100-0000000000004000.ckpt\n",
      "[buddy-fusion_7_n100] Saved checkpoint to path: checkpoints/fusion_7_n100-0000000000004500.ckpt\n",
      "[buddy-fusion_7_n100] Saved checkpoint to path: checkpoints/fusion_7_n100-0000000000005000.ckpt\n",
      "[buddy-fusion_7_n100] Saved checkpoint to path: checkpoints/fusion_7_n100-0000000000005500.ckpt\n",
      "[buddy-fusion_7_n100] Saved checkpoint to path: checkpoints/fusion_7_n100-0000000000006000.ckpt\n",
      "[buddy-fusion_7_n100] Saved checkpoint to path: checkpoints/fusion_7_n100-0000000000006500.ckpt\n",
      "[buddy-fusion_7_n100] Saved checkpoint to path: checkpoints/fusion_7_n100-0000000000007000.ckpt\n",
      "[buddy-fusion_7_n100] Saved checkpoint to path: checkpoints/fusion_7_n100-0000000000007500.ckpt\n",
      "[buddy-fusion_7_n100] Saved checkpoint to path: checkpoints/fusion_7_n100-0000000000008000.ckpt\n",
      "[buddy-fusion_7_n100] Saved checkpoint to path: checkpoints/fusion_7_n100-0000000000008500.ckpt\n",
      "[buddy-fusion_7_n100] Saved checkpoint to path: checkpoints/fusion_7_n100-0000000000009000.ckpt\n",
      "[buddy-fusion_7_n100] Saved checkpoint to path: checkpoints/fusion_7_n100-0000000000009500.ckpt\n",
      "[buddy-fusion_7_n100] Saved checkpoint to path: checkpoints/fusion_7_n100-0000000000010000.ckpt\n",
      "[buddy-fusion_7_n100] Saved checkpoint to path: checkpoints/fusion_7_n100-0000000000010500.ckpt\n",
      "[buddy-fusion_7_n100] Saved checkpoint to path: checkpoints/fusion_7_n100-0000000000011000.ckpt\n",
      "[buddy-fusion_7_n100] Saved checkpoint to path: checkpoints/fusion_7_n100-0000000000011500.ckpt\n",
      "[buddy-fusion_7_n100] Saved checkpoint to path: checkpoints/fusion_7_n100-0000000000012000.ckpt\n",
      "[buddy-fusion_7_n100] Saved checkpoint to path: checkpoints/fusion_7_n100-0000000000012500.ckpt\n",
      "[buddy-fusion_7_n100] Saved checkpoint to path: checkpoints/fusion_7_n100-0000000000013000.ckpt\n",
      "[buddy-fusion_7_n100] Saved checkpoint to path: checkpoints/fusion_7_n100-0000000000013500.ckpt\n",
      "[buddy-fusion_7_n100] Saved checkpoint to path: checkpoints/fusion_7_n100-0000000000014000.ckpt\n",
      "[buddy-fusion_7_n100] Saved checkpoint to path: checkpoints/fusion_7_n100-0000000000014500.ckpt\n",
      "[buddy-fusion_7_n100] Saved checkpoint to path: checkpoints/fusion_7_n100-0000000000015000.ckpt\n",
      "\n",
      "Epoch loss: 0.5347594\n",
      "\n",
      "Training epoch 1\n"
     ]
    },
    {
     "data": {
      "application/vnd.jupyter.widget-view+json": {
       "model_id": "4a2bbc2c33f64fadb3c30a75b1f119f7",
       "version_major": 2,
       "version_minor": 0
      },
      "text/plain": [
       "HBox(children=(FloatProgress(value=0.0, max=15000.0), HTML(value='')))"
      ]
     },
     "metadata": {},
     "output_type": "display_data"
    },
    {
     "name": "stdout",
     "output_type": "stream",
     "text": [
      "[buddy-fusion_7_n100] Saved checkpoint to path: checkpoints/fusion_7_n100-0000000000015500.ckpt\n",
      "[buddy-fusion_7_n100] Saved checkpoint to path: checkpoints/fusion_7_n100-0000000000016000.ckpt\n",
      "[buddy-fusion_7_n100] Saved checkpoint to path: checkpoints/fusion_7_n100-0000000000016500.ckpt\n",
      "[buddy-fusion_7_n100] Saved checkpoint to path: checkpoints/fusion_7_n100-0000000000017000.ckpt\n",
      "[buddy-fusion_7_n100] Saved checkpoint to path: checkpoints/fusion_7_n100-0000000000017500.ckpt\n",
      "[buddy-fusion_7_n100] Saved checkpoint to path: checkpoints/fusion_7_n100-0000000000018000.ckpt\n",
      "[buddy-fusion_7_n100] Saved checkpoint to path: checkpoints/fusion_7_n100-0000000000018500.ckpt\n",
      "[buddy-fusion_7_n100] Saved checkpoint to path: checkpoints/fusion_7_n100-0000000000019000.ckpt\n",
      "[buddy-fusion_7_n100] Saved checkpoint to path: checkpoints/fusion_7_n100-0000000000019500.ckpt\n",
      "[buddy-fusion_7_n100] Saved checkpoint to path: checkpoints/fusion_7_n100-0000000000020000.ckpt\n",
      "[buddy-fusion_7_n100] Saved checkpoint to path: checkpoints/fusion_7_n100-0000000000020500.ckpt\n",
      "[buddy-fusion_7_n100] Saved checkpoint to path: checkpoints/fusion_7_n100-0000000000021000.ckpt\n",
      "[buddy-fusion_7_n100] Saved checkpoint to path: checkpoints/fusion_7_n100-0000000000021500.ckpt\n",
      "[buddy-fusion_7_n100] Saved checkpoint to path: checkpoints/fusion_7_n100-0000000000022000.ckpt\n",
      "[buddy-fusion_7_n100] Saved checkpoint to path: checkpoints/fusion_7_n100-0000000000022500.ckpt\n",
      "[buddy-fusion_7_n100] Saved checkpoint to path: checkpoints/fusion_7_n100-0000000000023000.ckpt\n",
      "[buddy-fusion_7_n100] Saved checkpoint to path: checkpoints/fusion_7_n100-0000000000023500.ckpt\n",
      "[buddy-fusion_7_n100] Saved checkpoint to path: checkpoints/fusion_7_n100-0000000000024000.ckpt\n",
      "[buddy-fusion_7_n100] Saved checkpoint to path: checkpoints/fusion_7_n100-0000000000024500.ckpt\n",
      "[buddy-fusion_7_n100] Saved checkpoint to path: checkpoints/fusion_7_n100-0000000000025000.ckpt\n",
      "[buddy-fusion_7_n100] Saved checkpoint to path: checkpoints/fusion_7_n100-0000000000025500.ckpt\n",
      "[buddy-fusion_7_n100] Saved checkpoint to path: checkpoints/fusion_7_n100-0000000000026000.ckpt\n",
      "[buddy-fusion_7_n100] Saved checkpoint to path: checkpoints/fusion_7_n100-0000000000026500.ckpt\n",
      "[buddy-fusion_7_n100] Saved checkpoint to path: checkpoints/fusion_7_n100-0000000000027000.ckpt\n",
      "[buddy-fusion_7_n100] Saved checkpoint to path: checkpoints/fusion_7_n100-0000000000027500.ckpt\n",
      "[buddy-fusion_7_n100] Saved checkpoint to path: checkpoints/fusion_7_n100-0000000000028000.ckpt\n",
      "[buddy-fusion_7_n100] Saved checkpoint to path: checkpoints/fusion_7_n100-0000000000028500.ckpt\n",
      "[buddy-fusion_7_n100] Saved checkpoint to path: checkpoints/fusion_7_n100-0000000000029000.ckpt\n",
      "[buddy-fusion_7_n100] Saved checkpoint to path: checkpoints/fusion_7_n100-0000000000029500.ckpt\n",
      "[buddy-fusion_7_n100] Saved checkpoint to path: checkpoints/fusion_7_n100-0000000000030000.ckpt\n",
      "\n",
      "Epoch loss: 0.4686131\n",
      "\n",
      "Training epoch 2\n"
     ]
    },
    {
     "data": {
      "application/vnd.jupyter.widget-view+json": {
       "model_id": "4d085bde412548928882cf039dc0b59c",
       "version_major": 2,
       "version_minor": 0
      },
      "text/plain": [
       "HBox(children=(FloatProgress(value=0.0, max=15000.0), HTML(value='')))"
      ]
     },
     "metadata": {},
     "output_type": "display_data"
    },
    {
     "name": "stdout",
     "output_type": "stream",
     "text": [
      "[buddy-fusion_7_n100] Saved checkpoint to path: checkpoints/fusion_7_n100-0000000000030500.ckpt\n",
      "[buddy-fusion_7_n100] Saved checkpoint to path: checkpoints/fusion_7_n100-0000000000031000.ckpt\n",
      "[buddy-fusion_7_n100] Saved checkpoint to path: checkpoints/fusion_7_n100-0000000000031500.ckpt\n",
      "[buddy-fusion_7_n100] Saved checkpoint to path: checkpoints/fusion_7_n100-0000000000032000.ckpt\n",
      "[buddy-fusion_7_n100] Saved checkpoint to path: checkpoints/fusion_7_n100-0000000000032500.ckpt\n",
      "[buddy-fusion_7_n100] Saved checkpoint to path: checkpoints/fusion_7_n100-0000000000033000.ckpt\n",
      "[buddy-fusion_7_n100] Saved checkpoint to path: checkpoints/fusion_7_n100-0000000000033500.ckpt\n",
      "[buddy-fusion_7_n100] Saved checkpoint to path: checkpoints/fusion_7_n100-0000000000034000.ckpt\n",
      "[buddy-fusion_7_n100] Saved checkpoint to path: checkpoints/fusion_7_n100-0000000000034500.ckpt\n",
      "[buddy-fusion_7_n100] Saved checkpoint to path: checkpoints/fusion_7_n100-0000000000035000.ckpt\n",
      "[buddy-fusion_7_n100] Saved checkpoint to path: checkpoints/fusion_7_n100-0000000000035500.ckpt\n",
      "[buddy-fusion_7_n100] Saved checkpoint to path: checkpoints/fusion_7_n100-0000000000036000.ckpt\n",
      "[buddy-fusion_7_n100] Saved checkpoint to path: checkpoints/fusion_7_n100-0000000000036500.ckpt\n",
      "[buddy-fusion_7_n100] Saved checkpoint to path: checkpoints/fusion_7_n100-0000000000037000.ckpt\n",
      "[buddy-fusion_7_n100] Saved checkpoint to path: checkpoints/fusion_7_n100-0000000000037500.ckpt\n",
      "[buddy-fusion_7_n100] Saved checkpoint to path: checkpoints/fusion_7_n100-0000000000038000.ckpt\n",
      "[buddy-fusion_7_n100] Saved checkpoint to path: checkpoints/fusion_7_n100-0000000000038500.ckpt\n",
      "[buddy-fusion_7_n100] Saved checkpoint to path: checkpoints/fusion_7_n100-0000000000039000.ckpt\n",
      "[buddy-fusion_7_n100] Saved checkpoint to path: checkpoints/fusion_7_n100-0000000000039500.ckpt\n",
      "[buddy-fusion_7_n100] Saved checkpoint to path: checkpoints/fusion_7_n100-0000000000040000.ckpt\n",
      "[buddy-fusion_7_n100] Saved checkpoint to path: checkpoints/fusion_7_n100-0000000000040500.ckpt\n",
      "[buddy-fusion_7_n100] Saved checkpoint to path: checkpoints/fusion_7_n100-0000000000041000.ckpt\n",
      "[buddy-fusion_7_n100] Saved checkpoint to path: checkpoints/fusion_7_n100-0000000000041500.ckpt\n",
      "[buddy-fusion_7_n100] Saved checkpoint to path: checkpoints/fusion_7_n100-0000000000042000.ckpt\n",
      "[buddy-fusion_7_n100] Saved checkpoint to path: checkpoints/fusion_7_n100-0000000000042500.ckpt\n",
      "[buddy-fusion_7_n100] Saved checkpoint to path: checkpoints/fusion_7_n100-0000000000043000.ckpt\n",
      "[buddy-fusion_7_n100] Saved checkpoint to path: checkpoints/fusion_7_n100-0000000000043500.ckpt\n",
      "[buddy-fusion_7_n100] Saved checkpoint to path: checkpoints/fusion_7_n100-0000000000044000.ckpt\n",
      "[buddy-fusion_7_n100] Saved checkpoint to path: checkpoints/fusion_7_n100-0000000000044500.ckpt\n",
      "[buddy-fusion_7_n100] Saved checkpoint to path: checkpoints/fusion_7_n100-0000000000045000.ckpt\n",
      "\n",
      "Epoch loss: 0.46858168\n",
      "\n",
      "Training epoch 3\n"
     ]
    },
    {
     "data": {
      "application/vnd.jupyter.widget-view+json": {
       "model_id": "4e66a2845d7f4fad96c32617b852449f",
       "version_major": 2,
       "version_minor": 0
      },
      "text/plain": [
       "HBox(children=(FloatProgress(value=0.0, max=15000.0), HTML(value='')))"
      ]
     },
     "metadata": {},
     "output_type": "display_data"
    },
    {
     "name": "stdout",
     "output_type": "stream",
     "text": [
      "[buddy-fusion_7_n100] Saved checkpoint to path: checkpoints/fusion_7_n100-0000000000045500.ckpt\n",
      "[buddy-fusion_7_n100] Saved checkpoint to path: checkpoints/fusion_7_n100-0000000000046000.ckpt\n",
      "[buddy-fusion_7_n100] Saved checkpoint to path: checkpoints/fusion_7_n100-0000000000046500.ckpt\n",
      "[buddy-fusion_7_n100] Saved checkpoint to path: checkpoints/fusion_7_n100-0000000000047000.ckpt\n",
      "[buddy-fusion_7_n100] Saved checkpoint to path: checkpoints/fusion_7_n100-0000000000047500.ckpt\n",
      "[buddy-fusion_7_n100] Saved checkpoint to path: checkpoints/fusion_7_n100-0000000000048000.ckpt\n",
      "[buddy-fusion_7_n100] Saved checkpoint to path: checkpoints/fusion_7_n100-0000000000048500.ckpt\n",
      "[buddy-fusion_7_n100] Saved checkpoint to path: checkpoints/fusion_7_n100-0000000000049000.ckpt\n",
      "[buddy-fusion_7_n100] Saved checkpoint to path: checkpoints/fusion_7_n100-0000000000049500.ckpt\n",
      "[buddy-fusion_7_n100] Saved checkpoint to path: checkpoints/fusion_7_n100-0000000000050000.ckpt\n",
      "[buddy-fusion_7_n100] Saved checkpoint to path: checkpoints/fusion_7_n100-0000000000050500.ckpt\n",
      "[buddy-fusion_7_n100] Saved checkpoint to path: checkpoints/fusion_7_n100-0000000000051000.ckpt\n",
      "[buddy-fusion_7_n100] Saved checkpoint to path: checkpoints/fusion_7_n100-0000000000051500.ckpt\n",
      "[buddy-fusion_7_n100] Saved checkpoint to path: checkpoints/fusion_7_n100-0000000000052000.ckpt\n",
      "[buddy-fusion_7_n100] Saved checkpoint to path: checkpoints/fusion_7_n100-0000000000052500.ckpt\n",
      "[buddy-fusion_7_n100] Saved checkpoint to path: checkpoints/fusion_7_n100-0000000000053000.ckpt\n",
      "[buddy-fusion_7_n100] Saved checkpoint to path: checkpoints/fusion_7_n100-0000000000053500.ckpt\n",
      "[buddy-fusion_7_n100] Saved checkpoint to path: checkpoints/fusion_7_n100-0000000000054000.ckpt\n",
      "[buddy-fusion_7_n100] Saved checkpoint to path: checkpoints/fusion_7_n100-0000000000054500.ckpt\n",
      "[buddy-fusion_7_n100] Saved checkpoint to path: checkpoints/fusion_7_n100-0000000000055000.ckpt\n",
      "[buddy-fusion_7_n100] Saved checkpoint to path: checkpoints/fusion_7_n100-0000000000055500.ckpt\n",
      "[buddy-fusion_7_n100] Saved checkpoint to path: checkpoints/fusion_7_n100-0000000000056000.ckpt\n",
      "[buddy-fusion_7_n100] Saved checkpoint to path: checkpoints/fusion_7_n100-0000000000056500.ckpt\n",
      "[buddy-fusion_7_n100] Saved checkpoint to path: checkpoints/fusion_7_n100-0000000000057000.ckpt\n",
      "[buddy-fusion_7_n100] Saved checkpoint to path: checkpoints/fusion_7_n100-0000000000057500.ckpt\n",
      "[buddy-fusion_7_n100] Saved checkpoint to path: checkpoints/fusion_7_n100-0000000000058000.ckpt\n",
      "[buddy-fusion_7_n100] Saved checkpoint to path: checkpoints/fusion_7_n100-0000000000058500.ckpt\n",
      "[buddy-fusion_7_n100] Saved checkpoint to path: checkpoints/fusion_7_n100-0000000000059000.ckpt\n",
      "[buddy-fusion_7_n100] Saved checkpoint to path: checkpoints/fusion_7_n100-0000000000059500.ckpt\n",
      "[buddy-fusion_7_n100] Saved checkpoint to path: checkpoints/fusion_7_n100-0000000000060000.ckpt\n",
      "\n",
      "Epoch loss: 0.46856537\n",
      "\n",
      "Training epoch 4\n"
     ]
    },
    {
     "data": {
      "application/vnd.jupyter.widget-view+json": {
       "model_id": "a08008d34208479893c47ed95fba10a0",
       "version_major": 2,
       "version_minor": 0
      },
      "text/plain": [
       "HBox(children=(FloatProgress(value=0.0, max=15000.0), HTML(value='')))"
      ]
     },
     "metadata": {},
     "output_type": "display_data"
    },
    {
     "name": "stdout",
     "output_type": "stream",
     "text": [
      "[buddy-fusion_7_n100] Saved checkpoint to path: checkpoints/fusion_7_n100-0000000000060500.ckpt\n",
      "[buddy-fusion_7_n100] Saved checkpoint to path: checkpoints/fusion_7_n100-0000000000061000.ckpt\n",
      "[buddy-fusion_7_n100] Saved checkpoint to path: checkpoints/fusion_7_n100-0000000000061500.ckpt\n",
      "[buddy-fusion_7_n100] Saved checkpoint to path: checkpoints/fusion_7_n100-0000000000062000.ckpt\n",
      "[buddy-fusion_7_n100] Saved checkpoint to path: checkpoints/fusion_7_n100-0000000000062500.ckpt\n",
      "[buddy-fusion_7_n100] Saved checkpoint to path: checkpoints/fusion_7_n100-0000000000063000.ckpt\n",
      "[buddy-fusion_7_n100] Saved checkpoint to path: checkpoints/fusion_7_n100-0000000000063500.ckpt\n",
      "[buddy-fusion_7_n100] Saved checkpoint to path: checkpoints/fusion_7_n100-0000000000064000.ckpt\n",
      "[buddy-fusion_7_n100] Saved checkpoint to path: checkpoints/fusion_7_n100-0000000000064500.ckpt\n",
      "[buddy-fusion_7_n100] Saved checkpoint to path: checkpoints/fusion_7_n100-0000000000065000.ckpt\n",
      "[buddy-fusion_7_n100] Saved checkpoint to path: checkpoints/fusion_7_n100-0000000000065500.ckpt\n",
      "[buddy-fusion_7_n100] Saved checkpoint to path: checkpoints/fusion_7_n100-0000000000066000.ckpt\n",
      "[buddy-fusion_7_n100] Saved checkpoint to path: checkpoints/fusion_7_n100-0000000000066500.ckpt\n",
      "[buddy-fusion_7_n100] Saved checkpoint to path: checkpoints/fusion_7_n100-0000000000067000.ckpt\n",
      "[buddy-fusion_7_n100] Saved checkpoint to path: checkpoints/fusion_7_n100-0000000000067500.ckpt\n",
      "[buddy-fusion_7_n100] Saved checkpoint to path: checkpoints/fusion_7_n100-0000000000068000.ckpt\n",
      "[buddy-fusion_7_n100] Saved checkpoint to path: checkpoints/fusion_7_n100-0000000000068500.ckpt\n",
      "[buddy-fusion_7_n100] Saved checkpoint to path: checkpoints/fusion_7_n100-0000000000069000.ckpt\n",
      "[buddy-fusion_7_n100] Saved checkpoint to path: checkpoints/fusion_7_n100-0000000000069500.ckpt\n",
      "[buddy-fusion_7_n100] Saved checkpoint to path: checkpoints/fusion_7_n100-0000000000070000.ckpt\n",
      "[buddy-fusion_7_n100] Saved checkpoint to path: checkpoints/fusion_7_n100-0000000000070500.ckpt\n",
      "[buddy-fusion_7_n100] Saved checkpoint to path: checkpoints/fusion_7_n100-0000000000071000.ckpt\n",
      "[buddy-fusion_7_n100] Saved checkpoint to path: checkpoints/fusion_7_n100-0000000000071500.ckpt\n",
      "[buddy-fusion_7_n100] Saved checkpoint to path: checkpoints/fusion_7_n100-0000000000072000.ckpt\n",
      "[buddy-fusion_7_n100] Saved checkpoint to path: checkpoints/fusion_7_n100-0000000000072500.ckpt\n",
      "[buddy-fusion_7_n100] Saved checkpoint to path: checkpoints/fusion_7_n100-0000000000073000.ckpt\n",
      "[buddy-fusion_7_n100] Saved checkpoint to path: checkpoints/fusion_7_n100-0000000000073500.ckpt\n",
      "[buddy-fusion_7_n100] Saved checkpoint to path: checkpoints/fusion_7_n100-0000000000074000.ckpt\n",
      "[buddy-fusion_7_n100] Saved checkpoint to path: checkpoints/fusion_7_n100-0000000000074500.ckpt\n",
      "[buddy-fusion_7_n100] Saved checkpoint to path: checkpoints/fusion_7_n100-0000000000075000.ckpt\n",
      "\n",
      "Epoch loss: 0.46855795\n",
      "\n",
      "Training epoch 5\n"
     ]
    },
    {
     "data": {
      "application/vnd.jupyter.widget-view+json": {
       "model_id": "dcd8a352a89c48398a439a273198fd6a",
       "version_major": 2,
       "version_minor": 0
      },
      "text/plain": [
       "HBox(children=(FloatProgress(value=0.0, max=15000.0), HTML(value='')))"
      ]
     },
     "metadata": {},
     "output_type": "display_data"
    },
    {
     "name": "stdout",
     "output_type": "stream",
     "text": [
      "[buddy-fusion_7_n100] Saved checkpoint to path: checkpoints/fusion_7_n100-0000000000075500.ckpt\n",
      "[buddy-fusion_7_n100] Saved checkpoint to path: checkpoints/fusion_7_n100-0000000000076000.ckpt\n",
      "[buddy-fusion_7_n100] Saved checkpoint to path: checkpoints/fusion_7_n100-0000000000076500.ckpt\n",
      "[buddy-fusion_7_n100] Saved checkpoint to path: checkpoints/fusion_7_n100-0000000000077000.ckpt\n",
      "[buddy-fusion_7_n100] Saved checkpoint to path: checkpoints/fusion_7_n100-0000000000077500.ckpt\n",
      "[buddy-fusion_7_n100] Saved checkpoint to path: checkpoints/fusion_7_n100-0000000000078000.ckpt\n",
      "[buddy-fusion_7_n100] Saved checkpoint to path: checkpoints/fusion_7_n100-0000000000078500.ckpt\n",
      "[buddy-fusion_7_n100] Saved checkpoint to path: checkpoints/fusion_7_n100-0000000000079000.ckpt\n",
      "[buddy-fusion_7_n100] Saved checkpoint to path: checkpoints/fusion_7_n100-0000000000079500.ckpt\n",
      "[buddy-fusion_7_n100] Saved checkpoint to path: checkpoints/fusion_7_n100-0000000000080000.ckpt\n",
      "[buddy-fusion_7_n100] Saved checkpoint to path: checkpoints/fusion_7_n100-0000000000080500.ckpt\n",
      "[buddy-fusion_7_n100] Saved checkpoint to path: checkpoints/fusion_7_n100-0000000000081000.ckpt\n",
      "[buddy-fusion_7_n100] Saved checkpoint to path: checkpoints/fusion_7_n100-0000000000081500.ckpt\n",
      "[buddy-fusion_7_n100] Saved checkpoint to path: checkpoints/fusion_7_n100-0000000000082000.ckpt\n",
      "[buddy-fusion_7_n100] Saved checkpoint to path: checkpoints/fusion_7_n100-0000000000082500.ckpt\n",
      "[buddy-fusion_7_n100] Saved checkpoint to path: checkpoints/fusion_7_n100-0000000000083000.ckpt\n",
      "[buddy-fusion_7_n100] Saved checkpoint to path: checkpoints/fusion_7_n100-0000000000083500.ckpt\n",
      "[buddy-fusion_7_n100] Saved checkpoint to path: checkpoints/fusion_7_n100-0000000000084000.ckpt\n",
      "[buddy-fusion_7_n100] Saved checkpoint to path: checkpoints/fusion_7_n100-0000000000084500.ckpt\n",
      "[buddy-fusion_7_n100] Saved checkpoint to path: checkpoints/fusion_7_n100-0000000000085000.ckpt\n",
      "[buddy-fusion_7_n100] Saved checkpoint to path: checkpoints/fusion_7_n100-0000000000085500.ckpt\n",
      "[buddy-fusion_7_n100] Saved checkpoint to path: checkpoints/fusion_7_n100-0000000000086000.ckpt\n",
      "[buddy-fusion_7_n100] Saved checkpoint to path: checkpoints/fusion_7_n100-0000000000086500.ckpt\n",
      "[buddy-fusion_7_n100] Saved checkpoint to path: checkpoints/fusion_7_n100-0000000000087000.ckpt\n",
      "[buddy-fusion_7_n100] Saved checkpoint to path: checkpoints/fusion_7_n100-0000000000087500.ckpt\n",
      "[buddy-fusion_7_n100] Saved checkpoint to path: checkpoints/fusion_7_n100-0000000000088000.ckpt\n",
      "[buddy-fusion_7_n100] Saved checkpoint to path: checkpoints/fusion_7_n100-0000000000088500.ckpt\n",
      "[buddy-fusion_7_n100] Saved checkpoint to path: checkpoints/fusion_7_n100-0000000000089000.ckpt\n",
      "[buddy-fusion_7_n100] Saved checkpoint to path: checkpoints/fusion_7_n100-0000000000089500.ckpt\n",
      "[buddy-fusion_7_n100] Saved checkpoint to path: checkpoints/fusion_7_n100-0000000000090000.ckpt\n",
      "\n",
      "Epoch loss: 0.46855152\n",
      "\n",
      "Training epoch 6\n"
     ]
    },
    {
     "data": {
      "application/vnd.jupyter.widget-view+json": {
       "model_id": "8f042f29e5cd4db18c3ff8b6a4be3c94",
       "version_major": 2,
       "version_minor": 0
      },
      "text/plain": [
       "HBox(children=(FloatProgress(value=0.0, max=15000.0), HTML(value='')))"
      ]
     },
     "metadata": {},
     "output_type": "display_data"
    },
    {
     "name": "stdout",
     "output_type": "stream",
     "text": [
      "[buddy-fusion_7_n100] Saved checkpoint to path: checkpoints/fusion_7_n100-0000000000090500.ckpt\n",
      "[buddy-fusion_7_n100] Saved checkpoint to path: checkpoints/fusion_7_n100-0000000000091000.ckpt\n",
      "[buddy-fusion_7_n100] Saved checkpoint to path: checkpoints/fusion_7_n100-0000000000091500.ckpt\n",
      "[buddy-fusion_7_n100] Saved checkpoint to path: checkpoints/fusion_7_n100-0000000000092000.ckpt\n",
      "[buddy-fusion_7_n100] Saved checkpoint to path: checkpoints/fusion_7_n100-0000000000092500.ckpt\n",
      "[buddy-fusion_7_n100] Saved checkpoint to path: checkpoints/fusion_7_n100-0000000000093000.ckpt\n",
      "[buddy-fusion_7_n100] Saved checkpoint to path: checkpoints/fusion_7_n100-0000000000093500.ckpt\n",
      "[buddy-fusion_7_n100] Saved checkpoint to path: checkpoints/fusion_7_n100-0000000000094000.ckpt\n",
      "[buddy-fusion_7_n100] Saved checkpoint to path: checkpoints/fusion_7_n100-0000000000094500.ckpt\n",
      "[buddy-fusion_7_n100] Saved checkpoint to path: checkpoints/fusion_7_n100-0000000000095000.ckpt\n",
      "[buddy-fusion_7_n100] Saved checkpoint to path: checkpoints/fusion_7_n100-0000000000095500.ckpt\n",
      "[buddy-fusion_7_n100] Saved checkpoint to path: checkpoints/fusion_7_n100-0000000000096000.ckpt\n",
      "[buddy-fusion_7_n100] Saved checkpoint to path: checkpoints/fusion_7_n100-0000000000096500.ckpt\n",
      "[buddy-fusion_7_n100] Saved checkpoint to path: checkpoints/fusion_7_n100-0000000000097000.ckpt\n",
      "[buddy-fusion_7_n100] Saved checkpoint to path: checkpoints/fusion_7_n100-0000000000097500.ckpt\n",
      "[buddy-fusion_7_n100] Saved checkpoint to path: checkpoints/fusion_7_n100-0000000000098000.ckpt\n",
      "[buddy-fusion_7_n100] Saved checkpoint to path: checkpoints/fusion_7_n100-0000000000098500.ckpt\n",
      "[buddy-fusion_7_n100] Saved checkpoint to path: checkpoints/fusion_7_n100-0000000000099000.ckpt\n",
      "[buddy-fusion_7_n100] Saved checkpoint to path: checkpoints/fusion_7_n100-0000000000099500.ckpt\n",
      "[buddy-fusion_7_n100] Saved checkpoint to path: checkpoints/fusion_7_n100-0000000000100000.ckpt\n",
      "[buddy-fusion_7_n100] Saved checkpoint to path: checkpoints/fusion_7_n100-0000000000100500.ckpt\n",
      "[buddy-fusion_7_n100] Saved checkpoint to path: checkpoints/fusion_7_n100-0000000000101000.ckpt\n",
      "[buddy-fusion_7_n100] Saved checkpoint to path: checkpoints/fusion_7_n100-0000000000101500.ckpt\n",
      "[buddy-fusion_7_n100] Saved checkpoint to path: checkpoints/fusion_7_n100-0000000000102000.ckpt\n",
      "[buddy-fusion_7_n100] Saved checkpoint to path: checkpoints/fusion_7_n100-0000000000102500.ckpt\n",
      "[buddy-fusion_7_n100] Saved checkpoint to path: checkpoints/fusion_7_n100-0000000000103000.ckpt\n",
      "[buddy-fusion_7_n100] Saved checkpoint to path: checkpoints/fusion_7_n100-0000000000103500.ckpt\n",
      "[buddy-fusion_7_n100] Saved checkpoint to path: checkpoints/fusion_7_n100-0000000000104000.ckpt\n",
      "[buddy-fusion_7_n100] Saved checkpoint to path: checkpoints/fusion_7_n100-0000000000104500.ckpt\n",
      "[buddy-fusion_7_n100] Saved checkpoint to path: checkpoints/fusion_7_n100-0000000000105000.ckpt\n",
      "\n",
      "Epoch loss: 0.4685489\n",
      "\n",
      "Training epoch 7\n"
     ]
    },
    {
     "data": {
      "application/vnd.jupyter.widget-view+json": {
       "model_id": "399c1667888246419cd621cc6e05e931",
       "version_major": 2,
       "version_minor": 0
      },
      "text/plain": [
       "HBox(children=(FloatProgress(value=0.0, max=15000.0), HTML(value='')))"
      ]
     },
     "metadata": {},
     "output_type": "display_data"
    },
    {
     "name": "stdout",
     "output_type": "stream",
     "text": [
      "[buddy-fusion_7_n100] Saved checkpoint to path: checkpoints/fusion_7_n100-0000000000105500.ckpt\n",
      "[buddy-fusion_7_n100] Saved checkpoint to path: checkpoints/fusion_7_n100-0000000000106000.ckpt\n",
      "[buddy-fusion_7_n100] Saved checkpoint to path: checkpoints/fusion_7_n100-0000000000106500.ckpt\n",
      "[buddy-fusion_7_n100] Saved checkpoint to path: checkpoints/fusion_7_n100-0000000000107000.ckpt\n",
      "[buddy-fusion_7_n100] Saved checkpoint to path: checkpoints/fusion_7_n100-0000000000107500.ckpt\n",
      "[buddy-fusion_7_n100] Saved checkpoint to path: checkpoints/fusion_7_n100-0000000000108000.ckpt\n",
      "[buddy-fusion_7_n100] Saved checkpoint to path: checkpoints/fusion_7_n100-0000000000108500.ckpt\n",
      "[buddy-fusion_7_n100] Saved checkpoint to path: checkpoints/fusion_7_n100-0000000000109000.ckpt\n",
      "[buddy-fusion_7_n100] Saved checkpoint to path: checkpoints/fusion_7_n100-0000000000109500.ckpt\n",
      "[buddy-fusion_7_n100] Saved checkpoint to path: checkpoints/fusion_7_n100-0000000000110000.ckpt\n",
      "[buddy-fusion_7_n100] Saved checkpoint to path: checkpoints/fusion_7_n100-0000000000110500.ckpt\n",
      "[buddy-fusion_7_n100] Saved checkpoint to path: checkpoints/fusion_7_n100-0000000000111000.ckpt\n",
      "[buddy-fusion_7_n100] Saved checkpoint to path: checkpoints/fusion_7_n100-0000000000111500.ckpt\n",
      "[buddy-fusion_7_n100] Saved checkpoint to path: checkpoints/fusion_7_n100-0000000000112000.ckpt\n",
      "[buddy-fusion_7_n100] Saved checkpoint to path: checkpoints/fusion_7_n100-0000000000112500.ckpt\n",
      "[buddy-fusion_7_n100] Saved checkpoint to path: checkpoints/fusion_7_n100-0000000000113000.ckpt\n",
      "[buddy-fusion_7_n100] Saved checkpoint to path: checkpoints/fusion_7_n100-0000000000113500.ckpt\n",
      "[buddy-fusion_7_n100] Saved checkpoint to path: checkpoints/fusion_7_n100-0000000000114000.ckpt\n",
      "[buddy-fusion_7_n100] Saved checkpoint to path: checkpoints/fusion_7_n100-0000000000114500.ckpt\n",
      "[buddy-fusion_7_n100] Saved checkpoint to path: checkpoints/fusion_7_n100-0000000000115000.ckpt\n",
      "[buddy-fusion_7_n100] Saved checkpoint to path: checkpoints/fusion_7_n100-0000000000115500.ckpt\n",
      "[buddy-fusion_7_n100] Saved checkpoint to path: checkpoints/fusion_7_n100-0000000000116000.ckpt\n",
      "[buddy-fusion_7_n100] Saved checkpoint to path: checkpoints/fusion_7_n100-0000000000116500.ckpt\n",
      "[buddy-fusion_7_n100] Saved checkpoint to path: checkpoints/fusion_7_n100-0000000000117000.ckpt\n",
      "[buddy-fusion_7_n100] Saved checkpoint to path: checkpoints/fusion_7_n100-0000000000117500.ckpt\n",
      "[buddy-fusion_7_n100] Saved checkpoint to path: checkpoints/fusion_7_n100-0000000000118000.ckpt\n",
      "[buddy-fusion_7_n100] Saved checkpoint to path: checkpoints/fusion_7_n100-0000000000118500.ckpt\n",
      "[buddy-fusion_7_n100] Saved checkpoint to path: checkpoints/fusion_7_n100-0000000000119000.ckpt\n",
      "[buddy-fusion_7_n100] Saved checkpoint to path: checkpoints/fusion_7_n100-0000000000119500.ckpt\n",
      "[buddy-fusion_7_n100] Saved checkpoint to path: checkpoints/fusion_7_n100-0000000000120000.ckpt\n",
      "\n",
      "Epoch loss: 0.46854395\n",
      "\n",
      "Training epoch 8\n"
     ]
    },
    {
     "data": {
      "application/vnd.jupyter.widget-view+json": {
       "model_id": "a8664590bcee42acbd1842f3cc1c6e13",
       "version_major": 2,
       "version_minor": 0
      },
      "text/plain": [
       "HBox(children=(FloatProgress(value=0.0, max=15000.0), HTML(value='')))"
      ]
     },
     "metadata": {},
     "output_type": "display_data"
    },
    {
     "name": "stdout",
     "output_type": "stream",
     "text": [
      "[buddy-fusion_7_n100] Saved checkpoint to path: checkpoints/fusion_7_n100-0000000000120500.ckpt\n",
      "[buddy-fusion_7_n100] Saved checkpoint to path: checkpoints/fusion_7_n100-0000000000121000.ckpt\n",
      "[buddy-fusion_7_n100] Saved checkpoint to path: checkpoints/fusion_7_n100-0000000000121500.ckpt\n",
      "[buddy-fusion_7_n100] Saved checkpoint to path: checkpoints/fusion_7_n100-0000000000122000.ckpt\n",
      "[buddy-fusion_7_n100] Saved checkpoint to path: checkpoints/fusion_7_n100-0000000000122500.ckpt\n",
      "[buddy-fusion_7_n100] Saved checkpoint to path: checkpoints/fusion_7_n100-0000000000123000.ckpt\n",
      "[buddy-fusion_7_n100] Saved checkpoint to path: checkpoints/fusion_7_n100-0000000000123500.ckpt\n",
      "[buddy-fusion_7_n100] Saved checkpoint to path: checkpoints/fusion_7_n100-0000000000124000.ckpt\n",
      "[buddy-fusion_7_n100] Saved checkpoint to path: checkpoints/fusion_7_n100-0000000000124500.ckpt\n",
      "[buddy-fusion_7_n100] Saved checkpoint to path: checkpoints/fusion_7_n100-0000000000125000.ckpt\n",
      "[buddy-fusion_7_n100] Saved checkpoint to path: checkpoints/fusion_7_n100-0000000000125500.ckpt\n",
      "[buddy-fusion_7_n100] Saved checkpoint to path: checkpoints/fusion_7_n100-0000000000126000.ckpt\n",
      "[buddy-fusion_7_n100] Saved checkpoint to path: checkpoints/fusion_7_n100-0000000000126500.ckpt\n",
      "[buddy-fusion_7_n100] Saved checkpoint to path: checkpoints/fusion_7_n100-0000000000127000.ckpt\n",
      "[buddy-fusion_7_n100] Saved checkpoint to path: checkpoints/fusion_7_n100-0000000000127500.ckpt\n",
      "[buddy-fusion_7_n100] Saved checkpoint to path: checkpoints/fusion_7_n100-0000000000128000.ckpt\n",
      "[buddy-fusion_7_n100] Saved checkpoint to path: checkpoints/fusion_7_n100-0000000000128500.ckpt\n",
      "[buddy-fusion_7_n100] Saved checkpoint to path: checkpoints/fusion_7_n100-0000000000129000.ckpt\n",
      "[buddy-fusion_7_n100] Saved checkpoint to path: checkpoints/fusion_7_n100-0000000000129500.ckpt\n",
      "[buddy-fusion_7_n100] Saved checkpoint to path: checkpoints/fusion_7_n100-0000000000130000.ckpt\n",
      "[buddy-fusion_7_n100] Saved checkpoint to path: checkpoints/fusion_7_n100-0000000000130500.ckpt\n",
      "[buddy-fusion_7_n100] Saved checkpoint to path: checkpoints/fusion_7_n100-0000000000131000.ckpt\n",
      "[buddy-fusion_7_n100] Saved checkpoint to path: checkpoints/fusion_7_n100-0000000000131500.ckpt\n",
      "[buddy-fusion_7_n100] Saved checkpoint to path: checkpoints/fusion_7_n100-0000000000132000.ckpt\n",
      "[buddy-fusion_7_n100] Saved checkpoint to path: checkpoints/fusion_7_n100-0000000000132500.ckpt\n",
      "[buddy-fusion_7_n100] Saved checkpoint to path: checkpoints/fusion_7_n100-0000000000133000.ckpt\n",
      "[buddy-fusion_7_n100] Saved checkpoint to path: checkpoints/fusion_7_n100-0000000000133500.ckpt\n",
      "[buddy-fusion_7_n100] Saved checkpoint to path: checkpoints/fusion_7_n100-0000000000134000.ckpt\n",
      "[buddy-fusion_7_n100] Saved checkpoint to path: checkpoints/fusion_7_n100-0000000000134500.ckpt\n",
      "[buddy-fusion_7_n100] Saved checkpoint to path: checkpoints/fusion_7_n100-0000000000135000.ckpt\n",
      "\n",
      "Epoch loss: 0.4685416\n",
      "\n",
      "Training epoch 9\n"
     ]
    },
    {
     "data": {
      "application/vnd.jupyter.widget-view+json": {
       "model_id": "31d1f425797d435ba05d277e4001208b",
       "version_major": 2,
       "version_minor": 0
      },
      "text/plain": [
       "HBox(children=(FloatProgress(value=0.0, max=15000.0), HTML(value='')))"
      ]
     },
     "metadata": {},
     "output_type": "display_data"
    },
    {
     "name": "stdout",
     "output_type": "stream",
     "text": [
      "[buddy-fusion_7_n100] Saved checkpoint to path: checkpoints/fusion_7_n100-0000000000135500.ckpt\n",
      "[buddy-fusion_7_n100] Saved checkpoint to path: checkpoints/fusion_7_n100-0000000000136000.ckpt\n",
      "[buddy-fusion_7_n100] Saved checkpoint to path: checkpoints/fusion_7_n100-0000000000136500.ckpt\n",
      "[buddy-fusion_7_n100] Saved checkpoint to path: checkpoints/fusion_7_n100-0000000000137000.ckpt\n",
      "[buddy-fusion_7_n100] Saved checkpoint to path: checkpoints/fusion_7_n100-0000000000137500.ckpt\n",
      "[buddy-fusion_7_n100] Saved checkpoint to path: checkpoints/fusion_7_n100-0000000000138000.ckpt\n",
      "[buddy-fusion_7_n100] Saved checkpoint to path: checkpoints/fusion_7_n100-0000000000138500.ckpt\n",
      "[buddy-fusion_7_n100] Saved checkpoint to path: checkpoints/fusion_7_n100-0000000000139000.ckpt\n",
      "[buddy-fusion_7_n100] Saved checkpoint to path: checkpoints/fusion_7_n100-0000000000139500.ckpt\n",
      "[buddy-fusion_7_n100] Saved checkpoint to path: checkpoints/fusion_7_n100-0000000000140000.ckpt\n",
      "[buddy-fusion_7_n100] Saved checkpoint to path: checkpoints/fusion_7_n100-0000000000140500.ckpt\n",
      "[buddy-fusion_7_n100] Saved checkpoint to path: checkpoints/fusion_7_n100-0000000000141000.ckpt\n",
      "[buddy-fusion_7_n100] Saved checkpoint to path: checkpoints/fusion_7_n100-0000000000141500.ckpt\n",
      "[buddy-fusion_7_n100] Saved checkpoint to path: checkpoints/fusion_7_n100-0000000000142000.ckpt\n",
      "[buddy-fusion_7_n100] Saved checkpoint to path: checkpoints/fusion_7_n100-0000000000142500.ckpt\n",
      "[buddy-fusion_7_n100] Saved checkpoint to path: checkpoints/fusion_7_n100-0000000000143000.ckpt\n",
      "[buddy-fusion_7_n100] Saved checkpoint to path: checkpoints/fusion_7_n100-0000000000143500.ckpt\n",
      "[buddy-fusion_7_n100] Saved checkpoint to path: checkpoints/fusion_7_n100-0000000000144000.ckpt\n",
      "[buddy-fusion_7_n100] Saved checkpoint to path: checkpoints/fusion_7_n100-0000000000144500.ckpt\n",
      "[buddy-fusion_7_n100] Saved checkpoint to path: checkpoints/fusion_7_n100-0000000000145000.ckpt\n",
      "[buddy-fusion_7_n100] Saved checkpoint to path: checkpoints/fusion_7_n100-0000000000145500.ckpt\n",
      "[buddy-fusion_7_n100] Saved checkpoint to path: checkpoints/fusion_7_n100-0000000000146000.ckpt\n",
      "[buddy-fusion_7_n100] Saved checkpoint to path: checkpoints/fusion_7_n100-0000000000146500.ckpt\n",
      "[buddy-fusion_7_n100] Saved checkpoint to path: checkpoints/fusion_7_n100-0000000000147000.ckpt\n",
      "[buddy-fusion_7_n100] Saved checkpoint to path: checkpoints/fusion_7_n100-0000000000147500.ckpt\n",
      "[buddy-fusion_7_n100] Saved checkpoint to path: checkpoints/fusion_7_n100-0000000000148000.ckpt\n",
      "[buddy-fusion_7_n100] Saved checkpoint to path: checkpoints/fusion_7_n100-0000000000148500.ckpt\n",
      "[buddy-fusion_7_n100] Saved checkpoint to path: checkpoints/fusion_7_n100-0000000000149000.ckpt\n",
      "[buddy-fusion_7_n100] Saved checkpoint to path: checkpoints/fusion_7_n100-0000000000149500.ckpt\n",
      "[buddy-fusion_7_n100] Saved checkpoint to path: checkpoints/fusion_7_n100-0000000000150000.ckpt\n",
      "\n",
      "Epoch loss: 0.46854252\n",
      "\n",
      "Training epoch 0\n"
     ]
    },
    {
     "data": {
      "application/vnd.jupyter.widget-view+json": {
       "model_id": "cf6e4ab388d04f5ba35c307105ef865e",
       "version_major": 2,
       "version_minor": 0
      },
      "text/plain": [
       "HBox(children=(FloatProgress(value=0.0, max=15000.0), HTML(value='')))"
      ]
     },
     "metadata": {},
     "output_type": "display_data"
    },
    {
     "name": "stdout",
     "output_type": "stream",
     "text": [
      "[buddy-fusion_7_n100] Saved checkpoint to path: checkpoints/fusion_7_n100-0000000000150500.ckpt\n",
      "[buddy-fusion_7_n100] Saved checkpoint to path: checkpoints/fusion_7_n100-0000000000151000.ckpt\n",
      "[buddy-fusion_7_n100] Saved checkpoint to path: checkpoints/fusion_7_n100-0000000000151500.ckpt\n",
      "[buddy-fusion_7_n100] Saved checkpoint to path: checkpoints/fusion_7_n100-0000000000152000.ckpt\n",
      "[buddy-fusion_7_n100] Saved checkpoint to path: checkpoints/fusion_7_n100-0000000000152500.ckpt\n",
      "[buddy-fusion_7_n100] Saved checkpoint to path: checkpoints/fusion_7_n100-0000000000153000.ckpt\n",
      "[buddy-fusion_7_n100] Saved checkpoint to path: checkpoints/fusion_7_n100-0000000000153500.ckpt\n",
      "[buddy-fusion_7_n100] Saved checkpoint to path: checkpoints/fusion_7_n100-0000000000154000.ckpt\n",
      "[buddy-fusion_7_n100] Saved checkpoint to path: checkpoints/fusion_7_n100-0000000000154500.ckpt\n",
      "[buddy-fusion_7_n100] Saved checkpoint to path: checkpoints/fusion_7_n100-0000000000155000.ckpt\n",
      "[buddy-fusion_7_n100] Saved checkpoint to path: checkpoints/fusion_7_n100-0000000000155500.ckpt\n",
      "[buddy-fusion_7_n100] Saved checkpoint to path: checkpoints/fusion_7_n100-0000000000156000.ckpt\n",
      "[buddy-fusion_7_n100] Saved checkpoint to path: checkpoints/fusion_7_n100-0000000000156500.ckpt\n",
      "[buddy-fusion_7_n100] Saved checkpoint to path: checkpoints/fusion_7_n100-0000000000157000.ckpt\n",
      "[buddy-fusion_7_n100] Saved checkpoint to path: checkpoints/fusion_7_n100-0000000000157500.ckpt\n",
      "[buddy-fusion_7_n100] Saved checkpoint to path: checkpoints/fusion_7_n100-0000000000158000.ckpt\n",
      "[buddy-fusion_7_n100] Saved checkpoint to path: checkpoints/fusion_7_n100-0000000000158500.ckpt\n",
      "[buddy-fusion_7_n100] Saved checkpoint to path: checkpoints/fusion_7_n100-0000000000159000.ckpt\n",
      "[buddy-fusion_7_n100] Saved checkpoint to path: checkpoints/fusion_7_n100-0000000000159500.ckpt\n",
      "[buddy-fusion_7_n100] Saved checkpoint to path: checkpoints/fusion_7_n100-0000000000160000.ckpt\n",
      "[buddy-fusion_7_n100] Saved checkpoint to path: checkpoints/fusion_7_n100-0000000000160500.ckpt\n",
      "[buddy-fusion_7_n100] Saved checkpoint to path: checkpoints/fusion_7_n100-0000000000161000.ckpt\n",
      "[buddy-fusion_7_n100] Saved checkpoint to path: checkpoints/fusion_7_n100-0000000000161500.ckpt\n",
      "[buddy-fusion_7_n100] Saved checkpoint to path: checkpoints/fusion_7_n100-0000000000162000.ckpt\n",
      "[buddy-fusion_7_n100] Saved checkpoint to path: checkpoints/fusion_7_n100-0000000000162500.ckpt\n",
      "[buddy-fusion_7_n100] Saved checkpoint to path: checkpoints/fusion_7_n100-0000000000163000.ckpt\n",
      "[buddy-fusion_7_n100] Saved checkpoint to path: checkpoints/fusion_7_n100-0000000000163500.ckpt\n",
      "[buddy-fusion_7_n100] Saved checkpoint to path: checkpoints/fusion_7_n100-0000000000164000.ckpt\n",
      "[buddy-fusion_7_n100] Saved checkpoint to path: checkpoints/fusion_7_n100-0000000000164500.ckpt\n",
      "[buddy-fusion_7_n100] Saved checkpoint to path: checkpoints/fusion_7_n100-0000000000165000.ckpt\n",
      "\n",
      "Epoch loss: 0.93107575\n",
      "\n",
      "Training epoch 1\n"
     ]
    },
    {
     "data": {
      "application/vnd.jupyter.widget-view+json": {
       "model_id": "5c58ff821f3943709d6547bc09ee026c",
       "version_major": 2,
       "version_minor": 0
      },
      "text/plain": [
       "HBox(children=(FloatProgress(value=0.0, max=15000.0), HTML(value='')))"
      ]
     },
     "metadata": {},
     "output_type": "display_data"
    },
    {
     "name": "stdout",
     "output_type": "stream",
     "text": [
      "[buddy-fusion_7_n100] Saved checkpoint to path: checkpoints/fusion_7_n100-0000000000165500.ckpt\n",
      "[buddy-fusion_7_n100] Saved checkpoint to path: checkpoints/fusion_7_n100-0000000000166000.ckpt\n",
      "[buddy-fusion_7_n100] Saved checkpoint to path: checkpoints/fusion_7_n100-0000000000166500.ckpt\n",
      "[buddy-fusion_7_n100] Saved checkpoint to path: checkpoints/fusion_7_n100-0000000000167000.ckpt\n",
      "[buddy-fusion_7_n100] Saved checkpoint to path: checkpoints/fusion_7_n100-0000000000167500.ckpt\n",
      "[buddy-fusion_7_n100] Saved checkpoint to path: checkpoints/fusion_7_n100-0000000000168000.ckpt\n",
      "[buddy-fusion_7_n100] Saved checkpoint to path: checkpoints/fusion_7_n100-0000000000168500.ckpt\n",
      "[buddy-fusion_7_n100] Saved checkpoint to path: checkpoints/fusion_7_n100-0000000000169000.ckpt\n",
      "[buddy-fusion_7_n100] Saved checkpoint to path: checkpoints/fusion_7_n100-0000000000169500.ckpt\n",
      "[buddy-fusion_7_n100] Saved checkpoint to path: checkpoints/fusion_7_n100-0000000000170000.ckpt\n",
      "[buddy-fusion_7_n100] Saved checkpoint to path: checkpoints/fusion_7_n100-0000000000170500.ckpt\n",
      "[buddy-fusion_7_n100] Saved checkpoint to path: checkpoints/fusion_7_n100-0000000000171000.ckpt\n",
      "[buddy-fusion_7_n100] Saved checkpoint to path: checkpoints/fusion_7_n100-0000000000171500.ckpt\n",
      "[buddy-fusion_7_n100] Saved checkpoint to path: checkpoints/fusion_7_n100-0000000000172000.ckpt\n",
      "[buddy-fusion_7_n100] Saved checkpoint to path: checkpoints/fusion_7_n100-0000000000172500.ckpt\n",
      "[buddy-fusion_7_n100] Saved checkpoint to path: checkpoints/fusion_7_n100-0000000000173000.ckpt\n",
      "[buddy-fusion_7_n100] Saved checkpoint to path: checkpoints/fusion_7_n100-0000000000173500.ckpt\n",
      "[buddy-fusion_7_n100] Saved checkpoint to path: checkpoints/fusion_7_n100-0000000000174000.ckpt\n",
      "[buddy-fusion_7_n100] Saved checkpoint to path: checkpoints/fusion_7_n100-0000000000174500.ckpt\n",
      "[buddy-fusion_7_n100] Saved checkpoint to path: checkpoints/fusion_7_n100-0000000000175000.ckpt\n",
      "[buddy-fusion_7_n100] Saved checkpoint to path: checkpoints/fusion_7_n100-0000000000175500.ckpt\n",
      "[buddy-fusion_7_n100] Saved checkpoint to path: checkpoints/fusion_7_n100-0000000000176000.ckpt\n",
      "[buddy-fusion_7_n100] Saved checkpoint to path: checkpoints/fusion_7_n100-0000000000176500.ckpt\n",
      "[buddy-fusion_7_n100] Saved checkpoint to path: checkpoints/fusion_7_n100-0000000000177000.ckpt\n",
      "[buddy-fusion_7_n100] Saved checkpoint to path: checkpoints/fusion_7_n100-0000000000177500.ckpt\n",
      "[buddy-fusion_7_n100] Saved checkpoint to path: checkpoints/fusion_7_n100-0000000000178000.ckpt\n",
      "[buddy-fusion_7_n100] Saved checkpoint to path: checkpoints/fusion_7_n100-0000000000178500.ckpt\n",
      "[buddy-fusion_7_n100] Saved checkpoint to path: checkpoints/fusion_7_n100-0000000000179000.ckpt\n",
      "[buddy-fusion_7_n100] Saved checkpoint to path: checkpoints/fusion_7_n100-0000000000179500.ckpt\n",
      "[buddy-fusion_7_n100] Saved checkpoint to path: checkpoints/fusion_7_n100-0000000000180000.ckpt\n",
      "\n",
      "Epoch loss: 0.8915164\n",
      "\n",
      "Training epoch 2\n"
     ]
    },
    {
     "data": {
      "application/vnd.jupyter.widget-view+json": {
       "model_id": "dbccbc0fb7c44bb383b9d0fe1cd99aef",
       "version_major": 2,
       "version_minor": 0
      },
      "text/plain": [
       "HBox(children=(FloatProgress(value=0.0, max=15000.0), HTML(value='')))"
      ]
     },
     "metadata": {},
     "output_type": "display_data"
    },
    {
     "name": "stdout",
     "output_type": "stream",
     "text": [
      "[buddy-fusion_7_n100] Saved checkpoint to path: checkpoints/fusion_7_n100-0000000000180500.ckpt\n",
      "[buddy-fusion_7_n100] Saved checkpoint to path: checkpoints/fusion_7_n100-0000000000181000.ckpt\n",
      "[buddy-fusion_7_n100] Saved checkpoint to path: checkpoints/fusion_7_n100-0000000000181500.ckpt\n",
      "[buddy-fusion_7_n100] Saved checkpoint to path: checkpoints/fusion_7_n100-0000000000182000.ckpt\n",
      "[buddy-fusion_7_n100] Saved checkpoint to path: checkpoints/fusion_7_n100-0000000000182500.ckpt\n",
      "[buddy-fusion_7_n100] Saved checkpoint to path: checkpoints/fusion_7_n100-0000000000183000.ckpt\n",
      "[buddy-fusion_7_n100] Saved checkpoint to path: checkpoints/fusion_7_n100-0000000000183500.ckpt\n",
      "[buddy-fusion_7_n100] Saved checkpoint to path: checkpoints/fusion_7_n100-0000000000184000.ckpt\n",
      "[buddy-fusion_7_n100] Saved checkpoint to path: checkpoints/fusion_7_n100-0000000000184500.ckpt\n",
      "[buddy-fusion_7_n100] Saved checkpoint to path: checkpoints/fusion_7_n100-0000000000185000.ckpt\n",
      "[buddy-fusion_7_n100] Saved checkpoint to path: checkpoints/fusion_7_n100-0000000000185500.ckpt\n",
      "[buddy-fusion_7_n100] Saved checkpoint to path: checkpoints/fusion_7_n100-0000000000186000.ckpt\n",
      "[buddy-fusion_7_n100] Saved checkpoint to path: checkpoints/fusion_7_n100-0000000000186500.ckpt\n",
      "[buddy-fusion_7_n100] Saved checkpoint to path: checkpoints/fusion_7_n100-0000000000187000.ckpt\n",
      "[buddy-fusion_7_n100] Saved checkpoint to path: checkpoints/fusion_7_n100-0000000000187500.ckpt\n",
      "[buddy-fusion_7_n100] Saved checkpoint to path: checkpoints/fusion_7_n100-0000000000188000.ckpt\n",
      "[buddy-fusion_7_n100] Saved checkpoint to path: checkpoints/fusion_7_n100-0000000000188500.ckpt\n",
      "[buddy-fusion_7_n100] Saved checkpoint to path: checkpoints/fusion_7_n100-0000000000189000.ckpt\n",
      "[buddy-fusion_7_n100] Saved checkpoint to path: checkpoints/fusion_7_n100-0000000000189500.ckpt\n",
      "[buddy-fusion_7_n100] Saved checkpoint to path: checkpoints/fusion_7_n100-0000000000190000.ckpt\n",
      "[buddy-fusion_7_n100] Saved checkpoint to path: checkpoints/fusion_7_n100-0000000000190500.ckpt\n",
      "[buddy-fusion_7_n100] Saved checkpoint to path: checkpoints/fusion_7_n100-0000000000191000.ckpt\n",
      "[buddy-fusion_7_n100] Saved checkpoint to path: checkpoints/fusion_7_n100-0000000000191500.ckpt\n",
      "[buddy-fusion_7_n100] Saved checkpoint to path: checkpoints/fusion_7_n100-0000000000192000.ckpt\n",
      "[buddy-fusion_7_n100] Saved checkpoint to path: checkpoints/fusion_7_n100-0000000000192500.ckpt\n",
      "[buddy-fusion_7_n100] Saved checkpoint to path: checkpoints/fusion_7_n100-0000000000193000.ckpt\n",
      "[buddy-fusion_7_n100] Saved checkpoint to path: checkpoints/fusion_7_n100-0000000000193500.ckpt\n",
      "[buddy-fusion_7_n100] Saved checkpoint to path: checkpoints/fusion_7_n100-0000000000194000.ckpt\n",
      "[buddy-fusion_7_n100] Saved checkpoint to path: checkpoints/fusion_7_n100-0000000000194500.ckpt\n",
      "[buddy-fusion_7_n100] Saved checkpoint to path: checkpoints/fusion_7_n100-0000000000195000.ckpt\n",
      "\n",
      "Epoch loss: 0.8863304\n",
      "\n",
      "Training epoch 3\n"
     ]
    },
    {
     "data": {
      "application/vnd.jupyter.widget-view+json": {
       "model_id": "dd7665be75b441358d75791495c30674",
       "version_major": 2,
       "version_minor": 0
      },
      "text/plain": [
       "HBox(children=(FloatProgress(value=0.0, max=15000.0), HTML(value='')))"
      ]
     },
     "metadata": {},
     "output_type": "display_data"
    },
    {
     "name": "stdout",
     "output_type": "stream",
     "text": [
      "[buddy-fusion_7_n100] Saved checkpoint to path: checkpoints/fusion_7_n100-0000000000195500.ckpt\n",
      "[buddy-fusion_7_n100] Saved checkpoint to path: checkpoints/fusion_7_n100-0000000000196000.ckpt\n",
      "[buddy-fusion_7_n100] Saved checkpoint to path: checkpoints/fusion_7_n100-0000000000196500.ckpt\n",
      "[buddy-fusion_7_n100] Saved checkpoint to path: checkpoints/fusion_7_n100-0000000000197000.ckpt\n",
      "[buddy-fusion_7_n100] Saved checkpoint to path: checkpoints/fusion_7_n100-0000000000197500.ckpt\n",
      "[buddy-fusion_7_n100] Saved checkpoint to path: checkpoints/fusion_7_n100-0000000000198000.ckpt\n",
      "[buddy-fusion_7_n100] Saved checkpoint to path: checkpoints/fusion_7_n100-0000000000198500.ckpt\n",
      "[buddy-fusion_7_n100] Saved checkpoint to path: checkpoints/fusion_7_n100-0000000000199000.ckpt\n",
      "[buddy-fusion_7_n100] Saved checkpoint to path: checkpoints/fusion_7_n100-0000000000199500.ckpt\n",
      "[buddy-fusion_7_n100] Saved checkpoint to path: checkpoints/fusion_7_n100-0000000000200000.ckpt\n",
      "[buddy-fusion_7_n100] Saved checkpoint to path: checkpoints/fusion_7_n100-0000000000200500.ckpt\n",
      "[buddy-fusion_7_n100] Saved checkpoint to path: checkpoints/fusion_7_n100-0000000000201000.ckpt\n",
      "[buddy-fusion_7_n100] Saved checkpoint to path: checkpoints/fusion_7_n100-0000000000201500.ckpt\n",
      "[buddy-fusion_7_n100] Saved checkpoint to path: checkpoints/fusion_7_n100-0000000000202000.ckpt\n",
      "[buddy-fusion_7_n100] Saved checkpoint to path: checkpoints/fusion_7_n100-0000000000202500.ckpt\n",
      "[buddy-fusion_7_n100] Saved checkpoint to path: checkpoints/fusion_7_n100-0000000000203000.ckpt\n",
      "[buddy-fusion_7_n100] Saved checkpoint to path: checkpoints/fusion_7_n100-0000000000203500.ckpt\n",
      "[buddy-fusion_7_n100] Saved checkpoint to path: checkpoints/fusion_7_n100-0000000000204000.ckpt\n",
      "[buddy-fusion_7_n100] Saved checkpoint to path: checkpoints/fusion_7_n100-0000000000204500.ckpt\n",
      "[buddy-fusion_7_n100] Saved checkpoint to path: checkpoints/fusion_7_n100-0000000000205000.ckpt\n",
      "[buddy-fusion_7_n100] Saved checkpoint to path: checkpoints/fusion_7_n100-0000000000205500.ckpt\n",
      "[buddy-fusion_7_n100] Saved checkpoint to path: checkpoints/fusion_7_n100-0000000000206000.ckpt\n",
      "[buddy-fusion_7_n100] Saved checkpoint to path: checkpoints/fusion_7_n100-0000000000206500.ckpt\n",
      "[buddy-fusion_7_n100] Saved checkpoint to path: checkpoints/fusion_7_n100-0000000000207000.ckpt\n",
      "[buddy-fusion_7_n100] Saved checkpoint to path: checkpoints/fusion_7_n100-0000000000207500.ckpt\n",
      "[buddy-fusion_7_n100] Saved checkpoint to path: checkpoints/fusion_7_n100-0000000000208000.ckpt\n",
      "[buddy-fusion_7_n100] Saved checkpoint to path: checkpoints/fusion_7_n100-0000000000208500.ckpt\n",
      "[buddy-fusion_7_n100] Saved checkpoint to path: checkpoints/fusion_7_n100-0000000000209000.ckpt\n",
      "[buddy-fusion_7_n100] Saved checkpoint to path: checkpoints/fusion_7_n100-0000000000209500.ckpt\n",
      "[buddy-fusion_7_n100] Saved checkpoint to path: checkpoints/fusion_7_n100-0000000000210000.ckpt\n",
      "\n",
      "Epoch loss: 0.88614553\n",
      "\n",
      "Training epoch 4\n"
     ]
    },
    {
     "data": {
      "application/vnd.jupyter.widget-view+json": {
       "model_id": "aed515a5b0654ea5946db4b45de79c69",
       "version_major": 2,
       "version_minor": 0
      },
      "text/plain": [
       "HBox(children=(FloatProgress(value=0.0, max=15000.0), HTML(value='')))"
      ]
     },
     "metadata": {},
     "output_type": "display_data"
    },
    {
     "name": "stdout",
     "output_type": "stream",
     "text": [
      "[buddy-fusion_7_n100] Saved checkpoint to path: checkpoints/fusion_7_n100-0000000000210500.ckpt\n",
      "[buddy-fusion_7_n100] Saved checkpoint to path: checkpoints/fusion_7_n100-0000000000211000.ckpt\n",
      "[buddy-fusion_7_n100] Saved checkpoint to path: checkpoints/fusion_7_n100-0000000000211500.ckpt\n",
      "[buddy-fusion_7_n100] Saved checkpoint to path: checkpoints/fusion_7_n100-0000000000212000.ckpt\n",
      "[buddy-fusion_7_n100] Saved checkpoint to path: checkpoints/fusion_7_n100-0000000000212500.ckpt\n",
      "[buddy-fusion_7_n100] Saved checkpoint to path: checkpoints/fusion_7_n100-0000000000213000.ckpt\n",
      "[buddy-fusion_7_n100] Saved checkpoint to path: checkpoints/fusion_7_n100-0000000000213500.ckpt\n",
      "[buddy-fusion_7_n100] Saved checkpoint to path: checkpoints/fusion_7_n100-0000000000214000.ckpt\n",
      "[buddy-fusion_7_n100] Saved checkpoint to path: checkpoints/fusion_7_n100-0000000000214500.ckpt\n",
      "[buddy-fusion_7_n100] Saved checkpoint to path: checkpoints/fusion_7_n100-0000000000215000.ckpt\n",
      "[buddy-fusion_7_n100] Saved checkpoint to path: checkpoints/fusion_7_n100-0000000000215500.ckpt\n",
      "[buddy-fusion_7_n100] Saved checkpoint to path: checkpoints/fusion_7_n100-0000000000216000.ckpt\n",
      "[buddy-fusion_7_n100] Saved checkpoint to path: checkpoints/fusion_7_n100-0000000000216500.ckpt\n",
      "[buddy-fusion_7_n100] Saved checkpoint to path: checkpoints/fusion_7_n100-0000000000217000.ckpt\n",
      "[buddy-fusion_7_n100] Saved checkpoint to path: checkpoints/fusion_7_n100-0000000000217500.ckpt\n",
      "[buddy-fusion_7_n100] Saved checkpoint to path: checkpoints/fusion_7_n100-0000000000218000.ckpt\n",
      "[buddy-fusion_7_n100] Saved checkpoint to path: checkpoints/fusion_7_n100-0000000000218500.ckpt\n",
      "[buddy-fusion_7_n100] Saved checkpoint to path: checkpoints/fusion_7_n100-0000000000219000.ckpt\n",
      "[buddy-fusion_7_n100] Saved checkpoint to path: checkpoints/fusion_7_n100-0000000000219500.ckpt\n",
      "[buddy-fusion_7_n100] Saved checkpoint to path: checkpoints/fusion_7_n100-0000000000220000.ckpt\n",
      "[buddy-fusion_7_n100] Saved checkpoint to path: checkpoints/fusion_7_n100-0000000000220500.ckpt\n",
      "[buddy-fusion_7_n100] Saved checkpoint to path: checkpoints/fusion_7_n100-0000000000221000.ckpt\n",
      "[buddy-fusion_7_n100] Saved checkpoint to path: checkpoints/fusion_7_n100-0000000000221500.ckpt\n",
      "[buddy-fusion_7_n100] Saved checkpoint to path: checkpoints/fusion_7_n100-0000000000222000.ckpt\n",
      "[buddy-fusion_7_n100] Saved checkpoint to path: checkpoints/fusion_7_n100-0000000000222500.ckpt\n",
      "[buddy-fusion_7_n100] Saved checkpoint to path: checkpoints/fusion_7_n100-0000000000223000.ckpt\n",
      "[buddy-fusion_7_n100] Saved checkpoint to path: checkpoints/fusion_7_n100-0000000000223500.ckpt\n",
      "[buddy-fusion_7_n100] Saved checkpoint to path: checkpoints/fusion_7_n100-0000000000224000.ckpt\n",
      "[buddy-fusion_7_n100] Saved checkpoint to path: checkpoints/fusion_7_n100-0000000000224500.ckpt\n",
      "[buddy-fusion_7_n100] Saved checkpoint to path: checkpoints/fusion_7_n100-0000000000225000.ckpt\n",
      "\n",
      "Epoch loss: 0.8207549\n",
      "\n",
      "Training epoch 5\n"
     ]
    },
    {
     "data": {
      "application/vnd.jupyter.widget-view+json": {
       "model_id": "4a8b04c7493b4059b90c47c61212af70",
       "version_major": 2,
       "version_minor": 0
      },
      "text/plain": [
       "HBox(children=(FloatProgress(value=0.0, max=15000.0), HTML(value='')))"
      ]
     },
     "metadata": {},
     "output_type": "display_data"
    },
    {
     "name": "stdout",
     "output_type": "stream",
     "text": [
      "[buddy-fusion_7_n100] Saved checkpoint to path: checkpoints/fusion_7_n100-0000000000225500.ckpt\n",
      "[buddy-fusion_7_n100] Saved checkpoint to path: checkpoints/fusion_7_n100-0000000000226000.ckpt\n",
      "[buddy-fusion_7_n100] Saved checkpoint to path: checkpoints/fusion_7_n100-0000000000226500.ckpt\n",
      "[buddy-fusion_7_n100] Saved checkpoint to path: checkpoints/fusion_7_n100-0000000000227000.ckpt\n",
      "[buddy-fusion_7_n100] Saved checkpoint to path: checkpoints/fusion_7_n100-0000000000227500.ckpt\n",
      "[buddy-fusion_7_n100] Saved checkpoint to path: checkpoints/fusion_7_n100-0000000000228000.ckpt\n",
      "[buddy-fusion_7_n100] Saved checkpoint to path: checkpoints/fusion_7_n100-0000000000228500.ckpt\n",
      "[buddy-fusion_7_n100] Saved checkpoint to path: checkpoints/fusion_7_n100-0000000000229000.ckpt\n",
      "[buddy-fusion_7_n100] Saved checkpoint to path: checkpoints/fusion_7_n100-0000000000229500.ckpt\n",
      "[buddy-fusion_7_n100] Saved checkpoint to path: checkpoints/fusion_7_n100-0000000000230000.ckpt\n",
      "[buddy-fusion_7_n100] Saved checkpoint to path: checkpoints/fusion_7_n100-0000000000230500.ckpt\n",
      "[buddy-fusion_7_n100] Saved checkpoint to path: checkpoints/fusion_7_n100-0000000000231000.ckpt\n",
      "[buddy-fusion_7_n100] Saved checkpoint to path: checkpoints/fusion_7_n100-0000000000231500.ckpt\n",
      "[buddy-fusion_7_n100] Saved checkpoint to path: checkpoints/fusion_7_n100-0000000000232000.ckpt\n",
      "[buddy-fusion_7_n100] Saved checkpoint to path: checkpoints/fusion_7_n100-0000000000232500.ckpt\n",
      "[buddy-fusion_7_n100] Saved checkpoint to path: checkpoints/fusion_7_n100-0000000000233000.ckpt\n",
      "[buddy-fusion_7_n100] Saved checkpoint to path: checkpoints/fusion_7_n100-0000000000233500.ckpt\n",
      "[buddy-fusion_7_n100] Saved checkpoint to path: checkpoints/fusion_7_n100-0000000000234000.ckpt\n",
      "[buddy-fusion_7_n100] Saved checkpoint to path: checkpoints/fusion_7_n100-0000000000234500.ckpt\n",
      "[buddy-fusion_7_n100] Saved checkpoint to path: checkpoints/fusion_7_n100-0000000000235000.ckpt\n",
      "[buddy-fusion_7_n100] Saved checkpoint to path: checkpoints/fusion_7_n100-0000000000235500.ckpt\n",
      "[buddy-fusion_7_n100] Saved checkpoint to path: checkpoints/fusion_7_n100-0000000000236000.ckpt\n",
      "[buddy-fusion_7_n100] Saved checkpoint to path: checkpoints/fusion_7_n100-0000000000236500.ckpt\n",
      "[buddy-fusion_7_n100] Saved checkpoint to path: checkpoints/fusion_7_n100-0000000000237000.ckpt\n",
      "[buddy-fusion_7_n100] Saved checkpoint to path: checkpoints/fusion_7_n100-0000000000237500.ckpt\n",
      "[buddy-fusion_7_n100] Saved checkpoint to path: checkpoints/fusion_7_n100-0000000000238000.ckpt\n",
      "[buddy-fusion_7_n100] Saved checkpoint to path: checkpoints/fusion_7_n100-0000000000238500.ckpt\n",
      "[buddy-fusion_7_n100] Saved checkpoint to path: checkpoints/fusion_7_n100-0000000000239000.ckpt\n",
      "[buddy-fusion_7_n100] Saved checkpoint to path: checkpoints/fusion_7_n100-0000000000239500.ckpt\n",
      "[buddy-fusion_7_n100] Saved checkpoint to path: checkpoints/fusion_7_n100-0000000000240000.ckpt\n",
      "\n",
      "Epoch loss: 0.8105192\n",
      "\n",
      "Training epoch 6\n"
     ]
    },
    {
     "data": {
      "application/vnd.jupyter.widget-view+json": {
       "model_id": "3108a46a4ce64d5b84069ff070740919",
       "version_major": 2,
       "version_minor": 0
      },
      "text/plain": [
       "HBox(children=(FloatProgress(value=0.0, max=15000.0), HTML(value='')))"
      ]
     },
     "metadata": {},
     "output_type": "display_data"
    },
    {
     "name": "stdout",
     "output_type": "stream",
     "text": [
      "[buddy-fusion_7_n100] Saved checkpoint to path: checkpoints/fusion_7_n100-0000000000240500.ckpt\n",
      "[buddy-fusion_7_n100] Saved checkpoint to path: checkpoints/fusion_7_n100-0000000000241000.ckpt\n",
      "[buddy-fusion_7_n100] Saved checkpoint to path: checkpoints/fusion_7_n100-0000000000241500.ckpt\n",
      "[buddy-fusion_7_n100] Saved checkpoint to path: checkpoints/fusion_7_n100-0000000000242000.ckpt\n",
      "[buddy-fusion_7_n100] Saved checkpoint to path: checkpoints/fusion_7_n100-0000000000242500.ckpt\n",
      "[buddy-fusion_7_n100] Saved checkpoint to path: checkpoints/fusion_7_n100-0000000000243000.ckpt\n",
      "[buddy-fusion_7_n100] Saved checkpoint to path: checkpoints/fusion_7_n100-0000000000243500.ckpt\n",
      "[buddy-fusion_7_n100] Saved checkpoint to path: checkpoints/fusion_7_n100-0000000000244000.ckpt\n",
      "[buddy-fusion_7_n100] Saved checkpoint to path: checkpoints/fusion_7_n100-0000000000244500.ckpt\n",
      "[buddy-fusion_7_n100] Saved checkpoint to path: checkpoints/fusion_7_n100-0000000000245000.ckpt\n",
      "[buddy-fusion_7_n100] Saved checkpoint to path: checkpoints/fusion_7_n100-0000000000245500.ckpt\n",
      "[buddy-fusion_7_n100] Saved checkpoint to path: checkpoints/fusion_7_n100-0000000000246000.ckpt\n",
      "[buddy-fusion_7_n100] Saved checkpoint to path: checkpoints/fusion_7_n100-0000000000246500.ckpt\n",
      "[buddy-fusion_7_n100] Saved checkpoint to path: checkpoints/fusion_7_n100-0000000000247000.ckpt\n",
      "[buddy-fusion_7_n100] Saved checkpoint to path: checkpoints/fusion_7_n100-0000000000247500.ckpt\n",
      "[buddy-fusion_7_n100] Saved checkpoint to path: checkpoints/fusion_7_n100-0000000000248000.ckpt\n",
      "[buddy-fusion_7_n100] Saved checkpoint to path: checkpoints/fusion_7_n100-0000000000248500.ckpt\n",
      "[buddy-fusion_7_n100] Saved checkpoint to path: checkpoints/fusion_7_n100-0000000000249000.ckpt\n",
      "[buddy-fusion_7_n100] Saved checkpoint to path: checkpoints/fusion_7_n100-0000000000249500.ckpt\n",
      "[buddy-fusion_7_n100] Saved checkpoint to path: checkpoints/fusion_7_n100-0000000000250000.ckpt\n",
      "[buddy-fusion_7_n100] Saved checkpoint to path: checkpoints/fusion_7_n100-0000000000250500.ckpt\n",
      "[buddy-fusion_7_n100] Saved checkpoint to path: checkpoints/fusion_7_n100-0000000000251000.ckpt\n",
      "[buddy-fusion_7_n100] Saved checkpoint to path: checkpoints/fusion_7_n100-0000000000251500.ckpt\n",
      "[buddy-fusion_7_n100] Saved checkpoint to path: checkpoints/fusion_7_n100-0000000000252000.ckpt\n",
      "[buddy-fusion_7_n100] Saved checkpoint to path: checkpoints/fusion_7_n100-0000000000252500.ckpt\n",
      "[buddy-fusion_7_n100] Saved checkpoint to path: checkpoints/fusion_7_n100-0000000000253000.ckpt\n",
      "[buddy-fusion_7_n100] Saved checkpoint to path: checkpoints/fusion_7_n100-0000000000253500.ckpt\n",
      "[buddy-fusion_7_n100] Saved checkpoint to path: checkpoints/fusion_7_n100-0000000000254000.ckpt\n",
      "[buddy-fusion_7_n100] Saved checkpoint to path: checkpoints/fusion_7_n100-0000000000254500.ckpt\n",
      "[buddy-fusion_7_n100] Saved checkpoint to path: checkpoints/fusion_7_n100-0000000000255000.ckpt\n",
      "\n",
      "Epoch loss: 0.8101955\n",
      "\n",
      "Training epoch 7\n"
     ]
    },
    {
     "data": {
      "application/vnd.jupyter.widget-view+json": {
       "model_id": "ab0aad6514114631ab8df51483498dc8",
       "version_major": 2,
       "version_minor": 0
      },
      "text/plain": [
       "HBox(children=(FloatProgress(value=0.0, max=15000.0), HTML(value='')))"
      ]
     },
     "metadata": {},
     "output_type": "display_data"
    },
    {
     "name": "stdout",
     "output_type": "stream",
     "text": [
      "[buddy-fusion_7_n100] Saved checkpoint to path: checkpoints/fusion_7_n100-0000000000255500.ckpt\n",
      "[buddy-fusion_7_n100] Saved checkpoint to path: checkpoints/fusion_7_n100-0000000000256000.ckpt\n",
      "[buddy-fusion_7_n100] Saved checkpoint to path: checkpoints/fusion_7_n100-0000000000256500.ckpt\n",
      "[buddy-fusion_7_n100] Saved checkpoint to path: checkpoints/fusion_7_n100-0000000000257000.ckpt\n",
      "[buddy-fusion_7_n100] Saved checkpoint to path: checkpoints/fusion_7_n100-0000000000257500.ckpt\n",
      "[buddy-fusion_7_n100] Saved checkpoint to path: checkpoints/fusion_7_n100-0000000000258000.ckpt\n",
      "[buddy-fusion_7_n100] Saved checkpoint to path: checkpoints/fusion_7_n100-0000000000258500.ckpt\n",
      "[buddy-fusion_7_n100] Saved checkpoint to path: checkpoints/fusion_7_n100-0000000000259000.ckpt\n",
      "[buddy-fusion_7_n100] Saved checkpoint to path: checkpoints/fusion_7_n100-0000000000259500.ckpt\n",
      "[buddy-fusion_7_n100] Saved checkpoint to path: checkpoints/fusion_7_n100-0000000000260000.ckpt\n",
      "[buddy-fusion_7_n100] Saved checkpoint to path: checkpoints/fusion_7_n100-0000000000260500.ckpt\n",
      "[buddy-fusion_7_n100] Saved checkpoint to path: checkpoints/fusion_7_n100-0000000000261000.ckpt\n",
      "[buddy-fusion_7_n100] Saved checkpoint to path: checkpoints/fusion_7_n100-0000000000261500.ckpt\n",
      "[buddy-fusion_7_n100] Saved checkpoint to path: checkpoints/fusion_7_n100-0000000000262000.ckpt\n",
      "[buddy-fusion_7_n100] Saved checkpoint to path: checkpoints/fusion_7_n100-0000000000262500.ckpt\n",
      "[buddy-fusion_7_n100] Saved checkpoint to path: checkpoints/fusion_7_n100-0000000000263000.ckpt\n",
      "[buddy-fusion_7_n100] Saved checkpoint to path: checkpoints/fusion_7_n100-0000000000263500.ckpt\n",
      "[buddy-fusion_7_n100] Saved checkpoint to path: checkpoints/fusion_7_n100-0000000000264000.ckpt\n",
      "[buddy-fusion_7_n100] Saved checkpoint to path: checkpoints/fusion_7_n100-0000000000264500.ckpt\n",
      "[buddy-fusion_7_n100] Saved checkpoint to path: checkpoints/fusion_7_n100-0000000000265000.ckpt\n",
      "[buddy-fusion_7_n100] Saved checkpoint to path: checkpoints/fusion_7_n100-0000000000265500.ckpt\n",
      "[buddy-fusion_7_n100] Saved checkpoint to path: checkpoints/fusion_7_n100-0000000000266000.ckpt\n",
      "[buddy-fusion_7_n100] Saved checkpoint to path: checkpoints/fusion_7_n100-0000000000266500.ckpt\n",
      "[buddy-fusion_7_n100] Saved checkpoint to path: checkpoints/fusion_7_n100-0000000000267000.ckpt\n",
      "[buddy-fusion_7_n100] Saved checkpoint to path: checkpoints/fusion_7_n100-0000000000267500.ckpt\n",
      "[buddy-fusion_7_n100] Saved checkpoint to path: checkpoints/fusion_7_n100-0000000000268000.ckpt\n",
      "[buddy-fusion_7_n100] Saved checkpoint to path: checkpoints/fusion_7_n100-0000000000268500.ckpt\n",
      "[buddy-fusion_7_n100] Saved checkpoint to path: checkpoints/fusion_7_n100-0000000000269000.ckpt\n",
      "[buddy-fusion_7_n100] Saved checkpoint to path: checkpoints/fusion_7_n100-0000000000269500.ckpt\n",
      "[buddy-fusion_7_n100] Saved checkpoint to path: checkpoints/fusion_7_n100-0000000000270000.ckpt\n",
      "\n",
      "Epoch loss: 0.8099134\n",
      "\n",
      "Training epoch 8\n"
     ]
    },
    {
     "data": {
      "application/vnd.jupyter.widget-view+json": {
       "model_id": "39387093d4e440319f0c39182502fab5",
       "version_major": 2,
       "version_minor": 0
      },
      "text/plain": [
       "HBox(children=(FloatProgress(value=0.0, max=15000.0), HTML(value='')))"
      ]
     },
     "metadata": {},
     "output_type": "display_data"
    },
    {
     "name": "stdout",
     "output_type": "stream",
     "text": [
      "[buddy-fusion_7_n100] Saved checkpoint to path: checkpoints/fusion_7_n100-0000000000270500.ckpt\n",
      "[buddy-fusion_7_n100] Saved checkpoint to path: checkpoints/fusion_7_n100-0000000000271000.ckpt\n",
      "[buddy-fusion_7_n100] Saved checkpoint to path: checkpoints/fusion_7_n100-0000000000271500.ckpt\n",
      "[buddy-fusion_7_n100] Saved checkpoint to path: checkpoints/fusion_7_n100-0000000000272000.ckpt\n",
      "[buddy-fusion_7_n100] Saved checkpoint to path: checkpoints/fusion_7_n100-0000000000272500.ckpt\n",
      "[buddy-fusion_7_n100] Saved checkpoint to path: checkpoints/fusion_7_n100-0000000000273000.ckpt\n",
      "[buddy-fusion_7_n100] Saved checkpoint to path: checkpoints/fusion_7_n100-0000000000273500.ckpt\n",
      "[buddy-fusion_7_n100] Saved checkpoint to path: checkpoints/fusion_7_n100-0000000000274000.ckpt\n",
      "[buddy-fusion_7_n100] Saved checkpoint to path: checkpoints/fusion_7_n100-0000000000274500.ckpt\n",
      "[buddy-fusion_7_n100] Saved checkpoint to path: checkpoints/fusion_7_n100-0000000000275000.ckpt\n",
      "[buddy-fusion_7_n100] Saved checkpoint to path: checkpoints/fusion_7_n100-0000000000275500.ckpt\n",
      "[buddy-fusion_7_n100] Saved checkpoint to path: checkpoints/fusion_7_n100-0000000000276000.ckpt\n",
      "[buddy-fusion_7_n100] Saved checkpoint to path: checkpoints/fusion_7_n100-0000000000276500.ckpt\n",
      "[buddy-fusion_7_n100] Saved checkpoint to path: checkpoints/fusion_7_n100-0000000000277000.ckpt\n",
      "[buddy-fusion_7_n100] Saved checkpoint to path: checkpoints/fusion_7_n100-0000000000277500.ckpt\n",
      "[buddy-fusion_7_n100] Saved checkpoint to path: checkpoints/fusion_7_n100-0000000000278000.ckpt\n",
      "[buddy-fusion_7_n100] Saved checkpoint to path: checkpoints/fusion_7_n100-0000000000278500.ckpt\n",
      "[buddy-fusion_7_n100] Saved checkpoint to path: checkpoints/fusion_7_n100-0000000000279000.ckpt\n",
      "[buddy-fusion_7_n100] Saved checkpoint to path: checkpoints/fusion_7_n100-0000000000279500.ckpt\n",
      "[buddy-fusion_7_n100] Saved checkpoint to path: checkpoints/fusion_7_n100-0000000000280000.ckpt\n",
      "[buddy-fusion_7_n100] Saved checkpoint to path: checkpoints/fusion_7_n100-0000000000280500.ckpt\n",
      "[buddy-fusion_7_n100] Saved checkpoint to path: checkpoints/fusion_7_n100-0000000000281000.ckpt\n",
      "[buddy-fusion_7_n100] Saved checkpoint to path: checkpoints/fusion_7_n100-0000000000281500.ckpt\n",
      "[buddy-fusion_7_n100] Saved checkpoint to path: checkpoints/fusion_7_n100-0000000000282000.ckpt\n",
      "[buddy-fusion_7_n100] Saved checkpoint to path: checkpoints/fusion_7_n100-0000000000282500.ckpt\n",
      "[buddy-fusion_7_n100] Saved checkpoint to path: checkpoints/fusion_7_n100-0000000000283000.ckpt\n",
      "[buddy-fusion_7_n100] Saved checkpoint to path: checkpoints/fusion_7_n100-0000000000283500.ckpt\n",
      "[buddy-fusion_7_n100] Saved checkpoint to path: checkpoints/fusion_7_n100-0000000000284000.ckpt\n",
      "[buddy-fusion_7_n100] Saved checkpoint to path: checkpoints/fusion_7_n100-0000000000284500.ckpt\n",
      "[buddy-fusion_7_n100] Saved checkpoint to path: checkpoints/fusion_7_n100-0000000000285000.ckpt\n",
      "\n",
      "Epoch loss: 0.80986387\n",
      "\n",
      "Training epoch 9\n"
     ]
    },
    {
     "data": {
      "application/vnd.jupyter.widget-view+json": {
       "model_id": "0523d9bf8d8140fcb240acb07ae22818",
       "version_major": 2,
       "version_minor": 0
      },
      "text/plain": [
       "HBox(children=(FloatProgress(value=0.0, max=15000.0), HTML(value='')))"
      ]
     },
     "metadata": {},
     "output_type": "display_data"
    },
    {
     "name": "stdout",
     "output_type": "stream",
     "text": [
      "[buddy-fusion_7_n100] Saved checkpoint to path: checkpoints/fusion_7_n100-0000000000285500.ckpt\n",
      "[buddy-fusion_7_n100] Saved checkpoint to path: checkpoints/fusion_7_n100-0000000000286000.ckpt\n",
      "[buddy-fusion_7_n100] Saved checkpoint to path: checkpoints/fusion_7_n100-0000000000286500.ckpt\n",
      "[buddy-fusion_7_n100] Saved checkpoint to path: checkpoints/fusion_7_n100-0000000000287000.ckpt\n",
      "[buddy-fusion_7_n100] Saved checkpoint to path: checkpoints/fusion_7_n100-0000000000287500.ckpt\n",
      "[buddy-fusion_7_n100] Saved checkpoint to path: checkpoints/fusion_7_n100-0000000000288000.ckpt\n",
      "[buddy-fusion_7_n100] Saved checkpoint to path: checkpoints/fusion_7_n100-0000000000288500.ckpt\n",
      "[buddy-fusion_7_n100] Saved checkpoint to path: checkpoints/fusion_7_n100-0000000000289000.ckpt\n",
      "[buddy-fusion_7_n100] Saved checkpoint to path: checkpoints/fusion_7_n100-0000000000289500.ckpt\n",
      "[buddy-fusion_7_n100] Saved checkpoint to path: checkpoints/fusion_7_n100-0000000000290000.ckpt\n",
      "[buddy-fusion_7_n100] Saved checkpoint to path: checkpoints/fusion_7_n100-0000000000290500.ckpt\n",
      "[buddy-fusion_7_n100] Saved checkpoint to path: checkpoints/fusion_7_n100-0000000000291000.ckpt\n",
      "[buddy-fusion_7_n100] Saved checkpoint to path: checkpoints/fusion_7_n100-0000000000291500.ckpt\n",
      "[buddy-fusion_7_n100] Saved checkpoint to path: checkpoints/fusion_7_n100-0000000000292000.ckpt\n",
      "[buddy-fusion_7_n100] Saved checkpoint to path: checkpoints/fusion_7_n100-0000000000292500.ckpt\n",
      "[buddy-fusion_7_n100] Saved checkpoint to path: checkpoints/fusion_7_n100-0000000000293000.ckpt\n",
      "[buddy-fusion_7_n100] Saved checkpoint to path: checkpoints/fusion_7_n100-0000000000293500.ckpt\n",
      "[buddy-fusion_7_n100] Saved checkpoint to path: checkpoints/fusion_7_n100-0000000000294000.ckpt\n",
      "[buddy-fusion_7_n100] Saved checkpoint to path: checkpoints/fusion_7_n100-0000000000294500.ckpt\n",
      "[buddy-fusion_7_n100] Saved checkpoint to path: checkpoints/fusion_7_n100-0000000000295000.ckpt\n",
      "[buddy-fusion_7_n100] Saved checkpoint to path: checkpoints/fusion_7_n100-0000000000295500.ckpt\n",
      "[buddy-fusion_7_n100] Saved checkpoint to path: checkpoints/fusion_7_n100-0000000000296000.ckpt\n",
      "[buddy-fusion_7_n100] Saved checkpoint to path: checkpoints/fusion_7_n100-0000000000296500.ckpt\n",
      "[buddy-fusion_7_n100] Saved checkpoint to path: checkpoints/fusion_7_n100-0000000000297000.ckpt\n",
      "[buddy-fusion_7_n100] Saved checkpoint to path: checkpoints/fusion_7_n100-0000000000297500.ckpt\n",
      "[buddy-fusion_7_n100] Saved checkpoint to path: checkpoints/fusion_7_n100-0000000000298000.ckpt\n",
      "[buddy-fusion_7_n100] Saved checkpoint to path: checkpoints/fusion_7_n100-0000000000298500.ckpt\n",
      "[buddy-fusion_7_n100] Saved checkpoint to path: checkpoints/fusion_7_n100-0000000000299000.ckpt\n",
      "[buddy-fusion_7_n100] Saved checkpoint to path: checkpoints/fusion_7_n100-0000000000299500.ckpt\n",
      "[buddy-fusion_7_n100] Saved checkpoint to path: checkpoints/fusion_7_n100-0000000000300000.ckpt\n",
      "\n",
      "Epoch loss: 0.80980754\n",
      "\n",
      "[buddy-fusion_7_n100] Saved checkpoint to path: checkpoints/fusion_7_n100-phase_2_measurement_pretrain.ckpt\n"
     ]
    }
   ],
   "source": [
    "measurement_trainset_loader = torch.utils.data.DataLoader(\n",
    "    dataset_measurement,\n",
    "    batch_size=32,\n",
    "    shuffle=True,\n",
    "    num_workers=16)\n",
    "\n",
    "for i in range(10):\n",
    "    print(\"Training epoch\", i)\n",
    "    training.train_measurement(buddy, image_model, measurement_trainset_loader, log_interval=20, optim_name=\"im_meas\")\n",
    "    print()\n",
    "\n",
    "for i in range(10):\n",
    "    print(\"Training epoch\", i)\n",
    "    training.train_measurement(buddy, force_model, measurement_trainset_loader, log_interval=20, optim_name=\"force_meas\")\n",
    "    print()\n",
    "\n",
    "buddy.save_checkpoint(\"phase_2_measurement_pretrain\")\n"
   ]
  },
  {
   "cell_type": "code",
   "execution_count": null,
   "metadata": {},
   "outputs": [],
   "source": []
  },
  {
   "cell_type": "code",
   "execution_count": 9,
   "metadata": {},
   "outputs": [
    {
     "ename": "SyntaxError",
     "evalue": "invalid syntax (<ipython-input-9-eff1bd15fd54>, line 6)",
     "output_type": "error",
     "traceback": [
      "\u001b[0;36m  File \u001b[0;32m\"<ipython-input-9-eff1bd15fd54>\"\u001b[0;36m, line \u001b[0;32m6\u001b[0m\n\u001b[0;31m    for in range(20):\u001b[0m\n\u001b[0m         ^\u001b[0m\n\u001b[0;31mSyntaxError\u001b[0m\u001b[0;31m:\u001b[0m invalid syntax\n"
     ]
    }
   ],
   "source": []
  },
  {
   "cell_type": "code",
   "execution_count": 12,
   "metadata": {},
   "outputs": [
    {
     "name": "stdout",
     "output_type": "stream",
     "text": [
      "Training epoch 0\n"
     ]
    },
    {
     "data": {
      "application/vnd.jupyter.widget-view+json": {
       "model_id": "4e62d673f0dd48dfbd18f0a922762fce",
       "version_major": 2,
       "version_minor": 0
      },
      "text/plain": [
       "HBox(children=(FloatProgress(value=0.0, max=47.0), HTML(value='')))"
      ]
     },
     "metadata": {},
     "output_type": "display_data"
    },
    {
     "name": "stdout",
     "output_type": "stream",
     "text": [
      "\n",
      "Training epoch 1\n"
     ]
    },
    {
     "data": {
      "application/vnd.jupyter.widget-view+json": {
       "model_id": "ed3d927bd87343cf97ad7279ebc9d2cd",
       "version_major": 2,
       "version_minor": 0
      },
      "text/plain": [
       "HBox(children=(FloatProgress(value=0.0, max=47.0), HTML(value='')))"
      ]
     },
     "metadata": {},
     "output_type": "display_data"
    },
    {
     "name": "stdout",
     "output_type": "stream",
     "text": [
      "[buddy-fusion_7_n100] Saved checkpoint to path: checkpoints/fusion_7_n100-0000000000300500.ckpt\n",
      "\n",
      "Training epoch 2\n"
     ]
    },
    {
     "data": {
      "application/vnd.jupyter.widget-view+json": {
       "model_id": "aed8f26d60df4d508d7f73e3906e20c2",
       "version_major": 2,
       "version_minor": 0
      },
      "text/plain": [
       "HBox(children=(FloatProgress(value=0.0, max=47.0), HTML(value='')))"
      ]
     },
     "metadata": {},
     "output_type": "display_data"
    },
    {
     "name": "stdout",
     "output_type": "stream",
     "text": [
      "\n",
      "Training epoch 3\n"
     ]
    },
    {
     "data": {
      "application/vnd.jupyter.widget-view+json": {
       "model_id": "2cfdadb3ab5348ea82d353234132ac5b",
       "version_major": 2,
       "version_minor": 0
      },
      "text/plain": [
       "HBox(children=(FloatProgress(value=0.0, max=47.0), HTML(value='')))"
      ]
     },
     "metadata": {},
     "output_type": "display_data"
    },
    {
     "name": "stdout",
     "output_type": "stream",
     "text": [
      "\n",
      "Training epoch 4\n"
     ]
    },
    {
     "data": {
      "application/vnd.jupyter.widget-view+json": {
       "model_id": "1b6695927f6e4dacabb9903ef921c70d",
       "version_major": 2,
       "version_minor": 0
      },
      "text/plain": [
       "HBox(children=(FloatProgress(value=0.0, max=47.0), HTML(value='')))"
      ]
     },
     "metadata": {},
     "output_type": "display_data"
    },
    {
     "name": "stdout",
     "output_type": "stream",
     "text": [
      "\n",
      "Training epoch 5\n"
     ]
    },
    {
     "data": {
      "application/vnd.jupyter.widget-view+json": {
       "model_id": "85c0b2f02cf74ae29247196c449b5d35",
       "version_major": 2,
       "version_minor": 0
      },
      "text/plain": [
       "HBox(children=(FloatProgress(value=0.0, max=47.0), HTML(value='')))"
      ]
     },
     "metadata": {},
     "output_type": "display_data"
    },
    {
     "name": "stdout",
     "output_type": "stream",
     "text": [
      "\n",
      "Training epoch 6\n"
     ]
    },
    {
     "data": {
      "application/vnd.jupyter.widget-view+json": {
       "model_id": "cedb5ff73d9748c4a1b93bda1c54e309",
       "version_major": 2,
       "version_minor": 0
      },
      "text/plain": [
       "HBox(children=(FloatProgress(value=0.0, max=47.0), HTML(value='')))"
      ]
     },
     "metadata": {},
     "output_type": "display_data"
    },
    {
     "name": "stdout",
     "output_type": "stream",
     "text": [
      "\n",
      "Training epoch 7\n"
     ]
    },
    {
     "data": {
      "application/vnd.jupyter.widget-view+json": {
       "model_id": "bae5745c103a4d31ba85d2bb0d83225f",
       "version_major": 2,
       "version_minor": 0
      },
      "text/plain": [
       "HBox(children=(FloatProgress(value=0.0, max=47.0), HTML(value='')))"
      ]
     },
     "metadata": {},
     "output_type": "display_data"
    },
    {
     "name": "stdout",
     "output_type": "stream",
     "text": [
      "\n",
      "Training epoch 8\n"
     ]
    },
    {
     "data": {
      "application/vnd.jupyter.widget-view+json": {
       "model_id": "26e6b2ba2c6243a6971bc604ae4d6d50",
       "version_major": 2,
       "version_minor": 0
      },
      "text/plain": [
       "HBox(children=(FloatProgress(value=0.0, max=47.0), HTML(value='')))"
      ]
     },
     "metadata": {},
     "output_type": "display_data"
    },
    {
     "name": "stdout",
     "output_type": "stream",
     "text": [
      "\n",
      "Training epoch 9\n"
     ]
    },
    {
     "data": {
      "application/vnd.jupyter.widget-view+json": {
       "model_id": "768bf563e06944beaec2dcf81a1b60ca",
       "version_major": 2,
       "version_minor": 0
      },
      "text/plain": [
       "HBox(children=(FloatProgress(value=0.0, max=47.0), HTML(value='')))"
      ]
     },
     "metadata": {},
     "output_type": "display_data"
    },
    {
     "name": "stdout",
     "output_type": "stream",
     "text": [
      "\n",
      "Training epoch 10\n"
     ]
    },
    {
     "data": {
      "application/vnd.jupyter.widget-view+json": {
       "model_id": "07ff362ef2f34a78a68ac0a3f4579617",
       "version_major": 2,
       "version_minor": 0
      },
      "text/plain": [
       "HBox(children=(FloatProgress(value=0.0, max=47.0), HTML(value='')))"
      ]
     },
     "metadata": {},
     "output_type": "display_data"
    },
    {
     "name": "stdout",
     "output_type": "stream",
     "text": [
      "\n",
      "Training epoch 11\n"
     ]
    },
    {
     "data": {
      "application/vnd.jupyter.widget-view+json": {
       "model_id": "592dafdf6b3645148380ee17f6d2f663",
       "version_major": 2,
       "version_minor": 0
      },
      "text/plain": [
       "HBox(children=(FloatProgress(value=0.0, max=47.0), HTML(value='')))"
      ]
     },
     "metadata": {},
     "output_type": "display_data"
    },
    {
     "name": "stdout",
     "output_type": "stream",
     "text": [
      "\n",
      "Training epoch 12\n"
     ]
    },
    {
     "data": {
      "application/vnd.jupyter.widget-view+json": {
       "model_id": "af93197140004d24abf36cbaa21a7804",
       "version_major": 2,
       "version_minor": 0
      },
      "text/plain": [
       "HBox(children=(FloatProgress(value=0.0, max=47.0), HTML(value='')))"
      ]
     },
     "metadata": {},
     "output_type": "display_data"
    },
    {
     "name": "stdout",
     "output_type": "stream",
     "text": [
      "[buddy-fusion_7_n100] Saved checkpoint to path: checkpoints/fusion_7_n100-0000000000301000.ckpt\n",
      "\n",
      "Training epoch 13\n"
     ]
    },
    {
     "data": {
      "application/vnd.jupyter.widget-view+json": {
       "model_id": "f86d169ccedf4378a2d123a45402d3b8",
       "version_major": 2,
       "version_minor": 0
      },
      "text/plain": [
       "HBox(children=(FloatProgress(value=0.0, max=47.0), HTML(value='')))"
      ]
     },
     "metadata": {},
     "output_type": "display_data"
    },
    {
     "name": "stdout",
     "output_type": "stream",
     "text": [
      "\n",
      "Training epoch 14\n"
     ]
    },
    {
     "data": {
      "application/vnd.jupyter.widget-view+json": {
       "model_id": "1e29e1209cfc470aaabcb56483af95d2",
       "version_major": 2,
       "version_minor": 0
      },
      "text/plain": [
       "HBox(children=(FloatProgress(value=0.0, max=47.0), HTML(value='')))"
      ]
     },
     "metadata": {},
     "output_type": "display_data"
    },
    {
     "name": "stdout",
     "output_type": "stream",
     "text": [
      "\n",
      "Training epoch 15\n"
     ]
    },
    {
     "data": {
      "application/vnd.jupyter.widget-view+json": {
       "model_id": "bf0a5a79d0e34bc2839371e72dafb606",
       "version_major": 2,
       "version_minor": 0
      },
      "text/plain": [
       "HBox(children=(FloatProgress(value=0.0, max=47.0), HTML(value='')))"
      ]
     },
     "metadata": {},
     "output_type": "display_data"
    },
    {
     "name": "stdout",
     "output_type": "stream",
     "text": [
      "\n",
      "Training epoch 16\n"
     ]
    },
    {
     "data": {
      "application/vnd.jupyter.widget-view+json": {
       "model_id": "c8ac70fffa034778a665fcfa0d1bbb3c",
       "version_major": 2,
       "version_minor": 0
      },
      "text/plain": [
       "HBox(children=(FloatProgress(value=0.0, max=47.0), HTML(value='')))"
      ]
     },
     "metadata": {},
     "output_type": "display_data"
    },
    {
     "name": "stdout",
     "output_type": "stream",
     "text": [
      "\n",
      "Training epoch 17\n"
     ]
    },
    {
     "data": {
      "application/vnd.jupyter.widget-view+json": {
       "model_id": "6808edf08af9478ba385437dc9bf77b8",
       "version_major": 2,
       "version_minor": 0
      },
      "text/plain": [
       "HBox(children=(FloatProgress(value=0.0, max=47.0), HTML(value='')))"
      ]
     },
     "metadata": {},
     "output_type": "display_data"
    },
    {
     "name": "stdout",
     "output_type": "stream",
     "text": [
      "\n",
      "Training epoch 18\n"
     ]
    },
    {
     "data": {
      "application/vnd.jupyter.widget-view+json": {
       "model_id": "5c3d3018cd2448439b9cb907016280ba",
       "version_major": 2,
       "version_minor": 0
      },
      "text/plain": [
       "HBox(children=(FloatProgress(value=0.0, max=47.0), HTML(value='')))"
      ]
     },
     "metadata": {},
     "output_type": "display_data"
    },
    {
     "name": "stdout",
     "output_type": "stream",
     "text": [
      "\n",
      "Training epoch 19\n"
     ]
    },
    {
     "data": {
      "application/vnd.jupyter.widget-view+json": {
       "model_id": "5c93a8193fee44118f89048a97c5e527",
       "version_major": 2,
       "version_minor": 0
      },
      "text/plain": [
       "HBox(children=(FloatProgress(value=0.0, max=47.0), HTML(value='')))"
      ]
     },
     "metadata": {},
     "output_type": "display_data"
    },
    {
     "name": "stdout",
     "output_type": "stream",
     "text": [
      "\n",
      "Training epoch 0\n"
     ]
    },
    {
     "data": {
      "application/vnd.jupyter.widget-view+json": {
       "model_id": "5e5265e96be74f3783a5c4671ea0acd2",
       "version_major": 2,
       "version_minor": 0
      },
      "text/plain": [
       "HBox(children=(FloatProgress(value=0.0, max=47.0), HTML(value='')))"
      ]
     },
     "metadata": {},
     "output_type": "display_data"
    },
    {
     "name": "stdout",
     "output_type": "stream",
     "text": [
      "\n",
      "Training epoch 1\n"
     ]
    },
    {
     "data": {
      "application/vnd.jupyter.widget-view+json": {
       "model_id": "a8544bf6dceb47279621e730b620f262",
       "version_major": 2,
       "version_minor": 0
      },
      "text/plain": [
       "HBox(children=(FloatProgress(value=0.0, max=47.0), HTML(value='')))"
      ]
     },
     "metadata": {},
     "output_type": "display_data"
    },
    {
     "name": "stdout",
     "output_type": "stream",
     "text": [
      "\n",
      "Training epoch 2\n"
     ]
    },
    {
     "data": {
      "application/vnd.jupyter.widget-view+json": {
       "model_id": "a8463184f8c54f099fa1a584a8a75e92",
       "version_major": 2,
       "version_minor": 0
      },
      "text/plain": [
       "HBox(children=(FloatProgress(value=0.0, max=47.0), HTML(value='')))"
      ]
     },
     "metadata": {},
     "output_type": "display_data"
    },
    {
     "name": "stdout",
     "output_type": "stream",
     "text": [
      "[buddy-fusion_7_n100] Saved checkpoint to path: checkpoints/fusion_7_n100-0000000000301500.ckpt\n",
      "\n",
      "Training epoch 3\n"
     ]
    },
    {
     "data": {
      "application/vnd.jupyter.widget-view+json": {
       "model_id": "3f329e15c1c5450caad34012264aa189",
       "version_major": 2,
       "version_minor": 0
      },
      "text/plain": [
       "HBox(children=(FloatProgress(value=0.0, max=47.0), HTML(value='')))"
      ]
     },
     "metadata": {},
     "output_type": "display_data"
    },
    {
     "name": "stdout",
     "output_type": "stream",
     "text": [
      "\n",
      "Training epoch 4\n"
     ]
    },
    {
     "data": {
      "application/vnd.jupyter.widget-view+json": {
       "model_id": "cb006665bb8444dfae1bf3644d896fa8",
       "version_major": 2,
       "version_minor": 0
      },
      "text/plain": [
       "HBox(children=(FloatProgress(value=0.0, max=47.0), HTML(value='')))"
      ]
     },
     "metadata": {},
     "output_type": "display_data"
    },
    {
     "name": "stdout",
     "output_type": "stream",
     "text": [
      "\n",
      "Training epoch 5\n"
     ]
    },
    {
     "data": {
      "application/vnd.jupyter.widget-view+json": {
       "model_id": "c9f2a92dacb44acb81dc3b6386503147",
       "version_major": 2,
       "version_minor": 0
      },
      "text/plain": [
       "HBox(children=(FloatProgress(value=0.0, max=47.0), HTML(value='')))"
      ]
     },
     "metadata": {},
     "output_type": "display_data"
    },
    {
     "name": "stdout",
     "output_type": "stream",
     "text": [
      "\n",
      "Training epoch 6\n"
     ]
    },
    {
     "data": {
      "application/vnd.jupyter.widget-view+json": {
       "model_id": "3d1239e9cee94b44864b892341528172",
       "version_major": 2,
       "version_minor": 0
      },
      "text/plain": [
       "HBox(children=(FloatProgress(value=0.0, max=47.0), HTML(value='')))"
      ]
     },
     "metadata": {},
     "output_type": "display_data"
    },
    {
     "name": "stdout",
     "output_type": "stream",
     "text": [
      "\n",
      "Training epoch 7\n"
     ]
    },
    {
     "data": {
      "application/vnd.jupyter.widget-view+json": {
       "model_id": "f9bd26247eae4a559bc0b78526e01fea",
       "version_major": 2,
       "version_minor": 0
      },
      "text/plain": [
       "HBox(children=(FloatProgress(value=0.0, max=47.0), HTML(value='')))"
      ]
     },
     "metadata": {},
     "output_type": "display_data"
    },
    {
     "name": "stdout",
     "output_type": "stream",
     "text": [
      "\n",
      "Training epoch 8\n"
     ]
    },
    {
     "data": {
      "application/vnd.jupyter.widget-view+json": {
       "model_id": "5e2e009f442a499d81b134ea0c7a8454",
       "version_major": 2,
       "version_minor": 0
      },
      "text/plain": [
       "HBox(children=(FloatProgress(value=0.0, max=47.0), HTML(value='')))"
      ]
     },
     "metadata": {},
     "output_type": "display_data"
    },
    {
     "name": "stdout",
     "output_type": "stream",
     "text": [
      "\n",
      "Training epoch 9\n"
     ]
    },
    {
     "data": {
      "application/vnd.jupyter.widget-view+json": {
       "model_id": "85cca835401f4444b0f3b958a21a0e5c",
       "version_major": 2,
       "version_minor": 0
      },
      "text/plain": [
       "HBox(children=(FloatProgress(value=0.0, max=47.0), HTML(value='')))"
      ]
     },
     "metadata": {},
     "output_type": "display_data"
    },
    {
     "name": "stdout",
     "output_type": "stream",
     "text": [
      "\n",
      "Training epoch 10\n"
     ]
    },
    {
     "data": {
      "application/vnd.jupyter.widget-view+json": {
       "model_id": "8e931d722a064468ab0d14bdd4b7ce1a",
       "version_major": 2,
       "version_minor": 0
      },
      "text/plain": [
       "HBox(children=(FloatProgress(value=0.0, max=47.0), HTML(value='')))"
      ]
     },
     "metadata": {},
     "output_type": "display_data"
    },
    {
     "name": "stdout",
     "output_type": "stream",
     "text": [
      "\n",
      "Training epoch 11\n"
     ]
    },
    {
     "data": {
      "application/vnd.jupyter.widget-view+json": {
       "model_id": "7c5338c44feb4c37af80afb8f536073f",
       "version_major": 2,
       "version_minor": 0
      },
      "text/plain": [
       "HBox(children=(FloatProgress(value=0.0, max=47.0), HTML(value='')))"
      ]
     },
     "metadata": {},
     "output_type": "display_data"
    },
    {
     "name": "stdout",
     "output_type": "stream",
     "text": [
      "\n",
      "Training epoch 12\n"
     ]
    },
    {
     "data": {
      "application/vnd.jupyter.widget-view+json": {
       "model_id": "ddf0b666d4184663a9c6c8808f356ea8",
       "version_major": 2,
       "version_minor": 0
      },
      "text/plain": [
       "HBox(children=(FloatProgress(value=0.0, max=47.0), HTML(value='')))"
      ]
     },
     "metadata": {},
     "output_type": "display_data"
    },
    {
     "name": "stdout",
     "output_type": "stream",
     "text": [
      "\n",
      "Training epoch 13\n"
     ]
    },
    {
     "data": {
      "application/vnd.jupyter.widget-view+json": {
       "model_id": "cd029ec5acc74f13a0a798af87fea801",
       "version_major": 2,
       "version_minor": 0
      },
      "text/plain": [
       "HBox(children=(FloatProgress(value=0.0, max=47.0), HTML(value='')))"
      ]
     },
     "metadata": {},
     "output_type": "display_data"
    },
    {
     "name": "stdout",
     "output_type": "stream",
     "text": [
      "[buddy-fusion_7_n100] Saved checkpoint to path: checkpoints/fusion_7_n100-0000000000302000.ckpt\n",
      "\n",
      "Training epoch 14\n"
     ]
    },
    {
     "data": {
      "application/vnd.jupyter.widget-view+json": {
       "model_id": "cbf0a8672807445b88e4e0c82d033364",
       "version_major": 2,
       "version_minor": 0
      },
      "text/plain": [
       "HBox(children=(FloatProgress(value=0.0, max=47.0), HTML(value='')))"
      ]
     },
     "metadata": {},
     "output_type": "display_data"
    },
    {
     "name": "stdout",
     "output_type": "stream",
     "text": [
      "\n",
      "Training epoch 15\n"
     ]
    },
    {
     "data": {
      "application/vnd.jupyter.widget-view+json": {
       "model_id": "10e63cf19bda48558b75427579f284c8",
       "version_major": 2,
       "version_minor": 0
      },
      "text/plain": [
       "HBox(children=(FloatProgress(value=0.0, max=47.0), HTML(value='')))"
      ]
     },
     "metadata": {},
     "output_type": "display_data"
    },
    {
     "ename": "KeyboardInterrupt",
     "evalue": "",
     "output_type": "error",
     "traceback": [
      "\u001b[0;31m---------------------------------------------------------------------------\u001b[0m",
      "\u001b[0;31mKeyboardInterrupt\u001b[0m                         Traceback (most recent call last)",
      "\u001b[0;32m<ipython-input-12-00c2b1a0ed47>\u001b[0m in \u001b[0;36m<module>\u001b[0;34m\u001b[0m\n\u001b[1;32m      7\u001b[0m \u001b[0;32mfor\u001b[0m \u001b[0mi\u001b[0m \u001b[0;32min\u001b[0m \u001b[0mrange\u001b[0m\u001b[0;34m(\u001b[0m\u001b[0;36m20\u001b[0m\u001b[0;34m)\u001b[0m\u001b[0;34m:\u001b[0m\u001b[0;34m\u001b[0m\u001b[0;34m\u001b[0m\u001b[0m\n\u001b[1;32m      8\u001b[0m     \u001b[0mprint\u001b[0m\u001b[0;34m(\u001b[0m\u001b[0;34m\"Training epoch\"\u001b[0m\u001b[0;34m,\u001b[0m \u001b[0mi\u001b[0m\u001b[0;34m)\u001b[0m\u001b[0;34m\u001b[0m\u001b[0;34m\u001b[0m\u001b[0m\n\u001b[0;32m----> 9\u001b[0;31m     \u001b[0mtraining\u001b[0m\u001b[0;34m.\u001b[0m\u001b[0mtrain_e2e\u001b[0m\u001b[0;34m(\u001b[0m\u001b[0mbuddy\u001b[0m\u001b[0;34m,\u001b[0m \u001b[0mimage_model\u001b[0m\u001b[0;34m,\u001b[0m \u001b[0me2e_trainset_loader\u001b[0m\u001b[0;34m,\u001b[0m \u001b[0moptim_name\u001b[0m\u001b[0;34m=\u001b[0m\u001b[0;34m\"im_ekf\"\u001b[0m\u001b[0;34m)\u001b[0m\u001b[0;34m\u001b[0m\u001b[0;34m\u001b[0m\u001b[0m\n\u001b[0m\u001b[1;32m     10\u001b[0m \u001b[0;34m\u001b[0m\u001b[0m\n\u001b[1;32m     11\u001b[0m \u001b[0;34m\u001b[0m\u001b[0m\n",
      "\u001b[0;32m/scr-ssd/filter/multimodal_dpf2/lib/panda_kf_training.py\u001b[0m in \u001b[0;36mtrain_e2e\u001b[0;34m(buddy, ekf_model, dataloader, log_interval, optim_name)\u001b[0m\n\u001b[1;32m    205\u001b[0m             \u001b[0mtorch\u001b[0m\u001b[0;34m.\u001b[0m\u001b[0mmean\u001b[0m\u001b[0;34m(\u001b[0m\u001b[0mtorch\u001b[0m\u001b[0;34m.\u001b[0m\u001b[0mstack\u001b[0m\u001b[0;34m(\u001b[0m\u001b[0mlosses\u001b[0m\u001b[0;34m)\u001b[0m\u001b[0;34m)\u001b[0m\u001b[0;34m,\u001b[0m\u001b[0;34m\u001b[0m\u001b[0;34m\u001b[0m\u001b[0m\n\u001b[1;32m    206\u001b[0m             \u001b[0moptimizer_name\u001b[0m\u001b[0;34m=\u001b[0m \u001b[0moptim_name\u001b[0m\u001b[0;34m,\u001b[0m\u001b[0;34m\u001b[0m\u001b[0;34m\u001b[0m\u001b[0m\n\u001b[0;32m--> 207\u001b[0;31m             checkpoint_interval=500)\n\u001b[0m\u001b[1;32m    208\u001b[0m \u001b[0;34m\u001b[0m\u001b[0m\n\u001b[1;32m    209\u001b[0m         \u001b[0;32mif\u001b[0m \u001b[0mbuddy\u001b[0m\u001b[0;34m.\u001b[0m\u001b[0moptimizer_steps\u001b[0m \u001b[0;34m%\u001b[0m \u001b[0mlog_interval\u001b[0m \u001b[0;34m==\u001b[0m \u001b[0;36m0\u001b[0m\u001b[0;34m:\u001b[0m\u001b[0;34m\u001b[0m\u001b[0;34m\u001b[0m\u001b[0m\n",
      "\u001b[0;32m/scr-ssd/filter/fannypack/fannypack/utils/_buddy_mixins/_optimizer.py\u001b[0m in \u001b[0;36mminimize\u001b[0;34m(self, loss, optimizer_name, retain_graph, checkpoint_interval)\u001b[0m\n\u001b[1;32m     47\u001b[0m         \u001b[0;31m# Take gradient step\u001b[0m\u001b[0;34m\u001b[0m\u001b[0;34m\u001b[0m\u001b[0;34m\u001b[0m\u001b[0m\n\u001b[1;32m     48\u001b[0m         \u001b[0mself\u001b[0m\u001b[0;34m.\u001b[0m\u001b[0m_optimizer_dict\u001b[0m\u001b[0;34m[\u001b[0m\u001b[0moptimizer_name\u001b[0m\u001b[0;34m]\u001b[0m\u001b[0;34m.\u001b[0m\u001b[0mzero_grad\u001b[0m\u001b[0;34m(\u001b[0m\u001b[0;34m)\u001b[0m\u001b[0;34m\u001b[0m\u001b[0;34m\u001b[0m\u001b[0m\n\u001b[0;32m---> 49\u001b[0;31m         \u001b[0mloss\u001b[0m\u001b[0;34m.\u001b[0m\u001b[0mbackward\u001b[0m\u001b[0;34m(\u001b[0m\u001b[0mretain_graph\u001b[0m\u001b[0;34m=\u001b[0m\u001b[0mretain_graph\u001b[0m\u001b[0;34m)\u001b[0m\u001b[0;34m\u001b[0m\u001b[0;34m\u001b[0m\u001b[0m\n\u001b[0m\u001b[1;32m     50\u001b[0m         \u001b[0mself\u001b[0m\u001b[0;34m.\u001b[0m\u001b[0m_optimizer_dict\u001b[0m\u001b[0;34m[\u001b[0m\u001b[0moptimizer_name\u001b[0m\u001b[0;34m]\u001b[0m\u001b[0;34m.\u001b[0m\u001b[0mstep\u001b[0m\u001b[0;34m(\u001b[0m\u001b[0;34m)\u001b[0m\u001b[0;34m\u001b[0m\u001b[0;34m\u001b[0m\u001b[0m\n\u001b[1;32m     51\u001b[0m \u001b[0;34m\u001b[0m\u001b[0m\n",
      "\u001b[0;32m/scr-ssd/miniconda3/envs/filter/lib/python3.6/site-packages/torch/tensor.py\u001b[0m in \u001b[0;36mbackward\u001b[0;34m(self, gradient, retain_graph, create_graph)\u001b[0m\n\u001b[1;32m    193\u001b[0m                 \u001b[0mproducts\u001b[0m\u001b[0;34m.\u001b[0m \u001b[0mDefaults\u001b[0m \u001b[0mto\u001b[0m\u001b[0;31m \u001b[0m\u001b[0;31m`\u001b[0m\u001b[0;31m`\u001b[0m\u001b[0;32mFalse\u001b[0m\u001b[0;31m`\u001b[0m\u001b[0;31m`\u001b[0m\u001b[0;34m.\u001b[0m\u001b[0;34m\u001b[0m\u001b[0;34m\u001b[0m\u001b[0m\n\u001b[1;32m    194\u001b[0m         \"\"\"\n\u001b[0;32m--> 195\u001b[0;31m         \u001b[0mtorch\u001b[0m\u001b[0;34m.\u001b[0m\u001b[0mautograd\u001b[0m\u001b[0;34m.\u001b[0m\u001b[0mbackward\u001b[0m\u001b[0;34m(\u001b[0m\u001b[0mself\u001b[0m\u001b[0;34m,\u001b[0m \u001b[0mgradient\u001b[0m\u001b[0;34m,\u001b[0m \u001b[0mretain_graph\u001b[0m\u001b[0;34m,\u001b[0m \u001b[0mcreate_graph\u001b[0m\u001b[0;34m)\u001b[0m\u001b[0;34m\u001b[0m\u001b[0;34m\u001b[0m\u001b[0m\n\u001b[0m\u001b[1;32m    196\u001b[0m \u001b[0;34m\u001b[0m\u001b[0m\n\u001b[1;32m    197\u001b[0m     \u001b[0;32mdef\u001b[0m \u001b[0mregister_hook\u001b[0m\u001b[0;34m(\u001b[0m\u001b[0mself\u001b[0m\u001b[0;34m,\u001b[0m \u001b[0mhook\u001b[0m\u001b[0;34m)\u001b[0m\u001b[0;34m:\u001b[0m\u001b[0;34m\u001b[0m\u001b[0;34m\u001b[0m\u001b[0m\n",
      "\u001b[0;32m/scr-ssd/miniconda3/envs/filter/lib/python3.6/site-packages/torch/autograd/__init__.py\u001b[0m in \u001b[0;36mbackward\u001b[0;34m(tensors, grad_tensors, retain_graph, create_graph, grad_variables)\u001b[0m\n\u001b[1;32m     97\u001b[0m     Variable._execution_engine.run_backward(\n\u001b[1;32m     98\u001b[0m         \u001b[0mtensors\u001b[0m\u001b[0;34m,\u001b[0m \u001b[0mgrad_tensors\u001b[0m\u001b[0;34m,\u001b[0m \u001b[0mretain_graph\u001b[0m\u001b[0;34m,\u001b[0m \u001b[0mcreate_graph\u001b[0m\u001b[0;34m,\u001b[0m\u001b[0;34m\u001b[0m\u001b[0;34m\u001b[0m\u001b[0m\n\u001b[0;32m---> 99\u001b[0;31m         allow_unreachable=True)  # allow_unreachable flag\n\u001b[0m\u001b[1;32m    100\u001b[0m \u001b[0;34m\u001b[0m\u001b[0m\n\u001b[1;32m    101\u001b[0m \u001b[0;34m\u001b[0m\u001b[0m\n",
      "\u001b[0;31mKeyboardInterrupt\u001b[0m: "
     ]
    }
   ],
   "source": [
    "e2e_trainset_loader = torch.utils.data.DataLoader(e2e_trainset, batch_size=32, shuffle=True, num_workers=2)\n",
    "\n",
    "for i in range(20):\n",
    "    print(\"Training epoch\", i)\n",
    "    training.train_e2e(buddy, force_model, e2e_trainset_loader, optim_name=\"force_ekf\")\n",
    "    \n",
    "for i in range(20):\n",
    "    print(\"Training epoch\", i)\n",
    "    training.train_e2e(buddy, image_model, e2e_trainset_loader, optim_name=\"im_ekf\")\n",
    "    \n",
    "\n"
   ]
  },
  {
   "cell_type": "code",
   "execution_count": 13,
   "metadata": {},
   "outputs": [
    {
     "name": "stdout",
     "output_type": "stream",
     "text": [
      "[buddy-fusion_7_n100] Saved checkpoint to path: checkpoints/fusion_7_n100-phase_3_e2e.ckpt\n"
     ]
    }
   ],
   "source": [
    "buddy.save_checkpoint(\"phase_3_e2e\")"
   ]
  },
  {
   "cell_type": "code",
   "execution_count": 14,
   "metadata": {},
   "outputs": [
    {
     "name": "stdout",
     "output_type": "stream",
     "text": [
      "Training epoch 0\n"
     ]
    },
    {
     "data": {
      "application/vnd.jupyter.widget-view+json": {
       "model_id": "3ac11882837346a79896a1a054d20eb3",
       "version_major": 2,
       "version_minor": 0
      },
      "text/plain": [
       "HBox(children=(FloatProgress(value=0.0, max=47.0), HTML(value='')))"
      ]
     },
     "metadata": {},
     "output_type": "display_data"
    },
    {
     "name": "stdout",
     "output_type": "stream",
     "text": [
      "\n",
      "Training epoch 1\n"
     ]
    },
    {
     "data": {
      "application/vnd.jupyter.widget-view+json": {
       "model_id": "d99f9f305a60437eb09f69e5d3253d79",
       "version_major": 2,
       "version_minor": 0
      },
      "text/plain": [
       "HBox(children=(FloatProgress(value=0.0, max=47.0), HTML(value='')))"
      ]
     },
     "metadata": {},
     "output_type": "display_data"
    },
    {
     "name": "stdout",
     "output_type": "stream",
     "text": [
      "\n",
      "Training epoch 2\n"
     ]
    },
    {
     "data": {
      "application/vnd.jupyter.widget-view+json": {
       "model_id": "ffbb4d34776645cba053f57cb6dc4d2c",
       "version_major": 2,
       "version_minor": 0
      },
      "text/plain": [
       "HBox(children=(FloatProgress(value=0.0, max=47.0), HTML(value='')))"
      ]
     },
     "metadata": {},
     "output_type": "display_data"
    },
    {
     "name": "stdout",
     "output_type": "stream",
     "text": [
      "\n",
      "Training epoch 3\n"
     ]
    },
    {
     "data": {
      "application/vnd.jupyter.widget-view+json": {
       "model_id": "bba8671c2496482fa2aa1c39a68d5d0b",
       "version_major": 2,
       "version_minor": 0
      },
      "text/plain": [
       "HBox(children=(FloatProgress(value=0.0, max=47.0), HTML(value='')))"
      ]
     },
     "metadata": {},
     "output_type": "display_data"
    },
    {
     "name": "stdout",
     "output_type": "stream",
     "text": [
      "\n",
      "Training epoch 4\n"
     ]
    },
    {
     "data": {
      "application/vnd.jupyter.widget-view+json": {
       "model_id": "7044795b657245d7bab2270aed9b450e",
       "version_major": 2,
       "version_minor": 0
      },
      "text/plain": [
       "HBox(children=(FloatProgress(value=0.0, max=47.0), HTML(value='')))"
      ]
     },
     "metadata": {},
     "output_type": "display_data"
    },
    {
     "name": "stdout",
     "output_type": "stream",
     "text": [
      "\n",
      "Training epoch 5\n"
     ]
    },
    {
     "data": {
      "application/vnd.jupyter.widget-view+json": {
       "model_id": "06bb3432301045658e98f0967ebba90c",
       "version_major": 2,
       "version_minor": 0
      },
      "text/plain": [
       "HBox(children=(FloatProgress(value=0.0, max=47.0), HTML(value='')))"
      ]
     },
     "metadata": {},
     "output_type": "display_data"
    },
    {
     "name": "stdout",
     "output_type": "stream",
     "text": [
      "\n",
      "Training epoch 6\n"
     ]
    },
    {
     "data": {
      "application/vnd.jupyter.widget-view+json": {
       "model_id": "0510fa019cb0426ba6c2ca9b431d1e71",
       "version_major": 2,
       "version_minor": 0
      },
      "text/plain": [
       "HBox(children=(FloatProgress(value=0.0, max=47.0), HTML(value='')))"
      ]
     },
     "metadata": {},
     "output_type": "display_data"
    },
    {
     "name": "stdout",
     "output_type": "stream",
     "text": [
      "\n",
      "Training epoch 7\n"
     ]
    },
    {
     "data": {
      "application/vnd.jupyter.widget-view+json": {
       "model_id": "eaec65e4aca14591911856bf0e882a11",
       "version_major": 2,
       "version_minor": 0
      },
      "text/plain": [
       "HBox(children=(FloatProgress(value=0.0, max=47.0), HTML(value='')))"
      ]
     },
     "metadata": {},
     "output_type": "display_data"
    },
    {
     "name": "stdout",
     "output_type": "stream",
     "text": [
      "\n",
      "Training epoch 8\n"
     ]
    },
    {
     "data": {
      "application/vnd.jupyter.widget-view+json": {
       "model_id": "3ee8748813644ae98d273a0c5e6e6349",
       "version_major": 2,
       "version_minor": 0
      },
      "text/plain": [
       "HBox(children=(FloatProgress(value=0.0, max=47.0), HTML(value='')))"
      ]
     },
     "metadata": {},
     "output_type": "display_data"
    },
    {
     "name": "stdout",
     "output_type": "stream",
     "text": [
      "[buddy-fusion_7_n100] Saved checkpoint to path: checkpoints/fusion_7_n100-0000000000302500.ckpt\n",
      "\n",
      "Training epoch 9\n"
     ]
    },
    {
     "data": {
      "application/vnd.jupyter.widget-view+json": {
       "model_id": "f8f72d1536cd46d7b7d9091827f67843",
       "version_major": 2,
       "version_minor": 0
      },
      "text/plain": [
       "HBox(children=(FloatProgress(value=0.0, max=47.0), HTML(value='')))"
      ]
     },
     "metadata": {},
     "output_type": "display_data"
    },
    {
     "name": "stdout",
     "output_type": "stream",
     "text": [
      "\n",
      "Training epoch 10\n"
     ]
    },
    {
     "data": {
      "application/vnd.jupyter.widget-view+json": {
       "model_id": "5291599a95fb4efa9369a3273000578e",
       "version_major": 2,
       "version_minor": 0
      },
      "text/plain": [
       "HBox(children=(FloatProgress(value=0.0, max=47.0), HTML(value='')))"
      ]
     },
     "metadata": {},
     "output_type": "display_data"
    },
    {
     "name": "stdout",
     "output_type": "stream",
     "text": [
      "\n",
      "Training epoch 11\n"
     ]
    },
    {
     "data": {
      "application/vnd.jupyter.widget-view+json": {
       "model_id": "ab1410f665bd4561a2a761f0deb4f6a5",
       "version_major": 2,
       "version_minor": 0
      },
      "text/plain": [
       "HBox(children=(FloatProgress(value=0.0, max=47.0), HTML(value='')))"
      ]
     },
     "metadata": {},
     "output_type": "display_data"
    },
    {
     "name": "stdout",
     "output_type": "stream",
     "text": [
      "\n",
      "Training epoch 12\n"
     ]
    },
    {
     "data": {
      "application/vnd.jupyter.widget-view+json": {
       "model_id": "40032ea348ed4705bb3297d295b50bec",
       "version_major": 2,
       "version_minor": 0
      },
      "text/plain": [
       "HBox(children=(FloatProgress(value=0.0, max=47.0), HTML(value='')))"
      ]
     },
     "metadata": {},
     "output_type": "display_data"
    },
    {
     "name": "stdout",
     "output_type": "stream",
     "text": [
      "\n",
      "Training epoch 13\n"
     ]
    },
    {
     "data": {
      "application/vnd.jupyter.widget-view+json": {
       "model_id": "85903f6e30de4abe8bd018770e57a1bf",
       "version_major": 2,
       "version_minor": 0
      },
      "text/plain": [
       "HBox(children=(FloatProgress(value=0.0, max=47.0), HTML(value='')))"
      ]
     },
     "metadata": {},
     "output_type": "display_data"
    },
    {
     "name": "stdout",
     "output_type": "stream",
     "text": [
      "\n",
      "Training epoch 14\n"
     ]
    },
    {
     "data": {
      "application/vnd.jupyter.widget-view+json": {
       "model_id": "bec78dc98ebe452290132b182303add1",
       "version_major": 2,
       "version_minor": 0
      },
      "text/plain": [
       "HBox(children=(FloatProgress(value=0.0, max=47.0), HTML(value='')))"
      ]
     },
     "metadata": {},
     "output_type": "display_data"
    },
    {
     "name": "stdout",
     "output_type": "stream",
     "text": [
      "\n",
      "Training epoch 15\n"
     ]
    },
    {
     "data": {
      "application/vnd.jupyter.widget-view+json": {
       "model_id": "ac45393c28b1434a9a7fc84c40d5d74e",
       "version_major": 2,
       "version_minor": 0
      },
      "text/plain": [
       "HBox(children=(FloatProgress(value=0.0, max=47.0), HTML(value='')))"
      ]
     },
     "metadata": {},
     "output_type": "display_data"
    },
    {
     "name": "stdout",
     "output_type": "stream",
     "text": [
      "\n",
      "Training epoch 16\n"
     ]
    },
    {
     "data": {
      "application/vnd.jupyter.widget-view+json": {
       "model_id": "584897eba8f349b9b296b073de499fbd",
       "version_major": 2,
       "version_minor": 0
      },
      "text/plain": [
       "HBox(children=(FloatProgress(value=0.0, max=47.0), HTML(value='')))"
      ]
     },
     "metadata": {},
     "output_type": "display_data"
    },
    {
     "name": "stdout",
     "output_type": "stream",
     "text": [
      "\n",
      "Training epoch 17\n"
     ]
    },
    {
     "data": {
      "application/vnd.jupyter.widget-view+json": {
       "model_id": "57cf7bb4ad094c48bce83c040ad366b6",
       "version_major": 2,
       "version_minor": 0
      },
      "text/plain": [
       "HBox(children=(FloatProgress(value=0.0, max=47.0), HTML(value='')))"
      ]
     },
     "metadata": {},
     "output_type": "display_data"
    },
    {
     "name": "stdout",
     "output_type": "stream",
     "text": [
      "\n",
      "Training epoch 18\n"
     ]
    },
    {
     "data": {
      "application/vnd.jupyter.widget-view+json": {
       "model_id": "fccf494676cb4416845f71c6a19c91a1",
       "version_major": 2,
       "version_minor": 0
      },
      "text/plain": [
       "HBox(children=(FloatProgress(value=0.0, max=47.0), HTML(value='')))"
      ]
     },
     "metadata": {},
     "output_type": "display_data"
    },
    {
     "name": "stdout",
     "output_type": "stream",
     "text": [
      "\n",
      "Training epoch 19\n"
     ]
    },
    {
     "data": {
      "application/vnd.jupyter.widget-view+json": {
       "model_id": "61af41c79d044f8eb80e25d1ba734ac9",
       "version_major": 2,
       "version_minor": 0
      },
      "text/plain": [
       "HBox(children=(FloatProgress(value=0.0, max=47.0), HTML(value='')))"
      ]
     },
     "metadata": {},
     "output_type": "display_data"
    },
    {
     "name": "stdout",
     "output_type": "stream",
     "text": [
      "[buddy-fusion_7_n100] Saved checkpoint to path: checkpoints/fusion_7_n100-0000000000303000.ckpt\n",
      "\n",
      "Training epoch 20\n"
     ]
    },
    {
     "data": {
      "application/vnd.jupyter.widget-view+json": {
       "model_id": "b785a3bf6e60405fbcfa867285a9c86c",
       "version_major": 2,
       "version_minor": 0
      },
      "text/plain": [
       "HBox(children=(FloatProgress(value=0.0, max=47.0), HTML(value='')))"
      ]
     },
     "metadata": {},
     "output_type": "display_data"
    },
    {
     "name": "stdout",
     "output_type": "stream",
     "text": [
      "\n",
      "Training epoch 21\n"
     ]
    },
    {
     "data": {
      "application/vnd.jupyter.widget-view+json": {
       "model_id": "c6a67b2ee4bb4ba3a99193a36dd3f91d",
       "version_major": 2,
       "version_minor": 0
      },
      "text/plain": [
       "HBox(children=(FloatProgress(value=0.0, max=47.0), HTML(value='')))"
      ]
     },
     "metadata": {},
     "output_type": "display_data"
    },
    {
     "name": "stdout",
     "output_type": "stream",
     "text": [
      "\n",
      "Training epoch 22\n"
     ]
    },
    {
     "data": {
      "application/vnd.jupyter.widget-view+json": {
       "model_id": "f8a15719286f4e5e9d9f5012eaa12192",
       "version_major": 2,
       "version_minor": 0
      },
      "text/plain": [
       "HBox(children=(FloatProgress(value=0.0, max=47.0), HTML(value='')))"
      ]
     },
     "metadata": {},
     "output_type": "display_data"
    },
    {
     "ename": "OSError",
     "evalue": "[Errno 12] Cannot allocate memory",
     "output_type": "error",
     "traceback": [
      "\u001b[0;31m---------------------------------------------------------------------------\u001b[0m",
      "\u001b[0;31mOSError\u001b[0m                                   Traceback (most recent call last)",
      "\u001b[0;32m<ipython-input-14-02a5d4f2cc0b>\u001b[0m in \u001b[0;36m<module>\u001b[0;34m\u001b[0m\n\u001b[1;32m      1\u001b[0m \u001b[0;32mfor\u001b[0m \u001b[0mi\u001b[0m \u001b[0;32min\u001b[0m \u001b[0mrange\u001b[0m\u001b[0;34m(\u001b[0m\u001b[0;36m1000\u001b[0m\u001b[0;34m)\u001b[0m\u001b[0;34m:\u001b[0m\u001b[0;34m\u001b[0m\u001b[0;34m\u001b[0m\u001b[0m\n\u001b[1;32m      2\u001b[0m     \u001b[0mprint\u001b[0m\u001b[0;34m(\u001b[0m\u001b[0;34m\"Training epoch\"\u001b[0m\u001b[0;34m,\u001b[0m \u001b[0mi\u001b[0m\u001b[0;34m)\u001b[0m\u001b[0;34m\u001b[0m\u001b[0;34m\u001b[0m\u001b[0m\n\u001b[0;32m----> 3\u001b[0;31m     \u001b[0mtraining\u001b[0m\u001b[0;34m.\u001b[0m\u001b[0mtrain_fusion\u001b[0m\u001b[0;34m(\u001b[0m\u001b[0mbuddy\u001b[0m\u001b[0;34m,\u001b[0m \u001b[0mfusion_model\u001b[0m\u001b[0;34m,\u001b[0m \u001b[0me2e_trainset_loader\u001b[0m\u001b[0;34m,\u001b[0m \u001b[0moptim_name\u001b[0m\u001b[0;34m=\u001b[0m\u001b[0;34m\"fusion\"\u001b[0m\u001b[0;34m)\u001b[0m\u001b[0;34m\u001b[0m\u001b[0;34m\u001b[0m\u001b[0m\n\u001b[0m\u001b[1;32m      4\u001b[0m \u001b[0;34m\u001b[0m\u001b[0m\n\u001b[1;32m      5\u001b[0m \u001b[0;34m\u001b[0m\u001b[0m\n",
      "\u001b[0;32m/scr-ssd/filter/multimodal_dpf2/lib/panda_kf_training.py\u001b[0m in \u001b[0;36mtrain_fusion\u001b[0;34m(buddy, fusion_model, dataloader, log_interval, optim_name)\u001b[0m\n\u001b[1;32m    116\u001b[0m \u001b[0;34m\u001b[0m\u001b[0m\n\u001b[1;32m    117\u001b[0m \u001b[0;32mdef\u001b[0m \u001b[0mtrain_fusion\u001b[0m\u001b[0;34m(\u001b[0m\u001b[0mbuddy\u001b[0m\u001b[0;34m,\u001b[0m \u001b[0mfusion_model\u001b[0m\u001b[0;34m,\u001b[0m \u001b[0mdataloader\u001b[0m\u001b[0;34m,\u001b[0m \u001b[0mlog_interval\u001b[0m\u001b[0;34m=\u001b[0m\u001b[0;36m2\u001b[0m\u001b[0;34m,\u001b[0m \u001b[0moptim_name\u001b[0m\u001b[0;34m=\u001b[0m\u001b[0;34m\"fusion\"\u001b[0m\u001b[0;34m)\u001b[0m\u001b[0;34m:\u001b[0m\u001b[0;34m\u001b[0m\u001b[0;34m\u001b[0m\u001b[0m\n\u001b[0;32m--> 118\u001b[0;31m     \u001b[0;32mfor\u001b[0m \u001b[0mbatch_idx\u001b[0m\u001b[0;34m,\u001b[0m \u001b[0mbatch\u001b[0m \u001b[0;32min\u001b[0m \u001b[0menumerate\u001b[0m\u001b[0;34m(\u001b[0m\u001b[0mtqdm_notebook\u001b[0m\u001b[0;34m(\u001b[0m\u001b[0mdataloader\u001b[0m\u001b[0;34m)\u001b[0m\u001b[0;34m)\u001b[0m\u001b[0;34m:\u001b[0m\u001b[0;34m\u001b[0m\u001b[0;34m\u001b[0m\u001b[0m\n\u001b[0m\u001b[1;32m    119\u001b[0m         \u001b[0;31m# Transfer to GPU and pull out batch data\u001b[0m\u001b[0;34m\u001b[0m\u001b[0;34m\u001b[0m\u001b[0;34m\u001b[0m\u001b[0m\n\u001b[1;32m    120\u001b[0m         \u001b[0mbatch_gpu\u001b[0m \u001b[0;34m=\u001b[0m \u001b[0mutils\u001b[0m\u001b[0;34m.\u001b[0m\u001b[0mto_device\u001b[0m\u001b[0;34m(\u001b[0m\u001b[0mbatch\u001b[0m\u001b[0;34m,\u001b[0m \u001b[0mbuddy\u001b[0m\u001b[0;34m.\u001b[0m\u001b[0m_device\u001b[0m\u001b[0;34m)\u001b[0m\u001b[0;34m\u001b[0m\u001b[0;34m\u001b[0m\u001b[0m\n",
      "\u001b[0;32m/scr-ssd/miniconda3/envs/filter/lib/python3.6/site-packages/tqdm/notebook.py\u001b[0m in \u001b[0;36m__iter__\u001b[0;34m(self, *args, **kwargs)\u001b[0m\n\u001b[1;32m    215\u001b[0m     \u001b[0;32mdef\u001b[0m \u001b[0m__iter__\u001b[0m\u001b[0;34m(\u001b[0m\u001b[0mself\u001b[0m\u001b[0;34m,\u001b[0m \u001b[0;34m*\u001b[0m\u001b[0margs\u001b[0m\u001b[0;34m,\u001b[0m \u001b[0;34m**\u001b[0m\u001b[0mkwargs\u001b[0m\u001b[0;34m)\u001b[0m\u001b[0;34m:\u001b[0m\u001b[0;34m\u001b[0m\u001b[0;34m\u001b[0m\u001b[0m\n\u001b[1;32m    216\u001b[0m         \u001b[0;32mtry\u001b[0m\u001b[0;34m:\u001b[0m\u001b[0;34m\u001b[0m\u001b[0;34m\u001b[0m\u001b[0m\n\u001b[0;32m--> 217\u001b[0;31m             \u001b[0;32mfor\u001b[0m \u001b[0mobj\u001b[0m \u001b[0;32min\u001b[0m \u001b[0msuper\u001b[0m\u001b[0;34m(\u001b[0m\u001b[0mtqdm_notebook\u001b[0m\u001b[0;34m,\u001b[0m \u001b[0mself\u001b[0m\u001b[0;34m)\u001b[0m\u001b[0;34m.\u001b[0m\u001b[0m__iter__\u001b[0m\u001b[0;34m(\u001b[0m\u001b[0;34m*\u001b[0m\u001b[0margs\u001b[0m\u001b[0;34m,\u001b[0m \u001b[0;34m**\u001b[0m\u001b[0mkwargs\u001b[0m\u001b[0;34m)\u001b[0m\u001b[0;34m:\u001b[0m\u001b[0;34m\u001b[0m\u001b[0;34m\u001b[0m\u001b[0m\n\u001b[0m\u001b[1;32m    218\u001b[0m                 \u001b[0;31m# return super(tqdm...) will not catch exception\u001b[0m\u001b[0;34m\u001b[0m\u001b[0;34m\u001b[0m\u001b[0;34m\u001b[0m\u001b[0m\n\u001b[1;32m    219\u001b[0m                 \u001b[0;32myield\u001b[0m \u001b[0mobj\u001b[0m\u001b[0;34m\u001b[0m\u001b[0;34m\u001b[0m\u001b[0m\n",
      "\u001b[0;32m/scr-ssd/miniconda3/envs/filter/lib/python3.6/site-packages/tqdm/std.py\u001b[0m in \u001b[0;36m__iter__\u001b[0;34m(self)\u001b[0m\n\u001b[1;32m   1105\u001b[0m                 fp_write=getattr(self.fp, 'write', sys.stderr.write))\n\u001b[1;32m   1106\u001b[0m \u001b[0;34m\u001b[0m\u001b[0m\n\u001b[0;32m-> 1107\u001b[0;31m         \u001b[0;32mfor\u001b[0m \u001b[0mobj\u001b[0m \u001b[0;32min\u001b[0m \u001b[0miterable\u001b[0m\u001b[0;34m:\u001b[0m\u001b[0;34m\u001b[0m\u001b[0;34m\u001b[0m\u001b[0m\n\u001b[0m\u001b[1;32m   1108\u001b[0m             \u001b[0;32myield\u001b[0m \u001b[0mobj\u001b[0m\u001b[0;34m\u001b[0m\u001b[0;34m\u001b[0m\u001b[0m\n\u001b[1;32m   1109\u001b[0m             \u001b[0;31m# Update and possibly print the progressbar.\u001b[0m\u001b[0;34m\u001b[0m\u001b[0;34m\u001b[0m\u001b[0;34m\u001b[0m\u001b[0m\n",
      "\u001b[0;32m/scr-ssd/miniconda3/envs/filter/lib/python3.6/site-packages/torch/utils/data/dataloader.py\u001b[0m in \u001b[0;36m__iter__\u001b[0;34m(self)\u001b[0m\n\u001b[1;32m    277\u001b[0m             \u001b[0;32mreturn\u001b[0m \u001b[0m_SingleProcessDataLoaderIter\u001b[0m\u001b[0;34m(\u001b[0m\u001b[0mself\u001b[0m\u001b[0;34m)\u001b[0m\u001b[0;34m\u001b[0m\u001b[0;34m\u001b[0m\u001b[0m\n\u001b[1;32m    278\u001b[0m         \u001b[0;32melse\u001b[0m\u001b[0;34m:\u001b[0m\u001b[0;34m\u001b[0m\u001b[0;34m\u001b[0m\u001b[0m\n\u001b[0;32m--> 279\u001b[0;31m             \u001b[0;32mreturn\u001b[0m \u001b[0m_MultiProcessingDataLoaderIter\u001b[0m\u001b[0;34m(\u001b[0m\u001b[0mself\u001b[0m\u001b[0;34m)\u001b[0m\u001b[0;34m\u001b[0m\u001b[0;34m\u001b[0m\u001b[0m\n\u001b[0m\u001b[1;32m    280\u001b[0m \u001b[0;34m\u001b[0m\u001b[0m\n\u001b[1;32m    281\u001b[0m     \u001b[0;34m@\u001b[0m\u001b[0mproperty\u001b[0m\u001b[0;34m\u001b[0m\u001b[0;34m\u001b[0m\u001b[0m\n",
      "\u001b[0;32m/scr-ssd/miniconda3/envs/filter/lib/python3.6/site-packages/torch/utils/data/dataloader.py\u001b[0m in \u001b[0;36m__init__\u001b[0;34m(self, loader)\u001b[0m\n\u001b[1;32m    717\u001b[0m             \u001b[0;31m#     before it starts, and __del__ tries to join but will get:\u001b[0m\u001b[0;34m\u001b[0m\u001b[0;34m\u001b[0m\u001b[0;34m\u001b[0m\u001b[0m\n\u001b[1;32m    718\u001b[0m             \u001b[0;31m#     AssertionError: can only join a started process.\u001b[0m\u001b[0;34m\u001b[0m\u001b[0;34m\u001b[0m\u001b[0;34m\u001b[0m\u001b[0m\n\u001b[0;32m--> 719\u001b[0;31m             \u001b[0mw\u001b[0m\u001b[0;34m.\u001b[0m\u001b[0mstart\u001b[0m\u001b[0;34m(\u001b[0m\u001b[0;34m)\u001b[0m\u001b[0;34m\u001b[0m\u001b[0;34m\u001b[0m\u001b[0m\n\u001b[0m\u001b[1;32m    720\u001b[0m             \u001b[0mself\u001b[0m\u001b[0;34m.\u001b[0m\u001b[0m_index_queues\u001b[0m\u001b[0;34m.\u001b[0m\u001b[0mappend\u001b[0m\u001b[0;34m(\u001b[0m\u001b[0mindex_queue\u001b[0m\u001b[0;34m)\u001b[0m\u001b[0;34m\u001b[0m\u001b[0;34m\u001b[0m\u001b[0m\n\u001b[1;32m    721\u001b[0m             \u001b[0mself\u001b[0m\u001b[0;34m.\u001b[0m\u001b[0m_workers\u001b[0m\u001b[0;34m.\u001b[0m\u001b[0mappend\u001b[0m\u001b[0;34m(\u001b[0m\u001b[0mw\u001b[0m\u001b[0;34m)\u001b[0m\u001b[0;34m\u001b[0m\u001b[0;34m\u001b[0m\u001b[0m\n",
      "\u001b[0;32m/scr-ssd/miniconda3/envs/filter/lib/python3.6/multiprocessing/process.py\u001b[0m in \u001b[0;36mstart\u001b[0;34m(self)\u001b[0m\n\u001b[1;32m    103\u001b[0m                \u001b[0;34m'daemonic processes are not allowed to have children'\u001b[0m\u001b[0;34m\u001b[0m\u001b[0;34m\u001b[0m\u001b[0m\n\u001b[1;32m    104\u001b[0m         \u001b[0m_cleanup\u001b[0m\u001b[0;34m(\u001b[0m\u001b[0;34m)\u001b[0m\u001b[0;34m\u001b[0m\u001b[0;34m\u001b[0m\u001b[0m\n\u001b[0;32m--> 105\u001b[0;31m         \u001b[0mself\u001b[0m\u001b[0;34m.\u001b[0m\u001b[0m_popen\u001b[0m \u001b[0;34m=\u001b[0m \u001b[0mself\u001b[0m\u001b[0;34m.\u001b[0m\u001b[0m_Popen\u001b[0m\u001b[0;34m(\u001b[0m\u001b[0mself\u001b[0m\u001b[0;34m)\u001b[0m\u001b[0;34m\u001b[0m\u001b[0;34m\u001b[0m\u001b[0m\n\u001b[0m\u001b[1;32m    106\u001b[0m         \u001b[0mself\u001b[0m\u001b[0;34m.\u001b[0m\u001b[0m_sentinel\u001b[0m \u001b[0;34m=\u001b[0m \u001b[0mself\u001b[0m\u001b[0;34m.\u001b[0m\u001b[0m_popen\u001b[0m\u001b[0;34m.\u001b[0m\u001b[0msentinel\u001b[0m\u001b[0;34m\u001b[0m\u001b[0;34m\u001b[0m\u001b[0m\n\u001b[1;32m    107\u001b[0m         \u001b[0;31m# Avoid a refcycle if the target function holds an indirect\u001b[0m\u001b[0;34m\u001b[0m\u001b[0;34m\u001b[0m\u001b[0;34m\u001b[0m\u001b[0m\n",
      "\u001b[0;32m/scr-ssd/miniconda3/envs/filter/lib/python3.6/multiprocessing/context.py\u001b[0m in \u001b[0;36m_Popen\u001b[0;34m(process_obj)\u001b[0m\n\u001b[1;32m    221\u001b[0m     \u001b[0;34m@\u001b[0m\u001b[0mstaticmethod\u001b[0m\u001b[0;34m\u001b[0m\u001b[0;34m\u001b[0m\u001b[0m\n\u001b[1;32m    222\u001b[0m     \u001b[0;32mdef\u001b[0m \u001b[0m_Popen\u001b[0m\u001b[0;34m(\u001b[0m\u001b[0mprocess_obj\u001b[0m\u001b[0;34m)\u001b[0m\u001b[0;34m:\u001b[0m\u001b[0;34m\u001b[0m\u001b[0;34m\u001b[0m\u001b[0m\n\u001b[0;32m--> 223\u001b[0;31m         \u001b[0;32mreturn\u001b[0m \u001b[0m_default_context\u001b[0m\u001b[0;34m.\u001b[0m\u001b[0mget_context\u001b[0m\u001b[0;34m(\u001b[0m\u001b[0;34m)\u001b[0m\u001b[0;34m.\u001b[0m\u001b[0mProcess\u001b[0m\u001b[0;34m.\u001b[0m\u001b[0m_Popen\u001b[0m\u001b[0;34m(\u001b[0m\u001b[0mprocess_obj\u001b[0m\u001b[0;34m)\u001b[0m\u001b[0;34m\u001b[0m\u001b[0;34m\u001b[0m\u001b[0m\n\u001b[0m\u001b[1;32m    224\u001b[0m \u001b[0;34m\u001b[0m\u001b[0m\n\u001b[1;32m    225\u001b[0m \u001b[0;32mclass\u001b[0m \u001b[0mDefaultContext\u001b[0m\u001b[0;34m(\u001b[0m\u001b[0mBaseContext\u001b[0m\u001b[0;34m)\u001b[0m\u001b[0;34m:\u001b[0m\u001b[0;34m\u001b[0m\u001b[0;34m\u001b[0m\u001b[0m\n",
      "\u001b[0;32m/scr-ssd/miniconda3/envs/filter/lib/python3.6/multiprocessing/context.py\u001b[0m in \u001b[0;36m_Popen\u001b[0;34m(process_obj)\u001b[0m\n\u001b[1;32m    275\u001b[0m         \u001b[0;32mdef\u001b[0m \u001b[0m_Popen\u001b[0m\u001b[0;34m(\u001b[0m\u001b[0mprocess_obj\u001b[0m\u001b[0;34m)\u001b[0m\u001b[0;34m:\u001b[0m\u001b[0;34m\u001b[0m\u001b[0;34m\u001b[0m\u001b[0m\n\u001b[1;32m    276\u001b[0m             \u001b[0;32mfrom\u001b[0m \u001b[0;34m.\u001b[0m\u001b[0mpopen_fork\u001b[0m \u001b[0;32mimport\u001b[0m \u001b[0mPopen\u001b[0m\u001b[0;34m\u001b[0m\u001b[0;34m\u001b[0m\u001b[0m\n\u001b[0;32m--> 277\u001b[0;31m             \u001b[0;32mreturn\u001b[0m \u001b[0mPopen\u001b[0m\u001b[0;34m(\u001b[0m\u001b[0mprocess_obj\u001b[0m\u001b[0;34m)\u001b[0m\u001b[0;34m\u001b[0m\u001b[0;34m\u001b[0m\u001b[0m\n\u001b[0m\u001b[1;32m    278\u001b[0m \u001b[0;34m\u001b[0m\u001b[0m\n\u001b[1;32m    279\u001b[0m     \u001b[0;32mclass\u001b[0m \u001b[0mSpawnProcess\u001b[0m\u001b[0;34m(\u001b[0m\u001b[0mprocess\u001b[0m\u001b[0;34m.\u001b[0m\u001b[0mBaseProcess\u001b[0m\u001b[0;34m)\u001b[0m\u001b[0;34m:\u001b[0m\u001b[0;34m\u001b[0m\u001b[0;34m\u001b[0m\u001b[0m\n",
      "\u001b[0;32m/scr-ssd/miniconda3/envs/filter/lib/python3.6/multiprocessing/popen_fork.py\u001b[0m in \u001b[0;36m__init__\u001b[0;34m(self, process_obj)\u001b[0m\n\u001b[1;32m     17\u001b[0m         \u001b[0mutil\u001b[0m\u001b[0;34m.\u001b[0m\u001b[0m_flush_std_streams\u001b[0m\u001b[0;34m(\u001b[0m\u001b[0;34m)\u001b[0m\u001b[0;34m\u001b[0m\u001b[0;34m\u001b[0m\u001b[0m\n\u001b[1;32m     18\u001b[0m         \u001b[0mself\u001b[0m\u001b[0;34m.\u001b[0m\u001b[0mreturncode\u001b[0m \u001b[0;34m=\u001b[0m \u001b[0;32mNone\u001b[0m\u001b[0;34m\u001b[0m\u001b[0;34m\u001b[0m\u001b[0m\n\u001b[0;32m---> 19\u001b[0;31m         \u001b[0mself\u001b[0m\u001b[0;34m.\u001b[0m\u001b[0m_launch\u001b[0m\u001b[0;34m(\u001b[0m\u001b[0mprocess_obj\u001b[0m\u001b[0;34m)\u001b[0m\u001b[0;34m\u001b[0m\u001b[0;34m\u001b[0m\u001b[0m\n\u001b[0m\u001b[1;32m     20\u001b[0m \u001b[0;34m\u001b[0m\u001b[0m\n\u001b[1;32m     21\u001b[0m     \u001b[0;32mdef\u001b[0m \u001b[0mduplicate_for_child\u001b[0m\u001b[0;34m(\u001b[0m\u001b[0mself\u001b[0m\u001b[0;34m,\u001b[0m \u001b[0mfd\u001b[0m\u001b[0;34m)\u001b[0m\u001b[0;34m:\u001b[0m\u001b[0;34m\u001b[0m\u001b[0;34m\u001b[0m\u001b[0m\n",
      "\u001b[0;32m/scr-ssd/miniconda3/envs/filter/lib/python3.6/multiprocessing/popen_fork.py\u001b[0m in \u001b[0;36m_launch\u001b[0;34m(self, process_obj)\u001b[0m\n\u001b[1;32m     64\u001b[0m         \u001b[0mcode\u001b[0m \u001b[0;34m=\u001b[0m \u001b[0;36m1\u001b[0m\u001b[0;34m\u001b[0m\u001b[0;34m\u001b[0m\u001b[0m\n\u001b[1;32m     65\u001b[0m         \u001b[0mparent_r\u001b[0m\u001b[0;34m,\u001b[0m \u001b[0mchild_w\u001b[0m \u001b[0;34m=\u001b[0m \u001b[0mos\u001b[0m\u001b[0;34m.\u001b[0m\u001b[0mpipe\u001b[0m\u001b[0;34m(\u001b[0m\u001b[0;34m)\u001b[0m\u001b[0;34m\u001b[0m\u001b[0;34m\u001b[0m\u001b[0m\n\u001b[0;32m---> 66\u001b[0;31m         \u001b[0mself\u001b[0m\u001b[0;34m.\u001b[0m\u001b[0mpid\u001b[0m \u001b[0;34m=\u001b[0m \u001b[0mos\u001b[0m\u001b[0;34m.\u001b[0m\u001b[0mfork\u001b[0m\u001b[0;34m(\u001b[0m\u001b[0;34m)\u001b[0m\u001b[0;34m\u001b[0m\u001b[0;34m\u001b[0m\u001b[0m\n\u001b[0m\u001b[1;32m     67\u001b[0m         \u001b[0;32mif\u001b[0m \u001b[0mself\u001b[0m\u001b[0;34m.\u001b[0m\u001b[0mpid\u001b[0m \u001b[0;34m==\u001b[0m \u001b[0;36m0\u001b[0m\u001b[0;34m:\u001b[0m\u001b[0;34m\u001b[0m\u001b[0;34m\u001b[0m\u001b[0m\n\u001b[1;32m     68\u001b[0m             \u001b[0;32mtry\u001b[0m\u001b[0;34m:\u001b[0m\u001b[0;34m\u001b[0m\u001b[0;34m\u001b[0m\u001b[0m\n",
      "\u001b[0;31mOSError\u001b[0m: [Errno 12] Cannot allocate memory"
     ]
    }
   ],
   "source": [
    "for i in range(1000):\n",
    "    print(\"Training epoch\", i)\n",
    "    training.train_fusion(buddy, fusion_model, e2e_trainset_loader, optim_name=\"fusion\")\n",
    "    \n",
    "    \n",
    "buddy.save_checkpoint(\"phase_4_fusion\")"
   ]
  },
  {
   "cell_type": "code",
   "execution_count": null,
   "metadata": {},
   "outputs": [],
   "source": []
  }
 ],
 "metadata": {
  "kernelspec": {
   "display_name": "Python 3",
   "language": "python",
   "name": "python3"
  },
  "language_info": {
   "codemirror_mode": {
    "name": "ipython",
    "version": 3
   },
   "file_extension": ".py",
   "mimetype": "text/x-python",
   "name": "python",
   "nbconvert_exporter": "python",
   "pygments_lexer": "ipython3",
   "version": "3.6.10"
  }
 },
 "nbformat": 4,
 "nbformat_minor": 4
}
