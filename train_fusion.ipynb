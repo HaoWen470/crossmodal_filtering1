{
 "cells": [
  {
   "cell_type": "code",
   "execution_count": 1,
   "metadata": {},
   "outputs": [],
   "source": [
    "%matplotlib inline\n",
    "%load_ext autoreload\n",
    "%autoreload 2"
   ]
  },
  {
   "cell_type": "code",
   "execution_count": 2,
   "metadata": {},
   "outputs": [],
   "source": [
    "# Experiment configuration\n",
    "experiment_name = \"fusion_9_poe\"\n",
    "dataset_args = {\n",
    "    'use_proprioception': True,\n",
    "    'use_haptics': True,\n",
    "    'use_vision': True,\n",
    "    'vision_interval': 2,\n",
    "}"
   ]
  },
  {
   "cell_type": "code",
   "execution_count": 3,
   "metadata": {},
   "outputs": [],
   "source": [
    "import torch\n",
    "import torch.nn.functional as F\n",
    "import numpy as np\n",
    "from tqdm import tqdm_notebook\n",
    "\n",
    "import fannypack\n",
    "from lib import panda_datasets, panda_baseline_models, panda_baseline_training\n",
    "from lib.ekf import KalmanFilterNetwork\n",
    "from fannypack import utils\n",
    "from lib import dpf\n",
    "from lib.panda_models import PandaDynamicsModel, PandaEKFMeasurementModel\n",
    "\n",
    "from lib.fusion import KalmanFusionModel\n",
    "from lib.fusion import CrossModalWeights\n",
    "\n",
    "import lib.panda_kf_training as training"
   ]
  },
  {
   "cell_type": "code",
   "execution_count": 4,
   "metadata": {},
   "outputs": [
    {
     "name": "stdout",
     "output_type": "stream",
     "text": [
      "Creating dataset...\n",
      "Parsed data: 1307 active, 193 inactive\n",
      "Keeping (inactive): 193\n"
     ]
    },
    {
     "data": {
      "application/vnd.jupyter.widget-view+json": {
       "model_id": "dd9cdaddf8bf439bb18f67769398a36a",
       "version_major": 2,
       "version_minor": 0
      },
      "text/plain": [
       "HBox(children=(FloatProgress(value=0.0), HTML(value='')))"
      ]
     },
     "metadata": {},
     "output_type": "display_data"
    },
    {
     "name": "stdout",
     "output_type": "stream",
     "text": [
      "\n",
      "Loaded 24000 points\n"
     ]
    }
   ],
   "source": [
    "print(\"Creating dataset...\")\n",
    "# dataset_full = panda_datasets.PandaParticleFilterDataset(\n",
    "#     'data/gentle_push_10.hdf5',\n",
    "#     subsequence_length=16,\n",
    "#     **dataset_args)\n",
    "\n",
    "e2e_trainset = panda_datasets.PandaParticleFilterDataset(\n",
    "    \"data/gentle_push_100.hdf5\",\n",
    "    subsequence_length=16,\n",
    "    particle_count=1,\n",
    "    particle_stddev=(.03, .03),\n",
    "    **dataset_args\n",
    ")\n",
    "\n",
    "dataset_measurement = panda_datasets.PandaMeasurementDataset(\n",
    "    'data/gentle_push_100.hdf5',\n",
    "    subsequence_length=16,\n",
    "    stddev=(0.5, 0.5),\n",
    "    samples_per_pair=20,\n",
    "    **dataset_args)\n",
    "\n",
    "dynamics_recurrent_trainset = panda_datasets.PandaSubsequenceDataset(\n",
    "    \"data/gentle_push_100.hdf5\",\n",
    "    subsequence_length=32,\n",
    "    **dataset_args\n",
    ")\n"
   ]
  },
  {
   "cell_type": "code",
   "execution_count": 5,
   "metadata": {},
   "outputs": [],
   "source": [
    "# image_modality_model\n",
    "image_measurement = PandaEKFMeasurementModel(missing_modalities=['gripper_pos'])\n",
    "image_dynamics = PandaDynamicsModel(use_particles=False)\n",
    "image_model = KalmanFilterNetwork(image_dynamics, image_measurement)\n",
    "\n",
    "# force_modality_model\n",
    "force_measurement = PandaEKFMeasurementModel(missing_modalities=['image'])\n",
    "force_dynamics =  PandaDynamicsModel(use_particles= False)\n",
    "force_model = KalmanFilterNetwork(force_dynamics, force_measurement)\n",
    "\n",
    "weight_model = CrossModalWeights()\n",
    "\n",
    "fusion_model = KalmanFusionModel(image_model, force_model, weight_model, fusion_type=\"poe\")\n",
    "\n",
    "\n",
    "models ={'image': image_model, 'force': force_model, 'weight': weight_model}"
   ]
  },
  {
   "cell_type": "code",
   "execution_count": 6,
   "metadata": {},
   "outputs": [
    {
     "name": "stdout",
     "output_type": "stream",
     "text": [
      "[buddy-fusion_9_poe] Using device: cuda:0\n",
      "[buddy-fusion_9_poe] Read checkpoint from path: checkpoints/fusion_9_poe-0000000000037600.ckpt\n",
      "[buddy-fusion_9_poe] Loaded checkpoint at step: 37600\n"
     ]
    }
   ],
   "source": [
    "#todo: need a different version of buddy... also probably need to load and save myself \n",
    "buddy = fannypack.utils.Buddy(experiment_name, \n",
    "                              fusion_model, \n",
    "                              optimizer_names=[\"im_meas\", \"im_dynamics\", \"force_dynamics\", \"force_ekf\", \"im_ekf\", \n",
    "                                               \"force_meas\", \"fusion\"], \n",
    "                              load_checkpoint=True,\n",
    ")\n",
    "\n"
   ]
  },
  {
   "cell_type": "code",
   "execution_count": null,
   "metadata": {},
   "outputs": [],
   "source": []
  },
  {
   "cell_type": "code",
   "execution_count": 10,
   "metadata": {},
   "outputs": [
    {
     "name": "stdout",
     "output_type": "stream",
     "text": [
      "Training epoch 0\n"
     ]
    },
    {
     "data": {
      "application/vnd.jupyter.widget-view+json": {
       "model_id": "a4530914ee324e63bd92c7e6f909a931",
       "version_major": 2,
       "version_minor": 0
      },
      "text/plain": [
       "HBox(children=(FloatProgress(value=0.0, max=5.0), HTML(value='')))"
      ]
     },
     "metadata": {},
     "output_type": "display_data"
    },
    {
     "name": "stdout",
     "output_type": "stream",
     "text": [
      "\n",
      "\n",
      "Training epoch 1\n"
     ]
    },
    {
     "data": {
      "application/vnd.jupyter.widget-view+json": {
       "model_id": "5d1e00cd95ab4711be97d2fb57cfb30f",
       "version_major": 2,
       "version_minor": 0
      },
      "text/plain": [
       "HBox(children=(FloatProgress(value=0.0, max=5.0), HTML(value='')))"
      ]
     },
     "metadata": {},
     "output_type": "display_data"
    },
    {
     "name": "stdout",
     "output_type": "stream",
     "text": [
      "\n",
      "\n",
      "Training epoch 2\n"
     ]
    },
    {
     "data": {
      "application/vnd.jupyter.widget-view+json": {
       "model_id": "ac6b7225801746e7997a64d65e791d72",
       "version_major": 2,
       "version_minor": 0
      },
      "text/plain": [
       "HBox(children=(FloatProgress(value=0.0, max=5.0), HTML(value='')))"
      ]
     },
     "metadata": {},
     "output_type": "display_data"
    },
    {
     "name": "stdout",
     "output_type": "stream",
     "text": [
      "\n",
      "\n",
      "Training epoch 3\n"
     ]
    },
    {
     "data": {
      "application/vnd.jupyter.widget-view+json": {
       "model_id": "fe036f445fcd466c9df23dc697544b8e",
       "version_major": 2,
       "version_minor": 0
      },
      "text/plain": [
       "HBox(children=(FloatProgress(value=0.0, max=5.0), HTML(value='')))"
      ]
     },
     "metadata": {},
     "output_type": "display_data"
    },
    {
     "name": "stdout",
     "output_type": "stream",
     "text": [
      "\n",
      "\n",
      "Training epoch 4\n"
     ]
    },
    {
     "data": {
      "application/vnd.jupyter.widget-view+json": {
       "model_id": "e4601ae7aa87474cbef9c0931931d1ee",
       "version_major": 2,
       "version_minor": 0
      },
      "text/plain": [
       "HBox(children=(FloatProgress(value=0.0, max=5.0), HTML(value='')))"
      ]
     },
     "metadata": {},
     "output_type": "display_data"
    },
    {
     "name": "stdout",
     "output_type": "stream",
     "text": [
      "\n",
      "\n",
      "[buddy-fusion_9_poe] Saved checkpoint to path: checkpoints/fusion_9_poe-phase_0_im_dynamics_pretrain.ckpt\n",
      "Training epoch 0\n"
     ]
    },
    {
     "data": {
      "application/vnd.jupyter.widget-view+json": {
       "model_id": "cedd646a4b1b44b79b68e17db17354be",
       "version_major": 2,
       "version_minor": 0
      },
      "text/plain": [
       "HBox(children=(FloatProgress(value=0.0, max=5.0), HTML(value='')))"
      ]
     },
     "metadata": {},
     "output_type": "display_data"
    },
    {
     "name": "stdout",
     "output_type": "stream",
     "text": [
      "\n",
      "\n",
      "Training epoch 1\n"
     ]
    },
    {
     "data": {
      "application/vnd.jupyter.widget-view+json": {
       "model_id": "83f4fa50d33f4b0680414c9049dd3449",
       "version_major": 2,
       "version_minor": 0
      },
      "text/plain": [
       "HBox(children=(FloatProgress(value=0.0, max=5.0), HTML(value='')))"
      ]
     },
     "metadata": {},
     "output_type": "display_data"
    },
    {
     "name": "stdout",
     "output_type": "stream",
     "text": [
      "\n",
      "\n",
      "Training epoch 2\n"
     ]
    },
    {
     "data": {
      "application/vnd.jupyter.widget-view+json": {
       "model_id": "ae0bcf82fca94415b565e739a647abc2",
       "version_major": 2,
       "version_minor": 0
      },
      "text/plain": [
       "HBox(children=(FloatProgress(value=0.0, max=5.0), HTML(value='')))"
      ]
     },
     "metadata": {},
     "output_type": "display_data"
    },
    {
     "name": "stdout",
     "output_type": "stream",
     "text": [
      "\n",
      "\n",
      "Training epoch 3\n"
     ]
    },
    {
     "data": {
      "application/vnd.jupyter.widget-view+json": {
       "model_id": "48b0c6b460ad4331832e0be68b20ec23",
       "version_major": 2,
       "version_minor": 0
      },
      "text/plain": [
       "HBox(children=(FloatProgress(value=0.0, max=5.0), HTML(value='')))"
      ]
     },
     "metadata": {},
     "output_type": "display_data"
    },
    {
     "name": "stdout",
     "output_type": "stream",
     "text": [
      "\n",
      "\n",
      "Training epoch 4\n"
     ]
    },
    {
     "data": {
      "application/vnd.jupyter.widget-view+json": {
       "model_id": "ee6031f957d64d888ac245c5153f86d2",
       "version_major": 2,
       "version_minor": 0
      },
      "text/plain": [
       "HBox(children=(FloatProgress(value=0.0, max=5.0), HTML(value='')))"
      ]
     },
     "metadata": {},
     "output_type": "display_data"
    },
    {
     "name": "stdout",
     "output_type": "stream",
     "text": [
      "[buddy-fusion_9_poe] Saved checkpoint to path: checkpoints/fusion_9_poe-0000000000000050.ckpt\n",
      "\n",
      "\n",
      "[buddy-fusion_9_poe] Saved checkpoint to path: checkpoints/fusion_9_poe-phase_0_force_dynamics_pretrain.ckpt\n"
     ]
    }
   ],
   "source": [
    "dataloader_dynamics = torch.utils.data.DataLoader(\n",
    "    dynamics_recurrent_trainset, batch_size=128, shuffle=True, num_workers=2, drop_last=True)\n",
    "\n",
    "\n",
    "for i in range(5):\n",
    "    print(\"Training epoch\", i)\n",
    "    training.train_dynamics_recurrent(buddy, image_model, dataloader_dynamics, optim_name=\"im_dynamics\")    \n",
    "    print()\n",
    "\n",
    "buddy.save_checkpoint(\"phase_0_im_dynamics_pretrain\")\n",
    "\n",
    "for i in range(5):\n",
    "    print(\"Training epoch\", i)\n",
    "    training.train_dynamics_recurrent(buddy, force_model, dataloader_dynamics, optim_name=\"force_dynamics\")    \n",
    "    print()\n",
    "\n",
    "buddy.save_checkpoint(\"phase_0_force_dynamics_pretrain\")\n",
    "\n"
   ]
  },
  {
   "cell_type": "code",
   "execution_count": 11,
   "metadata": {},
   "outputs": [
    {
     "name": "stdout",
     "output_type": "stream",
     "text": [
      "Training epoch 0\n"
     ]
    },
    {
     "data": {
      "application/vnd.jupyter.widget-view+json": {
       "model_id": "f482506e36ec4ba6b2380471aef26edc",
       "version_major": 2,
       "version_minor": 0
      },
      "text/plain": [
       "HBox(children=(FloatProgress(value=0.0, max=1875.0), HTML(value='')))"
      ]
     },
     "metadata": {},
     "output_type": "display_data"
    },
    {
     "name": "stdout",
     "output_type": "stream",
     "text": [
      "[buddy-fusion_9_poe] Saved checkpoint to path: checkpoints/fusion_9_poe-0000000000000500.ckpt\n",
      "[buddy-fusion_9_poe] Saved checkpoint to path: checkpoints/fusion_9_poe-0000000000001000.ckpt\n",
      "[buddy-fusion_9_poe] Saved checkpoint to path: checkpoints/fusion_9_poe-0000000000001500.ckpt\n",
      "\n",
      "Epoch loss: 0.7936318\n",
      "\n",
      "Training epoch 1\n"
     ]
    },
    {
     "data": {
      "application/vnd.jupyter.widget-view+json": {
       "model_id": "6e829be92e4c4aa781da12a2e4d95bf2",
       "version_major": 2,
       "version_minor": 0
      },
      "text/plain": [
       "HBox(children=(FloatProgress(value=0.0, max=1875.0), HTML(value='')))"
      ]
     },
     "metadata": {},
     "output_type": "display_data"
    },
    {
     "name": "stdout",
     "output_type": "stream",
     "text": [
      "[buddy-fusion_9_poe] Saved checkpoint to path: checkpoints/fusion_9_poe-0000000000002000.ckpt\n",
      "[buddy-fusion_9_poe] Saved checkpoint to path: checkpoints/fusion_9_poe-0000000000002500.ckpt\n",
      "[buddy-fusion_9_poe] Saved checkpoint to path: checkpoints/fusion_9_poe-0000000000003000.ckpt\n",
      "[buddy-fusion_9_poe] Saved checkpoint to path: checkpoints/fusion_9_poe-0000000000003500.ckpt\n",
      "\n",
      "Epoch loss: 0.5211345\n",
      "\n",
      "Training epoch 2\n"
     ]
    },
    {
     "data": {
      "application/vnd.jupyter.widget-view+json": {
       "model_id": "d8a1f426e5524ff781a924f6513966d7",
       "version_major": 2,
       "version_minor": 0
      },
      "text/plain": [
       "HBox(children=(FloatProgress(value=0.0, max=1875.0), HTML(value='')))"
      ]
     },
     "metadata": {},
     "output_type": "display_data"
    },
    {
     "name": "stdout",
     "output_type": "stream",
     "text": [
      "[buddy-fusion_9_poe] Saved checkpoint to path: checkpoints/fusion_9_poe-0000000000004000.ckpt\n",
      "[buddy-fusion_9_poe] Saved checkpoint to path: checkpoints/fusion_9_poe-0000000000004500.ckpt\n",
      "[buddy-fusion_9_poe] Saved checkpoint to path: checkpoints/fusion_9_poe-0000000000005000.ckpt\n",
      "[buddy-fusion_9_poe] Saved checkpoint to path: checkpoints/fusion_9_poe-0000000000005500.ckpt\n",
      "\n",
      "Epoch loss: 0.4687591\n",
      "\n",
      "Training epoch 3\n"
     ]
    },
    {
     "data": {
      "application/vnd.jupyter.widget-view+json": {
       "model_id": "1ddc059420334cb98d5a8deb0ea47744",
       "version_major": 2,
       "version_minor": 0
      },
      "text/plain": [
       "HBox(children=(FloatProgress(value=0.0, max=1875.0), HTML(value='')))"
      ]
     },
     "metadata": {},
     "output_type": "display_data"
    },
    {
     "name": "stdout",
     "output_type": "stream",
     "text": [
      "[buddy-fusion_9_poe] Saved checkpoint to path: checkpoints/fusion_9_poe-0000000000006000.ckpt\n",
      "[buddy-fusion_9_poe] Saved checkpoint to path: checkpoints/fusion_9_poe-0000000000006500.ckpt\n",
      "[buddy-fusion_9_poe] Saved checkpoint to path: checkpoints/fusion_9_poe-0000000000007000.ckpt\n",
      "[buddy-fusion_9_poe] Saved checkpoint to path: checkpoints/fusion_9_poe-0000000000007500.ckpt\n",
      "\n",
      "Epoch loss: 0.46865544\n",
      "\n",
      "Training epoch 4\n"
     ]
    },
    {
     "data": {
      "application/vnd.jupyter.widget-view+json": {
       "model_id": "f72bb8d537094192a4a3522230c885a8",
       "version_major": 2,
       "version_minor": 0
      },
      "text/plain": [
       "HBox(children=(FloatProgress(value=0.0, max=1875.0), HTML(value='')))"
      ]
     },
     "metadata": {},
     "output_type": "display_data"
    },
    {
     "name": "stdout",
     "output_type": "stream",
     "text": [
      "[buddy-fusion_9_poe] Saved checkpoint to path: checkpoints/fusion_9_poe-0000000000008000.ckpt\n",
      "[buddy-fusion_9_poe] Saved checkpoint to path: checkpoints/fusion_9_poe-0000000000008500.ckpt\n",
      "[buddy-fusion_9_poe] Saved checkpoint to path: checkpoints/fusion_9_poe-0000000000009000.ckpt\n",
      "\n",
      "Epoch loss: 0.46863496\n",
      "\n",
      "Training epoch 5\n"
     ]
    },
    {
     "data": {
      "application/vnd.jupyter.widget-view+json": {
       "model_id": "7acf9e302b3a48f7acf587ac99754be1",
       "version_major": 2,
       "version_minor": 0
      },
      "text/plain": [
       "HBox(children=(FloatProgress(value=0.0, max=1875.0), HTML(value='')))"
      ]
     },
     "metadata": {},
     "output_type": "display_data"
    },
    {
     "name": "stdout",
     "output_type": "stream",
     "text": [
      "[buddy-fusion_9_poe] Saved checkpoint to path: checkpoints/fusion_9_poe-0000000000009500.ckpt\n",
      "[buddy-fusion_9_poe] Saved checkpoint to path: checkpoints/fusion_9_poe-0000000000010000.ckpt\n",
      "[buddy-fusion_9_poe] Saved checkpoint to path: checkpoints/fusion_9_poe-0000000000010500.ckpt\n",
      "[buddy-fusion_9_poe] Saved checkpoint to path: checkpoints/fusion_9_poe-0000000000011000.ckpt\n",
      "\n",
      "Epoch loss: 0.46861368\n",
      "\n",
      "Training epoch 6\n"
     ]
    },
    {
     "data": {
      "application/vnd.jupyter.widget-view+json": {
       "model_id": "229795ed020349dc896ced29ac4d7c77",
       "version_major": 2,
       "version_minor": 0
      },
      "text/plain": [
       "HBox(children=(FloatProgress(value=0.0, max=1875.0), HTML(value='')))"
      ]
     },
     "metadata": {},
     "output_type": "display_data"
    },
    {
     "name": "stdout",
     "output_type": "stream",
     "text": [
      "[buddy-fusion_9_poe] Saved checkpoint to path: checkpoints/fusion_9_poe-0000000000011500.ckpt\n",
      "[buddy-fusion_9_poe] Saved checkpoint to path: checkpoints/fusion_9_poe-0000000000012000.ckpt\n",
      "[buddy-fusion_9_poe] Saved checkpoint to path: checkpoints/fusion_9_poe-0000000000012500.ckpt\n",
      "[buddy-fusion_9_poe] Saved checkpoint to path: checkpoints/fusion_9_poe-0000000000013000.ckpt\n",
      "\n",
      "Epoch loss: 0.46860123\n",
      "\n",
      "Training epoch 7\n"
     ]
    },
    {
     "data": {
      "application/vnd.jupyter.widget-view+json": {
       "model_id": "62478d6b3aa74d7ab600e62611baa83e",
       "version_major": 2,
       "version_minor": 0
      },
      "text/plain": [
       "HBox(children=(FloatProgress(value=0.0, max=1875.0), HTML(value='')))"
      ]
     },
     "metadata": {},
     "output_type": "display_data"
    },
    {
     "name": "stdout",
     "output_type": "stream",
     "text": [
      "[buddy-fusion_9_poe] Saved checkpoint to path: checkpoints/fusion_9_poe-0000000000013500.ckpt\n",
      "[buddy-fusion_9_poe] Saved checkpoint to path: checkpoints/fusion_9_poe-0000000000014000.ckpt\n",
      "[buddy-fusion_9_poe] Saved checkpoint to path: checkpoints/fusion_9_poe-0000000000014500.ckpt\n",
      "[buddy-fusion_9_poe] Saved checkpoint to path: checkpoints/fusion_9_poe-0000000000015000.ckpt\n",
      "\n",
      "Epoch loss: 0.46859095\n",
      "\n",
      "Training epoch 8\n"
     ]
    },
    {
     "data": {
      "application/vnd.jupyter.widget-view+json": {
       "model_id": "3af00d1853e04bde876f30294cc3fca8",
       "version_major": 2,
       "version_minor": 0
      },
      "text/plain": [
       "HBox(children=(FloatProgress(value=0.0, max=1875.0), HTML(value='')))"
      ]
     },
     "metadata": {},
     "output_type": "display_data"
    },
    {
     "name": "stdout",
     "output_type": "stream",
     "text": [
      "[buddy-fusion_9_poe] Saved checkpoint to path: checkpoints/fusion_9_poe-0000000000015500.ckpt\n",
      "[buddy-fusion_9_poe] Saved checkpoint to path: checkpoints/fusion_9_poe-0000000000016000.ckpt\n",
      "[buddy-fusion_9_poe] Saved checkpoint to path: checkpoints/fusion_9_poe-0000000000016500.ckpt\n",
      "\n",
      "Epoch loss: 0.46858358\n",
      "\n",
      "Training epoch 9\n"
     ]
    },
    {
     "data": {
      "application/vnd.jupyter.widget-view+json": {
       "model_id": "84e380e7019746489290d87c6d7ebd92",
       "version_major": 2,
       "version_minor": 0
      },
      "text/plain": [
       "HBox(children=(FloatProgress(value=0.0, max=1875.0), HTML(value='')))"
      ]
     },
     "metadata": {},
     "output_type": "display_data"
    },
    {
     "name": "stdout",
     "output_type": "stream",
     "text": [
      "[buddy-fusion_9_poe] Saved checkpoint to path: checkpoints/fusion_9_poe-0000000000017000.ckpt\n",
      "[buddy-fusion_9_poe] Saved checkpoint to path: checkpoints/fusion_9_poe-0000000000017500.ckpt\n",
      "[buddy-fusion_9_poe] Saved checkpoint to path: checkpoints/fusion_9_poe-0000000000018000.ckpt\n",
      "[buddy-fusion_9_poe] Saved checkpoint to path: checkpoints/fusion_9_poe-0000000000018500.ckpt\n",
      "\n",
      "Epoch loss: 0.46857828\n",
      "\n",
      "Training epoch 0\n"
     ]
    },
    {
     "data": {
      "application/vnd.jupyter.widget-view+json": {
       "model_id": "63e9e02c71a24e98952ece412978eb51",
       "version_major": 2,
       "version_minor": 0
      },
      "text/plain": [
       "HBox(children=(FloatProgress(value=0.0, max=1875.0), HTML(value='')))"
      ]
     },
     "metadata": {},
     "output_type": "display_data"
    },
    {
     "name": "stdout",
     "output_type": "stream",
     "text": [
      "[buddy-fusion_9_poe] Saved checkpoint to path: checkpoints/fusion_9_poe-0000000000019000.ckpt\n",
      "[buddy-fusion_9_poe] Saved checkpoint to path: checkpoints/fusion_9_poe-0000000000019500.ckpt\n",
      "[buddy-fusion_9_poe] Saved checkpoint to path: checkpoints/fusion_9_poe-0000000000020000.ckpt\n",
      "[buddy-fusion_9_poe] Saved checkpoint to path: checkpoints/fusion_9_poe-0000000000020500.ckpt\n",
      "\n",
      "Epoch loss: 0.82137877\n",
      "\n",
      "Training epoch 1\n"
     ]
    },
    {
     "data": {
      "application/vnd.jupyter.widget-view+json": {
       "model_id": "1a70d07469364a54985e064f3f2eed4b",
       "version_major": 2,
       "version_minor": 0
      },
      "text/plain": [
       "HBox(children=(FloatProgress(value=0.0, max=1875.0), HTML(value='')))"
      ]
     },
     "metadata": {},
     "output_type": "display_data"
    },
    {
     "name": "stdout",
     "output_type": "stream",
     "text": [
      "[buddy-fusion_9_poe] Saved checkpoint to path: checkpoints/fusion_9_poe-0000000000021000.ckpt\n",
      "[buddy-fusion_9_poe] Saved checkpoint to path: checkpoints/fusion_9_poe-0000000000021500.ckpt\n",
      "[buddy-fusion_9_poe] Saved checkpoint to path: checkpoints/fusion_9_poe-0000000000022000.ckpt\n",
      "[buddy-fusion_9_poe] Saved checkpoint to path: checkpoints/fusion_9_poe-0000000000022500.ckpt\n",
      "\n",
      "Epoch loss: 0.813532\n",
      "\n",
      "Training epoch 2\n"
     ]
    },
    {
     "data": {
      "application/vnd.jupyter.widget-view+json": {
       "model_id": "b708370e29d647d2872b5dd009093791",
       "version_major": 2,
       "version_minor": 0
      },
      "text/plain": [
       "HBox(children=(FloatProgress(value=0.0, max=1875.0), HTML(value='')))"
      ]
     },
     "metadata": {},
     "output_type": "display_data"
    },
    {
     "name": "stdout",
     "output_type": "stream",
     "text": [
      "[buddy-fusion_9_poe] Saved checkpoint to path: checkpoints/fusion_9_poe-0000000000023000.ckpt\n",
      "[buddy-fusion_9_poe] Saved checkpoint to path: checkpoints/fusion_9_poe-0000000000023500.ckpt\n",
      "[buddy-fusion_9_poe] Saved checkpoint to path: checkpoints/fusion_9_poe-0000000000024000.ckpt\n",
      "\n",
      "Epoch loss: 0.81193453\n",
      "\n",
      "Training epoch 3\n"
     ]
    },
    {
     "data": {
      "application/vnd.jupyter.widget-view+json": {
       "model_id": "e3d4c3acd60347ed92a610570314b2ed",
       "version_major": 2,
       "version_minor": 0
      },
      "text/plain": [
       "HBox(children=(FloatProgress(value=0.0, max=1875.0), HTML(value='')))"
      ]
     },
     "metadata": {},
     "output_type": "display_data"
    },
    {
     "name": "stdout",
     "output_type": "stream",
     "text": [
      "[buddy-fusion_9_poe] Saved checkpoint to path: checkpoints/fusion_9_poe-0000000000024500.ckpt\n",
      "[buddy-fusion_9_poe] Saved checkpoint to path: checkpoints/fusion_9_poe-0000000000025000.ckpt\n",
      "[buddy-fusion_9_poe] Saved checkpoint to path: checkpoints/fusion_9_poe-0000000000025500.ckpt\n",
      "[buddy-fusion_9_poe] Saved checkpoint to path: checkpoints/fusion_9_poe-0000000000026000.ckpt\n",
      "\n",
      "Epoch loss: 0.81065\n",
      "\n",
      "Training epoch 4\n"
     ]
    },
    {
     "data": {
      "application/vnd.jupyter.widget-view+json": {
       "model_id": "4002fd473ec64d7c9a6a17affa206193",
       "version_major": 2,
       "version_minor": 0
      },
      "text/plain": [
       "HBox(children=(FloatProgress(value=0.0, max=1875.0), HTML(value='')))"
      ]
     },
     "metadata": {},
     "output_type": "display_data"
    },
    {
     "name": "stdout",
     "output_type": "stream",
     "text": [
      "[buddy-fusion_9_poe] Saved checkpoint to path: checkpoints/fusion_9_poe-0000000000026500.ckpt\n",
      "[buddy-fusion_9_poe] Saved checkpoint to path: checkpoints/fusion_9_poe-0000000000027000.ckpt\n",
      "[buddy-fusion_9_poe] Saved checkpoint to path: checkpoints/fusion_9_poe-0000000000027500.ckpt\n",
      "[buddy-fusion_9_poe] Saved checkpoint to path: checkpoints/fusion_9_poe-0000000000028000.ckpt\n",
      "\n",
      "Epoch loss: 0.81004333\n",
      "\n",
      "Training epoch 5\n"
     ]
    },
    {
     "data": {
      "application/vnd.jupyter.widget-view+json": {
       "model_id": "cbb0a7c4d8054519932f54ae2a92ff83",
       "version_major": 2,
       "version_minor": 0
      },
      "text/plain": [
       "HBox(children=(FloatProgress(value=0.0, max=1875.0), HTML(value='')))"
      ]
     },
     "metadata": {},
     "output_type": "display_data"
    },
    {
     "name": "stdout",
     "output_type": "stream",
     "text": [
      "[buddy-fusion_9_poe] Saved checkpoint to path: checkpoints/fusion_9_poe-0000000000028500.ckpt\n",
      "[buddy-fusion_9_poe] Saved checkpoint to path: checkpoints/fusion_9_poe-0000000000029000.ckpt\n",
      "[buddy-fusion_9_poe] Saved checkpoint to path: checkpoints/fusion_9_poe-0000000000029500.ckpt\n",
      "[buddy-fusion_9_poe] Saved checkpoint to path: checkpoints/fusion_9_poe-0000000000030000.ckpt\n",
      "\n",
      "Epoch loss: 0.8097593\n",
      "\n",
      "Training epoch 6\n"
     ]
    },
    {
     "data": {
      "application/vnd.jupyter.widget-view+json": {
       "model_id": "b542c0a326634ad99397443166e650e7",
       "version_major": 2,
       "version_minor": 0
      },
      "text/plain": [
       "HBox(children=(FloatProgress(value=0.0, max=1875.0), HTML(value='')))"
      ]
     },
     "metadata": {},
     "output_type": "display_data"
    },
    {
     "name": "stdout",
     "output_type": "stream",
     "text": [
      "[buddy-fusion_9_poe] Saved checkpoint to path: checkpoints/fusion_9_poe-0000000000030500.ckpt\n",
      "[buddy-fusion_9_poe] Saved checkpoint to path: checkpoints/fusion_9_poe-0000000000031000.ckpt\n",
      "[buddy-fusion_9_poe] Saved checkpoint to path: checkpoints/fusion_9_poe-0000000000031500.ckpt\n",
      "\n",
      "Epoch loss: 0.80938077\n",
      "\n",
      "Training epoch 7\n"
     ]
    },
    {
     "data": {
      "application/vnd.jupyter.widget-view+json": {
       "model_id": "173b765dd5ca42a290f76f99a228430e",
       "version_major": 2,
       "version_minor": 0
      },
      "text/plain": [
       "HBox(children=(FloatProgress(value=0.0, max=1875.0), HTML(value='')))"
      ]
     },
     "metadata": {},
     "output_type": "display_data"
    },
    {
     "name": "stdout",
     "output_type": "stream",
     "text": [
      "[buddy-fusion_9_poe] Saved checkpoint to path: checkpoints/fusion_9_poe-0000000000032000.ckpt\n",
      "[buddy-fusion_9_poe] Saved checkpoint to path: checkpoints/fusion_9_poe-0000000000032500.ckpt\n",
      "[buddy-fusion_9_poe] Saved checkpoint to path: checkpoints/fusion_9_poe-0000000000033000.ckpt\n",
      "[buddy-fusion_9_poe] Saved checkpoint to path: checkpoints/fusion_9_poe-0000000000033500.ckpt\n",
      "\n",
      "Epoch loss: 0.8094281\n",
      "\n",
      "Training epoch 8\n"
     ]
    },
    {
     "data": {
      "application/vnd.jupyter.widget-view+json": {
       "model_id": "acbb3d60026f4c9882429db6d2152b45",
       "version_major": 2,
       "version_minor": 0
      },
      "text/plain": [
       "HBox(children=(FloatProgress(value=0.0, max=1875.0), HTML(value='')))"
      ]
     },
     "metadata": {},
     "output_type": "display_data"
    },
    {
     "name": "stdout",
     "output_type": "stream",
     "text": [
      "[buddy-fusion_9_poe] Saved checkpoint to path: checkpoints/fusion_9_poe-0000000000034000.ckpt\n",
      "[buddy-fusion_9_poe] Saved checkpoint to path: checkpoints/fusion_9_poe-0000000000034500.ckpt\n",
      "[buddy-fusion_9_poe] Saved checkpoint to path: checkpoints/fusion_9_poe-0000000000035000.ckpt\n",
      "[buddy-fusion_9_poe] Saved checkpoint to path: checkpoints/fusion_9_poe-0000000000035500.ckpt\n",
      "\n",
      "Epoch loss: 0.80914205\n",
      "\n",
      "Training epoch 9\n"
     ]
    },
    {
     "data": {
      "application/vnd.jupyter.widget-view+json": {
       "model_id": "171c4c681b4c4123b325ff6a2e7faa2d",
       "version_major": 2,
       "version_minor": 0
      },
      "text/plain": [
       "HBox(children=(FloatProgress(value=0.0, max=1875.0), HTML(value='')))"
      ]
     },
     "metadata": {},
     "output_type": "display_data"
    },
    {
     "name": "stdout",
     "output_type": "stream",
     "text": [
      "[buddy-fusion_9_poe] Saved checkpoint to path: checkpoints/fusion_9_poe-0000000000036000.ckpt\n",
      "[buddy-fusion_9_poe] Saved checkpoint to path: checkpoints/fusion_9_poe-0000000000036500.ckpt\n",
      "[buddy-fusion_9_poe] Saved checkpoint to path: checkpoints/fusion_9_poe-0000000000037000.ckpt\n",
      "[buddy-fusion_9_poe] Saved checkpoint to path: checkpoints/fusion_9_poe-0000000000037500.ckpt\n",
      "\n",
      "Epoch loss: 0.8092073\n",
      "\n",
      "[buddy-fusion_9_poe] Saved checkpoint to path: checkpoints/fusion_9_poe-phase_2_measurement_pretrain.ckpt\n"
     ]
    }
   ],
   "source": [
    "measurement_trainset_loader = torch.utils.data.DataLoader(\n",
    "    dataset_measurement,\n",
    "    batch_size=256,\n",
    "    shuffle=True,\n",
    "    num_workers=16)\n",
    "\n",
    "for i in range(10):\n",
    "    print(\"Training epoch\", i)\n",
    "    training.train_measurement(buddy, image_model, measurement_trainset_loader, log_interval=20, optim_name=\"im_meas\")\n",
    "    print()\n",
    "\n",
    "for i in range(10):\n",
    "    print(\"Training epoch\", i)\n",
    "    training.train_measurement(buddy, force_model, measurement_trainset_loader, log_interval=20, optim_name=\"force_meas\")\n",
    "    print()\n",
    "\n",
    "buddy.save_checkpoint(\"phase_2_measurement_pretrain\")\n"
   ]
  },
  {
   "cell_type": "code",
   "execution_count": null,
   "metadata": {},
   "outputs": [],
   "source": []
  },
  {
   "cell_type": "code",
   "execution_count": 9,
   "metadata": {},
   "outputs": [
    {
     "ename": "SyntaxError",
     "evalue": "invalid syntax (<ipython-input-9-eff1bd15fd54>, line 6)",
     "output_type": "error",
     "traceback": [
      "\u001b[0;36m  File \u001b[0;32m\"<ipython-input-9-eff1bd15fd54>\"\u001b[0;36m, line \u001b[0;32m6\u001b[0m\n\u001b[0;31m    for in range(20):\u001b[0m\n\u001b[0m         ^\u001b[0m\n\u001b[0;31mSyntaxError\u001b[0m\u001b[0;31m:\u001b[0m invalid syntax\n"
     ]
    }
   ],
   "source": []
  },
  {
   "cell_type": "code",
   "execution_count": 12,
   "metadata": {},
   "outputs": [
    {
     "name": "stdout",
     "output_type": "stream",
     "text": [
      "Training epoch 0\n"
     ]
    },
    {
     "name": "stderr",
     "output_type": "stream",
     "text": [
      "[autoreload of utils failed: Traceback (most recent call last):\n",
      "  File \"/scr-ssd/miniconda3/envs/filter/lib/python3.6/site-packages/IPython/extensions/autoreload.py\", line 245, in check\n",
      "    superreload(m, reload, self.old_objects)\n",
      "  File \"/scr-ssd/miniconda3/envs/filter/lib/python3.6/site-packages/IPython/extensions/autoreload.py\", line 394, in superreload\n",
      "    module = reload(module)\n",
      "  File \"/scr-ssd/miniconda3/envs/filter/lib/python3.6/imp.py\", line 315, in reload\n",
      "    return importlib.reload(module)\n",
      "  File \"/scr-ssd/miniconda3/envs/filter/lib/python3.6/importlib/__init__.py\", line 166, in reload\n",
      "    _bootstrap._exec(spec, module)\n",
      "  File \"<frozen importlib._bootstrap>\", line 618, in _exec\n",
      "  File \"<frozen importlib._bootstrap_external>\", line 674, in exec_module\n",
      "  File \"<frozen importlib._bootstrap_external>\", line 781, in get_code\n",
      "  File \"<frozen importlib._bootstrap_external>\", line 741, in source_to_code\n",
      "  File \"<frozen importlib._bootstrap>\", line 219, in _call_with_frames_removed\n",
      "  File \"/scr-ssd/filter/multimodal_dpf2/utils/__init__.py\", line 1\n",
      "    import .utils\n",
      "           ^\n",
      "SyntaxError: invalid syntax\n",
      "]\n"
     ]
    },
    {
     "data": {
      "application/vnd.jupyter.widget-view+json": {
       "model_id": "40e52be169604363bbdc9412682780ff",
       "version_major": 2,
       "version_minor": 0
      },
      "text/plain": [
       "HBox(children=(FloatProgress(value=0.0, max=6.0), HTML(value='')))"
      ]
     },
     "metadata": {},
     "output_type": "display_data"
    },
    {
     "name": "stdout",
     "output_type": "stream",
     "text": [
      "\n",
      "Training epoch 1\n"
     ]
    },
    {
     "data": {
      "application/vnd.jupyter.widget-view+json": {
       "model_id": "e34229abcedf43c58e1c46fa9c7930cc",
       "version_major": 2,
       "version_minor": 0
      },
      "text/plain": [
       "HBox(children=(FloatProgress(value=0.0, max=6.0), HTML(value='')))"
      ]
     },
     "metadata": {},
     "output_type": "display_data"
    },
    {
     "name": "stdout",
     "output_type": "stream",
     "text": [
      "\n",
      "Training epoch 2\n"
     ]
    },
    {
     "data": {
      "application/vnd.jupyter.widget-view+json": {
       "model_id": "67114d3b9cc24717a69ed2d2c6c48333",
       "version_major": 2,
       "version_minor": 0
      },
      "text/plain": [
       "HBox(children=(FloatProgress(value=0.0, max=6.0), HTML(value='')))"
      ]
     },
     "metadata": {},
     "output_type": "display_data"
    },
    {
     "name": "stdout",
     "output_type": "stream",
     "text": [
      "\n",
      "Training epoch 3\n"
     ]
    },
    {
     "data": {
      "application/vnd.jupyter.widget-view+json": {
       "model_id": "8b24b013784642b1b9d80f73354b888d",
       "version_major": 2,
       "version_minor": 0
      },
      "text/plain": [
       "HBox(children=(FloatProgress(value=0.0, max=6.0), HTML(value='')))"
      ]
     },
     "metadata": {},
     "output_type": "display_data"
    },
    {
     "name": "stdout",
     "output_type": "stream",
     "text": [
      "\n",
      "Training epoch 4\n"
     ]
    },
    {
     "data": {
      "application/vnd.jupyter.widget-view+json": {
       "model_id": "aa691b1f0cf94823915081b3a6527531",
       "version_major": 2,
       "version_minor": 0
      },
      "text/plain": [
       "HBox(children=(FloatProgress(value=0.0, max=6.0), HTML(value='')))"
      ]
     },
     "metadata": {},
     "output_type": "display_data"
    },
    {
     "name": "stdout",
     "output_type": "stream",
     "text": [
      "\n",
      "Training epoch 0\n"
     ]
    },
    {
     "data": {
      "application/vnd.jupyter.widget-view+json": {
       "model_id": "6d174622f45f44d5b37a65273a088654",
       "version_major": 2,
       "version_minor": 0
      },
      "text/plain": [
       "HBox(children=(FloatProgress(value=0.0, max=6.0), HTML(value='')))"
      ]
     },
     "metadata": {},
     "output_type": "display_data"
    },
    {
     "name": "stdout",
     "output_type": "stream",
     "text": [
      "\n",
      "Training epoch 1\n"
     ]
    },
    {
     "data": {
      "application/vnd.jupyter.widget-view+json": {
       "model_id": "2beec5090ded45d696e1f3c2f7c70297",
       "version_major": 2,
       "version_minor": 0
      },
      "text/plain": [
       "HBox(children=(FloatProgress(value=0.0, max=6.0), HTML(value='')))"
      ]
     },
     "metadata": {},
     "output_type": "display_data"
    },
    {
     "name": "stdout",
     "output_type": "stream",
     "text": [
      "\n",
      "Training epoch 2\n"
     ]
    },
    {
     "data": {
      "application/vnd.jupyter.widget-view+json": {
       "model_id": "0afc285d46b640dc87cda25662c6fc5b",
       "version_major": 2,
       "version_minor": 0
      },
      "text/plain": [
       "HBox(children=(FloatProgress(value=0.0, max=6.0), HTML(value='')))"
      ]
     },
     "metadata": {},
     "output_type": "display_data"
    },
    {
     "name": "stdout",
     "output_type": "stream",
     "text": [
      "\n",
      "Training epoch 3\n"
     ]
    },
    {
     "data": {
      "application/vnd.jupyter.widget-view+json": {
       "model_id": "95d244b87fbe4b6e9d3a8cf204bd0a2f",
       "version_major": 2,
       "version_minor": 0
      },
      "text/plain": [
       "HBox(children=(FloatProgress(value=0.0, max=6.0), HTML(value='')))"
      ]
     },
     "metadata": {},
     "output_type": "display_data"
    },
    {
     "name": "stdout",
     "output_type": "stream",
     "text": [
      "[buddy-fusion_9_poe] Saved checkpoint to path: checkpoints/fusion_9_poe-0000000000037600.ckpt\n",
      "\n",
      "Training epoch 4\n"
     ]
    },
    {
     "data": {
      "application/vnd.jupyter.widget-view+json": {
       "model_id": "ca8a20c634864ca9933f499f8bb7605f",
       "version_major": 2,
       "version_minor": 0
      },
      "text/plain": [
       "HBox(children=(FloatProgress(value=0.0, max=6.0), HTML(value='')))"
      ]
     },
     "metadata": {},
     "output_type": "display_data"
    },
    {
     "name": "stdout",
     "output_type": "stream",
     "text": [
      "\n"
     ]
    }
   ],
   "source": [
    "e2e_trainset_loader = torch.utils.data.DataLoader(e2e_trainset, batch_size=256, shuffle=True, num_workers=2)\n",
    "\n",
    "for i in range(5):\n",
    "    print(\"Training epoch\", i)\n",
    "    training.train_e2e(buddy, force_model, e2e_trainset_loader, optim_name=\"force_ekf\")\n",
    "    \n",
    "for i in range(5):\n",
    "    print(\"Training epoch\", i)\n",
    "    training.train_e2e(buddy, image_model, e2e_trainset_loader, optim_name=\"im_ekf\")\n",
    "    \n",
    "\n"
   ]
  },
  {
   "cell_type": "code",
   "execution_count": 13,
   "metadata": {},
   "outputs": [
    {
     "name": "stdout",
     "output_type": "stream",
     "text": [
      "[buddy-fusion_7_n100] Saved checkpoint to path: checkpoints/fusion_7_n100-phase_3_e2e.ckpt\n"
     ]
    }
   ],
   "source": [
    "buddy.save_checkpoint(\"phase_3_e2e\")"
   ]
  },
  {
   "cell_type": "code",
   "execution_count": null,
   "metadata": {},
   "outputs": [
    {
     "name": "stdout",
     "output_type": "stream",
     "text": [
      "Training epoch 0\n"
     ]
    },
    {
     "data": {
      "application/vnd.jupyter.widget-view+json": {
       "model_id": "3e2f226218f64cdeaee857c2e6f8a833",
       "version_major": 2,
       "version_minor": 0
      },
      "text/plain": [
       "HBox(children=(FloatProgress(value=0.0, max=6.0), HTML(value='')))"
      ]
     },
     "metadata": {},
     "output_type": "display_data"
    },
    {
     "name": "stdout",
     "output_type": "stream",
     "text": [
      "\n",
      "Training epoch 1\n"
     ]
    },
    {
     "data": {
      "application/vnd.jupyter.widget-view+json": {
       "model_id": "ac048c68ac1e4ef7995d39b3af014c4d",
       "version_major": 2,
       "version_minor": 0
      },
      "text/plain": [
       "HBox(children=(FloatProgress(value=0.0, max=6.0), HTML(value='')))"
      ]
     },
     "metadata": {},
     "output_type": "display_data"
    },
    {
     "name": "stdout",
     "output_type": "stream",
     "text": [
      "\n",
      "Training epoch 2\n"
     ]
    },
    {
     "data": {
      "application/vnd.jupyter.widget-view+json": {
       "model_id": "7a60fa87daff4370950e7bbf39a82787",
       "version_major": 2,
       "version_minor": 0
      },
      "text/plain": [
       "HBox(children=(FloatProgress(value=0.0, max=6.0), HTML(value='')))"
      ]
     },
     "metadata": {},
     "output_type": "display_data"
    },
    {
     "name": "stdout",
     "output_type": "stream",
     "text": [
      "\n",
      "Training epoch 3\n"
     ]
    },
    {
     "data": {
      "application/vnd.jupyter.widget-view+json": {
       "model_id": "e5f689a5b38d4877aa2e1659ac0fdaae",
       "version_major": 2,
       "version_minor": 0
      },
      "text/plain": [
       "HBox(children=(FloatProgress(value=0.0, max=6.0), HTML(value='')))"
      ]
     },
     "metadata": {},
     "output_type": "display_data"
    },
    {
     "name": "stdout",
     "output_type": "stream",
     "text": [
      "\n",
      "Training epoch 4\n"
     ]
    },
    {
     "data": {
      "application/vnd.jupyter.widget-view+json": {
       "model_id": "455157e36dd34cb7b54dc5b531e4ed52",
       "version_major": 2,
       "version_minor": 0
      },
      "text/plain": [
       "HBox(children=(FloatProgress(value=0.0, max=6.0), HTML(value='')))"
      ]
     },
     "metadata": {},
     "output_type": "display_data"
    },
    {
     "name": "stdout",
     "output_type": "stream",
     "text": [
      "\n",
      "Training epoch 5\n"
     ]
    },
    {
     "data": {
      "application/vnd.jupyter.widget-view+json": {
       "model_id": "60e2477171b74c78a5f099334d56a573",
       "version_major": 2,
       "version_minor": 0
      },
      "text/plain": [
       "HBox(children=(FloatProgress(value=0.0, max=6.0), HTML(value='')))"
      ]
     },
     "metadata": {},
     "output_type": "display_data"
    },
    {
     "name": "stdout",
     "output_type": "stream",
     "text": [
      "\n",
      "Training epoch 6\n"
     ]
    },
    {
     "data": {
      "application/vnd.jupyter.widget-view+json": {
       "model_id": "c85c03094a3a43f0afc61d0f7f5e1525",
       "version_major": 2,
       "version_minor": 0
      },
      "text/plain": [
       "HBox(children=(FloatProgress(value=0.0, max=6.0), HTML(value='')))"
      ]
     },
     "metadata": {},
     "output_type": "display_data"
    },
    {
     "name": "stdout",
     "output_type": "stream",
     "text": [
      "\n",
      "Training epoch 7\n"
     ]
    },
    {
     "data": {
      "application/vnd.jupyter.widget-view+json": {
       "model_id": "66264adfe8334423bace82e8689b7802",
       "version_major": 2,
       "version_minor": 0
      },
      "text/plain": [
       "HBox(children=(FloatProgress(value=0.0, max=6.0), HTML(value='')))"
      ]
     },
     "metadata": {},
     "output_type": "display_data"
    }
   ],
   "source": [
    "e2e_trainset_loader = torch.utils.data.DataLoader(e2e_trainset, batch_size=256, shuffle=True, num_workers=2)\n",
    "                                                  \n",
    "for i in range(1000):\n",
    "    print(\"Training epoch\", i)\n",
    "    training.train_fusion(buddy, fusion_model, e2e_trainset_loader, optim_name=\"fusion\")\n",
    "    \n",
    "    \n",
    "buddy.save_checkpoint(\"phase_4_fusion\")"
   ]
  },
  {
   "cell_type": "code",
   "execution_count": 18,
   "metadata": {},
   "outputs": [
    {
     "name": "stdout",
     "output_type": "stream",
     "text": [
      "0\n",
      "1\n",
      "2\n",
      "3\n",
      "4\n",
      "5\n",
      "6\n",
      "7\n",
      "8\n",
      "9\n"
     ]
    }
   ],
   "source": [
    "for x in range(10):\n",
    "    print(x)"
   ]
  }
 ],
 "metadata": {
  "kernelspec": {
   "display_name": "Python 3",
   "language": "python",
   "name": "python3"
  },
  "language_info": {
   "codemirror_mode": {
    "name": "ipython",
    "version": 3
   },
   "file_extension": ".py",
   "mimetype": "text/x-python",
   "name": "python",
   "nbconvert_exporter": "python",
   "pygments_lexer": "ipython3",
   "version": "3.6.10"
  }
 },
 "nbformat": 4,
 "nbformat_minor": 4
}
