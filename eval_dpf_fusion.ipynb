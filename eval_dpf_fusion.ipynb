{
 "cells": [
  {
   "cell_type": "code",
   "execution_count": 1,
   "metadata": {},
   "outputs": [],
   "source": [
    "%matplotlib inline\n",
    "%load_ext autoreload\n",
    "%autoreload 2"
   ]
  },
  {
   "cell_type": "code",
   "execution_count": 2,
   "metadata": {},
   "outputs": [],
   "source": [
    "import matplotlib.pyplot as plt\n",
    "import numpy as np\n",
    "import torch\n",
    "import torch.nn as nn\n",
    "import torch.nn.functional as F\n",
    "import time\n",
    "\n",
    "import fannypack\n",
    "from lib import dpf, panda_models, panda_datasets, panda_training, fusion_pf, fusion, omnipush_datasets\n",
    "\n",
    "import matplotlib.pyplot as plt\n",
    "# plt.style.use('seaborn')\n",
    "# plt.style.use('seaborn-colorblind')\n",
    "# plt.style.use('seaborn-poster')"
   ]
  },
  {
   "cell_type": "code",
   "execution_count": 5,
   "metadata": {},
   "outputs": [],
   "source": [
    "def eval_experiment(experiment_name, omnipush=False):\n",
    "    # Experiment configuration\n",
    "    pf_image_model = panda_models.PandaParticleFilterNetwork(\n",
    "        panda_models.PandaDynamicsModel(),\n",
    "        panda_models.PandaMeasurementModel(units=64, missing_modalities=['gripper_force']),\n",
    "    )\n",
    "\n",
    "    pf_force_model = panda_models.PandaParticleFilterNetwork(\n",
    "        panda_models.PandaDynamicsModel(),\n",
    "        panda_models.PandaMeasurementModel(units=64, missing_modalities=['image']),\n",
    "    )\n",
    "\n",
    "    weight_model = fusion.CrossModalWeights(state_dim=1)\n",
    "\n",
    "    pf_fusion_model = fusion_pf.ParticleFusionModel(\n",
    "        pf_image_model,\n",
    "        pf_force_model,\n",
    "        weight_model\n",
    "    )\n",
    "\n",
    "    # Create buddy\n",
    "    buddy = fannypack.utils.Buddy(\n",
    "        experiment_name,\n",
    "        pf_fusion_model,\n",
    "        optimizer_names=[\n",
    "            \"e2e_fusion\",\n",
    "            \"e2e_image\",\n",
    "            \"e2e_force\",\n",
    "            \"dynamics_image\",\n",
    "            \"dynamics_force\",\n",
    "            \"dynamics_recurrent_image\",\n",
    "            \"dynamics_recurrent_force\",\n",
    "            \"measurement_image\",\n",
    "            \"measurement_force\",\n",
    "        ]\n",
    "    )\n",
    "    \n",
    "    # Load eval data\n",
    "    dataset_args = buddy.metadata\n",
    "    if omnipush:\n",
    "        eval_trajectories = omnipush_datasets.load_trajectories((\"simpler/val.hdf5\", 200), **dataset_args)\n",
    "    else:\n",
    "        dataset_args['start_timestep'] = 100\n",
    "        eval_trajectories = panda_datasets.load_trajectories((\"data/gentle_push_1000.hdf5\", 100), **dataset_args)\n",
    "    \n",
    "    # Plotting, etc\n",
    "    phases = [\n",
    "#         'phase_0_dynamics_pretrain',\n",
    "#         'phase_1_dynamics_pretrain_recurrent',\n",
    "#         'phase_2_measurement_pretrain',\n",
    "#         'phase_3_e2e_individual',\n",
    "        'phase_4_e2e_joint',\n",
    "#          'phase_4_e2e_joint_unfrozen',\n",
    "    ]\n",
    "    print(buddy.checkpoint_labels)\n",
    "    for phase in phases:\n",
    "        try:\n",
    "            buddy.load_checkpoint(label=phase)\n",
    "            pass\n",
    "        except FileNotFoundError:\n",
    "            print(f\"Skipping {phase}\")\n",
    "            continue\n",
    "\n",
    "        print(f\"Evaluating {phase}\")\n",
    "        pf_fusion_model.image_model.dynamics_model.state_noise_stddev = (0.02, 0.02)\n",
    "        pf_fusion_model.force_model.dynamics_model.state_noise_stddev = (0.02, 0.02)\n",
    "        \n",
    "        with torch.no_grad():\n",
    "            panda_training.rollout_and_eval(\n",
    "                pf_fusion_model,\n",
    "                eval_trajectories,\n",
    "                start_time=0,\n",
    "                max_timesteps=1000,\n",
    "                particle_count=200,\n",
    "                noisy_dynamics=True,\n",
    "                true_initial=True)\n"
   ]
  },
  {
   "cell_type": "code",
   "execution_count": 7,
   "metadata": {},
   "outputs": [
    {
     "name": "stdout",
     "output_type": "stream",
     "text": [
      "[buddy-dpf_omnipush_fusion_lr1e-5_uf] Using device: cuda\n",
      "[buddy-dpf_omnipush_fusion_lr1e-5_uf] Available checkpoint labels: ['0000000000217208', 'phase_4_e2e_joint']\n",
      "[buddy-dpf_omnipush_fusion_lr1e-5_uf] Read checkpoint from path: checkpoints/dpf_omnipush_fusion_lr1e-5_uf-0000000000217208.ckpt\n",
      "[buddy-dpf_omnipush_fusion_lr1e-5_uf] Loaded checkpoint at step: 217208\n",
      "['0000000000217208', 'phase_4_e2e_joint']\n",
      "[buddy-dpf_omnipush_fusion_lr1e-5_uf] Read checkpoint from path: checkpoints/dpf_omnipush_fusion_lr1e-5_uf-phase_4_e2e_joint.ckpt\n",
      "[buddy-dpf_omnipush_fusion_lr1e-5_uf] Loaded checkpoint at step: 217208\n",
      "Evaluating phase_4_e2e_joint\n"
     ]
    },
    {
     "data": {
      "application/vnd.jupyter.widget-view+json": {
       "model_id": "e12a2ea23202455a98ce5505ee114ac1",
       "version_major": 2,
       "version_minor": 0
      },
      "text/plain": [
       "HBox(children=(IntProgress(value=0, max=49), HTML(value='')))"
      ]
     },
     "metadata": {},
     "output_type": "display_data"
    },
    {
     "ename": "RuntimeError",
     "evalue": "shape '[200, 2, 2]' is invalid for input of size 400",
     "output_type": "error",
     "traceback": [
      "\u001b[0;31m---------------------------------------------------------------------------\u001b[0m",
      "\u001b[0;31mRuntimeError\u001b[0m                              Traceback (most recent call last)",
      "\u001b[0;32m<ipython-input-7-63d2a640d9af>\u001b[0m in \u001b[0;36m<module>\u001b[0;34m\u001b[0m\n\u001b[0;32m----> 1\u001b[0;31m \u001b[0meval_experiment\u001b[0m\u001b[0;34m(\u001b[0m\u001b[0;34m\"dpf_omnipush_fusion_lr1e-5_uf\"\u001b[0m\u001b[0;34m,\u001b[0m \u001b[0momnipush\u001b[0m\u001b[0;34m=\u001b[0m\u001b[0;32mTrue\u001b[0m\u001b[0;34m)\u001b[0m\u001b[0;34m\u001b[0m\u001b[0;34m\u001b[0m\u001b[0m\n\u001b[0m",
      "\u001b[0;32m<ipython-input-5-192abdc7a32d>\u001b[0m in \u001b[0;36meval_experiment\u001b[0;34m(experiment_name, omnipush)\u001b[0m\n\u001b[1;32m     74\u001b[0m                 \u001b[0mparticle_count\u001b[0m\u001b[0;34m=\u001b[0m\u001b[0;36m200\u001b[0m\u001b[0;34m,\u001b[0m\u001b[0;34m\u001b[0m\u001b[0;34m\u001b[0m\u001b[0m\n\u001b[1;32m     75\u001b[0m                 \u001b[0mnoisy_dynamics\u001b[0m\u001b[0;34m=\u001b[0m\u001b[0;32mTrue\u001b[0m\u001b[0;34m,\u001b[0m\u001b[0;34m\u001b[0m\u001b[0;34m\u001b[0m\u001b[0m\n\u001b[0;32m---> 76\u001b[0;31m                 true_initial=True)\n\u001b[0m",
      "\u001b[0;32m/juno/u/brentyi/multimodal_dpf2/lib/panda_training.py\u001b[0m in \u001b[0;36mrollout_and_eval\u001b[0;34m(pf_model, trajectories, start_time, max_timesteps, particle_count, noisy_dynamics, true_initial)\u001b[0m\n\u001b[1;32m    493\u001b[0m             \u001b[0mc\u001b[0m\u001b[0;34m,\u001b[0m\u001b[0;34m\u001b[0m\u001b[0;34m\u001b[0m\u001b[0m\n\u001b[1;32m    494\u001b[0m             \u001b[0mresample\u001b[0m\u001b[0;34m=\u001b[0m\u001b[0;32mTrue\u001b[0m\u001b[0;34m,\u001b[0m\u001b[0;34m\u001b[0m\u001b[0;34m\u001b[0m\u001b[0m\n\u001b[0;32m--> 495\u001b[0;31m             \u001b[0mnoisy_dynamics\u001b[0m\u001b[0;34m=\u001b[0m\u001b[0mnoisy_dynamics\u001b[0m\u001b[0;34m\u001b[0m\u001b[0;34m\u001b[0m\u001b[0m\n\u001b[0m\u001b[1;32m    496\u001b[0m         )\n\u001b[1;32m    497\u001b[0m \u001b[0;34m\u001b[0m\u001b[0m\n",
      "\u001b[0;32m/juno/u/brentyi/multimodal_dpf2/lib/fusion_pf.py\u001b[0m in \u001b[0;36mforward\u001b[0;34m(self, states_prev, log_weights_prev, observations, controls, resample, noisy_dynamics, know_image_blackout)\u001b[0m\n\u001b[1;32m     54\u001b[0m \u001b[0;34m\u001b[0m\u001b[0m\n\u001b[1;32m     55\u001b[0m         \u001b[0;31m# Get weights\u001b[0m\u001b[0;34m\u001b[0m\u001b[0;34m\u001b[0m\u001b[0;34m\u001b[0m\u001b[0m\n\u001b[0;32m---> 56\u001b[0;31m         \u001b[0mimage_log_beta\u001b[0m\u001b[0;34m,\u001b[0m \u001b[0mforce_log_beta\u001b[0m \u001b[0;34m=\u001b[0m \u001b[0mself\u001b[0m\u001b[0;34m.\u001b[0m\u001b[0mweight_model\u001b[0m\u001b[0;34m(\u001b[0m\u001b[0mobservations\u001b[0m\u001b[0;34m)\u001b[0m\u001b[0;34m\u001b[0m\u001b[0;34m\u001b[0m\u001b[0m\n\u001b[0m\u001b[1;32m     57\u001b[0m         \u001b[0;32massert\u001b[0m \u001b[0mimage_log_beta\u001b[0m\u001b[0;34m.\u001b[0m\u001b[0mshape\u001b[0m \u001b[0;34m==\u001b[0m \u001b[0;34m(\u001b[0m\u001b[0mN\u001b[0m\u001b[0;34m,\u001b[0m \u001b[0;36m1\u001b[0m\u001b[0;34m)\u001b[0m\u001b[0;34m\u001b[0m\u001b[0;34m\u001b[0m\u001b[0m\n\u001b[1;32m     58\u001b[0m         \u001b[0;32massert\u001b[0m \u001b[0mforce_log_beta\u001b[0m\u001b[0;34m.\u001b[0m\u001b[0mshape\u001b[0m \u001b[0;34m==\u001b[0m \u001b[0;34m(\u001b[0m\u001b[0mN\u001b[0m\u001b[0;34m,\u001b[0m \u001b[0;36m1\u001b[0m\u001b[0;34m)\u001b[0m\u001b[0;34m\u001b[0m\u001b[0;34m\u001b[0m\u001b[0m\n",
      "\u001b[0;32m/juno/u/brentyi/miniconda/lib/python3.7/site-packages/torch/nn/modules/module.py\u001b[0m in \u001b[0;36m__call__\u001b[0;34m(self, *input, **kwargs)\u001b[0m\n\u001b[1;32m    530\u001b[0m             \u001b[0mresult\u001b[0m \u001b[0;34m=\u001b[0m \u001b[0mself\u001b[0m\u001b[0;34m.\u001b[0m\u001b[0m_slow_forward\u001b[0m\u001b[0;34m(\u001b[0m\u001b[0;34m*\u001b[0m\u001b[0minput\u001b[0m\u001b[0;34m,\u001b[0m \u001b[0;34m**\u001b[0m\u001b[0mkwargs\u001b[0m\u001b[0;34m)\u001b[0m\u001b[0;34m\u001b[0m\u001b[0;34m\u001b[0m\u001b[0m\n\u001b[1;32m    531\u001b[0m         \u001b[0;32melse\u001b[0m\u001b[0;34m:\u001b[0m\u001b[0;34m\u001b[0m\u001b[0;34m\u001b[0m\u001b[0m\n\u001b[0;32m--> 532\u001b[0;31m             \u001b[0mresult\u001b[0m \u001b[0;34m=\u001b[0m \u001b[0mself\u001b[0m\u001b[0;34m.\u001b[0m\u001b[0mforward\u001b[0m\u001b[0;34m(\u001b[0m\u001b[0;34m*\u001b[0m\u001b[0minput\u001b[0m\u001b[0;34m,\u001b[0m \u001b[0;34m**\u001b[0m\u001b[0mkwargs\u001b[0m\u001b[0;34m)\u001b[0m\u001b[0;34m\u001b[0m\u001b[0;34m\u001b[0m\u001b[0m\n\u001b[0m\u001b[1;32m    533\u001b[0m         \u001b[0;32mfor\u001b[0m \u001b[0mhook\u001b[0m \u001b[0;32min\u001b[0m \u001b[0mself\u001b[0m\u001b[0;34m.\u001b[0m\u001b[0m_forward_hooks\u001b[0m\u001b[0;34m.\u001b[0m\u001b[0mvalues\u001b[0m\u001b[0;34m(\u001b[0m\u001b[0;34m)\u001b[0m\u001b[0;34m:\u001b[0m\u001b[0;34m\u001b[0m\u001b[0;34m\u001b[0m\u001b[0m\n\u001b[1;32m    534\u001b[0m             \u001b[0mhook_result\u001b[0m \u001b[0;34m=\u001b[0m \u001b[0mhook\u001b[0m\u001b[0;34m(\u001b[0m\u001b[0mself\u001b[0m\u001b[0;34m,\u001b[0m \u001b[0minput\u001b[0m\u001b[0;34m,\u001b[0m \u001b[0mresult\u001b[0m\u001b[0;34m)\u001b[0m\u001b[0;34m\u001b[0m\u001b[0;34m\u001b[0m\u001b[0m\n",
      "\u001b[0;32m/juno/u/brentyi/multimodal_dpf2/lib/fusion.py\u001b[0m in \u001b[0;36mforward\u001b[0;34m(self, observations)\u001b[0m\n\u001b[1;32m    291\u001b[0m \u001b[0;34m\u001b[0m\u001b[0m\n\u001b[1;32m    292\u001b[0m             softmax = softmax_fn(\n\u001b[0;32m--> 293\u001b[0;31m                 \u001b[0mshared_features\u001b[0m\u001b[0;34m.\u001b[0m\u001b[0mreshape\u001b[0m\u001b[0;34m(\u001b[0m\u001b[0;34m(\u001b[0m\u001b[0mN\u001b[0m\u001b[0;34m,\u001b[0m \u001b[0;36m2\u001b[0m\u001b[0;34m,\u001b[0m \u001b[0mself\u001b[0m\u001b[0;34m.\u001b[0m\u001b[0mstate_dim\u001b[0m \u001b[0;34m+\u001b[0m \u001b[0;36m1\u001b[0m\u001b[0;34m)\u001b[0m\u001b[0;34m)\u001b[0m\u001b[0;34m,\u001b[0m\u001b[0;34m\u001b[0m\u001b[0;34m\u001b[0m\u001b[0m\n\u001b[0m\u001b[1;32m    294\u001b[0m                 \u001b[0mdim\u001b[0m\u001b[0;34m=\u001b[0m\u001b[0;36m1\u001b[0m\u001b[0;34m\u001b[0m\u001b[0;34m\u001b[0m\u001b[0m\n\u001b[1;32m    295\u001b[0m             )\n",
      "\u001b[0;31mRuntimeError\u001b[0m: shape '[200, 2, 2]' is invalid for input of size 400"
     ]
    }
   ],
   "source": [
    "eval_experiment(\"dpf_omnipush_fusion_lr1e-5_uf\", omnipush=True)"
   ]
  },
  {
   "cell_type": "code",
   "execution_count": null,
   "metadata": {},
   "outputs": [],
   "source": [
    "eval_experiment(\"dpf_fusion_mujoco_blackout0_unfrozen\")"
   ]
  },
  {
   "cell_type": "code",
   "execution_count": null,
   "metadata": {
    "scrolled": false
   },
   "outputs": [],
   "source": [
    "eval_experiment(\"dpf_fusion_mujoco_blackout0_2x_tuned\")"
   ]
  },
  {
   "cell_type": "code",
   "execution_count": null,
   "metadata": {
    "scrolled": false
   },
   "outputs": [],
   "source": [
    "eval_experiment(\"dpf_fusion_mujoco_blackout4_2x_tuned\")"
   ]
  },
  {
   "cell_type": "code",
   "execution_count": null,
   "metadata": {
    "scrolled": false
   },
   "outputs": [],
   "source": [
    "eval_experiment(\"dpf_fusion_mujoco_blackout8_2x_tuned\")"
   ]
  },
  {
   "cell_type": "code",
   "execution_count": null,
   "metadata": {},
   "outputs": [],
   "source": [
    "eval_experiment(\"dpf_fusion_mujoco_seq5_tuned\")"
   ]
  },
  {
   "cell_type": "code",
   "execution_count": null,
   "metadata": {
    "scrolled": false
   },
   "outputs": [],
   "source": []
  },
  {
   "cell_type": "code",
   "execution_count": null,
   "metadata": {},
   "outputs": [],
   "source": []
  }
 ],
 "metadata": {
  "kernelspec": {
   "display_name": "Python 3",
   "language": "python",
   "name": "python3"
  },
  "language_info": {
   "codemirror_mode": {
    "name": "ipython",
    "version": 3
   },
   "file_extension": ".py",
   "mimetype": "text/x-python",
   "name": "python",
   "nbconvert_exporter": "python",
   "pygments_lexer": "ipython3",
   "version": "3.7.4"
  }
 },
 "nbformat": 4,
 "nbformat_minor": 4
}
