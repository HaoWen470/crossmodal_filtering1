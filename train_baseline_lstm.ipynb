{
 "cells": [
  {
   "cell_type": "code",
   "execution_count": null,
   "metadata": {},
   "outputs": [],
   "source": [
    "%matplotlib inline\n",
    "%load_ext autoreload\n",
    "%autoreload 2"
   ]
  },
  {
   "cell_type": "code",
   "execution_count": null,
   "metadata": {},
   "outputs": [],
   "source": [
    "import torch\n",
    "import torch.nn.functional as F\n",
    "import numpy as np\n",
    "from tqdm import tqdm_notebook\n",
    "\n",
    "import fannypack\n",
    "from lib import panda_datasets, panda_baseline_models, panda_baseline_training\n"
   ]
  },
  {
   "cell_type": "code",
   "execution_count": null,
   "metadata": {},
   "outputs": [],
   "source": [
    "# Experiment configuration\n",
    "experiment_name = \"lstm_test\"\n",
    "dataset_args = {\n",
    "    'use_proprioception': True,\n",
    "    'use_haptics': True,\n",
    "    'use_vision': True,\n",
    "    'vision_interval': 2,\n",
    "}"
   ]
  },
  {
   "cell_type": "code",
   "execution_count": null,
   "metadata": {},
   "outputs": [],
   "source": [
    "print(\"Creating model...\")\n",
    "model = panda_baseline_models.PandaLSTMModel(batch_size=16)\n",
    "buddy = fannypack.utils.Buddy(experiment_name, model)"
   ]
  },
  {
   "cell_type": "code",
   "execution_count": null,
   "metadata": {},
   "outputs": [],
   "source": [
    "print(\"Creating dataset...\")\n",
    "dataset = panda_datasets.PandaParticleFilterDataset(\n",
    "    'data/pushset_medium.hdf5',\n",
    "    subsequence_length=16,\n",
    "    **dataset_args)"
   ]
  },
  {
   "cell_type": "code",
   "execution_count": null,
   "metadata": {
    "scrolled": true
   },
   "outputs": [],
   "source": [
    "buddy.set_learning_rate(1e-4)\n",
    "dataloader = torch.utils.data.DataLoader(\n",
    "    dataset, batch_size=16, shuffle=True, num_workers=2, drop_last=True)\n",
    "for _ in tqdm_notebook(range(1000)):\n",
    "    for batch_idx, batch in enumerate(tqdm_notebook(dataloader)):\n",
    "        _, states, observations, _ = fannypack.utils.to_device(batch, buddy._device)\n",
    "\n",
    "        model.reset_hidden_states(states[:, 0, :])\n",
    "        predicted_states = model(observations)\n",
    "        loss = F.mse_loss(predicted_states, states)\n",
    "        buddy.minimize(loss, checkpoint_interval=500)\n",
    "        buddy.log(\"loss\", loss)\n",
    "\n",
    "buddy.save_checkpoint()"
   ]
  },
  {
   "cell_type": "code",
   "execution_count": null,
   "metadata": {},
   "outputs": [],
   "source": [
    "eval_trajectories = panda_datasets.load_trajectories((\"data/pushset_small.hdf5\",10), **dataset_args)\n",
    "\n",
    "pred, actual = panda_baseline_training.rollout_lstm(model, eval_trajectories)\n",
    "panda_baseline_training.eval_rollout(pred, actual, plot=True)"
   ]
  },
  {
   "cell_type": "code",
   "execution_count": null,
   "metadata": {},
   "outputs": [],
   "source": []
  },
  {
   "cell_type": "code",
   "execution_count": null,
   "metadata": {},
   "outputs": [],
   "source": [
    "buddy.save_checkpoint(\"stable\")"
   ]
  },
  {
   "cell_type": "code",
   "execution_count": null,
   "metadata": {},
   "outputs": [],
   "source": [
    "buddy.save_checkpoint()"
   ]
  },
  {
   "cell_type": "code",
   "execution_count": null,
   "metadata": {},
   "outputs": [],
   "source": []
  }
 ],
 "metadata": {
  "kernelspec": {
   "display_name": "Python 3",
   "language": "python",
   "name": "python3"
  },
  "language_info": {
   "codemirror_mode": {
    "name": "ipython",
    "version": 3
   },
   "file_extension": ".py",
   "mimetype": "text/x-python",
   "name": "python",
   "nbconvert_exporter": "python",
   "pygments_lexer": "ipython3",
   "version": "3.7.4"
  }
 },
 "nbformat": 4,
 "nbformat_minor": 2
}
