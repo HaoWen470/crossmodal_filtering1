{
 "cells": [
  {
   "cell_type": "code",
   "execution_count": 66,
   "metadata": {},
   "outputs": [
    {
     "name": "stdout",
     "output_type": "stream",
     "text": [
      "The autoreload extension is already loaded. To reload it, use:\n",
      "  %reload_ext autoreload\n"
     ]
    }
   ],
   "source": [
    "%matplotlib inline\n",
    "%load_ext autoreload\n",
    "%autoreload 2"
   ]
  },
  {
   "cell_type": "code",
   "execution_count": 67,
   "metadata": {},
   "outputs": [],
   "source": [
    "import torch\n",
    "import torch.nn.functional as F\n",
    "import numpy as np\n",
    "from tqdm import tqdm_notebook\n",
    "\n",
    "import fannypack\n",
    "from lib import dpf, panda_datasets, panda_baseline_models, panda_baseline_training\n"
   ]
  },
  {
   "cell_type": "code",
   "execution_count": 68,
   "metadata": {},
   "outputs": [],
   "source": [
    "# Experiment configuration\n",
    "experiment_name = \"lstm_feb22_9\"\n",
    "dataset_args = {\n",
    "    'use_proprioception': True,\n",
    "    'use_haptics': True,\n",
    "    'use_vision': True,\n",
    "    'vision_interval': 2,\n",
    "}"
   ]
  },
  {
   "cell_type": "code",
   "execution_count": 69,
   "metadata": {},
   "outputs": [
    {
     "name": "stdout",
     "output_type": "stream",
     "text": [
      "Creating model...\n",
      "[buddy-lstm_feb22_9] Using device: cuda\n",
      "[buddy-lstm_feb22_9] No checkpoint found\n"
     ]
    }
   ],
   "source": [
    "print(\"Creating model...\")\n",
    "model = panda_baseline_models.PandaLSTMModel(batch_size=16)\n",
    "buddy = fannypack.utils.Buddy(experiment_name, model)"
   ]
  },
  {
   "cell_type": "code",
   "execution_count": 81,
   "metadata": {},
   "outputs": [
    {
     "name": "stdout",
     "output_type": "stream",
     "text": [
      "Creating dataset...\n"
     ]
    }
   ],
   "source": [
    "print(\"Creating dataset...\")\n",
    "dataset = panda_datasets.PandaSubsequenceDataset(\n",
    "    ('data/gentle_push_10.hdf5', 1),\n",
    "    subsequence_length=4,\n",
    "    **dataset_args)"
   ]
  },
  {
   "cell_type": "code",
   "execution_count": null,
   "metadata": {
    "scrolled": true
   },
   "outputs": [
    {
     "data": {
      "application/vnd.jupyter.widget-view+json": {
       "model_id": "a0e110b5f02a4ae99de7d12eed92bb11",
       "version_major": 2,
       "version_minor": 0
      },
      "text/plain": [
       "HBox(children=(IntProgress(value=0, max=30), HTML(value='')))"
      ]
     },
     "metadata": {},
     "output_type": "display_data"
    },
    {
     "data": {
      "application/vnd.jupyter.widget-view+json": {
       "model_id": "4fa9223433fc4134ac4ff92ce9ed7e72",
       "version_major": 2,
       "version_minor": 0
      },
      "text/plain": [
       "HBox(children=(IntProgress(value=0, max=3), HTML(value='')))"
      ]
     },
     "metadata": {},
     "output_type": "display_data"
    },
    {
     "name": "stdout",
     "output_type": "stream",
     "text": [
      "\n"
     ]
    },
    {
     "data": {
      "application/vnd.jupyter.widget-view+json": {
       "model_id": "6bb3a4a325d64e568268670259bfdd7f",
       "version_major": 2,
       "version_minor": 0
      },
      "text/plain": [
       "HBox(children=(IntProgress(value=0, max=3), HTML(value='')))"
      ]
     },
     "metadata": {},
     "output_type": "display_data"
    },
    {
     "name": "stdout",
     "output_type": "stream",
     "text": [
      "\n"
     ]
    },
    {
     "data": {
      "application/vnd.jupyter.widget-view+json": {
       "model_id": "6e4d64b616bc4388923a0f75534bfbf6",
       "version_major": 2,
       "version_minor": 0
      },
      "text/plain": [
       "HBox(children=(IntProgress(value=0, max=3), HTML(value='')))"
      ]
     },
     "metadata": {},
     "output_type": "display_data"
    },
    {
     "name": "stdout",
     "output_type": "stream",
     "text": [
      "\n"
     ]
    },
    {
     "data": {
      "application/vnd.jupyter.widget-view+json": {
       "model_id": "392cd24889f54f21a9a99853e493a6e3",
       "version_major": 2,
       "version_minor": 0
      },
      "text/plain": [
       "HBox(children=(IntProgress(value=0, max=3), HTML(value='')))"
      ]
     },
     "metadata": {},
     "output_type": "display_data"
    }
   ],
   "source": [
    "# buddy.set_learning_rate(1e-4)\n",
    "dataloader = torch.utils.data.DataLoader(\n",
    "    dataset, batch_size=16, shuffle=True, num_workers=2, drop_last=True)\n",
    "for _ in tqdm_notebook(range(30)):\n",
    "    for batch_idx, batch in enumerate(tqdm_notebook(dataloader)):\n",
    "        states, observations, controls = fannypack.utils.to_device(batch, buddy.device)\n",
    "        states = states *0 + 0.1\n",
    "        model.reset_hidden_states(states[:, 0, :])\n",
    "#         model.reset_hidden_states(\n",
    "#             fannypack.utils.to_torch(np.random.normal(0, 1, size=states[:, 0, :].shape), device=buddy.device)\n",
    "#         )\n",
    "        predicted_states = model(observations, controls)\n",
    "        loss = F.mse_loss(predicted_states, states)\n",
    "        buddy.minimize(loss, checkpoint_interval=500)\n",
    "        \n",
    "        with buddy.log_scope(\"lstm_training\"):\n",
    "            buddy.log(\"loss\", loss)\n",
    "            buddy.log(\"predicted_states_mean\", predicted_states.mean())\n",
    "            buddy.log(\"predicted_states_std\", predicted_states.std())\n",
    "            buddy.log(\"label_states_mean\", states.mean())\n",
    "            buddy.log(\"label_states_std\", states.std())\n",
    "\n",
    "buddy.save_checkpoint()"
   ]
  },
  {
   "cell_type": "code",
   "execution_count": null,
   "metadata": {},
   "outputs": [],
   "source": [
    "eval_trajectories = panda_datasets.load_trajectories((\"data/gentle_push_10.hdf5\",1), **dataset_args)\n",
    "\n",
    "pred, actual = panda_baseline_training.rollout_lstm(model, eval_trajectories)\n",
    "panda_baseline_training.eval_rollout(pred, actual, plot=True)"
   ]
  },
  {
   "cell_type": "code",
   "execution_count": 74,
   "metadata": {},
   "outputs": [
    {
     "name": "stdout",
     "output_type": "stream",
     "text": [
      "[[[-1.25354718  0.97012661]\n",
      "  [-1.24892672  0.97339226]\n",
      "  [-1.24913328  0.97186331]\n",
      "  [-1.2498404   0.9727365 ]\n",
      "  [-1.25107669  0.97288677]\n",
      "  [-1.25129262  0.97252077]\n",
      "  [-1.25074368  0.97167358]\n",
      "  [-1.25110271  0.97181283]\n",
      "  [-1.2511282   0.97195665]\n",
      "  [-1.25080664  0.97229908]\n",
      "  [-1.25085919  0.97183232]\n",
      "  [-1.25085815  0.97230243]\n",
      "  [-1.25088521  0.97183305]\n",
      "  [-1.25088625  0.97230529]\n",
      "  [-1.25089093  0.97184017]\n",
      "  [-1.25088625  0.97230176]\n",
      "  [-1.25088885  0.97183883]\n",
      "  [-1.25088365  0.97230048]\n",
      "  [-1.25088833  0.97183707]\n",
      "  [-1.25088365  0.97229957]\n",
      "  [-1.25088833  0.97183597]\n",
      "  [-1.25088417  0.97229853]\n",
      "  [-1.25088833  0.971835  ]\n",
      "  [-1.25088417  0.9722975 ]\n",
      "  [-1.25088833  0.97183396]\n",
      "  [-1.25088365  0.9722964 ]\n",
      "  [-1.25088833  0.97183287]\n",
      "  [-1.25088365  0.97229537]\n",
      "  [-1.25088833  0.97183183]\n",
      "  [-1.25088365  0.97229433]\n",
      "  [-1.25088833  0.97183073]\n",
      "  [-1.25088365  0.97229324]\n",
      "  [-1.25088833  0.9718297 ]\n",
      "  [-1.25088365  0.9722922 ]\n",
      "  [-1.25088833  0.97182866]\n",
      "  [-1.25088365  0.9722911 ]\n",
      "  [-1.25088833  0.97182757]\n",
      "  [-1.25088365  0.97229007]\n",
      "  [-1.25088833  0.97182653]\n",
      "  [-1.25088365  0.97228903]\n",
      "  [-1.25088781  0.9718255 ]\n",
      "  [-1.25088365  0.97228794]\n",
      "  [-1.25088781  0.9718244 ]\n",
      "  [-1.25088365  0.9722869 ]\n",
      "  [-1.25088781  0.97182337]\n",
      "  [-1.25088365  0.97228581]\n",
      "  [-1.25088781  0.97182227]\n",
      "  [-1.25088365  0.97228477]\n",
      "  [-1.25088781  0.97182124]\n",
      "  [-1.25088365  0.97228374]\n",
      "  [-1.25088781  0.9718202 ]\n",
      "  [-1.25088365  0.97228264]\n",
      "  [-1.25088781  0.9718191 ]\n",
      "  [-1.25088365  0.97228161]\n",
      "  [-1.25088781  0.97181807]\n",
      "  [-1.25088365  0.97228057]\n",
      "  [-1.25088781  0.97181697]\n",
      "  [-1.25088365  0.97227948]\n",
      "  [-1.25088781  0.97181594]\n",
      "  [-1.25088365  0.97227844]\n",
      "  [-1.25088781  0.9718149 ]\n",
      "  [-1.25088365  0.97227734]\n",
      "  [-1.25088781  0.97181381]\n",
      "  [-1.25088365  0.97227631]\n",
      "  [-1.25088781  0.97181277]\n",
      "  [-1.25088365  0.97227527]\n",
      "  [-1.25088781  0.97181174]\n",
      "  [-1.25088313  0.97227418]\n",
      "  [-1.25088781  0.97181064]\n",
      "  [-1.25088313  0.97227314]\n",
      "  [-1.25088781  0.97180961]\n",
      "  [-1.25088313  0.97227205]\n",
      "  [-1.25088781  0.97180851]\n",
      "  [-1.25088313  0.97227101]\n",
      "  [-1.25088781  0.97180748]\n",
      "  [-1.25088313  0.97226998]\n",
      "  [-1.25088781  0.97180644]\n",
      "  [-1.25088313  0.97226888]\n",
      "  [-1.25088781  0.97180534]\n",
      "  [-1.25088313  0.97226785]\n",
      "  [-1.25088781  0.97180431]\n",
      "  [-1.25088313  0.97226681]\n",
      "  [-1.25088729  0.97180321]\n",
      "  [-1.25088313  0.97226571]\n",
      "  [-1.25088729  0.97180218]\n",
      "  [-1.25088313  0.97226468]\n",
      "  [-1.25088729  0.97180114]\n",
      "  [-1.25088313  0.97226358]\n",
      "  [-1.25088729  0.97180005]\n",
      "  [-1.25088313  0.97226255]\n",
      "  [-1.25088729  0.97179901]\n",
      "  [-1.25088313  0.97226151]\n",
      "  [-1.25088729  0.97179792]\n",
      "  [-1.25088313  0.97226042]\n",
      "  [-1.25088729  0.97179688]\n",
      "  [-1.25088313  0.97225938]\n",
      "  [-1.25088729  0.97179585]\n",
      "  [-1.25088313  0.97225829]\n",
      "  [-1.25088729  0.97179475]\n",
      "  [-1.25088313  0.97225725]\n",
      "  [-1.25088729  0.97179371]\n",
      "  [-1.25088313  0.97225622]\n",
      "  [-1.25088729  0.97179268]\n",
      "  [-1.25088313  0.97225512]\n",
      "  [-1.25088729  0.97179158]\n",
      "  [-1.25088313  0.97225409]\n",
      "  [-1.25088729  0.97179055]\n",
      "  [-1.25088313  0.97225299]\n",
      "  [-1.25088729  0.97178945]\n",
      "  [-1.25088261  0.97225195]\n",
      "  [-1.25088729  0.97178842]\n",
      "  [-1.25088261  0.97225092]\n",
      "  [-1.25088729  0.97178738]\n",
      "  [-1.25088261  0.97224982]\n",
      "  [-1.25088729  0.97178629]\n",
      "  [-1.25088261  0.97224879]\n",
      "  [-1.25088729  0.97178525]\n",
      "  [-1.25088261  0.97224775]\n",
      "  [-1.25088729  0.97178416]\n",
      "  [-1.25088261  0.97224666]\n",
      "  [-1.25088729  0.97178312]\n",
      "  [-1.25088261  0.97224562]\n",
      "  [-1.25088729  0.97178209]\n",
      "  [-1.25088261  0.97224453]\n",
      "  [-1.25088677  0.97178099]\n",
      "  [-1.25088261  0.97224349]\n",
      "  [-1.25088677  0.97177995]\n",
      "  [-1.25088261  0.97224246]\n",
      "  [-1.25088677  0.97177892]\n",
      "  [-1.25088261  0.97224136]\n",
      "  [-1.25088677  0.97177782]\n",
      "  [-1.25088261  0.97224032]\n",
      "  [-1.25088677  0.97177679]\n",
      "  [-1.25088261  0.97223923]\n",
      "  [-1.25088677  0.97177569]\n",
      "  [-1.25088261  0.97223819]\n",
      "  [-1.25088677  0.97177466]\n",
      "  [-1.25088261  0.97223716]\n",
      "  [-1.25088677  0.97177362]\n",
      "  [-1.25088261  0.97223606]\n",
      "  [-1.25088677  0.97177253]\n",
      "  [-1.25088261  0.97223503]\n",
      "  [-1.25088677  0.97177149]\n",
      "  [-1.25088261  0.97223393]\n",
      "  [-1.25088677  0.97177039]\n",
      "  [-1.25088261  0.9722329 ]\n",
      "  [-1.25088677  0.97176936]\n",
      "  [-1.25088261  0.97223186]\n",
      "  [-1.25088677  0.97176832]\n",
      "  [-1.25088261  0.97223077]\n",
      "  [-1.25088677  0.97176723]\n",
      "  [-1.25088209  0.97222973]\n",
      "  [-1.25088677  0.97176619]\n",
      "  [-1.25088209  0.9722287 ]\n",
      "  [-1.25088677  0.9717651 ]\n",
      "  [-1.25088209  0.9722276 ]\n",
      "  [-1.25088677  0.97176406]\n",
      "  [-1.25088209  0.97222656]\n",
      "  [-1.25088677  0.97176303]\n",
      "  [-1.25088209  0.97222547]\n",
      "  [-1.25088677  0.97176193]\n",
      "  [-1.25088209  0.97222443]\n",
      "  [-1.25088677  0.9717609 ]\n",
      "  [-1.25088209  0.9722234 ]\n",
      "  [-1.25088625  0.97175986]\n",
      "  [-1.25088209  0.9722223 ]\n",
      "  [-1.25088625  0.97175877]\n",
      "  [-1.25088209  0.97222127]\n",
      "  [-1.25088625  0.97175773]\n",
      "  [-1.25088209  0.97222017]\n",
      "  [-1.25088625  0.97175663]\n",
      "  [-1.25088209  0.97221914]\n",
      "  [-1.25088625  0.9717556 ]\n",
      "  [-1.25088209  0.9722181 ]\n",
      "  [-1.25088625  0.97175456]\n",
      "  [-1.25088209  0.972217  ]\n",
      "  [-1.25088625  0.97175347]\n",
      "  [-1.25088209  0.97221597]\n",
      "  [-1.25088625  0.97175243]\n",
      "  [-1.2465863   0.96996977]\n",
      "  [-1.23627298  0.96599747]\n",
      "  [-1.22638581  0.95966723]\n",
      "  [-1.21756218  0.95653555]\n",
      "  [-1.21135056  0.95534641]\n",
      "  [-1.20667182  0.9556668 ]\n",
      "  [-1.20330793  0.95800263]\n",
      "  [-1.2033584   0.96368666]\n",
      "  [-1.20667546  0.97065256]\n",
      "  [-1.21068299  0.97668384]\n",
      "  [-1.21761993  0.98510793]\n",
      "  [-1.22786977  0.9964109 ]\n",
      "  [-1.23957495  1.00859572]\n",
      "  [-1.25208612  1.02041045]\n",
      "  [-1.2657321   1.03283059]\n",
      "  [-1.2802361   1.04543279]\n",
      "  [-1.29460586  1.05904188]\n",
      "  [-1.30941893  1.07152577]\n",
      "  [-1.32271318  1.08253204]\n",
      "  [-1.33309726  1.09172082]\n",
      "  [-1.34035472  1.09882718]\n",
      "  [-1.34925068  1.1080388 ]\n",
      "  [-1.36046676  1.1171782 ]\n",
      "  [-1.37290768  1.12518746]\n",
      "  [-1.3857992   1.13503979]\n",
      "  [-1.40162117  1.14501774]\n",
      "  [-1.41667099  1.1544701 ]\n",
      "  [-1.42989187  1.16483114]\n",
      "  [-1.44379438  1.17571936]\n",
      "  [-1.45836706  1.18534579]\n",
      "  [-1.46884584  1.19523149]\n",
      "  [-1.47694727  1.20227447]\n",
      "  [-1.4868001   1.21015782]\n",
      "  [-1.49745579  1.21772419]\n",
      "  [-1.50934361  1.22678998]\n",
      "  [-1.52114609  1.23567712]\n",
      "  [-1.53605958  1.24457535]\n",
      "  [-1.55128475  1.25302154]\n",
      "  [-1.56530381  1.26275746]\n",
      "  [-1.57868911  1.27219283]\n",
      "  [-1.5944934   1.28035005]\n",
      "  [-1.60640931  1.28796781]\n",
      "  [-1.61439991  1.29542373]\n",
      "  [-1.62312572  1.30104109]\n",
      "  [-1.63413471  1.30785611]\n",
      "  [-1.64569056  1.31521291]\n",
      "  [-1.65875431  1.32374337]\n",
      "  [-1.67425993  1.33178393]\n",
      "  [-1.68800998  1.33973718]\n",
      "  [-1.70338968  1.34745906]\n",
      "  [-1.71878811  1.3554374 ]\n",
      "  [-1.7326927   1.36294824]\n",
      "  [-1.74676899  1.36994373]\n",
      "  [-1.75494795  1.37463621]\n",
      "  [-1.76526387  1.38040798]\n",
      "  [-1.77569062  1.38574672]\n",
      "  [-1.78766897  1.391202  ]\n",
      "  [-1.80082845  1.39710626]\n",
      "  [-1.81359457  1.40325212]\n",
      "  [-1.82663282  1.40993368]\n",
      "  [-1.84129812  1.41542938]]]\n"
     ]
    }
   ],
   "source": [
    "print(actual)"
   ]
  },
  {
   "cell_type": "code",
   "execution_count": null,
   "metadata": {},
   "outputs": [],
   "source": [
    "buddy.save_checkpoint(\"stable\")"
   ]
  },
  {
   "cell_type": "code",
   "execution_count": null,
   "metadata": {},
   "outputs": [],
   "source": [
    "buddy.save_checkpoint()"
   ]
  },
  {
   "cell_type": "code",
   "execution_count": null,
   "metadata": {},
   "outputs": [],
   "source": []
  }
 ],
 "metadata": {
  "kernelspec": {
   "display_name": "Python 3",
   "language": "python",
   "name": "python3"
  },
  "language_info": {
   "codemirror_mode": {
    "name": "ipython",
    "version": 3
   },
   "file_extension": ".py",
   "mimetype": "text/x-python",
   "name": "python",
   "nbconvert_exporter": "python",
   "pygments_lexer": "ipython3",
   "version": "3.7.4"
  }
 },
 "nbformat": 4,
 "nbformat_minor": 2
}
