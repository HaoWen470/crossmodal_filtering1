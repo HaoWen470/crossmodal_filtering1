{
 "cells": [
  {
   "cell_type": "code",
   "execution_count": 1,
   "metadata": {},
   "outputs": [],
   "source": [
    "import torch\n",
    "import torch.nn.functional as F\n",
    "import numpy as np\n",
    "from tqdm import tqdm_notebook\n",
    "\n",
    "import fannypack\n",
    "from lib import panda_datasets, panda_baseline_models\n"
   ]
  },
  {
   "cell_type": "code",
   "execution_count": 2,
   "metadata": {},
   "outputs": [
    {
     "name": "stdout",
     "output_type": "stream",
     "text": [
      "Creating model...\n",
      "Using device: cpu\n",
      "No checkpoint found\n"
     ]
    }
   ],
   "source": [
    "print(\"Creating model...\")\n",
    "model = panda_baseline_models.PandaLSTMModel(batch_size=16)\n",
    "buddy = fannypack.utils.Buddy(\"lstm_test\", model)"
   ]
  },
  {
   "cell_type": "code",
   "execution_count": 3,
   "metadata": {},
   "outputs": [
    {
     "name": "stdout",
     "output_type": "stream",
     "text": [
      "Creating dataset...\n",
      "Parsed data: 2344 active, 156 inactive\n",
      "Keeping (inactive): 156\n"
     ]
    }
   ],
   "source": [
    "print(\"Creating dataset...\")\n",
    "dataset = panda_datasets.PandaParticleFilterDataset(\n",
    "    'data/pushset_medium.hdf5', subsequence_length=16)"
   ]
  },
  {
   "cell_type": "code",
   "execution_count": null,
   "metadata": {},
   "outputs": [
    {
     "data": {
      "application/vnd.jupyter.widget-view+json": {
       "model_id": "362ab2cba39e49c4985e7c7d699ecd7c"
      }
     },
     "metadata": {},
     "output_type": "display_data"
    },
    {
     "name": "stdout",
     "output_type": "stream",
     "text": [
      "\n",
      "Saved checkpoint to path: checkpoints/lstm_test-0000000000001222.ckpt\n"
     ]
    },
    {
     "data": {
      "application/vnd.jupyter.widget-view+json": {
       "model_id": "00bc5a6bd624437684487dfbdf615ed9"
      }
     },
     "metadata": {},
     "output_type": "display_data"
    },
    {
     "name": "stdout",
     "output_type": "stream",
     "text": [
      "\n",
      "Saved checkpoint to path: checkpoints/lstm_test-0000000000001378.ckpt\n"
     ]
    },
    {
     "data": {
      "application/vnd.jupyter.widget-view+json": {
       "model_id": "2917d3e829d54218978dbce01cf5fe10"
      }
     },
     "metadata": {},
     "output_type": "display_data"
    },
    {
     "name": "stdout",
     "output_type": "stream",
     "text": [
      "\n",
      "Saved checkpoint to path: checkpoints/lstm_test-0000000000001534.ckpt\n"
     ]
    },
    {
     "data": {
      "application/vnd.jupyter.widget-view+json": {
       "model_id": "fdba9e7c1eaa447c86882768c66c114b"
      }
     },
     "metadata": {},
     "output_type": "display_data"
    }
   ],
   "source": [
    "dataloader = torch.utils.data.DataLoader(\n",
    "    dataset, batch_size=16, shuffle=True, num_workers=2, drop_last=True)\n",
    "for _ in range(200):\n",
    "    for batch_idx, batch in enumerate(tqdm_notebook(dataloader)):\n",
    "        _, states, observations, _ = batch\n",
    "\n",
    "        model.reset_hidden(states[:, 0, :])\n",
    "        predicted_states = model(observations)\n",
    "\n",
    "        loss = F.mse_loss(predicted_states, states)\n",
    "        buddy.minimize(loss)\n",
    "        buddy.log(\"loss\", loss)\n",
    "\n",
    "    buddy.save_checkpoint()"
   ]
  },
  {
   "cell_type": "code",
   "execution_count": null,
   "metadata": {},
   "outputs": [],
   "source": []
  },
  {
   "cell_type": "code",
   "execution_count": null,
   "metadata": {},
   "outputs": [],
   "source": []
  },
  {
   "cell_type": "code",
   "execution_count": null,
   "metadata": {},
   "outputs": [],
   "source": []
  }
 ],
 "metadata": {
  "kernelspec": {
   "display_name": "Python 3",
   "language": "python",
   "name": "python3"
  },
  "language_info": {
   "codemirror_mode": {
    "name": "ipython",
    "version": 3
   },
   "file_extension": ".py",
   "mimetype": "text/x-python",
   "name": "python",
   "nbconvert_exporter": "python",
   "pygments_lexer": "ipython3",
   "version": "3.6.8"
  }
 },
 "nbformat": 4,
 "nbformat_minor": 2
}
