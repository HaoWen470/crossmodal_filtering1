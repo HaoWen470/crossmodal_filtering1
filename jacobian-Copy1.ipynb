{
 "cells": [
  {
   "cell_type": "code",
   "execution_count": 87,
   "metadata": {},
   "outputs": [],
   "source": [
    "import torch\n",
    "import numpy as np\n",
    "import torch.nn as nn\n",
    "import torch.optim as optim\n",
    "\n",
    "import torch.nn.functional as F"
   ]
  },
  {
   "cell_type": "code",
   "execution_count": 144,
   "metadata": {},
   "outputs": [],
   "source": [
    "def get_jacobian( net, x, noutputs, batch, controls, output_dim=0):\n",
    "        x = x.detach().clone()\n",
    "        x = x.squeeze()\n",
    "\n",
    "        n = x.size()[0]\n",
    "        x = x.unsqueeze(1)\n",
    "        x = x.repeat(1, noutputs, 1)\n",
    "        controls = controls.unsqueeze(1)\n",
    "        controls = controls.repeat(1, noutputs, 1)\n",
    "        x.requires_grad_(True)\n",
    "        y = net(x, controls)\n",
    "        \n",
    "        mask = torch.eye(noutputs).repeat(batch, 1, 1).to(x.device)\n",
    "        if type(y) is tuple:\n",
    "            y[output_dim].backward(mask, create_graph=True)\n",
    "        else:\n",
    "            y.backward(mask, create_graph=True)\n",
    "\n",
    "        return x.grad\n",
    "    \n",
    "def get_jacobian_new(net, x, noutputs, batch, controls, output_dim=0):\n",
    "        x = x.detach().clone()\n",
    "        x = x.squeeze()\n",
    "\n",
    "        n = x.size()[0]\n",
    "        x = x.unsqueeze(1)\n",
    "        x = x.repeat(1, noutputs, 1)\n",
    "        controls = controls.unsqueeze(1)\n",
    "        controls = controls.repeat(1, noutputs, 1)\n",
    "        x.requires_grad_(True)\n",
    "        y = net(x, controls)\n",
    "        \n",
    "        mask = torch.eye(noutputs).repeat(batch, 1, 1).to(x.device)\n",
    "        if type(y) is tuple:\n",
    "            y = y[output_dim]\n",
    "        grad_auto = torch.autograd.grad(y, x, mask, create_graph=True)\n",
    "        print(grad_auto)\n",
    "        return grad_auto[0]"
   ]
  },
  {
   "cell_type": "code",
   "execution_count": 142,
   "metadata": {},
   "outputs": [],
   "source": [
    "class Net(nn.Module):\n",
    "    def __init__(self, input_size, hidden_size, output_size):\n",
    "        super(Net, self).__init__()\n",
    "\n",
    "        self.layer1 = nn.Linear(input_size, hidden_size, bias=False)\n",
    "        self.layer2 = nn.Linear(input_size, hidden_size, bias=False)\n",
    "\n",
    "        nn.init.xavier_uniform(self.layer1.weight.data)\n",
    "        self.input_size = input_size\n",
    "\n",
    "    def forward(self, i, o):\n",
    "        x = self.layer1(i**2)\n",
    "\n",
    "#         x1 = self.layer1(o)\n",
    "        \n",
    "#         x1 = self.layer1(x[:, :self.input_size])\n",
    "#         x2 = self.layer1(x[:, self.input_size:])\n",
    "        \n",
    "        return x, 2\n",
    "    \n",
    "  "
   ]
  },
  {
   "cell_type": "code",
   "execution_count": 134,
   "metadata": {},
   "outputs": [
    {
     "name": "stderr",
     "output_type": "stream",
     "text": [
      "/Users/michelle/miniconda3/envs/filter/lib/python3.6/site-packages/ipykernel_launcher.py:8: UserWarning: nn.init.xavier_uniform is now deprecated in favor of nn.init.xavier_uniform_.\n",
      "  \n"
     ]
    }
   ],
   "source": [
    "net = Net(2, 2, 1)"
   ]
  },
  {
   "cell_type": "code",
   "execution_count": 135,
   "metadata": {},
   "outputs": [
    {
     "name": "stdout",
     "output_type": "stream",
     "text": [
      "x:  tensor([[-0.4363,  0.3399],\n",
      "        [ 1.0818, -0.2460]])\n"
     ]
    }
   ],
   "source": [
    "x_np = np.random.normal(0, 0.5, (2,2))\n",
    "y = np.ones((2, 2)) * 0.5\n",
    "x = torch.from_numpy(x_np).float()\n",
    "y = torch.from_numpy(y).float()\n",
    "print(\"x: \", x)\n",
    "\n",
    "net.layer1.weight.data = torch.ones((2,2))"
   ]
  },
  {
   "cell_type": "code",
   "execution_count": 136,
   "metadata": {},
   "outputs": [
    {
     "name": "stdout",
     "output_type": "stream",
     "text": [
      "(tensor([[0.3059, 0.3059],\n",
      "        [1.2307, 1.2307]], grad_fn=<MmBackward>), 2)\n"
     ]
    }
   ],
   "source": [
    "print(net(x, y))"
   ]
  },
  {
   "cell_type": "code",
   "execution_count": 137,
   "metadata": {},
   "outputs": [
    {
     "data": {
      "text/plain": [
       "array([0.30592198, 1.23071354])"
      ]
     },
     "execution_count": 137,
     "metadata": {},
     "output_type": "execute_result"
    }
   ],
   "source": [
    "np.sum(x_np**2,1)\n"
   ]
  },
  {
   "cell_type": "code",
   "execution_count": 143,
   "metadata": {},
   "outputs": [
    {
     "name": "stdout",
     "output_type": "stream",
     "text": [
      "(tensor([[[-0.8726,  0.6799],\n",
      "         [-0.8726,  0.6799]],\n",
      "\n",
      "        [[ 2.1635, -0.4919],\n",
      "         [ 2.1635, -0.4919]]], grad_fn=<MulBackward0>),)\n"
     ]
    }
   ],
   "source": [
    "jacobian = get_jacobian_new(net, x, 2, 2, y)\n",
    "old = get_jacobian(net, x, 2, 2, y)\n",
    "\n",
    "\n",
    "optimizer = optim.Adam(net.parameters(), lr=0.001)\n",
    "\n",
    "    "
   ]
  },
  {
   "cell_type": "code",
   "execution_count": 131,
   "metadata": {},
   "outputs": [],
   "source": [
    "losses = []\n",
    "\n",
    "for i in range(10000):\n",
    "    x_np = np.ones((2,2))\n",
    "    y = np.ones((2, 2)) * 0.5\n",
    "    x = torch.from_numpy(x_np).float()\n",
    "    y = torch.from_numpy(y).float()\n",
    "    jac = get_jacobian_new(net, x, 2, 2, y)\n",
    "    loss = F.mse_loss(jac, torch.ones(2,2,2))\n",
    "    optimizer.zero_grad()\n",
    "    \n",
    "    loss.backward()\n",
    "    optimizer.step()\n",
    "    losses.append(loss.item())\n",
    "    "
   ]
  },
  {
   "cell_type": "code",
   "execution_count": 132,
   "metadata": {},
   "outputs": [
    {
     "name": "stdout",
     "output_type": "stream",
     "text": [
      "tensor([[[1.0000, 1.0000],\n",
      "         [1.0000, 1.0000]],\n",
      "\n",
      "        [[1.0000, 1.0000],\n",
      "         [1.0000, 1.0000]]], grad_fn=<MulBackward0>)\n"
     ]
    },
    {
     "data": {
      "image/png": "[encoded data removed]",
      "text/plain": [
       "<Figure size 432x288 with 1 Axes>"
      ]
     },
     "metadata": {
      "needs_background": "light"
     },
     "output_type": "display_data"
    }
   ],
   "source": [
    "import matplotlib.pyplot as plt\n",
    "\n",
    "plt.plot(np.array(losses))\n",
    "\n",
    "print(jac)"
   ]
  },
  {
   "cell_type": "code",
   "execution_count": 36,
   "metadata": {},
   "outputs": [],
   "source": [
    "t1 = torch.zeros((5, 3, 2))\n",
    "t2 = torch.zeros((5, 2, 4))"
   ]
  },
  {
   "cell_type": "code",
   "execution_count": 75,
   "metadata": {},
   "outputs": [
    {
     "data": {
      "text/plain": [
       "torch.Size([5, 3, 4])"
      ]
     },
     "execution_count": 75,
     "metadata": {},
     "output_type": "execute_result"
    }
   ],
   "source": [
    "torch.bmm(t1, t2).shape"
   ]
  },
  {
   "cell_type": "code",
   "execution_count": null,
   "metadata": {},
   "outputs": [],
   "source": []
  }
 ],
 "metadata": {
  "kernelspec": {
   "display_name": "Python 3",
   "language": "python",
   "name": "python3"
  },
  "language_info": {
   "codemirror_mode": {
    "name": "ipython",
    "version": 3
   },
   "file_extension": ".py",
   "mimetype": "text/x-python",
   "name": "python",
   "nbconvert_exporter": "python",
   "pygments_lexer": "ipython3",
   "version": "3.6.10"
  }
 },
 "nbformat": 4,
 "nbformat_minor": 4
}
