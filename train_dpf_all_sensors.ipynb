{
 "cells": [
  {
   "cell_type": "code",
   "execution_count": 15,
   "metadata": {},
   "outputs": [
    {
     "name": "stdout",
     "output_type": "stream",
     "text": [
      "The autoreload extension is already loaded. To reload it, use:\n",
      "  %reload_ext autoreload\n"
     ]
    }
   ],
   "source": [
    "%matplotlib inline\n",
    "%load_ext autoreload\n",
    "%autoreload 2"
   ]
  },
  {
   "cell_type": "code",
   "execution_count": 16,
   "metadata": {},
   "outputs": [
    {
     "name": "stdout",
     "output_type": "stream",
     "text": [
      "1.4.0 1.18.1\n"
     ]
    }
   ],
   "source": [
    "import matplotlib.pyplot as plt\n",
    "import numpy as np\n",
    "import torch\n",
    "import torch.nn as nn\n",
    "import torch.nn.functional as F\n",
    "import time\n",
    "\n",
    "import fannypack\n",
    "from lib import dpf, panda_models, panda_datasets, panda_training\n",
    "\n",
    "print(torch.__version__, np.__version__)"
   ]
  },
  {
   "cell_type": "code",
   "execution_count": 17,
   "metadata": {},
   "outputs": [],
   "source": [
    "# Experiment configuration\n",
    "experiment_name = \"dpf_feb18_gated_biggernetwork\"\n",
    "dataset_args = {\n",
    "    'use_proprioception': True,\n",
    "    'use_haptics': True,\n",
    "    'use_vision': True,\n",
    "    'vision_interval': 2,\n",
    "}"
   ]
  },
  {
   "cell_type": "code",
   "execution_count": 18,
   "metadata": {},
   "outputs": [
    {
     "name": "stdout",
     "output_type": "stream",
     "text": [
      "[buddy-dpf_feb18_gated_biggernetwork] Using device: cuda\n",
      "[buddy-dpf_feb18_gated_biggernetwork] No checkpoint found\n"
     ]
    }
   ],
   "source": [
    "# Create models & training buddy\n",
    "\n",
    "dynamics_model = panda_models.PandaDynamicsModel()\n",
    "measurement_model = panda_models.PandaSimpleMeasurementModel()\n",
    "\n",
    "pf_model = panda_models.PandaParticleFilterNetwork(\n",
    "    dynamics_model,\n",
    "    measurement_model\n",
    ")\n",
    "\n",
    "buddy = fannypack.utils.Buddy(\n",
    "    experiment_name,\n",
    "    pf_model,\n",
    "    optimizer_names=[\"e2e\", \"dynamics\", \"measurement\"]\n",
    ")"
   ]
  },
  {
   "cell_type": "markdown",
   "metadata": {},
   "source": [
    "# Dynamics Model Pre-Training"
   ]
  },
  {
   "cell_type": "code",
   "execution_count": 19,
   "metadata": {},
   "outputs": [
    {
     "name": "stdout",
     "output_type": "stream",
     "text": [
      "Parsed data: 176075 active, 62925 inactive\n",
      "Keeping: 62925\n"
     ]
    }
   ],
   "source": [
    "dynamics_trainset = panda_datasets.PandaDynamicsDataset(\n",
    "    \"data/gentle_push_1000.hdf5\",\n",
    "    **dataset_args\n",
    ")\n",
    "dynamics_recurrent_trainset = panda_datasets.PandaSubsequenceDataset(\n",
    "    \"data/gentle_push_1000.hdf5\",\n",
    "    subsequence_length=32,\n",
    "    **dataset_args\n",
    ")"
   ]
  },
  {
   "cell_type": "code",
   "execution_count": null,
   "metadata": {},
   "outputs": [
    {
     "name": "stdout",
     "output_type": "stream",
     "text": [
      "Training epoch 0\n"
     ]
    },
    {
     "data": {
      "application/vnd.jupyter.widget-view+json": {
       "model_id": "b5f2ddc6c99a4fc1a8c625de6eb991a6",
       "version_major": 2,
       "version_minor": 0
      },
      "text/plain": [
       "HBox(children=(IntProgress(value=0, max=7469), HTML(value='')))"
      ]
     },
     "metadata": {},
     "output_type": "display_data"
    },
    {
     "name": "stdout",
     "output_type": "stream",
     "text": [
      "\n",
      "Epoch loss: 0.002198044\n",
      "\n",
      "Training epoch 1\n"
     ]
    },
    {
     "data": {
      "application/vnd.jupyter.widget-view+json": {
       "model_id": "57b3e5af0d21440680e0c221b17f1cbf",
       "version_major": 2,
       "version_minor": 0
      },
      "text/plain": [
       "HBox(children=(IntProgress(value=0, max=7469), HTML(value='')))"
      ]
     },
     "metadata": {},
     "output_type": "display_data"
    },
    {
     "name": "stdout",
     "output_type": "stream",
     "text": [
      "[buddy-dpf_feb18_gated_biggernetwork] Saved checkpoint to path: checkpoints/dpf_feb18_gated_biggernetwork-0000000000010000.ckpt\n"
     ]
    }
   ],
   "source": [
    "dataloader = torch.utils.data.DataLoader(dynamics_trainset, batch_size=32, shuffle=True, num_workers=2)\n",
    "pf_model.dynamics_model.state_noise_stddev = (.02, .02)\n",
    "\n",
    "for i in range(5):\n",
    "    print(\"Training epoch\", i)\n",
    "    panda_training.train_dynamics(buddy, pf_model, dataloader, log_interval=1)\n",
    "    print()\n"
   ]
  },
  {
   "cell_type": "code",
   "execution_count": null,
   "metadata": {},
   "outputs": [],
   "source": [
    "dataloader = torch.utils.data.DataLoader(dynamics_recurrent_trainset, batch_size=32, shuffle=True, num_workers=2)\n",
    "pf_model.dynamics_model.state_noise_stddev = (.02, .02)\n",
    "\n",
    "for i in range(5):\n",
    "    print(\"Training epoch\", i)\n",
    "    panda_training.train_dynamics_recurrent(buddy, pf_model, dataloader, log_interval=1, loss_type='l2')\n",
    "    print()\n"
   ]
  },
  {
   "cell_type": "markdown",
   "metadata": {},
   "source": [
    "# Measurement Model Pre-Training"
   ]
  },
  {
   "cell_type": "code",
   "execution_count": null,
   "metadata": {},
   "outputs": [],
   "source": [
    "\n",
    "measurement_trainset = panda_datasets.PandaMeasurementDataset(\n",
    "    \"data/gentle_push_100.hdf5\",\n",
    "    samples_per_pair=10,\n",
    "    **dataset_args\n",
    ")"
   ]
  },
  {
   "cell_type": "code",
   "execution_count": null,
   "metadata": {},
   "outputs": [],
   "source": [
    "measurement_trainset_loader = torch.utils.data.DataLoader(\n",
    "    measurement_trainset,\n",
    "    batch_size=64,\n",
    "    shuffle=True,\n",
    "    num_workers=16)\n",
    "\n",
    "for i in range(15):\n",
    "    print(\"Training epoch\", i)\n",
    "    panda_training.train_measurement(buddy, pf_model, measurement_trainset_loader, log_interval=20)\n",
    "    print()\n",
    "\n",
    "# measurement_trainset_loader = torch.utils.data.DataLoader(measurement_trainset, batch_size=64, shuffle=True, num_workers=2)\n",
    "# for i in range(1):\n",
    "#     print(\"Training epoch\", i)\n",
    "#     panda_training.train_measurement(buddy, pf_model, measurement_trainset_loader, log_interval=100)\n",
    "#     print()\n",
    "\n",
    "# measurement_trainset_loader = torch.utils.data.DataLoader(measurement_trainset, batch_size=256, shuffle=True, num_workers=2)\n",
    "# for i in range(1):\n",
    "#     print(\"Training epoch\", i)\n",
    "#     panda_training.train_measurement(buddy, pf_model, measurement_trainset_loader, log_interval=100)\n",
    "#     print()\n",
    "\n"
   ]
  },
  {
   "cell_type": "code",
   "execution_count": null,
   "metadata": {},
   "outputs": [],
   "source": [
    "buddy.save_checkpoint(label=\"before_e2e_training\")"
   ]
  },
  {
   "cell_type": "markdown",
   "metadata": {},
   "source": [
    "# End-to-end Training"
   ]
  },
  {
   "cell_type": "code",
   "execution_count": null,
   "metadata": {},
   "outputs": [],
   "source": [
    "# Create end-to-end dataset\n",
    "\n",
    "e2e_trainset = panda_datasets.PandaParticleFilterDataset(\n",
    "    \"data/gentle_push_100.hdf5\",\n",
    "    subsequence_length=16,\n",
    "    particle_count=30,\n",
    "    particle_stddev=(.1, .1),\n",
    "    **dataset_args\n",
    ")"
   ]
  },
  {
   "cell_type": "code",
   "execution_count": null,
   "metadata": {},
   "outputs": [],
   "source": [
    "print(len(e2e_trainset.subsequences))"
   ]
  },
  {
   "cell_type": "code",
   "execution_count": null,
   "metadata": {},
   "outputs": [],
   "source": [
    "##### Train end-to-end\n",
    "pf_model.dynamics_model.state_noise_stddev = (0.05, 0.05)\n",
    "\n",
    "pf_model.freeze_measurement_model = False\n",
    "pf_model.freeze_dynamics_model = True\n",
    "\n",
    "# e2e_trainset_loader = torch.utils.data.DataLoader(e2e_trainset, batch_size=32, shuffle=True, num_workers=2)\n",
    "# for i in range(3):\n",
    "#     print(\"Training epoch\", i)\n",
    "#     panda_training.train_e2e(buddy, pf_model, e2e_trainset_loader, loss_type=\"mse\", log_interval=100)\n",
    "\n",
    "e2e_trainset_loader = torch.utils.data.DataLoader(e2e_trainset, batch_size=32, shuffle=True, num_workers=2)\n",
    "for i in range(20):\n",
    "    print(\"Training epoch\", i)\n",
    "    panda_training.train_e2e(buddy, pf_model, e2e_trainset_loader, loss_type=\"mse\")"
   ]
  },
  {
   "cell_type": "code",
   "execution_count": null,
   "metadata": {},
   "outputs": [],
   "source": [
    "buddy.save_checkpoint()"
   ]
  },
  {
   "cell_type": "markdown",
   "metadata": {},
   "source": [
    "# Model eval"
   ]
  },
  {
   "cell_type": "code",
   "execution_count": 8,
   "metadata": {
    "scrolled": false
   },
   "outputs": [],
   "source": [
    "eval_trajectories = panda_datasets.load_trajectories(\n",
    "    \"data/gentle_push_10.hdf5\",\n",
    "    **dataset_args\n",
    ")"
   ]
  },
  {
   "cell_type": "markdown",
   "metadata": {},
   "source": [
    "### Final Model"
   ]
  },
  {
   "cell_type": "code",
   "execution_count": null,
   "metadata": {
    "scrolled": false
   },
   "outputs": [],
   "source": [
    "pf_model.dynamics_model.state_noise_stddev = (0., 0.)\n",
    "# pf_model.dynamics_model.state_noise_stddev = (1., 1.)\n",
    "pred, actual = panda_training.rollout(pf_model, eval_trajectories, start_time=0, max_timesteps=1000, particle_count=200, noisy_dynamics=True)\n",
    "panda_training.eval_rollout(pred, actual, plot=True)\n",
    "print(pf_model.dynamics_model.state_noise_stddev)"
   ]
  },
  {
   "cell_type": "code",
   "execution_count": null,
   "metadata": {
    "scrolled": false
   },
   "outputs": [],
   "source": [
    "pf_model.dynamics_model.state_noise_stddev = (0.0, 0.0)\n",
    "# pf_model.dynamics_model.state_noise_stddev = (1., 1.)\n",
    "pred, actual = panda_training.rollout(pf_model, eval_trajectories, start_time=0, max_timesteps=1000, particle_count=200, noisy_dynamics=True)\n",
    "panda_training.eval_rollout(pred, actual, plot=True)\n",
    "print(pf_model.dynamics_model.state_noise_stddev)"
   ]
  },
  {
   "cell_type": "markdown",
   "metadata": {},
   "source": [
    "### Model without end-to-end training"
   ]
  },
  {
   "cell_type": "code",
   "execution_count": null,
   "metadata": {
    "scrolled": false
   },
   "outputs": [],
   "source": [
    "pf_model.dynamics_model.state_noise = (0.005, 0.005)\n",
    "\n",
    "\n",
    "# Back up model\n",
    "buddy.save_checkpoint()\n",
    "\n",
    "# Load the pre-end-to-end-training version of the model & evaluate\n",
    "buddy.load_checkpoint(label=\"before_e2e_training\")\n",
    "\n",
    "pred, actual = panda_training.rollout(pf_model, eval_trajectories, start_time=0, max_timesteps=1000, particle_count=200, noisy_dynamics=True)\n",
    "panda_training.eval_rollout(pred, actual, plot=True)\n",
    "\n",
    "# Restore model\n",
    "buddy.load_checkpoint()"
   ]
  },
  {
   "cell_type": "code",
   "execution_count": null,
   "metadata": {},
   "outputs": [],
   "source": [
    "buddy.save_checkpoint()"
   ]
  },
  {
   "cell_type": "code",
   "execution_count": null,
   "metadata": {},
   "outputs": [],
   "source": []
  }
 ],
 "metadata": {
  "kernelspec": {
   "display_name": "Python 3",
   "language": "python",
   "name": "python3"
  },
  "language_info": {
   "codemirror_mode": {
    "name": "ipython",
    "version": 3
   },
   "file_extension": ".py",
   "mimetype": "text/x-python",
   "name": "python",
   "nbconvert_exporter": "python",
   "pygments_lexer": "ipython3",
   "version": "3.7.4"
  }
 },
 "nbformat": 4,
 "nbformat_minor": 2
}
