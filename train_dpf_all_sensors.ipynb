{
 "cells": [
  {
   "cell_type": "code",
   "execution_count": null,
   "metadata": {},
   "outputs": [],
   "source": [
    "%matplotlib inline\n",
    "%load_ext autoreload\n",
    "%autoreload 2"
   ]
  },
  {
   "cell_type": "code",
   "execution_count": null,
   "metadata": {},
   "outputs": [],
   "source": [
    "import matplotlib.pyplot as plt\n",
    "import numpy as np\n",
    "import torch\n",
    "import torch.nn as nn\n",
    "import torch.nn.functional as F\n",
    "import time\n",
    "\n",
    "import fannypack\n",
    "from lib import dpf, panda_models, panda_datasets, panda_training\n",
    "\n",
    "print(torch.__version__, np.__version__)"
   ]
  },
  {
   "cell_type": "code",
   "execution_count": null,
   "metadata": {},
   "outputs": [],
   "source": [
    "# Experiment configuration\n",
    "experiment_name = \"dpf_feb19_full\"\n",
    "dataset_args = {\n",
    "    'use_proprioception': True,\n",
    "    'use_haptics': True,\n",
    "    'use_vision': True,\n",
    "    'vision_interval': 2,\n",
    "}"
   ]
  },
  {
   "cell_type": "code",
   "execution_count": null,
   "metadata": {},
   "outputs": [],
   "source": [
    "# Create models & training buddy\n",
    "\n",
    "dynamics_model = panda_models.PandaDynamicsModel()\n",
    "measurement_model = panda_models.PandaSimpleMeasurementModel()\n",
    "\n",
    "pf_model = panda_models.PandaParticleFilterNetwork(\n",
    "    dynamics_model,\n",
    "    measurement_model\n",
    ")\n",
    "\n",
    "buddy = fannypack.utils.Buddy(\n",
    "    experiment_name,\n",
    "    pf_model,\n",
    "    optimizer_names=[\"e2e\", \"dynamics\", \"dynamics_recurrent\", \"measurement\"]\n",
    ")"
   ]
  },
  {
   "cell_type": "markdown",
   "metadata": {},
   "source": [
    "# Dynamics Model Pre-Training"
   ]
  },
  {
   "cell_type": "code",
   "execution_count": null,
   "metadata": {},
   "outputs": [],
   "source": [
    "dynamics_trainset = panda_datasets.PandaDynamicsDataset(\n",
    "    \"data/gentle_push_1000.hdf5\",\n",
    "    **dataset_args\n",
    ")\n",
    "dynamics_recurrent_trainset = panda_datasets.PandaSubsequenceDataset(\n",
    "    \"data/gentle_push_1000.hdf5\",\n",
    "    subsequence_length=32,\n",
    "    **dataset_args\n",
    ")"
   ]
  },
  {
   "cell_type": "code",
   "execution_count": null,
   "metadata": {},
   "outputs": [],
   "source": [
    "dataloader = torch.utils.data.DataLoader(dynamics_trainset, batch_size=32, shuffle=True, num_workers=2)\n",
    "pf_model.dynamics_model.state_noise_stddev = (.02, .02)\n",
    "\n",
    "for i in range(5):\n",
    "    print(\"Training epoch\", i)\n",
    "    panda_training.train_dynamics(buddy, pf_model, dataloader, log_interval=1)\n",
    "    print()\n",
    "\n",
    "biuddy.save_checkpoint(\"phase_0_dynamics_pretrain\")"
   ]
  },
  {
   "cell_type": "code",
   "execution_count": null,
   "metadata": {},
   "outputs": [],
   "source": [
    "dataloader = torch.utils.data.DataLoader(dynamics_recurrent_trainset, batch_size=32, shuffle=True, num_workers=2)\n",
    "pf_model.dynamics_model.state_noise_stddev = (.02, .02)\n",
    "\n",
    "for i in range(5):\n",
    "    print(\"Training epoch\", i)\n",
    "    panda_training.train_dynamics_recurrent(buddy, pf_model, dataloader, log_interval=1, loss_type='l2')\n",
    "    print()\n",
    "\n",
    "biuddy.save_checkpoint(\"phase_1_dynamics_pretrain_recurrent\")"
   ]
  },
  {
   "cell_type": "markdown",
   "metadata": {},
   "source": [
    "# Measurement Model Pre-Training"
   ]
  },
  {
   "cell_type": "code",
   "execution_count": null,
   "metadata": {},
   "outputs": [],
   "source": [
    "\n",
    "measurement_trainset = panda_datasets.PandaMeasurementDataset(\n",
    "    \"data/gentle_push_1000.hdf5\",\n",
    "    samples_per_pair=10,\n",
    "    **dataset_args\n",
    ")"
   ]
  },
  {
   "cell_type": "code",
   "execution_count": null,
   "metadata": {},
   "outputs": [],
   "source": [
    "measurement_trainset_loader = torch.utils.data.DataLoader(\n",
    "    measurement_trainset,\n",
    "    batch_size=32,\n",
    "    shuffle=True,\n",
    "    num_workers=16)\n",
    "\n",
    "for i in range(5):\n",
    "    print(\"Training epoch\", i)\n",
    "    panda_training.train_measurement(buddy, pf_model, measurement_trainset_loader, log_interval=20)\n",
    "    print()\n",
    "\n",
    "biuddy.save_checkpoint(\"phase_2_measurement_pretrain\")\n"
   ]
  },
  {
   "cell_type": "code",
   "execution_count": null,
   "metadata": {},
   "outputs": [],
   "source": []
  },
  {
   "cell_type": "markdown",
   "metadata": {},
   "source": [
    "# End-to-end Training"
   ]
  },
  {
   "cell_type": "code",
   "execution_count": null,
   "metadata": {},
   "outputs": [],
   "source": [
    "# Create end-to-end dataset\n",
    "\n",
    "e2e_trainset = panda_datasets.PandaParticleFilterDataset(\n",
    "    \"data/gentle_push_1000.hdf5\",\n",
    "    subsequence_length=16,\n",
    "    particle_count=30,\n",
    "    particle_stddev=(.1, .1),\n",
    "    **dataset_args\n",
    ")"
   ]
  },
  {
   "cell_type": "code",
   "execution_count": null,
   "metadata": {},
   "outputs": [],
   "source": [
    "print(len(e2e_trainset.subsequences))"
   ]
  },
  {
   "cell_type": "code",
   "execution_count": null,
   "metadata": {},
   "outputs": [],
   "source": [
    "##### Train end-to-end\n",
    "pf_model.dynamics_model.state_noise_stddev = (0.01, 0.01)\n",
    "\n",
    "pf_model.freeze_measurement_model = False\n",
    "pf_model.freeze_dynamics_model = True\n",
    "\n",
    "# e2e_trainset_loader = torch.utils.data.DataLoader(e2e_trainset, batch_size=32, shuffle=True, num_workers=2)\n",
    "# for i in range(3):\n",
    "#     print(\"Training epoch\", i)\n",
    "#     panda_training.train_e2e(buddy, pf_model, e2e_trainset_loader, loss_type=\"mse\", log_interval=100)\n",
    "\n",
    "e2e_trainset_loader = torch.utils.data.DataLoader(e2e_trainset, batch_size=32, shuffle=True, num_workers=2)\n",
    "for i in range(5):\n",
    "    print(\"Training epoch\", i)\n",
    "    panda_training.train_e2e(buddy, pf_model, e2e_trainset_loader, loss_type=\"mse\")"
   ]
  },
  {
   "cell_type": "code",
   "execution_count": null,
   "metadata": {},
   "outputs": [],
   "source": [
    "buddy.save_checkpoint(\"phase_3_end_to_end_trained\")\n",
    "buddy.save_checkpoint()"
   ]
  },
  {
   "cell_type": "markdown",
   "metadata": {},
   "source": [
    "# Model eval"
   ]
  },
  {
   "cell_type": "code",
   "execution_count": null,
   "metadata": {
    "scrolled": false
   },
   "outputs": [],
   "source": [
    "eval_trajectories = panda_datasets.load_trajectories(\n",
    "    \"data/gentle_push_10.hdf5\",\n",
    "    **dataset_args\n",
    ")"
   ]
  },
  {
   "cell_type": "markdown",
   "metadata": {},
   "source": [
    "### Final Model"
   ]
  },
  {
   "cell_type": "code",
   "execution_count": null,
   "metadata": {
    "scrolled": false
   },
   "outputs": [],
   "source": [
    "phases = [\n",
    "    'phase_0_dynamics_pretrain',\n",
    "    'phase_1_dynamics_pretrain_recurrent',\n",
    "    'phase_2_measurement_pretrain',\n",
    "    'phase_3_end_to_end_trained'\n",
    "]\n",
    "for phase in phases:\n",
    "    phase.load_checkpoint(phase)\n",
    "    print(phase)\n",
    "    pf_model.dynamics_model.state_noise_stddev = (0.01, 0.01)\n",
    "    pred, actual = panda_training.rollout(pf_model, eval_trajectories, start_time=0, max_timesteps=1000, particle_count=200, noisy_dynamics=True)\n",
    "    panda_training.eval_rollout(pred, actual, plot=True)\n",
    "    print(pf_model.dynamics_model.state_noise_stddev)"
   ]
  },
  {
   "cell_type": "code",
   "execution_count": null,
   "metadata": {
    "scrolled": false
   },
   "outputs": [],
   "source": []
  },
  {
   "cell_type": "markdown",
   "metadata": {},
   "source": [
    "### Model without end-to-end training"
   ]
  },
  {
   "cell_type": "code",
   "execution_count": null,
   "metadata": {
    "scrolled": false
   },
   "outputs": [],
   "source": [
    "# pf_model.dynamics_model.state_noise = (0.005, 0.005)\n",
    "\n",
    "\n",
    "# # Back up model\n",
    "# buddy.save_checkpoint()\n",
    "\n",
    "# # Load the pre-end-to-end-training version of the model & evaluate\n",
    "# buddy.load_checkpoint(label=\"before_e2e_training\")\n",
    "\n",
    "# pred, actual = panda_training.rollout(pf_model, eval_trajectories, start_time=0, max_timesteps=1000, particle_count=200, noisy_dynamics=True)\n",
    "# panda_training.eval_rollout(pred, actual, plot=True)\n",
    "\n",
    "# # Restore model\n",
    "# buddy.load_checkpoint()"
   ]
  },
  {
   "cell_type": "code",
   "execution_count": null,
   "metadata": {},
   "outputs": [],
   "source": [
    "buddy.save_checkpoint()"
   ]
  },
  {
   "cell_type": "code",
   "execution_count": null,
   "metadata": {},
   "outputs": [],
   "source": []
  }
 ],
 "metadata": {
  "kernelspec": {
   "display_name": "Python 3",
   "language": "python",
   "name": "python3"
  },
  "language_info": {
   "codemirror_mode": {
    "name": "ipython",
    "version": 3
   },
   "file_extension": ".py",
   "mimetype": "text/x-python",
   "name": "python",
   "nbconvert_exporter": "python",
   "pygments_lexer": "ipython3",
   "version": "3.7.4"
  }
 },
 "nbformat": 4,
 "nbformat_minor": 2
}
